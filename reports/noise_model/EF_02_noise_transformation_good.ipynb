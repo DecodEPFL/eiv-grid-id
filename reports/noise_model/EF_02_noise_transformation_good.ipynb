{
 "cells": [
  {
   "cell_type": "markdown",
   "metadata": {},
   "source": [
    "# Noise transformation\n",
    "The purpose of this notebook is to empirically confirm the theoretical formulae on the transformation of noise passing from polar to Cartesian coordinates.\n",
    "\n",
    "To perform the check, we proceed as follows:\n",
    "\n",
    "1. we assume to acquire 100,000 different measurements. Thus, we generate 100,000 different values for magnitude and phase for a specific measuremente - without loss of generality, either current or voltage\n",
    "2. we then add Gaussian noise to the measurements in polar coordinates,\n",
    "3. we transform the noisy measurement into Cartesian coordinates,\n",
    "4. finally, we extract the noise in Cartesian coordinate and we normalize it using its theoretical variance. \n",
    "\n",
    "We want to see that the normalized distribution is Gaussian and that our standardization makes the noise normally distributed with unit standard deviation.\n",
    "\n",
    "Interestingly, and coherently with what assessed in previous works, we can appreciate how more accurate phase measurements lead to minor discrepancy from a Gaussian distribution. This can be seen by setting `theta_sd` to 0.0001 and 0.01."
   ]
  },
  {
   "cell_type": "markdown",
   "metadata": {},
   "source": [
    "# Setup"
   ]
  },
  {
   "cell_type": "code",
   "execution_count": 1,
   "metadata": {
    "execution": {
     "iopub.execute_input": "2020-09-26T11:19:00.473577Z",
     "iopub.status.busy": "2020-09-26T11:19:00.471577Z",
     "iopub.status.idle": "2020-09-26T11:19:03.722160Z",
     "shell.execute_reply": "2020-09-26T11:19:03.716199Z",
     "shell.execute_reply.started": "2020-09-26T11:19:00.473577Z"
    }
   },
   "outputs": [],
   "source": [
    "import sys\n",
    "import numpy as np\n",
    "import matplotlib.pyplot as plt\n",
    "import statsmodels.api as sm"
   ]
  },
  {
   "cell_type": "code",
   "execution_count": 2,
   "metadata": {
    "execution": {
     "iopub.execute_input": "2020-09-26T11:19:03.728208Z",
     "iopub.status.busy": "2020-09-26T11:19:03.727149Z",
     "iopub.status.idle": "2020-09-26T11:19:03.959033Z",
     "shell.execute_reply": "2020-09-26T11:19:03.954082Z",
     "shell.execute_reply.started": "2020-09-26T11:19:03.728208Z"
    }
   },
   "outputs": [],
   "source": [
    "sys.path.append('..')\n",
    "%load_ext autoreload\n",
    "%autoreload 2"
   ]
  },
  {
   "cell_type": "code",
   "execution_count": 3,
   "metadata": {
    "execution": {
     "iopub.execute_input": "2020-09-26T11:19:03.967037Z",
     "iopub.status.busy": "2020-09-26T11:19:03.965037Z",
     "iopub.status.idle": "2020-09-26T11:19:04.206197Z",
     "shell.execute_reply": "2020-09-26T11:19:04.200080Z",
     "shell.execute_reply.started": "2020-09-26T11:19:03.966037Z"
    }
   },
   "outputs": [],
   "source": [
    "samples = 100000\n",
    "v_range = (0.8, 1.2)\n",
    "theta_range = (0, 2 * np.pi)\n",
    "v_sd = 0.0001\n",
    "theta_sd = 0.01"
   ]
  },
  {
   "cell_type": "code",
   "execution_count": 4,
   "metadata": {
    "execution": {
     "iopub.execute_input": "2020-09-26T11:19:04.211996Z",
     "iopub.status.busy": "2020-09-26T11:19:04.210125Z",
     "iopub.status.idle": "2020-09-26T11:19:04.477038Z",
     "shell.execute_reply": "2020-09-26T11:19:04.472017Z",
     "shell.execute_reply.started": "2020-09-26T11:19:04.211996Z"
    }
   },
   "outputs": [],
   "source": [
    "np.random.seed(11)\n",
    "\n",
    "v = np.random.uniform(low=v_range[0], high=v_range[1], size=samples)\n",
    "theta =np.random.uniform(low=theta_range[0], high=theta_range[1], size=samples)\n",
    "noise_free_measurements = v * np.exp(1j * theta)"
   ]
  },
  {
   "cell_type": "markdown",
   "metadata": {},
   "source": [
    "# Add noise in polar coordinates\n",
    "We add noise in polar coordinate and we transform back to Cartesian. Then, we extract the noise by exploiting the knowledge of the real, noise-free values. "
   ]
  },
  {
   "cell_type": "code",
   "execution_count": 5,
   "metadata": {
    "execution": {
     "iopub.execute_input": "2020-09-26T11:19:04.483043Z",
     "iopub.status.busy": "2020-09-26T11:19:04.482088Z",
     "iopub.status.idle": "2020-09-26T11:19:04.772977Z",
     "shell.execute_reply": "2020-09-26T11:19:04.767895Z",
     "shell.execute_reply.started": "2020-09-26T11:19:04.483043Z"
    }
   },
   "outputs": [],
   "source": [
    "np.random.seed(11)\n",
    "\n",
    "v_noise = np.random.normal(0, v_sd, samples)\n",
    "theta_noise = np.random.normal(0, theta_sd, samples)\n",
    "noisy_v = v + v_noise\n",
    "noisy_theta = theta + theta_noise\n",
    "noisy_measurement = noisy_v * np.exp(1j * noisy_theta)\n",
    "\n",
    "noise = noisy_measurement - noise_free_measurements"
   ]
  },
  {
   "cell_type": "markdown",
   "metadata": {},
   "source": [
    "# Check noise distribution\n",
    "At first, we naively try to check the distribution of the noise in Cartesian coordinates without any further transformation."
   ]
  },
  {
   "cell_type": "code",
   "execution_count": 6,
   "metadata": {
    "execution": {
     "iopub.execute_input": "2020-09-26T11:19:04.777082Z",
     "iopub.status.busy": "2020-09-26T11:19:04.775975Z",
     "iopub.status.idle": "2020-09-26T11:19:05.052945Z",
     "shell.execute_reply": "2020-09-26T11:19:05.046903Z",
     "shell.execute_reply.started": "2020-09-26T11:19:04.777082Z"
    }
   },
   "outputs": [],
   "source": [
    "def plot_distribution(real_data, imag_data, normalize_dist=False):\n",
    "    fig, ax = plt.subplots(2, 2)\n",
    "    ax[0, 0].set_title('Re(noise) - QQ plots')\n",
    "    sm.qqplot(real_data, line='45', ax=ax[0, 0], fit=normalize_dist, marker='x', markersize=2)\n",
    "    ax[0, 1].set_title('Im(noise) - QQ plots')\n",
    "    sm.qqplot(imag_data, line='45', ax=ax[0, 1], fit=normalize_dist, marker='x', markersize=2)\n",
    "    ax[1, 0].set_title('Re(noise)')\n",
    "    ax[1, 0].hist(real_data, bins=100)\n",
    "    ax[1, 1].set_title('Im(noise)')\n",
    "    ax[1, 1].hist(imag_data, bins=100)\n",
    "    plt.tight_layout()\n",
    "    plt.show()"
   ]
  },
  {
   "cell_type": "code",
   "execution_count": 7,
   "metadata": {
    "execution": {
     "iopub.execute_input": "2020-09-26T11:19:05.057899Z",
     "iopub.status.busy": "2020-09-26T11:19:05.056897Z",
     "iopub.status.idle": "2020-09-26T11:19:07.342189Z",
     "shell.execute_reply": "2020-09-26T11:19:07.334247Z",
     "shell.execute_reply.started": "2020-09-26T11:19:05.057899Z"
    }
   },
   "outputs": [
    {
     "data": {
      "image/png": "[encoded data removed]",
      "text/plain": [
       "<Figure size 432x288 with 4 Axes>"
      ]
     },
     "metadata": {
      "needs_background": "light"
     },
     "output_type": "display_data"
    }
   ],
   "source": [
    "plot_distribution(np.real(noise), np.imag(noise), normalize_dist=True)"
   ]
  },
  {
   "cell_type": "markdown",
   "metadata": {},
   "source": [
    "# Check normalized noise distribution\n",
    "We should remember that the noise in Cartesian coordinates is not IID. In fact, the variance depends on the real value of each sample. \n",
    "\n",
    "Thus, in order to check for the noise distribution, we need to normalize each sample for its standard deviation and then check if the distribution of real and imaginary parts are Gaussian."
   ]
  },
  {
   "cell_type": "code",
   "execution_count": 8,
   "metadata": {
    "execution": {
     "iopub.execute_input": "2020-09-26T11:19:07.350322Z",
     "iopub.status.busy": "2020-09-26T11:19:07.349186Z",
     "iopub.status.idle": "2020-09-26T11:19:07.590184Z",
     "shell.execute_reply": "2020-09-26T11:19:07.585197Z",
     "shell.execute_reply.started": "2020-09-26T11:19:07.350322Z"
    }
   },
   "outputs": [],
   "source": [
    "v_var = v_sd ** 2\n",
    "theta_var = theta_sd ** 2\n",
    "\n",
    "real_var = np.cos(theta)**2 * v_var + v**2 * np.sin(theta)**2 * theta_var\n",
    "imag_var = np.sin(theta)**2 * v_var + v**2 * np.cos(theta)**2 * theta_var\n",
    "\n",
    "real_sd, imag_sd = np.sqrt(real_var), np.sqrt(imag_var)\n",
    "\n",
    "real_norm = np.real(noise) / real_sd\n",
    "imag_norm = np.imag(noise) / imag_sd"
   ]
  },
  {
   "cell_type": "code",
   "execution_count": 9,
   "metadata": {
    "execution": {
     "iopub.execute_input": "2020-09-26T11:19:07.595292Z",
     "iopub.status.busy": "2020-09-26T11:19:07.594235Z",
     "iopub.status.idle": "2020-09-26T11:19:09.894205Z",
     "shell.execute_reply": "2020-09-26T11:19:09.886207Z",
     "shell.execute_reply.started": "2020-09-26T11:19:07.595292Z"
    }
   },
   "outputs": [
    {
     "data": {
      "image/png": "[encoded data removed]",
      "text/plain": [
       "<Figure size 432x288 with 4 Axes>"
      ]
     },
     "metadata": {
      "needs_background": "light"
     },
     "output_type": "display_data"
    }
   ],
   "source": [
    "plot_distribution(real_norm, imag_norm)"
   ]
  },
  {
   "cell_type": "markdown",
   "metadata": {},
   "source": [
    "# Real and imag part covariance\n",
    "Our theoretical model also predict a non-zero covariance between the real and imaginary parts of the noise. \n",
    "Let us check this conclusion as well."
   ]
  },
  {
   "cell_type": "code",
   "execution_count": 10,
   "metadata": {
    "execution": {
     "iopub.execute_input": "2020-09-26T11:19:09.901195Z",
     "iopub.status.busy": "2020-09-26T11:19:09.898190Z",
     "iopub.status.idle": "2020-09-26T11:19:10.118172Z",
     "shell.execute_reply": "2020-09-26T11:19:10.111125Z",
     "shell.execute_reply.started": "2020-09-26T11:19:09.900191Z"
    }
   },
   "outputs": [
    {
     "data": {
      "text/plain": [
       "array([[0.99304782, 0.00449975],\n",
       "       [0.00449975, 1.00229847]])"
      ]
     },
     "execution_count": 10,
     "metadata": {},
     "output_type": "execute_result"
    }
   ],
   "source": [
    "np.cov(real_norm, imag_norm)"
   ]
  },
  {
   "cell_type": "code",
   "execution_count": 11,
   "metadata": {
    "execution": {
     "iopub.execute_input": "2020-09-26T11:19:10.122173Z",
     "iopub.status.busy": "2020-09-26T11:19:10.121172Z",
     "iopub.status.idle": "2020-09-26T11:19:10.337554Z",
     "shell.execute_reply": "2020-09-26T11:19:10.334111Z",
     "shell.execute_reply.started": "2020-09-26T11:19:10.122173Z"
    }
   },
   "outputs": [
    {
     "data": {
      "text/plain": [
       "(6.403224421737203e-05, 0.00014396037213100594)"
      ]
     },
     "execution_count": 11,
     "metadata": {},
     "output_type": "execute_result"
    }
   ],
   "source": [
    "np.min(real_var), np.max(real_var)"
   ]
  }
 ],
 "metadata": {
  "kernelspec": {
   "display_name": "Python 3",
   "language": "python",
   "name": "python3"
  },
  "language_info": {
   "codemirror_mode": {
    "name": "ipython",
    "version": 3
   },
   "file_extension": ".py",
   "mimetype": "text/x-python",
   "name": "python",
   "nbconvert_exporter": "python",
   "pygments_lexer": "ipython3",
   "version": "3.7.7"
  }
 },
 "nbformat": 4,
 "nbformat_minor": 4
}
