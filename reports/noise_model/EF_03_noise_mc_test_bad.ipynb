{
 "cells": [
  {
   "cell_type": "markdown",
   "metadata": {},
   "source": [
    "# MC check on estimated covariance matrix\n",
    "\n",
    "We perform a Monte Carlo test on the correctness of the estimated covariance matrix.\n",
    "\n",
    "- we simulate 100,000 samples from independent Gaussian noise in polar coordinates\n",
    "- we add them to a constant, representing the actual measurement, thus obtaining noisy measurements in polar coordinates\n",
    "- we transform the noisy measurements and the actual measurements in Cartesian coordinates\n",
    "- we subract the actual measurements from the noisy measurements in Cartesian coordinates, thus obtaining the noise\n",
    "- we compute the sample mean and covariance of the noise\n",
    "- we expect the sample covariance to be in agreement with out formulae."
   ]
  },
  {
   "cell_type": "markdown",
   "metadata": {},
   "source": [
    "## Setup"
   ]
  },
  {
   "cell_type": "code",
   "execution_count": 14,
   "metadata": {
    "execution": {
     "iopub.execute_input": "2020-09-26T11:02:31.486614Z",
     "iopub.status.busy": "2020-09-26T11:02:31.485618Z",
     "iopub.status.idle": "2020-09-26T11:02:31.591197Z",
     "shell.execute_reply": "2020-09-26T11:02:31.587426Z",
     "shell.execute_reply.started": "2020-09-26T11:02:31.486614Z"
    }
   },
   "outputs": [],
   "source": [
    "import sys\n",
    "import numpy as np\n",
    "import matplotlib.pyplot as plt"
   ]
  },
  {
   "cell_type": "code",
   "execution_count": 15,
   "metadata": {
    "execution": {
     "iopub.execute_input": "2020-09-26T11:02:31.597252Z",
     "iopub.status.busy": "2020-09-26T11:02:31.595203Z",
     "iopub.status.idle": "2020-09-26T11:02:31.738889Z",
     "shell.execute_reply": "2020-09-26T11:02:31.735248Z",
     "shell.execute_reply.started": "2020-09-26T11:02:31.597252Z"
    }
   },
   "outputs": [
    {
     "name": "stdout",
     "output_type": "stream",
     "text": [
      "The autoreload extension is already loaded. To reload it, use:\n",
      "  %reload_ext autoreload\n"
     ]
    }
   ],
   "source": [
    "sys.path.append('..')\n",
    "%load_ext autoreload\n",
    "%autoreload 2"
   ]
  },
  {
   "cell_type": "code",
   "execution_count": 16,
   "metadata": {
    "execution": {
     "iopub.execute_input": "2020-09-26T11:02:31.743236Z",
     "iopub.status.busy": "2020-09-26T11:02:31.742237Z",
     "iopub.status.idle": "2020-09-26T11:02:31.855245Z",
     "shell.execute_reply": "2020-09-26T11:02:31.848204Z",
     "shell.execute_reply.started": "2020-09-26T11:02:31.743236Z"
    }
   },
   "outputs": [],
   "source": [
    "samples = 100000"
   ]
  },
  {
   "cell_type": "markdown",
   "metadata": {},
   "source": [
    "## MC Samples\n",
    "Try also with `theta=-1` and `theta_sd=1` and with `theta=-1` and `theta_sd=0.01`."
   ]
  },
  {
   "cell_type": "code",
   "execution_count": 17,
   "metadata": {
    "execution": {
     "iopub.execute_input": "2020-09-26T11:02:31.861204Z",
     "iopub.status.busy": "2020-09-26T11:02:31.859250Z",
     "iopub.status.idle": "2020-09-26T11:02:31.988297Z",
     "shell.execute_reply": "2020-09-26T11:02:31.981391Z",
     "shell.execute_reply.started": "2020-09-26T11:02:31.861204Z"
    }
   },
   "outputs": [],
   "source": [
    "np.random.seed(11)\n",
    "\n",
    "v = 1\n",
    "theta = -1 * np.pi / 180\n",
    "\n",
    "v_sd = 0.01 \n",
    "theta_sd = 0.01 * np.pi / 180\n",
    "\n",
    "v_var, theta_var = v_sd ** 2, theta_sd ** 2\n",
    "\n",
    "v_noise = np.random.normal(0, v_sd, size=samples)\n",
    "theta_noise = np.random.normal(0, theta_sd, size=samples)\n",
    "\n",
    "noisy_measurements = (v + v_noise) * np.exp(1j * (theta + theta_noise))\n",
    "actual_measurements = v * np.exp(1j * theta)\n",
    "cartesian_noise = noisy_measurements - actual_measurements\n",
    "\n",
    "actual_mean = (np.mean(np.real(cartesian_noise)), np.mean(np.imag(cartesian_noise)))\n",
    "actual_covariance = np.cov(np.real(cartesian_noise), np.imag(cartesian_noise))"
   ]
  },
  {
   "cell_type": "code",
   "execution_count": 18,
   "metadata": {
    "execution": {
     "iopub.execute_input": "2020-09-26T11:02:31.992246Z",
     "iopub.status.busy": "2020-09-26T11:02:31.991248Z",
     "iopub.status.idle": "2020-09-26T11:02:32.117614Z",
     "shell.execute_reply": "2020-09-26T11:02:32.111485Z",
     "shell.execute_reply.started": "2020-09-26T11:02:31.992246Z"
    }
   },
   "outputs": [
    {
     "data": {
      "text/plain": [
       "(6.813827285336983e-05, -5.497157113228555e-07)"
      ]
     },
     "execution_count": 18,
     "metadata": {},
     "output_type": "execute_result"
    }
   ],
   "source": [
    "actual_mean"
   ]
  },
  {
   "cell_type": "code",
   "execution_count": 19,
   "metadata": {
    "execution": {
     "iopub.execute_input": "2020-09-26T11:02:32.122038Z",
     "iopub.status.busy": "2020-09-26T11:02:32.120429Z",
     "iopub.status.idle": "2020-09-26T11:02:32.244284Z",
     "shell.execute_reply": "2020-09-26T11:02:32.239296Z",
     "shell.execute_reply.started": "2020-09-26T11:02:32.121429Z"
    }
   },
   "outputs": [
    {
     "data": {
      "text/plain": [
       "array([[ 9.97816081e-05, -1.72455537e-06],\n",
       "       [-1.72455537e-06,  6.01845175e-08]])"
      ]
     },
     "execution_count": 19,
     "metadata": {},
     "output_type": "execute_result"
    }
   ],
   "source": [
    "actual_covariance"
   ]
  },
  {
   "cell_type": "markdown",
   "metadata": {},
   "source": [
    "## Covariance of the first-order approximation with real measurements"
   ]
  },
  {
   "cell_type": "code",
   "execution_count": 20,
   "metadata": {
    "execution": {
     "iopub.execute_input": "2020-09-26T11:02:32.249242Z",
     "iopub.status.busy": "2020-09-26T11:02:32.248303Z",
     "iopub.status.idle": "2020-09-26T11:02:32.372328Z",
     "shell.execute_reply": "2020-09-26T11:02:32.369232Z",
     "shell.execute_reply.started": "2020-09-26T11:02:32.249242Z"
    }
   },
   "outputs": [
    {
     "data": {
      "text/plain": [
       "array([[ 9.99695506e-05, -1.74444329e-06],\n",
       "       [-1.74444329e-06,  6.09111128e-08]])"
      ]
     },
     "execution_count": 20,
     "metadata": {},
     "output_type": "execute_result"
    }
   ],
   "source": [
    "covariance_first_order = np.array([\n",
    "    [np.cos(theta)**2 * v_var + v**2 * np.sin(theta)**2 * theta_var, np.cos(theta) * np.sin(theta) * (v_var - v**2 * theta_var)], \n",
    "    [np.cos(theta) * np.sin(theta) * (v_var - v**2 * theta_var), np.sin(theta)**2 * v_var + v**2 * np.cos(theta)**2 * theta_var]\n",
    "])\n",
    "covariance_first_order"
   ]
  },
  {
   "cell_type": "markdown",
   "metadata": {},
   "source": [
    "It looks like the estimation of the variances is quite accurate, while the one of the covariances is not. Not even the sign is correct.\n",
    "\n",
    "**TODO**: double check the derivation of the covariance."
   ]
  },
  {
   "cell_type": "markdown",
   "metadata": {},
   "source": [
    "## Covariance with actual measurements\n",
    "Implementing equation 6 in the notes."
   ]
  },
  {
   "cell_type": "code",
   "execution_count": 21,
   "metadata": {
    "execution": {
     "iopub.execute_input": "2020-09-26T11:02:32.374594Z",
     "iopub.status.busy": "2020-09-26T11:02:32.374271Z",
     "iopub.status.idle": "2020-09-26T11:02:32.504401Z",
     "shell.execute_reply": "2020-09-26T11:02:32.496235Z",
     "shell.execute_reply.started": "2020-09-26T11:02:32.374594Z"
    }
   },
   "outputs": [
    {
     "data": {
      "text/plain": [
       "array([[ 9.99695476e-05, -1.74444318e-06],\n",
       "       [-1.74444318e-06,  6.09141562e-08]])"
      ]
     },
     "execution_count": 21,
     "metadata": {},
     "output_type": "execute_result"
    }
   ],
   "source": [
    "cov_with_actual_11 = v **2 * np.exp(-theta_var) * (np.cos(theta)**2 * (np.cosh(theta_var) - 1) + np.sin(theta)**2 * np.sinh(theta_var)) + v_var * np.exp(-theta_var) * (np.cos(theta)**2 * np.cosh(theta_var) + np.sin(theta)**2 * np.sinh(theta_var))\n",
    "cov_with_actual_22 = v **2 * np.exp(-theta_var) * (np.sin(theta)**2 * (np.cosh(theta_var) - 1) + np.cos(theta)**2 * np.sinh(theta_var)) + v_var * np.exp(-theta_var) * (np.sin(theta)**2 * np.cosh(theta_var) + np.cos(theta)**2 * np.sinh(theta_var))\n",
    "cov_with_actual_12 = np.sin(theta) * np.cos(theta) * np.exp(-2 * theta_var) * (v_var + v**2 * (1 - np.exp(theta_var)))\n",
    "covariance_with_actual = np.array([\n",
    "    [cov_with_actual_11, cov_with_actual_12],\n",
    "    [cov_with_actual_12, cov_with_actual_22]\n",
    "])\n",
    "covariance_with_actual"
   ]
  },
  {
   "cell_type": "markdown",
   "metadata": {},
   "source": [
    "## Average true covariance\n",
    "Implementing equation 8 in the notes.  \n",
    "In first approximation, we use it with the actual measurements."
   ]
  },
  {
   "cell_type": "code",
   "execution_count": 22,
   "metadata": {
    "execution": {
     "iopub.execute_input": "2020-09-26T11:02:32.512487Z",
     "iopub.status.busy": "2020-09-26T11:02:32.510320Z",
     "iopub.status.idle": "2020-09-26T11:02:32.637591Z",
     "shell.execute_reply": "2020-09-26T11:02:32.633465Z",
     "shell.execute_reply.started": "2020-09-26T11:02:32.512487Z"
    }
   },
   "outputs": [
    {
     "data": {
      "text/plain": [
       "array([[ 9.99695445e-05, -1.74444302e-06],\n",
       "       [-1.74444302e-06,  6.09202448e-08]])"
      ]
     },
     "execution_count": 22,
     "metadata": {},
     "output_type": "execute_result"
    }
   ],
   "source": [
    "cov_avg_true_11 = v**2 * np.exp(-2*theta_var) * (np.cos(theta)**2 * (np.cosh(2*theta_var) - np.cosh(theta_var)) + np.sin(theta)**2 * (np.sinh(2*theta_var) - np.sinh(theta_var))) + v_var * np.exp(-2*theta_var) * (np.cos(theta)**2 * (2*np.cosh(2*theta_var) - np.cosh(theta_var)) + np.sin(theta)**2 * (2*np.sinh(2*theta_var) - np.sinh(theta_var)))\n",
    "cov_avg_true_22 = v**2 * np.exp(-2*theta_var) * (np.sin(theta)**2 * (np.cosh(2*theta_var) - np.cosh(theta_var)) + np.cos(theta)**2 * (np.sinh(2*theta_var) - np.sinh(theta_var))) + v_var * np.exp(-2*theta_var) * (np.sin(theta)**2 * (2*np.cosh(2*theta_var) - np.cosh(theta_var)) + np.cos(theta)**2 * (2*np.sinh(2*theta_var) - np.sinh(theta_var)))\n",
    "cov_avg_true_12 = np.sin(theta) * np.cos(theta) * np.exp(-4*theta_var) * (v_var + (v**2 + v_var)*(1 - np.exp(theta_var)))\n",
    "covariance_average_true = np.array([\n",
    "    [cov_avg_true_11, cov_avg_true_12],\n",
    "    [cov_avg_true_12, cov_avg_true_22]\n",
    "])\n",
    "covariance_average_true"
   ]
  },
  {
   "cell_type": "markdown",
   "metadata": {},
   "source": [
    "Then, we use the noisy measurements, as in the realistic case."
   ]
  },
  {
   "cell_type": "code",
   "execution_count": 23,
   "metadata": {
    "execution": {
     "iopub.execute_input": "2020-09-26T11:02:32.642421Z",
     "iopub.status.busy": "2020-09-26T11:02:32.641420Z",
     "iopub.status.idle": "2020-09-26T11:02:32.805957Z",
     "shell.execute_reply": "2020-09-26T11:02:32.802420Z",
     "shell.execute_reply.started": "2020-09-26T11:02:32.642421Z"
    }
   },
   "outputs": [
    {
     "data": {
      "text/plain": [
       "array([9.99698765e-05, 9.99694201e-05, 9.99692143e-05, ...,\n",
       "       9.99705835e-05, 9.99698050e-05, 9.99691171e-05])"
      ]
     },
     "execution_count": 23,
     "metadata": {},
     "output_type": "execute_result"
    }
   ],
   "source": [
    "def cov_avg_true_real(measurements, magnitude_var, phase_var):\n",
    "    v, theta = np.abs(measurements), np.angle(measurements)\n",
    "    v_var = magnitude_var\n",
    "    theta_var = phase_var\n",
    "    return v**2 * np.exp(-2*theta_var) * (np.cos(theta)**2 * (np.cosh(2*theta_var) - np.cosh(theta_var)) + np.sin(theta)**2 * (np.sinh(2*theta_var) - np.sinh(theta_var))) + v_var * np.exp(-2*theta_var) * (np.cos(theta)**2 * (2*np.cosh(2*theta_var) - np.cosh(theta_var)) + np.sin(theta)**2 * (2*np.sinh(2*theta_var) - np.sinh(theta_var)))\n",
    "\n",
    "def cov_avg_true_imag(measurements, magnitude_var, phase_var):\n",
    "    v, theta = np.abs(measurements), np.angle(measurements)\n",
    "    v_var = magnitude_var\n",
    "    theta_var = phase_var\n",
    "    return v**2 * np.exp(-2*theta_var) * (np.sin(theta)**2 * (np.cosh(2*theta_var) - np.cosh(theta_var)) + np.cos(theta)**2 * (np.sinh(2*theta_var) - np.sinh(theta_var))) + v_var * np.exp(-2*theta_var) * (np.sin(theta)**2 * (2*np.cosh(2*theta_var) - np.cosh(theta_var)) + np.cos(theta)**2 * (2*np.sinh(2*theta_var) - np.sinh(theta_var)))\n",
    "\n",
    "def cov_avg_true_real_imag(measurements, magnitude_var, phase_var):\n",
    "    v, theta = np.abs(measurements), np.angle(measurements)\n",
    "    v_var = magnitude_var\n",
    "    theta_var = phase_var\n",
    "    return np.sin(theta) * np.cos(theta) * np.exp(-4*theta_var) * (v_var + (v**2 + v_var)*(1 - np.exp(theta_var)))\n",
    "\n",
    "\n",
    "cov_avg_true_11 = cov_avg_true_real(noisy_measurements, v_var, theta_var)\n",
    "cov_avg_true_22 = cov_avg_true_imag(noisy_measurements, v_var, theta_var)\n",
    "cov_avg_true_12 = cov_avg_true_real_imag(noisy_measurements, v_var, theta_var)\n",
    "cov_avg_true_11"
   ]
  },
  {
   "cell_type": "code",
   "execution_count": 24,
   "metadata": {
    "execution": {
     "iopub.execute_input": "2020-09-26T11:02:32.809011Z",
     "iopub.status.busy": "2020-09-26T11:02:32.807996Z",
     "iopub.status.idle": "2020-09-26T11:02:33.620773Z",
     "shell.execute_reply": "2020-09-26T11:02:33.616758Z",
     "shell.execute_reply.started": "2020-09-26T11:02:32.809011Z"
    }
   },
   "outputs": [
    {
     "data": {
      "image/png": "[encoded data removed]",
      "text/plain": [
       "<Figure size 432x288 with 1 Axes>"
      ]
     },
     "metadata": {
      "needs_background": "light"
     },
     "output_type": "display_data"
    }
   ],
   "source": [
    "plt.hist(cov_avg_true_11, bins = 100)\n",
    "plt.title('Empirical distribution for element (1, 1)')\n",
    "plt.axvline(actual_covariance[0, 0], color='red');"
   ]
  },
  {
   "cell_type": "code",
   "execution_count": 25,
   "metadata": {
    "execution": {
     "iopub.execute_input": "2020-09-26T11:02:33.623720Z",
     "iopub.status.busy": "2020-09-26T11:02:33.623720Z",
     "iopub.status.idle": "2020-09-26T11:02:34.393136Z",
     "shell.execute_reply": "2020-09-26T11:02:34.390956Z",
     "shell.execute_reply.started": "2020-09-26T11:02:33.623720Z"
    }
   },
   "outputs": [
    {
     "data": {
      "image/png": "[encoded data removed]",
      "text/plain": [
       "<Figure size 432x288 with 1 Axes>"
      ]
     },
     "metadata": {
      "needs_background": "light"
     },
     "output_type": "display_data"
    }
   ],
   "source": [
    "plt.hist(cov_avg_true_22, bins = 100)\n",
    "plt.title('Empirical distribution for element (1, 2)')\n",
    "plt.axvline(actual_covariance[1, 1], color='red');"
   ]
  },
  {
   "cell_type": "code",
   "execution_count": 26,
   "metadata": {
    "execution": {
     "iopub.execute_input": "2020-09-26T11:02:34.395227Z",
     "iopub.status.busy": "2020-09-26T11:02:34.394760Z",
     "iopub.status.idle": "2020-09-26T11:02:35.179739Z",
     "shell.execute_reply": "2020-09-26T11:02:35.175732Z",
     "shell.execute_reply.started": "2020-09-26T11:02:34.395227Z"
    }
   },
   "outputs": [
    {
     "data": {
      "image/png": "[encoded data removed]",
      "text/plain": [
       "<Figure size 432x288 with 1 Axes>"
      ]
     },
     "metadata": {
      "needs_background": "light"
     },
     "output_type": "display_data"
    }
   ],
   "source": [
    "plt.hist(cov_avg_true_12, bins = 100)\n",
    "plt.title('Empirical distribution for element (2, 2)')\n",
    "plt.axvline(actual_covariance[0, 1], color='red');"
   ]
  }
 ],
 "metadata": {
  "kernelspec": {
   "display_name": "Python 3",
   "language": "python",
   "name": "python3"
  },
  "language_info": {
   "codemirror_mode": {
    "name": "ipython",
    "version": 3
   },
   "file_extension": ".py",
   "mimetype": "text/x-python",
   "name": "python",
   "nbconvert_exporter": "python",
   "pygments_lexer": "ipython3",
   "version": "3.7.7"
  }
 },
 "nbformat": 4,
 "nbformat_minor": 4
}
