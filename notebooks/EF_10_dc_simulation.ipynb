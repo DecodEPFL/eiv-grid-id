{
 "cells": [
  {
   "cell_type": "markdown",
   "metadata": {
    "pycharm": {
     "name": "#%% md\n"
    }
   },
   "source": [
    "# DC Simulation\n",
    "This notebook aims at simulating the DC case, with the following assumptions:\n",
    "- network with `n_nodes` nodes, either 5 or 10\n",
    "- full observability: the current and the voltage at each node is measured\n",
    "- Gaussian noise: the measurement noise on current and voltage is Gaussian\n",
    "- independent noise: the noise on each node is independent and the noise on current and voltage on the same node is independent\n",
    "- the noise has zero mean and standard deviation `noise_sigma` on each node and variable\n",
    "- a number `n_samples` of samples is collected\n",
    "- the voltage on each node is independent, has a Gaussian distribution with mean 1 and standard deviation `v_sigma`\n",
    "\n",
    "We are not going to use here the solver from the main codebase to keep the experimentation harmless."
   ]
  },
  {
   "cell_type": "markdown",
   "metadata": {},
   "source": [
    "## Setup\n",
    "\n",
    "We create the admittance matrix and we simulate the voltage and current"
   ]
  },
  {
   "cell_type": "code",
   "execution_count": null,
   "metadata": {
    "collapsed": false,
    "jupyter": {
     "outputs_hidden": false
    },
    "pycharm": {
     "name": "#%%\n"
    }
   },
   "outputs": [],
   "source": [
    "import mlflow\n",
    "import numpy as np\n",
    "import cvxpy as cp\n",
    "import seaborn as sns\n",
    "from numpy.random import default_rng\n",
    "from matplotlib import pyplot as plt\n",
    "\n",
    "import sys\n",
    "from tqdm.notebook import tqdm\n",
    "sys.path.append('..')\n",
    "from src.identification.error_metrics import error_metrics, fro_error"
   ]
  },
  {
   "cell_type": "code",
   "execution_count": null,
   "metadata": {},
   "outputs": [],
   "source": [
    "v_sigma = 0.1\n",
    "noise_sigma = 0.001\n",
    "n_samples = 300\n",
    "v_corr_min = 0.0\n",
    "v_corr_max = 0.0\n",
    "\n",
    "actual_admittance = np.array([\n",
    "    [2, -1, -1, 0, 0],\n",
    "    [-1, 1, 0, 0, 0],\n",
    "    [-1, 0, 1, 0, 0],\n",
    "    [0, 0, 0, 2, -2],\n",
    "    [0, 0, 0, -2, 2]\n",
    "])\n",
    "\n",
    "\n",
    "# actual_admittance = np.array([\n",
    "#     [2, -1, -1, 0, 0, 0, 0, 0, 0, 0],\n",
    "#     [-1, 1, 0, 0, 0, 0, 0, 0, 0, 0],\n",
    "#     [-1, 0, 1, 0, 0, 0, 0, 0, 0, 0],\n",
    "#     [0, 0, 0, 2, -2, 0, 0, 0, 0, 0],\n",
    "#     [0, 0, 0, -2, 2, 0, 0, 0, 0, 0],\n",
    "#     [0, 0, 0, 0, 0, 1, 0, 0, 0, -1],\n",
    "#     [0, 0, 0, 0, 0, 0, 2, -1, 0, -1],\n",
    "#     [0, 0, 0, 0, 0, 0, -1, 2, -1, 0],\n",
    "#     [0, 0, 0, 0, 0, 0, 0, -1, 1, 0],\n",
    "#     [0, 0, 0, 0, 0, -1, -1, 0, 0, 2],\n",
    "# ])\n",
    "\n",
    "n_nodes = actual_admittance.shape[0]"
   ]
  },
  {
   "cell_type": "markdown",
   "metadata": {},
   "source": [
    "Let's not be stupid again and let us check that the admittance matrix is Laplacian and symmetric."
   ]
  },
  {
   "cell_type": "code",
   "execution_count": null,
   "metadata": {},
   "outputs": [],
   "source": [
    "np.testing.assert_array_equal(actual_admittance, actual_admittance.T)\n",
    "np.testing.assert_array_equal(np.sum(actual_admittance, axis=1), np.zeros(n_nodes))"
   ]
  },
  {
   "cell_type": "code",
   "execution_count": null,
   "metadata": {},
   "outputs": [],
   "source": [
    "rng = default_rng(11)\n",
    "\n",
    "def cor_item():\n",
    "    return rng.uniform(v_corr_min, v_corr_max)\n",
    "\n",
    "voltage_covariance = (v_sigma**2) * np.array(\n",
    "    [[1 if i == j else cor_item() for i in range(n_nodes)] for j in range(n_nodes)]\n",
    ")\n",
    "voltage_covariance"
   ]
  },
  {
   "cell_type": "code",
   "execution_count": null,
   "metadata": {
    "collapsed": false,
    "jupyter": {
     "outputs_hidden": false
    },
    "pycharm": {
     "name": "#%%\n"
    }
   },
   "outputs": [],
   "source": [
    "actual_voltages = rng.multivariate_normal(np.ones(n_nodes), voltage_covariance, n_samples)\n",
    "actual_currents = actual_voltages @ actual_admittance\n",
    "noise_voltages = rng.normal(0, noise_sigma, (n_samples, n_nodes))\n",
    "noise_currents = rng.normal(0, noise_sigma, (n_samples, n_nodes))\n",
    "measured_voltages = actual_voltages + noise_voltages\n",
    "measured_currents = actual_currents + noise_currents"
   ]
  },
  {
   "cell_type": "code",
   "execution_count": null,
   "metadata": {
    "collapsed": false,
    "jupyter": {
     "outputs_hidden": false
    },
    "pycharm": {
     "name": "#%%\n"
    }
   },
   "outputs": [],
   "source": [
    "plt.plot(actual_voltages)\n",
    "plt.title('Actual voltages')\n",
    "plt.show()\n",
    "\n",
    "plt.plot(actual_currents)\n",
    "plt.title('Actual currents')\n",
    "plt.show()"
   ]
  },
  {
   "cell_type": "markdown",
   "metadata": {
    "pycharm": {
     "name": "#%% md\n"
    }
   },
   "source": [
    "Of course, actual currents and voltages are not realistic and real networks would result in much more correlated voltages and smaller currents.\n",
    "Still, we'll start from the simplest condition."
   ]
  },
  {
   "cell_type": "markdown",
   "metadata": {},
   "source": [
    "## Setup MLFlow\n",
    "We log parameters and outcomes using MLFlow."
   ]
  },
  {
   "cell_type": "code",
   "execution_count": null,
   "metadata": {},
   "outputs": [],
   "source": [
    "mlflow.set_experiment('DC Simulation')\n",
    "mlflow.start_run()\n",
    "mlflow.log_param('corr_min', v_corr_min)\n",
    "mlflow.log_param('corr_max', v_corr_max)"
   ]
  },
  {
   "cell_type": "markdown",
   "metadata": {},
   "source": [
    "## Lasso estimation\n",
    "We try first with a standard LASSO algorithm.\n",
    "The optimization problem is solved with `cvxopt` and `gurobi`.\n",
    "The hypterparameter $\\lambda$ is chosen against the real admittance matrix.\n",
    "Again, this is not realistic, but it is the simplest way."
   ]
  },
  {
   "cell_type": "code",
   "execution_count": null,
   "metadata": {
    "collapsed": false,
    "jupyter": {
     "outputs_hidden": false
    },
    "pycharm": {
     "name": "#%%\n"
    }
   },
   "outputs": [],
   "source": [
    "def lasso(x: np.array, y: np.array, actual_beta: np.array):\n",
    "    n = x.shape[1]\n",
    "    l = cp.Parameter(nonneg=True)\n",
    "    beta = cp.Variable((n, n))\n",
    "\n",
    "    def lasso_loss(x, y, beta, l):\n",
    "        return cp.norm2(cp.vec(y - x @ beta)) ** 2 + l * cp.norm1(cp.vec(beta))\n",
    "\n",
    "    problem = cp.Problem(cp.Minimize(lasso_loss(x, y, beta, l)))\n",
    "\n",
    "    l_values = np.logspace(-6, -1, 50)\n",
    "    cv_trials = []\n",
    "\n",
    "    for l_value in l_values:\n",
    "        l.value = l_value\n",
    "        problem.solve()\n",
    "        cv_trials.append((l.value, beta.value, fro_error(beta.value, actual_beta)))\n",
    "\n",
    "    return cv_trials\n",
    "\n",
    "lasso_trials = lasso(measured_voltages, measured_currents, actual_admittance)\n",
    "lasso_best_trial = min(lasso_trials, key=lambda t: t[2])\n",
    "lasso_lambda, lasso_admittance = lasso_best_trial[0], lasso_best_trial[1]\n",
    "lasso_error = error_metrics(actual_admittance, lasso_admittance)\n",
    "print(f'Best lambda: {lasso_lambda}')\n",
    "mlflow.log_metric('err_lasso', lasso_error.fro_error)\n",
    "lasso_error"
   ]
  },
  {
   "cell_type": "code",
   "execution_count": null,
   "metadata": {},
   "outputs": [],
   "source": [
    "lasso_lambdas, _, lasso_fro_err = zip(*lasso_trials)\n",
    "plt.loglog(lasso_lambdas, lasso_fro_err)\n",
    "plt.xlabel('Lambda')\n",
    "plt.ylabel('Fro error');"
   ]
  },
  {
   "cell_type": "markdown",
   "metadata": {},
   "source": [
    "## TLS estimation\n",
    "As all the matrices are real-valued, we do not need any transformation to apply TLS"
   ]
  },
  {
   "cell_type": "code",
   "execution_count": null,
   "metadata": {
    "collapsed": false,
    "jupyter": {
     "outputs_hidden": false
    },
    "pycharm": {
     "name": "#%%\n"
    }
   },
   "outputs": [],
   "source": [
    "def tls(x: np.array, y:np.array) -> np.array:\n",
    "    n = x.shape[1]\n",
    "    u, s, vh = np.linalg.svd(np.block([x, y]))\n",
    "    v = vh.conj().T\n",
    "    v_xy = v[:n, n:]\n",
    "    v_yy = v[n:, n:]\n",
    "    beta = - v_xy @ np.linalg.inv(v_yy)\n",
    "    return beta\n",
    "\n",
    "tls_admittance = tls(measured_voltages, measured_currents)\n",
    "tls_error = error_metrics(actual_admittance, tls_admittance)\n",
    "mlflow.log_metric('err_tls', tls_error.fro_error)\n",
    "tls_error"
   ]
  },
  {
   "cell_type": "markdown",
   "metadata": {},
   "source": [
    "## S-TLS estimation\n",
    "Finally, we use our Sparse-TLS estimation, initially in its plain form - no priors, no optimization tuning."
   ]
  },
  {
   "cell_type": "code",
   "execution_count": null,
   "metadata": {
    "collapsed": false,
    "jupyter": {
     "outputs_hidden": false
    },
    "pycharm": {
     "name": "#%%\n"
    }
   },
   "outputs": [],
   "source": [
    "MAX_ITERATIONS = 100\n",
    "ABS_TOL = 1e-8\n",
    "REL_TOL = 1e-8\n",
    "l = lasso_lambda\n",
    "\n",
    "def is_stationary_point(f_cur, f_prev, abs_tol, rel_tol):\n",
    "    return np.abs(f_cur - f_prev) < abs_tol or np.abs(f_cur - f_prev) / np.abs(f_prev) < rel_tol\n",
    "\n",
    "def target_loss(x, dx_value, y, beta_value, l):\n",
    "    return cp.norm2(cp.vec(y - (x - dx_value) @ beta_value)) ** 2 + cp.norm2(cp.vec(dx_value)) ** 2 + l * cp.norm1(cp.vec(beta_value))\n",
    "\n",
    "def lasso_loss(x, dx_value, y, beta, l):\n",
    "    return cp.norm2(cp.vec(y - (x - dx_value) @ beta)) ** 2 + l * cp.norm1(cp.vec(beta))\n",
    "\n",
    "def ls_loss(x, dx, y, beta_value):\n",
    "    return cp.norm2(cp.vec(y - (x - dx) @ beta_value)) ** 2 + cp.norm2(cp.vec(dx)) ** 2"
   ]
  },
  {
   "cell_type": "code",
   "execution_count": null,
   "metadata": {
    "collapsed": false,
    "jupyter": {
     "outputs_hidden": false
    },
    "pycharm": {
     "name": "#%%\n"
    }
   },
   "outputs": [],
   "source": [
    "x = measured_voltages.copy()\n",
    "dx = cp.Variable(x.shape)\n",
    "dx_value = np.zeros_like(x)\n",
    "y = measured_currents.copy()\n",
    "beta = cp.Variable(actual_admittance.shape)\n",
    "beta_value = np.zeros_like(actual_admittance)\n",
    "\n",
    "stls_iterations = []\n",
    "for i in tqdm(range(MAX_ITERATIONS)):\n",
    "    # solve lasso problem\n",
    "    lasso_prob = cp.Problem(cp.Minimize(lasso_loss(x, dx_value, y, beta, l)))\n",
    "    lasso_prob.solve()\n",
    "    beta_value = beta.value\n",
    "\n",
    "    # solve ols problem\n",
    "    ls_prob = cp.Problem(cp.Minimize(ls_loss(x, dx, y, beta_value)))\n",
    "    ls_prob.solve()\n",
    "    dx_value = dx.value\n",
    "\n",
    "    # update cost function\n",
    "    target = target_loss(x, dx_value, y, beta_value, l).value\n",
    "    stls_iterations.append((i, target, fro_error(beta_value, actual_admittance)))\n",
    "\n",
    "    # check terminal condition\n",
    "    if i > 0 and is_stationary_point(target, stls_iterations[i - 1][1], ABS_TOL, REL_TOL):\n",
    "        break\n",
    "\n",
    "stls_admittance = beta_value\n",
    "stls_error = error_metrics(actual_admittance, stls_admittance)\n",
    "mlflow.log_metric('err_stls', stls_error.fro_error)\n",
    "stls_error"
   ]
  },
  {
   "cell_type": "code",
   "execution_count": null,
   "metadata": {},
   "outputs": [],
   "source": [
    "it_series, target_series, error_series = zip(*stls_iterations)\n",
    "\n",
    "for i in it_series:\n",
    "    mlflow.log_metrics({'series_stls_err': error_series[i], 'series_stls_loss': target_series[i]}, step=i)"
   ]
  },
  {
   "cell_type": "code",
   "execution_count": null,
   "metadata": {},
   "outputs": [],
   "source": [
    "fig, ax1 = plt.subplots()\n",
    "\n",
    "color = 'tab:red'\n",
    "ax1.set_xlabel('iteration')\n",
    "ax1.set_ylabel('loss', color='#1f77b4' )\n",
    "plt.plot(it_series, target_series, label='loss', color='#1f77b4')\n",
    "\n",
    "ax2 = ax1.twinx()  # instantiate a second axes that shares the same x-axis\n",
    "\n",
    "ax2.set_ylabel('fro error', color='#ff7f0e')\n",
    "ax2.plot(it_series, error_series, label='fro error', color='#ff7f0e')\n",
    "\n",
    "fig.tight_layout()  # otherwise the right y-label is slightly clipped\n",
    "mlflow.log_figure(fig, 'stls_loss.png')\n",
    "\n",
    "plt.show()"
   ]
  },
  {
   "cell_type": "markdown",
   "metadata": {},
   "source": [
    "## Evaluation"
   ]
  },
  {
   "cell_type": "code",
   "execution_count": null,
   "metadata": {},
   "outputs": [],
   "source": [
    "lasso_abs_err = np.abs(lasso_admittance - actual_admittance)\n",
    "tls_abs_err = np.abs(tls_admittance - actual_admittance)\n",
    "stls_abs_err = np.abs(stls_admittance - actual_admittance)\n",
    "\n",
    "max_err = max(np.max(lasso_abs_err), np.max(tls_abs_err), np.max(stls_abs_err))"
   ]
  },
  {
   "cell_type": "code",
   "execution_count": null,
   "metadata": {},
   "outputs": [],
   "source": [
    "fig, axes = plt.subplots(1, 3, figsize=(16, 5), sharey=True)\n",
    "fig.suptitle('Absolute error')\n",
    "\n",
    "sns.heatmap(lasso_abs_err, ax=axes[0], vmin=0, vmax=max_err, square=True)\n",
    "axes[0].set_title('Lasso')\n",
    "\n",
    "sns.heatmap(tls_abs_err, ax=axes[1], vmin=0, vmax=max_err, square=True)\n",
    "axes[1].set_title('TLS')\n",
    "\n",
    "sns.heatmap(stls_abs_err, ax=axes[2], vmin=0, vmax=max_err, square=True)\n",
    "axes[2].set_title('S-TLS')\n",
    "\n",
    "mlflow.log_figure(fig, 'errors.png')"
   ]
  },
  {
   "cell_type": "code",
   "execution_count": null,
   "metadata": {},
   "outputs": [],
   "source": [
    "fig, axes = plt.subplots(1, 4, figsize=(16, 4), sharey=True)\n",
    "fig.suptitle('Estimated admittance')\n",
    "\n",
    "sns.heatmap(lasso_admittance, ax=axes[0], vmin=np.min(actual_admittance), vmax=np.max(actual_admittance))\n",
    "axes[0].set_title('Lasso')\n",
    "\n",
    "sns.heatmap(tls_admittance, ax=axes[1], vmin=np.min(actual_admittance), vmax=np.max(actual_admittance))\n",
    "axes[1].set_title('TLS')\n",
    "\n",
    "sns.heatmap(stls_admittance, ax=axes[2], vmin=np.min(actual_admittance), vmax=np.max(actual_admittance))\n",
    "axes[2].set_title('S-TLS');\n",
    "\n",
    "sns.heatmap(actual_admittance, ax=axes[3], vmin=np.min(actual_admittance), vmax=np.max(actual_admittance))\n",
    "axes[3].set_title('Actual');"
   ]
  },
  {
   "cell_type": "code",
   "execution_count": null,
   "metadata": {},
   "outputs": [],
   "source": [
    "mlflow.end_run()"
   ]
  }
 ],
 "metadata": {
  "kernelspec": {
   "display_name": "Python 3",
   "language": "python",
   "name": "python3"
  },
  "language_info": {
   "codemirror_mode": {
    "name": "ipython",
    "version": 3
   },
   "file_extension": ".py",
   "mimetype": "text/x-python",
   "name": "python",
   "nbconvert_exporter": "python",
   "pygments_lexer": "ipython3",
   "version": "3.7.7"
  }
 },
 "nbformat": 4,
 "nbformat_minor": 4
}
