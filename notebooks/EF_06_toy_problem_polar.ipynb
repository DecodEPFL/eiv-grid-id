{
 "cells": [
  {
   "cell_type": "markdown",
   "metadata": {},
   "source": [
    "# Toy problem for TLS solution\n",
    "We want to solve here the identification problem with TLS in a very simple case: a network with 5 nodes, without any structural contraint.\n",
    "However, we introduce noise in polar coordinates and we try and use our covariance matrix estimators in order to weight the noise."
   ]
  },
  {
   "cell_type": "code",
   "execution_count": 1,
   "metadata": {},
   "outputs": [],
   "source": [
    "import mlflow\n",
    "import pandas as pd\n",
    "import numpy as np\n",
    "import cvxpy as cp\n",
    "import matplotlib.pyplot as plt\n",
    "from scipy import sparse\n",
    "import seaborn as sns"
   ]
  },
  {
   "cell_type": "code",
   "execution_count": 2,
   "metadata": {},
   "outputs": [
    {
     "name": "stderr",
     "output_type": "stream",
     "text": [
      "/Users/jbrouill/PycharmProjects/eiv-grid-id/venv/lib/python3.8/site-packages/ipykernel/ipkernel.py:287: DeprecationWarning: `should_run_async` will not call `transform_cell` automatically in the future. Please pass the result to `transformed_cell` argument and any exception that happen during thetransform in `preprocessing_exc_tuple` in IPython 7.17 and above.\n",
      "  and should_run_async(code)\n"
     ]
    }
   ],
   "source": [
    "%load_ext autoreload\n",
    "%autoreload 2"
   ]
  },
  {
   "cell_type": "code",
   "execution_count": 3,
   "metadata": {},
   "outputs": [],
   "source": [
    "import sys\n",
    "sys.path.insert(1, '..')\n",
    "\n",
    "from src.simulation.noise import add_noise_in_polar_coordinates\n",
    "from src.models.noise_transformation import naive_noise_covariance, average_true_noise_covariance, exact_noise_covariance\n",
    "from src.models.error_in_variable import TotalLeastSquares, SparseTotalLeastSquare\n",
    "from src.models.regression import ComplexLasso\n",
    "from src.identification.error_metrics import fro_error, error_metrics"
   ]
  },
  {
   "cell_type": "code",
   "execution_count": 4,
   "metadata": {},
   "outputs": [],
   "source": [
    "mlflow.set_experiment('Toy problem with polar noise')"
   ]
  },
  {
   "cell_type": "code",
   "execution_count": 5,
   "metadata": {},
   "outputs": [],
   "source": [
    "samples = 300\n",
    "magnitude_sd = 0.01*1000\n",
    "phase_sd = 0.01*1000\n",
    "mlflow_params = {'samples': samples, 'magnitude_sd': magnitude_sd, 'phase_sd': phase_sd}"
   ]
  },
  {
   "cell_type": "code",
   "execution_count": 6,
   "metadata": {},
   "outputs": [],
   "source": [
    "np.random.seed(11)\n",
    "\n",
    "y_bus = np.array([\n",
    "    [1+1j, 0, 0, 0, 0],\n",
    "    [0, 2+1j, 0, 0, 0],\n",
    "    [2+1j, 0, 1+1j, 0, 0],\n",
    "    [0, 0, 0, 2+1j, 0],\n",
    "    [0, 0, 0, 0, -1-1j],\n",
    "])\n",
    "nodes = y_bus.shape[0]\n",
    "\n",
    "real_voltages = np.random.normal(1, 0.1, (samples, nodes)) + 1j*np.random.normal(0, 0.1, (samples, nodes))\n",
    "real_currents = real_voltages @ y_bus\n",
    "\n",
    "voltages, currents = add_noise_in_polar_coordinates(real_currents, real_voltages, magnitude_sd, phase_sd)\n",
    "\n",
    "voltage_noise = voltages - real_voltages\n",
    "current_noise = currents - real_currents"
   ]
  },
  {
   "cell_type": "markdown",
   "metadata": {},
   "source": [
    "# Standard TLS"
   ]
  },
  {
   "cell_type": "code",
   "execution_count": 7,
   "metadata": {},
   "outputs": [
    {
     "name": "stdout",
     "output_type": "stream",
     "text": [
      "[[ 0.01903708-0.19970495j -0.08100274-0.13175838j  0.25101883+0.1039835j\n",
      "  -0.11693351+0.07113115j  0.25548392+0.44655452j]\n",
      " [ 0.05551336+0.00800058j  0.01456106-0.14955359j  0.25785537-0.35204653j\n",
      "   0.28793525+0.11791239j -0.00854253+0.10528271j]\n",
      " [-0.3184018 +0.07964034j -0.34252698-0.14489338j -0.23173304+0.05907818j\n",
      "  -0.15796239+0.58560572j -0.23678994-0.03591574j]\n",
      " [-0.3612798 -0.13603067j  0.08276752-0.11558883j -0.14882934+0.01219479j\n",
      "  -0.18342104-0.16813231j  0.3002273 +0.36858025j]\n",
      " [ 0.15338679+0.46002637j  0.17406047+0.28347222j  0.07135991-0.1495267j\n",
      "  -0.32396249+0.16558407j  0.03589261+0.10256909j]]\n"
     ]
    }
   ],
   "source": [
    "mlflow.start_run(run_name='TLS')\n",
    "eiv = TotalLeastSquares()\n",
    "eiv.fit(voltages, currents)\n",
    "y_eiv = eiv.fitted_admittance_matrix"
   ]
  },
  {
   "cell_type": "code",
   "execution_count": 8,
   "metadata": {},
   "outputs": [
    {
     "name": "stderr",
     "output_type": "stream",
     "text": [
      "/Users/jbrouill/PycharmProjects/eiv-grid-id/venv/lib/python3.8/site-packages/ipykernel/ipkernel.py:287: DeprecationWarning: `should_run_async` will not call `transform_cell` automatically in the future. Please pass the result to `transformed_cell` argument and any exception that happen during thetransform in `preprocessing_exc_tuple` in IPython 7.17 and above.\n",
      "  and should_run_async(code)\n"
     ]
    },
    {
     "data": {
      "text/plain": "ErrorMetrics(fro_error=6.734577010133884, max_error=2.975967063663329, rrms_error=1.4696051867832336, map_error=1.1910582391677809)"
     },
     "execution_count": 8,
     "metadata": {},
     "output_type": "execute_result"
    }
   ],
   "source": [
    "tls_metrics = error_metrics(y_bus, y_eiv)\n",
    "mlflow.log_params(mlflow_params)\n",
    "mlflow.log_metrics(tls_metrics.__dict__)\n",
    "mlflow.end_run()\n",
    "tls_metrics"
   ]
  },
  {
   "cell_type": "markdown",
   "metadata": {},
   "source": [
    "# Standard LASSO"
   ]
  },
  {
   "cell_type": "code",
   "execution_count": 9,
   "metadata": {},
   "outputs": [],
   "source": [
    "mlflow.start_run(run_name='Lasso')\n",
    "lasso = ComplexLasso(y_bus, verbose=False, lambdas=np.logspace(-5, 0, 50))\n",
    "lasso.fit(voltages, currents)\n",
    "y_lasso = lasso.fitted_admittance_matrix"
   ]
  },
  {
   "cell_type": "code",
   "execution_count": 10,
   "metadata": {},
   "outputs": [
    {
     "data": {
      "text/plain": "ErrorMetrics(fro_error=4.569319494527028, max_error=2.238200910364686, rrms_error=0.9971072599098793, map_error=0.9918908788601946)"
     },
     "execution_count": 10,
     "metadata": {},
     "output_type": "execute_result"
    }
   ],
   "source": [
    "lasso_metrics = error_metrics(y_bus, y_lasso)\n",
    "mlflow.log_param('lambda', lasso.best_trial.hyperparameters['lambda'])\n",
    "mlflow.log_params(mlflow_params)\n",
    "mlflow.log_metrics(lasso_metrics.__dict__)\n",
    "mlflow.end_run()\n",
    "lasso_metrics"
   ]
  },
  {
   "cell_type": "code",
   "execution_count": 11,
   "metadata": {},
   "outputs": [
    {
     "data": {
      "text/plain": "{'lambda': 4.094915062380427e-05}"
     },
     "execution_count": 11,
     "metadata": {},
     "output_type": "execute_result"
    }
   ],
   "source": [
    "lasso.best_trial.hyperparameters"
   ]
  },
  {
   "cell_type": "markdown",
   "metadata": {},
   "source": [
    "# L1-regularized TLS"
   ]
  },
  {
   "cell_type": "code",
   "execution_count": 12,
   "metadata": {},
   "outputs": [
    {
     "name": "stderr",
     "output_type": "stream",
     "text": [
      "  0%|          | 0/50 [00:00<?, ?it/s]/Users/jbrouill/PycharmProjects/eiv-grid-id/venv/lib/python3.8/site-packages/cvxpy/reductions/solvers/solving_chain.py:323: DeprecationWarning: Deprecated, use Model.addMConstr() instead\n",
      "  return self.solver.solve_via_data(data, warm_start, verbose,\n",
      "100%|██████████| 50/50 [00:19<00:00,  2.51it/s]\n"
     ]
    },
    {
     "name": "stdout",
     "output_type": "stream",
     "text": [
      "Using license file /Users/jbrouill/gurobi.lic\n",
      "Academic license - for non-commercial use only - expires 2021-01-17\n"
     ]
    }
   ],
   "source": [
    "mlflow.start_run(run_name='S-TLS no cov')\n",
    "tls_lambda = lasso.best_trial.hyperparameters['lambda']\n",
    "max_iterations = 50\n",
    "abs_tol = 10e-12\n",
    "rel_tol = 10e-12\n",
    "solver = cp.GUROBI\n",
    "use_l1_penalty = True\n",
    "use_cov_matrix = False\n",
    "sparse_eiv = SparseTotalLeastSquare(lambda_value=tls_lambda, abs_tol=abs_tol, rel_tol=rel_tol, solver=solver, max_iterations=max_iterations)\n",
    "sparse_eiv.fit(voltages, currents)\n",
    "y_sparse_eiv = sparse_eiv.fitted_admittance_matrix"
   ]
  },
  {
   "cell_type": "code",
   "execution_count": 13,
   "metadata": {},
   "outputs": [
    {
     "data": {
      "text/plain": "ErrorMetrics(fro_error=5.784785284959874, max_error=2.525878469618333, rrms_error=1.2623436403521577, map_error=1.0920561141732148)"
     },
     "execution_count": 13,
     "metadata": {},
     "output_type": "execute_result"
    }
   ],
   "source": [
    "stls_metrics = error_metrics(y_bus, y_sparse_eiv)\n",
    "mlflow.log_param('lambda', tls_lambda)\n",
    "mlflow.log_param('max_iterations', max_iterations)\n",
    "mlflow.log_param('abs_tol', abs_tol)\n",
    "mlflow.log_param('rel_tol', rel_tol)\n",
    "mlflow.log_param('solver', solver)\n",
    "mlflow.log_param('use_l1_penalty', use_l1_penalty)\n",
    "mlflow.log_param('use_cov_matrix', use_cov_matrix)\n",
    "mlflow.log_params(mlflow_params)\n",
    "mlflow.log_metrics(stls_metrics.__dict__)\n",
    "y_errors = pd.Series([fro_error(y_bus, i.fitted_parameters) for i in sparse_eiv.iterations])\n",
    "targets = pd.Series([i.target_function for i in sparse_eiv.iterations])\n",
    "for i in range(len(y_errors)):\n",
    "    mlflow.log_metric('fro_error_evo', value=y_errors[i], step=i)\n",
    "    mlflow.log_metric('opt_cost_evo', value=targets[i], step=i)\n",
    "mlflow.end_run()\n",
    "stls_metrics"
   ]
  },
  {
   "cell_type": "code",
   "execution_count": 14,
   "metadata": {},
   "outputs": [
    {
     "data": {
      "text/plain": "<Figure size 432x288 with 1 Axes>",
      "image/png": "[encoded data removed]"
     },
     "metadata": {
      "needs_background": "light"
     },
     "output_type": "display_data"
    }
   ],
   "source": [
    "y_errors.plot(title='Fro error on Y');"
   ]
  },
  {
   "cell_type": "code",
   "execution_count": 15,
   "metadata": {},
   "outputs": [
    {
     "name": "stderr",
     "output_type": "stream",
     "text": [
      "/Users/jbrouill/PycharmProjects/eiv-grid-id/venv/lib/python3.8/site-packages/ipykernel/ipkernel.py:287: DeprecationWarning: `should_run_async` will not call `transform_cell` automatically in the future. Please pass the result to `transformed_cell` argument and any exception that happen during thetransform in `preprocessing_exc_tuple` in IPython 7.17 and above.\n",
      "  and should_run_async(code)\n"
     ]
    },
    {
     "data": {
      "text/plain": "<Figure size 432x288 with 1 Axes>",
      "image/png": "[encoded data removed]"
     },
     "metadata": {
      "needs_background": "light"
     },
     "output_type": "display_data"
    }
   ],
   "source": [
    "targets.plot(title='Target function');"
   ]
  },
  {
   "cell_type": "markdown",
   "metadata": {},
   "source": [
    "# L1-regularized TLS with estimated covariance matrix"
   ]
  },
  {
   "cell_type": "code",
   "execution_count": 16,
   "metadata": {},
   "outputs": [
    {
     "name": "stderr",
     "output_type": "stream",
     "text": [
      "/Users/jbrouill/PycharmProjects/eiv-grid-id/venv/lib/python3.8/site-packages/ipykernel/ipkernel.py:287: DeprecationWarning: `should_run_async` will not call `transform_cell` automatically in the future. Please pass the result to `transformed_cell` argument and any exception that happen during thetransform in `preprocessing_exc_tuple` in IPython 7.17 and above.\n",
      "  and should_run_async(code)\n"
     ]
    }
   ],
   "source": [
    "sigma_voltage = average_true_noise_covariance(voltages, magnitude_sd, phase_sd)\n",
    "sigma_current = average_true_noise_covariance(currents, magnitude_sd, phase_sd)\n",
    "\n",
    "inv_sigma_current = sparse.linalg.inv(sigma_current)\n",
    "inv_sigma_voltage = sparse.linalg.inv(sigma_voltage)"
   ]
  },
  {
   "cell_type": "code",
   "execution_count": 17,
   "metadata": {},
   "outputs": [
    {
     "name": "stderr",
     "output_type": "stream",
     "text": [
      "  0%|          | 0/50 [00:00<?, ?it/s]/Users/jbrouill/PycharmProjects/eiv-grid-id/venv/lib/python3.8/site-packages/cvxpy/reductions/solvers/solving_chain.py:323: DeprecationWarning: Deprecated, use Model.addMConstr() instead\n",
      "  return self.solver.solve_via_data(data, warm_start, verbose,\n",
      " 84%|████████▍ | 42/50 [00:10<00:02,  3.97it/s]\n"
     ]
    }
   ],
   "source": [
    "mlflow.start_run(run_name='S-TLS')\n",
    "use_cov_matrix = True\n",
    "sparse_eiv_cov = SparseTotalLeastSquare(lambda_value=tls_lambda, abs_tol=abs_tol, rel_tol=rel_tol, solver=solver, max_iterations=max_iterations)\n",
    "sparse_eiv_cov.fit(voltages, currents, inv_sigma_voltage, inv_sigma_current)\n",
    "y_sparse_eiv_cov = sparse_eiv_cov.fitted_admittance_matrix"
   ]
  },
  {
   "cell_type": "code",
   "execution_count": 18,
   "metadata": {},
   "outputs": [
    {
     "data": {
      "text/plain": "ErrorMetrics(fro_error=4.548909885038511, max_error=2.252531012738463, rrms_error=0.9926535179867546, map_error=0.9761005146017684)"
     },
     "execution_count": 18,
     "metadata": {},
     "output_type": "execute_result"
    }
   ],
   "source": [
    "stls_cov_metrics = error_metrics(y_bus, y_sparse_eiv_cov)\n",
    "mlflow.log_param('lambda', tls_lambda)\n",
    "mlflow.log_param('max_iterations', max_iterations)\n",
    "mlflow.log_param('abs_tol', abs_tol)\n",
    "mlflow.log_param('rel_tol', rel_tol)\n",
    "mlflow.log_param('solver', solver)\n",
    "mlflow.log_param('use_l1_penalty', use_l1_penalty)\n",
    "mlflow.log_param('use_cov_matrix', use_cov_matrix)\n",
    "mlflow.log_params(mlflow_params)\n",
    "mlflow.log_metrics(stls_cov_metrics.__dict__)\n",
    "y_errors = pd.Series([fro_error(y_bus, i.fitted_parameters) for i in sparse_eiv_cov.iterations])\n",
    "targets = pd.Series([i.target_function for i in sparse_eiv_cov.iterations])\n",
    "for i in range(len(y_errors)):\n",
    "    mlflow.log_metric('fro_error_evo', value=y_errors[i], step=i)\n",
    "    mlflow.log_metric('opt_cost_evo', value=targets[i], step=i)\n",
    "mlflow.end_run()\n",
    "stls_cov_metrics"
   ]
  },
  {
   "cell_type": "code",
   "execution_count": 19,
   "metadata": {},
   "outputs": [
    {
     "data": {
      "text/plain": "<Figure size 432x288 with 1 Axes>",
      "image/png": "[encoded data removed]"
     },
     "metadata": {
      "needs_background": "light"
     },
     "output_type": "display_data"
    }
   ],
   "source": [
    "y_errors.plot(title='Fro error on Y');"
   ]
  },
  {
   "cell_type": "code",
   "execution_count": 20,
   "metadata": {},
   "outputs": [
    {
     "name": "stderr",
     "output_type": "stream",
     "text": [
      "/Users/jbrouill/PycharmProjects/eiv-grid-id/venv/lib/python3.8/site-packages/ipykernel/ipkernel.py:287: DeprecationWarning: `should_run_async` will not call `transform_cell` automatically in the future. Please pass the result to `transformed_cell` argument and any exception that happen during thetransform in `preprocessing_exc_tuple` in IPython 7.17 and above.\n",
      "  and should_run_async(code)\n"
     ]
    },
    {
     "data": {
      "text/plain": "<Figure size 432x288 with 1 Axes>",
      "image/png": "[encoded data removed]"
     },
     "metadata": {
      "needs_background": "light"
     },
     "output_type": "display_data"
    }
   ],
   "source": [
    "targets.plot(title='Target function');"
   ]
  },
  {
   "cell_type": "markdown",
   "metadata": {},
   "source": [
    "# L1-regularized TLS with covariance matrix based on actual measurements"
   ]
  },
  {
   "cell_type": "code",
   "execution_count": 21,
   "metadata": {},
   "outputs": [
    {
     "name": "stderr",
     "output_type": "stream",
     "text": [
      "/Users/jbrouill/PycharmProjects/eiv-grid-id/venv/lib/python3.8/site-packages/ipykernel/ipkernel.py:287: DeprecationWarning: `should_run_async` will not call `transform_cell` automatically in the future. Please pass the result to `transformed_cell` argument and any exception that happen during thetransform in `preprocessing_exc_tuple` in IPython 7.17 and above.\n",
      "  and should_run_async(code)\n"
     ]
    }
   ],
   "source": [
    "real_sigma_voltage = exact_noise_covariance(real_voltages, magnitude_sd, phase_sd)\n",
    "real_sigma_current = exact_noise_covariance(real_currents, magnitude_sd, phase_sd)\n",
    "\n",
    "real_inv_sigma_current = sparse.linalg.inv(real_sigma_current)\n",
    "real_inv_sigma_voltage = sparse.linalg.inv(real_sigma_voltage)"
   ]
  },
  {
   "cell_type": "code",
   "execution_count": 22,
   "metadata": {},
   "outputs": [
    {
     "name": "stderr",
     "output_type": "stream",
     "text": [
      "  0%|          | 0/50 [00:00<?, ?it/s]/Users/jbrouill/PycharmProjects/eiv-grid-id/venv/lib/python3.8/site-packages/cvxpy/reductions/solvers/solving_chain.py:323: DeprecationWarning: Deprecated, use Model.addMConstr() instead\n",
      "  return self.solver.solve_via_data(data, warm_start, verbose,\n",
      "100%|██████████| 50/50 [00:14<00:00,  3.49it/s]\n"
     ]
    }
   ],
   "source": [
    "mlflow.start_run(run_name='S-TLS on exact covariance matrix')\n",
    "sparse_eiv_exact_cov = SparseTotalLeastSquare(lambda_value=tls_lambda, abs_tol=abs_tol, rel_tol=rel_tol, solver=solver, max_iterations=max_iterations)\n",
    "sparse_eiv_exact_cov.fit(voltages, currents, real_inv_sigma_voltage, real_inv_sigma_current)\n",
    "y_sparse_eiv_exact_cov = sparse_eiv_exact_cov.fitted_admittance_matrix"
   ]
  },
  {
   "cell_type": "code",
   "execution_count": 23,
   "metadata": {},
   "outputs": [
    {
     "data": {
      "text/plain": "ErrorMetrics(fro_error=5.460012081927514, max_error=2.449321265720717, rrms_error=1.1914723171812507, map_error=1.0548902637874253)"
     },
     "execution_count": 23,
     "metadata": {},
     "output_type": "execute_result"
    }
   ],
   "source": [
    "stls_exact_cov_metrics = error_metrics(y_bus, y_sparse_eiv_exact_cov)\n",
    "mlflow.log_param('lambda', tls_lambda)\n",
    "mlflow.log_param('max_iterations', max_iterations)\n",
    "mlflow.log_param('abs_tol', abs_tol)\n",
    "mlflow.log_param('rel_tol', rel_tol)\n",
    "mlflow.log_param('solver', solver)\n",
    "mlflow.log_param('use_l1_penalty', use_l1_penalty)\n",
    "mlflow.log_param('use_cov_matrix', use_cov_matrix)\n",
    "mlflow.log_params(mlflow_params)\n",
    "mlflow.log_metrics(stls_exact_cov_metrics.__dict__)\n",
    "y_errors = pd.Series([fro_error(y_bus, i.fitted_parameters) for i in sparse_eiv_exact_cov.iterations])\n",
    "targets = pd.Series([i.target_function for i in sparse_eiv_exact_cov.iterations])\n",
    "for i in range(len(y_errors)):\n",
    "    mlflow.log_metric('fro_error_evo', value=y_errors[i], step=i)\n",
    "    mlflow.log_metric('opt_cost_evo', value=targets[i], step=i)\n",
    "mlflow.end_run()\n",
    "stls_exact_cov_metrics"
   ]
  },
  {
   "cell_type": "code",
   "execution_count": 24,
   "metadata": {},
   "outputs": [
    {
     "data": {
      "text/plain": "<Figure size 432x288 with 1 Axes>",
      "image/png": "[encoded data removed]"
     },
     "metadata": {
      "needs_background": "light"
     },
     "output_type": "display_data"
    }
   ],
   "source": [
    "y_errors.plot(title='Fro error on Y');"
   ]
  },
  {
   "cell_type": "code",
   "execution_count": 25,
   "metadata": {},
   "outputs": [
    {
     "name": "stderr",
     "output_type": "stream",
     "text": [
      "/Users/jbrouill/PycharmProjects/eiv-grid-id/venv/lib/python3.8/site-packages/ipykernel/ipkernel.py:287: DeprecationWarning: `should_run_async` will not call `transform_cell` automatically in the future. Please pass the result to `transformed_cell` argument and any exception that happen during thetransform in `preprocessing_exc_tuple` in IPython 7.17 and above.\n",
      "  and should_run_async(code)\n"
     ]
    },
    {
     "data": {
      "text/plain": "<Figure size 432x288 with 1 Axes>",
      "image/png": "[encoded data removed]"
     },
     "metadata": {
      "needs_background": "light"
     },
     "output_type": "display_data"
    }
   ],
   "source": [
    "targets.plot(title='Target function');"
   ]
  },
  {
   "cell_type": "code",
   "execution_count": 26,
   "outputs": [
    {
     "name": "stderr",
     "output_type": "stream",
     "text": [
      "/Users/jbrouill/PycharmProjects/eiv-grid-id/venv/lib/python3.8/site-packages/ipykernel/ipkernel.py:287: DeprecationWarning: `should_run_async` will not call `transform_cell` automatically in the future. Please pass the result to `transformed_cell` argument and any exception that happen during thetransform in `preprocessing_exc_tuple` in IPython 7.17 and above.\n",
      "  and should_run_async(code)\n"
     ]
    },
    {
     "data": {
      "text/plain": "<Figure size 432x288 with 2 Axes>",
      "image/png": "[encoded data removed]"
     },
     "metadata": {
      "needs_background": "light"
     },
     "output_type": "display_data"
    }
   ],
   "source": [
    "sns.heatmap(np.abs(y_bus));"
   ],
   "metadata": {
    "collapsed": false,
    "pycharm": {
     "name": "#%%\n"
    }
   }
  },
  {
   "cell_type": "code",
   "execution_count": 27,
   "outputs": [
    {
     "data": {
      "text/plain": "<Figure size 432x288 with 2 Axes>",
      "image/png": "[encoded data removed]"
     },
     "metadata": {
      "needs_background": "light"
     },
     "output_type": "display_data"
    }
   ],
   "source": [
    "sns.heatmap(np.abs(y_sparse_eiv_cov));"
   ],
   "metadata": {
    "collapsed": false,
    "pycharm": {
     "name": "#%%\n"
    }
   }
  }
 ],
 "metadata": {
  "kernelspec": {
   "display_name": "Python 3",
   "language": "python",
   "name": "python3"
  },
  "language_info": {
   "codemirror_mode": {
    "name": "ipython",
    "version": 3
   },
   "file_extension": ".py",
   "mimetype": "text/x-python",
   "name": "python",
   "nbconvert_exporter": "python",
   "pygments_lexer": "ipython3",
   "version": "3.7.7"
  }
 },
 "nbformat": 4,
 "nbformat_minor": 4
}