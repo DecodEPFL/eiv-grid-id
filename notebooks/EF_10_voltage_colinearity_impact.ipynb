{
 "cells": [
  {
   "cell_type": "markdown",
   "metadata": {},
   "source": [
    "# Setup"
   ]
  },
  {
   "cell_type": "code",
   "execution_count": 2,
   "metadata": {
    "pycharm": {
     "name": "#%%\n"
    }
   },
   "outputs": [],
   "source": [
    "import pandapower.networks as pnet\n",
    "import pandas as pd\n",
    "import numpy as np\n",
    "import scipy as sp\n",
    "import cvxpy as cp\n",
    "import seaborn as sns\n",
    "import mlflow\n",
    "from tqdm import tqdm\n",
    "import matplotlib.pyplot as plt\n",
    "\n",
    "from scipy import sparse"
   ]
  },
  {
   "cell_type": "code",
   "execution_count": 3,
   "metadata": {
    "pycharm": {
     "name": "#%%\n"
    }
   },
   "outputs": [
    {
     "name": "stderr",
     "output_type": "stream",
     "text": [
      "/Users/jbrouill/PycharmProjects/eiv-grid-id/venv/lib/python3.8/site-packages/ipykernel/ipkernel.py:287: DeprecationWarning: `should_run_async` will not call `transform_cell` automatically in the future. Please pass the result to `transformed_cell` argument and any exception that happen during thetransform in `preprocessing_exc_tuple` in IPython 7.17 and above.\n",
      "  and should_run_async(code)\n"
     ]
    }
   ],
   "source": [
    "%load_ext autoreload\n",
    "%autoreload 2"
   ]
  },
  {
   "cell_type": "code",
   "execution_count": 4,
   "metadata": {
    "pycharm": {
     "name": "#%%\n"
    }
   },
   "outputs": [],
   "source": [
    "import sys\n",
    "sys.path.insert(1, '..')\n",
    "\n",
    "from src.models.matrix_operations import make_real_vector, vectorize_matrix\n",
    "from src.simulation.noise import add_polar_noise_to_measurement\n",
    "from src.simulation.network import cross_multiply_measurements, make_measurements_matrix\n",
    "from src.models.noise_transformation import power_covariance\n",
    "from src.models.regression import ComplexRegression, ComplexLasso\n",
    "from src.models.error_in_variable import TotalLeastSquares, SparseTotalLeastSquare\n",
    "from src.simulation.load_profile import generate_gaussian_load\n",
    "from src.simulation.network import add_load_power_control, make_y_bus\n",
    "from src.simulation.simulation import run_simulation, get_current_and_voltage\n",
    "from src.identification.error_metrics import error_metrics, fro_error\n",
    "from src.models.noise_transformation import average_true_noise_covariance"
   ]
  },
  {
   "cell_type": "markdown",
   "metadata": {},
   "source": [
    "# Network simulation"
   ]
  },
  {
   "cell_type": "code",
   "execution_count": 5,
   "metadata": {
    "pycharm": {
     "name": "#%%\n"
    }
   },
   "outputs": [],
   "source": [
    "mlflow.set_experiment('Colinearity test')"
   ]
  },
  {
   "cell_type": "code",
   "execution_count": 6,
   "metadata": {
    "pycharm": {
     "name": "#%%\n"
    }
   },
   "outputs": [],
   "source": [
    "np.random.seed(11)\n",
    "n_experiments = 5\n",
    "colinearity = np.empty(n_experiments)\n",
    "errors = np.empty(n_experiments)"
   ]
  },
  {
   "cell_type": "code",
   "execution_count": 7,
   "metadata": {
    "pycharm": {
     "name": "#%%\n"
    }
   },
   "outputs": [
    {
     "name": "stderr",
     "output_type": "stream",
     "text": [
      "outer loop:   0%|          | 0/5 [00:00<?, ?it/s]No time steps to calculate are specified. I'll check the datasource of the first controller for avaiable time steps\n",
      "/Users/jbrouill/PycharmProjects/eiv-grid-id/venv/lib/python3.8/site-packages/cvxpy/reductions/solvers/solving_chain.py:323: DeprecationWarning: Deprecated, use Model.addMConstr() instead\n",
      "  return self.solver.solve_via_data(data, warm_start, verbose,\n",
      "\n",
      "  0%|          | 0/50 [00:00<?, ?it/s]\u001B[A\n",
      "  2%|▏         | 1/50 [00:00<00:43,  1.13it/s]\u001B[A\n",
      "  4%|▍         | 2/50 [00:01<00:42,  1.12it/s]\u001B[A\n",
      "  6%|▌         | 3/50 [00:02<00:42,  1.10it/s]\u001B[A\n",
      "  8%|▊         | 4/50 [00:03<00:42,  1.08it/s]\u001B[A\n",
      " 10%|█         | 5/50 [00:04<00:40,  1.11it/s]\u001B[A\n",
      " 12%|█▏        | 6/50 [00:05<00:39,  1.13it/s]\u001B[A\n",
      " 14%|█▍        | 7/50 [00:06<00:38,  1.12it/s]\u001B[A\n",
      " 16%|█▌        | 8/50 [00:07<00:36,  1.14it/s]\u001B[A\n",
      " 18%|█▊        | 9/50 [00:08<00:35,  1.15it/s]\u001B[A\n",
      " 20%|██        | 10/50 [00:08<00:34,  1.16it/s]\u001B[A\n",
      " 22%|██▏       | 11/50 [00:09<00:34,  1.14it/s]\u001B[A\n",
      " 24%|██▍       | 12/50 [00:10<00:33,  1.15it/s]\u001B[A\n",
      " 26%|██▌       | 13/50 [00:11<00:32,  1.15it/s]\u001B[A\n",
      " 28%|██▊       | 14/50 [00:12<00:30,  1.16it/s]\u001B[A\n",
      " 30%|███       | 15/50 [00:13<00:29,  1.17it/s]\u001B[A\n",
      " 32%|███▏      | 16/50 [00:14<00:29,  1.15it/s]\u001B[A\n",
      " 34%|███▍      | 17/50 [00:14<00:28,  1.15it/s]\u001B[A\n",
      " 36%|███▌      | 18/50 [00:15<00:28,  1.13it/s]\u001B[A\n",
      " 38%|███▊      | 19/50 [00:16<00:26,  1.15it/s]\u001B[A\n",
      " 40%|████      | 20/50 [00:17<00:26,  1.13it/s]\u001B[A\n",
      " 42%|████▏     | 21/50 [00:18<00:25,  1.15it/s]\u001B[A\n",
      " 44%|████▍     | 22/50 [00:19<00:24,  1.16it/s]\u001B[A\n",
      " 46%|████▌     | 23/50 [00:20<00:23,  1.14it/s]\u001B[A\n",
      " 48%|████▊     | 24/50 [00:21<00:22,  1.16it/s]\u001B[A\n",
      " 50%|█████     | 25/50 [00:21<00:21,  1.17it/s]\u001B[A\n",
      " 52%|█████▏    | 26/50 [00:22<00:20,  1.17it/s]\u001B[A\n",
      " 54%|█████▍    | 27/50 [00:23<00:19,  1.15it/s]\u001B[A\n",
      " 56%|█████▌    | 28/50 [00:24<00:19,  1.15it/s]\u001B[A\n",
      " 58%|█████▊    | 29/50 [00:25<00:18,  1.15it/s]\u001B[A\n",
      " 60%|██████    | 30/50 [00:26<00:17,  1.16it/s]\u001B[A\n",
      " 62%|██████▏   | 31/50 [00:27<00:16,  1.14it/s]\u001B[A\n",
      " 64%|██████▍   | 32/50 [00:27<00:15,  1.15it/s]\u001B[A\n",
      " 66%|██████▌   | 33/50 [00:28<00:14,  1.14it/s]\u001B[A\n",
      " 68%|██████▊   | 34/50 [00:29<00:14,  1.13it/s]\u001B[A\n",
      " 70%|███████   | 35/50 [00:30<00:13,  1.11it/s]\u001B[A\n",
      " 72%|███████▏  | 36/50 [00:31<00:12,  1.08it/s]\u001B[A\n",
      " 74%|███████▍  | 37/50 [00:32<00:12,  1.07it/s]\u001B[A\n",
      " 76%|███████▌  | 38/50 [00:33<00:11,  1.09it/s]\u001B[A\n",
      " 78%|███████▊  | 39/50 [00:34<00:09,  1.11it/s]\u001B[A\n",
      " 80%|████████  | 40/50 [00:35<00:08,  1.11it/s]\u001B[A\n",
      " 82%|████████▏ | 41/50 [00:36<00:07,  1.13it/s]\u001B[A\n",
      " 84%|████████▍ | 42/50 [00:36<00:06,  1.15it/s]\u001B[A\n",
      " 86%|████████▌ | 43/50 [00:37<00:06,  1.15it/s]\u001B[A\n",
      " 88%|████████▊ | 44/50 [00:38<00:05,  1.13it/s]\u001B[A\n",
      " 90%|█████████ | 45/50 [00:39<00:04,  1.13it/s]\u001B[A\n",
      " 92%|█████████▏| 46/50 [00:40<00:03,  1.14it/s]\u001B[A\n",
      " 94%|█████████▍| 47/50 [00:41<00:02,  1.15it/s]\u001B[A\n",
      " 96%|█████████▌| 48/50 [00:42<00:01,  1.14it/s]\u001B[A\n",
      " 98%|█████████▊| 49/50 [00:43<00:00,  1.15it/s]\u001B[A\n",
      "100%|██████████| 50/50 [00:43<00:00,  1.14it/s]\u001B[A\n",
      "outer loop:  20%|██        | 1/5 [09:11<36:44, 551.10s/it]No time steps to calculate are specified. I'll check the datasource of the first controller for avaiable time steps\n",
      "/Users/jbrouill/PycharmProjects/eiv-grid-id/venv/lib/python3.8/site-packages/cvxpy/reductions/solvers/solving_chain.py:323: DeprecationWarning: Deprecated, use Model.addMConstr() instead\n",
      "  return self.solver.solve_via_data(data, warm_start, verbose,\n",
      "\n",
      "  0%|          | 0/50 [00:00<?, ?it/s]\u001B[A\n",
      "  2%|▏         | 1/50 [00:00<00:40,  1.20it/s]\u001B[A\n",
      "  4%|▍         | 2/50 [00:01<00:40,  1.18it/s]\u001B[A\n",
      "  6%|▌         | 3/50 [00:02<00:39,  1.18it/s]\u001B[A\n",
      "  8%|▊         | 4/50 [00:03<00:39,  1.18it/s]\u001B[A\n",
      " 10%|█         | 5/50 [00:04<00:38,  1.18it/s]\u001B[A\n",
      " 12%|█▏        | 6/50 [00:05<00:37,  1.16it/s]\u001B[A\n",
      " 14%|█▍        | 7/50 [00:05<00:36,  1.17it/s]\u001B[A\n",
      " 16%|█▌        | 8/50 [00:06<00:35,  1.17it/s]\u001B[A\n",
      " 18%|█▊        | 9/50 [00:07<00:34,  1.17it/s]\u001B[A\n",
      " 20%|██        | 10/50 [00:08<00:34,  1.16it/s]\u001B[A\n",
      " 22%|██▏       | 11/50 [00:09<00:33,  1.17it/s]\u001B[A\n",
      " 24%|██▍       | 12/50 [00:10<00:32,  1.17it/s]\u001B[A\n",
      " 26%|██▌       | 13/50 [00:11<00:32,  1.15it/s]\u001B[A\n",
      " 28%|██▊       | 14/50 [00:12<00:31,  1.16it/s]\u001B[A\n",
      " 30%|███       | 15/50 [00:12<00:29,  1.17it/s]\u001B[A\n",
      " 32%|███▏      | 16/50 [00:13<00:28,  1.18it/s]\u001B[A\n",
      " 34%|███▍      | 17/50 [00:14<00:27,  1.18it/s]\u001B[A\n",
      " 36%|███▌      | 18/50 [00:15<00:27,  1.16it/s]\u001B[A\n",
      " 38%|███▊      | 19/50 [00:16<00:27,  1.14it/s]\u001B[A\n",
      " 40%|████      | 20/50 [00:17<00:26,  1.12it/s]\u001B[A\n",
      " 42%|████▏     | 21/50 [00:18<00:26,  1.09it/s]\u001B[A\n",
      " 44%|████▍     | 22/50 [00:19<00:25,  1.09it/s]\u001B[A\n",
      " 46%|████▌     | 23/50 [00:20<00:24,  1.09it/s]\u001B[A\n",
      " 48%|████▊     | 24/50 [00:20<00:23,  1.11it/s]\u001B[A\n",
      " 50%|█████     | 25/50 [00:21<00:22,  1.11it/s]\u001B[A\n",
      " 52%|█████▏    | 26/50 [00:22<00:21,  1.13it/s]\u001B[A\n",
      " 54%|█████▍    | 27/50 [00:23<00:20,  1.14it/s]\u001B[A\n",
      " 56%|█████▌    | 28/50 [00:24<00:19,  1.16it/s]\u001B[A\n",
      " 58%|█████▊    | 29/50 [00:25<00:18,  1.14it/s]\u001B[A\n",
      " 60%|██████    | 30/50 [00:26<00:17,  1.15it/s]\u001B[A\n",
      " 62%|██████▏   | 31/50 [00:26<00:16,  1.16it/s]\u001B[A\n",
      " 64%|██████▍   | 32/50 [00:27<00:15,  1.16it/s]\u001B[A\n",
      " 66%|██████▌   | 33/50 [00:28<00:14,  1.14it/s]\u001B[A\n",
      " 68%|██████▊   | 34/50 [00:29<00:13,  1.15it/s]\u001B[A\n",
      " 70%|███████   | 35/50 [00:30<00:13,  1.15it/s]\u001B[A\n",
      " 72%|███████▏  | 36/50 [00:31<00:12,  1.16it/s]\u001B[A\n",
      " 74%|███████▍  | 37/50 [00:32<00:11,  1.14it/s]\u001B[A\n",
      " 76%|███████▌  | 38/50 [00:33<00:10,  1.16it/s]\u001B[A\n",
      " 78%|███████▊  | 39/50 [00:33<00:09,  1.16it/s]\u001B[A\n",
      " 80%|████████  | 40/50 [00:34<00:08,  1.16it/s]\u001B[A\n",
      " 82%|████████▏ | 41/50 [00:35<00:07,  1.16it/s]\u001B[A\n",
      " 84%|████████▍ | 42/50 [00:36<00:07,  1.14it/s]\u001B[A\n",
      " 86%|████████▌ | 43/50 [00:37<00:06,  1.13it/s]\u001B[A\n",
      " 88%|████████▊ | 44/50 [00:38<00:05,  1.14it/s]\u001B[A\n",
      " 90%|█████████ | 45/50 [00:39<00:04,  1.16it/s]\u001B[A\n",
      " 92%|█████████▏| 46/50 [00:40<00:03,  1.14it/s]\u001B[A\n",
      " 94%|█████████▍| 47/50 [00:40<00:02,  1.15it/s]\u001B[A\n",
      " 96%|█████████▌| 48/50 [00:41<00:01,  1.15it/s]\u001B[A\n",
      " 98%|█████████▊| 49/50 [00:42<00:00,  1.14it/s]\u001B[A\n",
      "100%|██████████| 50/50 [00:43<00:00,  1.15it/s]\u001B[A\n",
      "outer loop:  40%|████      | 2/5 [18:24<27:35, 551.71s/it]No time steps to calculate are specified. I'll check the datasource of the first controller for avaiable time steps\n",
      "/Users/jbrouill/PycharmProjects/eiv-grid-id/venv/lib/python3.8/site-packages/cvxpy/reductions/solvers/solving_chain.py:323: DeprecationWarning: Deprecated, use Model.addMConstr() instead\n",
      "  return self.solver.solve_via_data(data, warm_start, verbose,\n",
      "\n",
      "  0%|          | 0/50 [00:00<?, ?it/s]\u001B[A\n",
      "  2%|▏         | 1/50 [00:00<00:41,  1.18it/s]\u001B[A\n",
      "  4%|▍         | 2/50 [00:01<00:41,  1.17it/s]\u001B[A\n",
      "  6%|▌         | 3/50 [00:02<00:40,  1.17it/s]\u001B[A\n",
      "  8%|▊         | 4/50 [00:03<00:39,  1.15it/s]\u001B[A\n",
      " 10%|█         | 5/50 [00:04<00:39,  1.13it/s]\u001B[A\n",
      " 12%|█▏        | 6/50 [00:05<00:39,  1.11it/s]\u001B[A\n",
      " 14%|█▍        | 7/50 [00:06<00:38,  1.12it/s]\u001B[A\n",
      " 16%|█▌        | 8/50 [00:07<00:38,  1.10it/s]\u001B[A\n",
      " 18%|█▊        | 9/50 [00:08<00:37,  1.11it/s]\u001B[A\n",
      " 20%|██        | 10/50 [00:08<00:35,  1.13it/s]\u001B[A\n",
      " 22%|██▏       | 11/50 [00:09<00:34,  1.14it/s]\u001B[A\n",
      " 24%|██▍       | 12/50 [00:10<00:33,  1.14it/s]\u001B[A\n",
      " 26%|██▌       | 13/50 [00:11<00:32,  1.15it/s]\u001B[A\n",
      " 28%|██▊       | 14/50 [00:12<00:30,  1.16it/s]\u001B[A\n",
      " 30%|███       | 15/50 [00:13<00:30,  1.15it/s]\u001B[A\n",
      " 32%|███▏      | 16/50 [00:14<00:29,  1.16it/s]\u001B[A\n",
      " 34%|███▍      | 17/50 [00:14<00:28,  1.16it/s]\u001B[A\n",
      " 36%|███▌      | 18/50 [00:15<00:27,  1.17it/s]\u001B[A\n",
      " 38%|███▊      | 19/50 [00:16<00:26,  1.16it/s]\u001B[A\n",
      " 40%|████      | 20/50 [00:17<00:26,  1.15it/s]\u001B[A\n",
      " 42%|████▏     | 21/50 [00:18<00:25,  1.15it/s]\u001B[A\n",
      " 44%|████▍     | 22/50 [00:19<00:24,  1.16it/s]\u001B[A\n",
      " 46%|████▌     | 23/50 [00:20<00:23,  1.17it/s]\u001B[A\n",
      " 48%|████▊     | 24/50 [00:20<00:22,  1.15it/s]\u001B[A\n",
      " 50%|█████     | 25/50 [00:21<00:21,  1.15it/s]\u001B[A\n",
      " 52%|█████▏    | 26/50 [00:22<00:20,  1.16it/s]\u001B[A\n",
      " 54%|█████▍    | 27/50 [00:23<00:19,  1.17it/s]\u001B[A\n",
      " 56%|█████▌    | 28/50 [00:24<00:19,  1.16it/s]\u001B[A\n",
      " 58%|█████▊    | 29/50 [00:25<00:18,  1.16it/s]\u001B[A\n",
      " 60%|██████    | 30/50 [00:26<00:17,  1.15it/s]\u001B[A\n",
      " 62%|██████▏   | 31/50 [00:27<00:16,  1.13it/s]\u001B[A\n",
      " 64%|██████▍   | 32/50 [00:27<00:15,  1.14it/s]\u001B[A\n",
      " 66%|██████▌   | 33/50 [00:28<00:14,  1.15it/s]\u001B[A\n",
      " 68%|██████▊   | 34/50 [00:29<00:13,  1.15it/s]\u001B[A\n",
      " 70%|███████   | 35/50 [00:30<00:13,  1.14it/s]\u001B[A\n",
      " 72%|███████▏  | 36/50 [00:31<00:12,  1.15it/s]\u001B[A\n",
      " 74%|███████▍  | 37/50 [00:32<00:11,  1.16it/s]\u001B[A\n",
      " 76%|███████▌  | 38/50 [00:33<00:10,  1.16it/s]\u001B[A\n",
      " 78%|███████▊  | 39/50 [00:34<00:09,  1.12it/s]\u001B[A\n",
      " 80%|████████  | 40/50 [00:34<00:08,  1.11it/s]\u001B[A\n",
      " 82%|████████▏ | 41/50 [00:35<00:08,  1.10it/s]\u001B[A\n",
      " 84%|████████▍ | 42/50 [00:36<00:07,  1.11it/s]\u001B[A\n",
      " 86%|████████▌ | 43/50 [00:37<00:06,  1.10it/s]\u001B[A\n",
      " 88%|████████▊ | 44/50 [00:38<00:05,  1.10it/s]\u001B[A\n",
      " 90%|█████████ | 45/50 [00:39<00:04,  1.12it/s]\u001B[A\n",
      " 92%|█████████▏| 46/50 [00:40<00:03,  1.14it/s]\u001B[A\n",
      " 94%|█████████▍| 47/50 [00:41<00:02,  1.15it/s]\u001B[A\n",
      " 96%|█████████▌| 48/50 [00:42<00:01,  1.14it/s]\u001B[A\n",
      " 98%|█████████▊| 49/50 [00:42<00:00,  1.15it/s]\u001B[A\n",
      "100%|██████████| 50/50 [00:43<00:00,  1.14it/s]\u001B[A\n",
      "outer loop:  60%|██████    | 3/5 [27:36<18:23, 551.79s/it]No time steps to calculate are specified. I'll check the datasource of the first controller for avaiable time steps\n",
      "/Users/jbrouill/PycharmProjects/eiv-grid-id/venv/lib/python3.8/site-packages/cvxpy/reductions/solvers/solving_chain.py:323: DeprecationWarning: Deprecated, use Model.addMConstr() instead\n",
      "  return self.solver.solve_via_data(data, warm_start, verbose,\n",
      "\n",
      "  0%|          | 0/50 [00:00<?, ?it/s]\u001B[A\n",
      "  2%|▏         | 1/50 [00:00<00:44,  1.09it/s]\u001B[A\n",
      "  4%|▍         | 2/50 [00:01<00:43,  1.11it/s]\u001B[A\n",
      "  6%|▌         | 3/50 [00:02<00:41,  1.14it/s]\u001B[A\n",
      "  8%|▊         | 4/50 [00:03<00:40,  1.15it/s]\u001B[A\n",
      " 10%|█         | 5/50 [00:04<00:39,  1.15it/s]\u001B[A\n",
      " 12%|█▏        | 6/50 [00:05<00:38,  1.14it/s]\u001B[A\n",
      " 14%|█▍        | 7/50 [00:06<00:37,  1.13it/s]\u001B[A\n",
      " 16%|█▌        | 8/50 [00:06<00:36,  1.14it/s]\u001B[A\n",
      " 18%|█▊        | 9/50 [00:07<00:36,  1.13it/s]\u001B[A\n",
      " 20%|██        | 10/50 [00:08<00:35,  1.11it/s]\u001B[A\n",
      " 22%|██▏       | 11/50 [00:09<00:34,  1.13it/s]\u001B[A\n",
      " 24%|██▍       | 12/50 [00:10<00:33,  1.14it/s]\u001B[A\n",
      " 26%|██▌       | 13/50 [00:11<00:32,  1.13it/s]\u001B[A\n",
      " 28%|██▊       | 14/50 [00:12<00:31,  1.13it/s]\u001B[A\n",
      " 30%|███       | 15/50 [00:13<00:30,  1.14it/s]\u001B[A\n",
      " 32%|███▏      | 16/50 [00:14<00:29,  1.15it/s]\u001B[A\n",
      " 34%|███▍      | 17/50 [00:14<00:29,  1.13it/s]\u001B[A\n",
      " 36%|███▌      | 18/50 [00:15<00:28,  1.14it/s]\u001B[A\n",
      " 38%|███▊      | 19/50 [00:16<00:27,  1.14it/s]\u001B[A\n",
      " 40%|████      | 20/50 [00:17<00:26,  1.14it/s]\u001B[A\n",
      " 42%|████▏     | 21/50 [00:18<00:25,  1.13it/s]\u001B[A\n",
      " 44%|████▍     | 22/50 [00:19<00:24,  1.14it/s]\u001B[A\n",
      " 46%|████▌     | 23/50 [00:20<00:23,  1.14it/s]\u001B[A\n",
      " 48%|████▊     | 24/50 [00:21<00:22,  1.14it/s]\u001B[A\n",
      " 50%|█████     | 25/50 [00:21<00:21,  1.14it/s]\u001B[A\n",
      " 52%|█████▏    | 26/50 [00:22<00:21,  1.12it/s]\u001B[A\n",
      " 54%|█████▍    | 27/50 [00:23<00:20,  1.11it/s]\u001B[A\n",
      " 56%|█████▌    | 28/50 [00:24<00:19,  1.13it/s]\u001B[A\n",
      " 58%|█████▊    | 29/50 [00:25<00:18,  1.14it/s]\u001B[A\n",
      " 60%|██████    | 30/50 [00:26<00:17,  1.13it/s]\u001B[A\n",
      " 62%|██████▏   | 31/50 [00:27<00:16,  1.14it/s]\u001B[A\n",
      " 64%|██████▍   | 32/50 [00:28<00:15,  1.15it/s]\u001B[A\n",
      " 66%|██████▌   | 33/50 [00:29<00:14,  1.15it/s]\u001B[A\n",
      " 68%|██████▊   | 34/50 [00:29<00:14,  1.13it/s]\u001B[A\n",
      " 70%|███████   | 35/50 [00:30<00:13,  1.14it/s]\u001B[A\n",
      " 72%|███████▏  | 36/50 [00:31<00:12,  1.15it/s]\u001B[A\n",
      " 74%|███████▍  | 37/50 [00:32<00:11,  1.16it/s]\u001B[A\n",
      " 76%|███████▌  | 38/50 [00:33<00:10,  1.13it/s]\u001B[A\n",
      " 78%|███████▊  | 39/50 [00:34<00:09,  1.13it/s]\u001B[A\n",
      " 80%|████████  | 40/50 [00:35<00:08,  1.14it/s]\u001B[A\n",
      " 82%|████████▏ | 41/50 [00:36<00:07,  1.14it/s]\u001B[A\n",
      " 84%|████████▍ | 42/50 [00:36<00:07,  1.13it/s]\u001B[A\n",
      " 86%|████████▌ | 43/50 [00:37<00:06,  1.14it/s]\u001B[A\n",
      " 88%|████████▊ | 44/50 [00:38<00:05,  1.15it/s]\u001B[A\n",
      " 90%|█████████ | 45/50 [00:39<00:04,  1.12it/s]\u001B[A\n",
      " 92%|█████████▏| 46/50 [00:40<00:03,  1.13it/s]\u001B[A\n",
      " 94%|█████████▍| 47/50 [00:41<00:02,  1.14it/s]\u001B[A\n",
      " 96%|█████████▌| 48/50 [00:42<00:01,  1.14it/s]\u001B[A\n",
      " 98%|█████████▊| 49/50 [00:43<00:00,  1.12it/s]\u001B[A\n",
      "100%|██████████| 50/50 [00:44<00:00,  1.14it/s]\u001B[A\n",
      "outer loop:  80%|████████  | 4/5 [36:50<09:12, 552.61s/it]No time steps to calculate are specified. I'll check the datasource of the first controller for avaiable time steps\n",
      "/Users/jbrouill/PycharmProjects/eiv-grid-id/venv/lib/python3.8/site-packages/cvxpy/reductions/solvers/solving_chain.py:323: DeprecationWarning: Deprecated, use Model.addMConstr() instead\n",
      "  return self.solver.solve_via_data(data, warm_start, verbose,\n",
      "\n",
      "  0%|          | 0/50 [00:00<?, ?it/s]\u001B[A\n",
      "  2%|▏         | 1/50 [00:00<00:42,  1.15it/s]\u001B[A\n",
      "  4%|▍         | 2/50 [00:01<00:42,  1.14it/s]\u001B[A\n",
      "  6%|▌         | 3/50 [00:02<00:41,  1.14it/s]\u001B[A\n",
      "  8%|▊         | 4/50 [00:03<00:40,  1.13it/s]\u001B[A\n",
      " 10%|█         | 5/50 [00:04<00:39,  1.13it/s]\u001B[A\n",
      " 12%|█▏        | 6/50 [00:05<00:38,  1.13it/s]\u001B[A\n",
      " 14%|█▍        | 7/50 [00:06<00:37,  1.14it/s]\u001B[A\n",
      " 16%|█▌        | 8/50 [00:07<00:37,  1.11it/s]\u001B[A\n",
      " 18%|█▊        | 9/50 [00:08<00:37,  1.09it/s]\u001B[A\n",
      " 20%|██        | 10/50 [00:09<00:36,  1.08it/s]\u001B[A\n",
      " 22%|██▏       | 11/50 [00:09<00:35,  1.09it/s]\u001B[A\n",
      " 24%|██▍       | 12/50 [00:10<00:34,  1.09it/s]\u001B[A\n",
      " 26%|██▌       | 13/50 [00:11<00:34,  1.07it/s]\u001B[A\n",
      " 28%|██▊       | 14/50 [00:12<00:32,  1.10it/s]\u001B[A\n",
      " 30%|███       | 15/50 [00:13<00:31,  1.13it/s]\u001B[A\n",
      " 32%|███▏      | 16/50 [00:14<00:29,  1.14it/s]\u001B[A\n",
      " 34%|███▍      | 17/50 [00:15<00:29,  1.13it/s]\u001B[A\n",
      " 36%|███▌      | 18/50 [00:16<00:28,  1.14it/s]\u001B[A\n",
      " 38%|███▊      | 19/50 [00:16<00:27,  1.14it/s]\u001B[A\n",
      " 40%|████      | 20/50 [00:17<00:26,  1.12it/s]\u001B[A\n",
      " 42%|████▏     | 21/50 [00:18<00:25,  1.13it/s]\u001B[A\n",
      " 44%|████▍     | 22/50 [00:19<00:24,  1.14it/s]\u001B[A\n",
      " 46%|████▌     | 23/50 [00:20<00:23,  1.15it/s]\u001B[A\n",
      " 48%|████▊     | 24/50 [00:21<00:23,  1.12it/s]\u001B[A\n",
      " 50%|█████     | 25/50 [00:22<00:22,  1.13it/s]\u001B[A\n",
      " 52%|█████▏    | 26/50 [00:23<00:21,  1.14it/s]\u001B[A\n",
      " 54%|█████▍    | 27/50 [00:24<00:20,  1.15it/s]\u001B[A\n",
      " 56%|█████▌    | 28/50 [00:24<00:19,  1.13it/s]\u001B[A\n",
      " 58%|█████▊    | 29/50 [00:25<00:18,  1.15it/s]\u001B[A\n",
      " 60%|██████    | 30/50 [00:26<00:17,  1.14it/s]\u001B[A\n",
      " 62%|██████▏   | 31/50 [00:27<00:16,  1.15it/s]\u001B[A\n",
      " 64%|██████▍   | 32/50 [00:28<00:15,  1.15it/s]\u001B[A\n",
      " 66%|██████▌   | 33/50 [00:29<00:15,  1.13it/s]\u001B[A\n",
      " 68%|██████▊   | 34/50 [00:30<00:14,  1.13it/s]\u001B[A\n",
      " 70%|███████   | 35/50 [00:31<00:13,  1.14it/s]\u001B[A\n",
      " 72%|███████▏  | 36/50 [00:31<00:12,  1.13it/s]\u001B[A\n",
      " 74%|███████▍  | 37/50 [00:32<00:11,  1.11it/s]\u001B[A\n",
      " 76%|███████▌  | 38/50 [00:33<00:10,  1.13it/s]\u001B[A\n",
      " 78%|███████▊  | 39/50 [00:34<00:09,  1.14it/s]\u001B[A\n",
      " 80%|████████  | 40/50 [00:35<00:08,  1.14it/s]\u001B[A\n",
      " 82%|████████▏ | 41/50 [00:36<00:08,  1.12it/s]\u001B[A\n",
      " 84%|████████▍ | 42/50 [00:37<00:07,  1.11it/s]\u001B[A\n",
      " 86%|████████▌ | 43/50 [00:38<00:06,  1.10it/s]\u001B[A\n",
      " 88%|████████▊ | 44/50 [00:39<00:05,  1.09it/s]\u001B[A\n",
      " 90%|█████████ | 45/50 [00:40<00:04,  1.08it/s]\u001B[A\n",
      " 92%|█████████▏| 46/50 [00:41<00:03,  1.08it/s]\u001B[A\n",
      " 94%|█████████▍| 47/50 [00:41<00:02,  1.10it/s]\u001B[A\n",
      " 96%|█████████▌| 48/50 [00:42<00:01,  1.12it/s]\u001B[A\n",
      " 98%|█████████▊| 49/50 [00:43<00:00,  1.12it/s]\u001B[A\n",
      "100%|██████████| 50/50 [00:44<00:00,  1.12it/s]\u001B[A\n",
      "outer loop: 100%|██████████| 5/5 [46:04<00:00, 552.81s/it]\n"
     ]
    },
    {
     "name": "stdout",
     "output_type": "stream",
     "text": [
      "Using license file /Users/jbrouill/gurobi.lic\n",
      "Academic license - for non-commercial use only - expires 2021-01-17\n"
     ]
    }
   ],
   "source": [
    "for k in tqdm(range(n_experiments), desc='outer loop', leave=True):\n",
    "    net = pnet.create_kerber_landnetz_freileitung_2(p_load_mw=0.008*(k+1), q_load_mvar=0)\n",
    "    nodes = net.bus.shape[0]\n",
    "    steps = 400\n",
    "    load_cv = 0.5\n",
    "    current_magnitude_sd = 0.000001\n",
    "    voltage_magnitude_sd = 0.0001\n",
    "    phase_sd = 0.0001\n",
    "    with mlflow.start_run(run_name=str('S-TLS with covariance, load = ' + str(8*(k+1)) + 'kW')):\n",
    "        load_p, load_q = generate_gaussian_load(net.load.p_mw, net.load.q_mvar, load_cv, steps)\n",
    "        controlled_net = add_load_power_control(net, load_p, load_q)\n",
    "        sim_result = run_simulation(controlled_net, verbose=False)\n",
    "        y_bus = make_y_bus(controlled_net)\n",
    "        voltage, current = get_current_and_voltage(sim_result, y_bus)\n",
    "        controlled_net.bus\n",
    "\n",
    "        voltage = voltage[:, 1:]\n",
    "        y_bus = y_bus[1:, 1:]\n",
    "        current = np.array(voltage @ y_bus)\n",
    "        noisy_voltage = add_polar_noise_to_measurement(voltage, voltage_magnitude_sd, phase_sd)\n",
    "        noisy_current = add_polar_noise_to_measurement(current, current_magnitude_sd, phase_sd)\n",
    "        voltage_error, current_error = noisy_voltage - voltage, noisy_current - current\n",
    "\n",
    "        vect_voltage = np.abs(vectorize_matrix(voltage))\n",
    "        current_col = 1/np.sum((vect_voltage - np.mean(vect_voltage))**2)\n",
    "\n",
    "        real_powers = np.multiply(voltage,current.conj())\n",
    "        powers = np.multiply(noisy_voltage,noisy_current.conj())\n",
    "\n",
    "        real_line_mat = cross_multiply_measurements(voltage)\n",
    "        line_mat = cross_multiply_measurements(noisy_voltage)\n",
    "\n",
    "        real_A_mat = make_measurements_matrix(voltage)\n",
    "        A_mat = make_measurements_matrix(noisy_voltage)\n",
    "\n",
    "        power_noise = powers - real_powers\n",
    "        line_mat_noise = line_mat - real_line_mat\n",
    "\n",
    "        b_vector = powers.reshape(powers.size)\n",
    "\n",
    "        np.linalg.svd(voltage, compute_uv=False)\n",
    "\n",
    "        np.mean(np.abs(current), 0)\n",
    "\n",
    "        mlflow_params = {\n",
    "            'nodes': noisy_voltage.shape[1],\n",
    "            'steps': steps,\n",
    "            'load_cv': load_cv,\n",
    "            'current_magnitude_sd': current_magnitude_sd,\n",
    "            'voltage_magnitude_sd': voltage_magnitude_sd,\n",
    "            'phase_sd': phase_sd\n",
    "        }\n",
    "\n",
    "        lasso = ComplexLasso(y_bus, verbose=False, lambdas=np.logspace(-12, -1, 40), solver=cp.GUROBI)\n",
    "        lasso.fit(A_mat, b_vector, True)\n",
    "        best_lambda = lasso.best_trial.hyperparameters['lambda']\n",
    "\n",
    "        sigma_power = power_covariance(noisy_voltage.reshape(noisy_voltage.size), noisy_current.reshape(noisy_current.size),\n",
    "                                   voltage_magnitude_sd, phase_sd, current_magnitude_sd, phase_sd)\n",
    "        voltages1 = noisy_voltage.repeat(noisy_voltage.shape[1],1).flatten()\n",
    "        voltages2 = np.tile(noisy_voltage, (1, noisy_voltage.shape[1])).flatten()\n",
    "        sigma_line_mat = power_covariance(voltages1, voltages2, voltage_magnitude_sd, phase_sd, voltage_magnitude_sd, phase_sd)\n",
    "\n",
    "        inv_sigma_power = sparse.linalg.inv(sigma_power)\n",
    "        inv_sigma_line_mat = sparse.linalg.inv(sigma_line_mat)\n",
    "\n",
    "        max_iterations = 50\n",
    "        abs_tol = 10e-12\n",
    "        rel_tol = 10e-12\n",
    "        solver = cp.GUROBI\n",
    "        use_cov_matrix = True\n",
    "\n",
    "        sparse_tls_cov = SparseTotalLeastSquare(lambda_value=best_lambda, abs_tol=abs_tol, rel_tol=rel_tol, solver=solver, max_iterations=max_iterations)\n",
    "        sparse_tls_cov.fit_with_vectored_data(line_mat, A_mat, b_vector, inv_sigma_line_mat, inv_sigma_power,True)\n",
    "\n",
    "        y_sparse_tls_cov = sparse_tls_cov.fitted_admittance_matrix.conj()\n",
    "        sparse_tls_cov_metrics = error_metrics(y_bus, y_sparse_tls_cov)\n",
    "\n",
    "        sparse_tls_cov_errors = pd.Series([fro_error(y_bus.conj(), i.fitted_parameters) for i in sparse_tls_cov.iterations])\n",
    "        sparse_tls_cov_targets = pd.Series([i.target_function for i in sparse_tls_cov.iterations])\n",
    "\n",
    "        mlflow.log_param('lambda', best_lambda)\n",
    "        mlflow.log_param('max_iterations', max_iterations)\n",
    "        mlflow.log_param('abs_tol', abs_tol)\n",
    "        mlflow.log_param('rel_tol', rel_tol)\n",
    "        mlflow.log_param('solver', solver)\n",
    "        mlflow.log_param('use_cov_matrix', use_cov_matrix)\n",
    "        mlflow.log_params(mlflow_params)\n",
    "        mlflow.log_metrics(sparse_tls_cov_metrics.__dict__)\n",
    "\n",
    "        for i in range(len(sparse_tls_cov_errors)):\n",
    "            mlflow.log_metric('fro_error_evo', value=sparse_tls_cov_errors[i], step=i)\n",
    "            mlflow.log_metric('opt_cost_evo', value=sparse_tls_cov_targets[i], step=i)\n",
    "\n",
    "        colinearity[k] = current_col\n",
    "        errors[k] = sparse_tls_cov_metrics.fro_error\n"
   ]
  },
  {
   "cell_type": "code",
   "execution_count": 8,
   "metadata": {
    "pycharm": {
     "name": "#%%\n"
    }
   },
   "outputs": [
    {
     "name": "stdout",
     "output_type": "stream",
     "text": [
      "[53.07368276 49.87604563 41.31918553 29.22181102 19.2620493 ]\n"
     ]
    },
    {
     "name": "stderr",
     "output_type": "stream",
     "text": [
      "/Users/jbrouill/PycharmProjects/eiv-grid-id/venv/lib/python3.8/site-packages/ipykernel/ipkernel.py:287: DeprecationWarning: `should_run_async` will not call `transform_cell` automatically in the future. Please pass the result to `transformed_cell` argument and any exception that happen during thetransform in `preprocessing_exc_tuple` in IPython 7.17 and above.\n",
      "  and should_run_async(code)\n"
     ]
    }
   ],
   "source": [
    "print(errors)"
   ]
  },
  {
   "cell_type": "code",
   "execution_count": 9,
   "metadata": {
    "pycharm": {
     "name": "#%%\n"
    }
   },
   "outputs": [
    {
     "name": "stdout",
     "output_type": "stream",
     "text": [
      "[5.15307788 1.17764983 0.47099711 0.23292307 0.12590943]\n"
     ]
    }
   ],
   "source": [
    "print(colinearity)"
   ]
  },
  {
   "cell_type": "markdown",
   "metadata": {
    "pycharm": {
     "name": "#%% md\n"
    }
   },
   "source": [
    "Colinearity and error relation\n",
    "\n",
    "The following plot shows the Frobenius length of the error $\\|Y-\\tilde{Y}\\|_F$ on the y axis, for each set of voltages,\n",
    "represented by $\\|\\text{vec}(V) - \\text{mean}(\\text{vec}(V))\\|^{-2}$, which gives an idea of the coliearity."
   ]
  },
  {
   "cell_type": "code",
   "execution_count": 10,
   "metadata": {
    "pycharm": {
     "name": "#%%\n"
    }
   },
   "outputs": [
    {
     "data": {
      "text/plain": "[<matplotlib.lines.Line2D at 0x1309d6880>]"
     },
     "execution_count": 10,
     "metadata": {},
     "output_type": "execute_result"
    },
    {
     "data": {
      "text/plain": "<Figure size 432x288 with 1 Axes>",
      "image/png": "[encoded data removed]"
     },
     "metadata": {
      "needs_background": "light"
     },
     "output_type": "display_data"
    }
   ],
   "source": [
    "plt.plot(colinearity, errors)"
   ]
  },
  {
   "cell_type": "code",
   "execution_count": 11,
   "metadata": {
    "pycharm": {
     "name": "#%%\n"
    }
   },
   "outputs": [
    {
     "name": "stderr",
     "output_type": "stream",
     "text": [
      "/Users/jbrouill/PycharmProjects/eiv-grid-id/venv/lib/python3.8/site-packages/ipykernel/ipkernel.py:287: DeprecationWarning: `should_run_async` will not call `transform_cell` automatically in the future. Please pass the result to `transformed_cell` argument and any exception that happen during thetransform in `preprocessing_exc_tuple` in IPython 7.17 and above.\n",
      "  and should_run_async(code)\n"
     ]
    },
    {
     "data": {
      "text/plain": "<Figure size 432x288 with 2 Axes>",
      "image/png": "[encoded data removed]"
     },
     "metadata": {
      "needs_background": "light"
     },
     "output_type": "display_data"
    }
   ],
   "source": [
    "sns.heatmap(np.abs(y_bus - y_sparse_tls_cov));"
   ]
  },
  {
   "cell_type": "code",
   "execution_count": 12,
   "metadata": {
    "pycharm": {
     "name": "#%%\n"
    }
   },
   "outputs": [
    {
     "data": {
      "text/plain": "<Figure size 432x288 with 2 Axes>",
      "image/png": "[encoded data removed]"
     },
     "metadata": {
      "needs_background": "light"
     },
     "output_type": "display_data"
    }
   ],
   "source": [
    "sns.heatmap(np.abs(y_bus));"
   ]
  },
  {
   "cell_type": "code",
   "execution_count": 13,
   "metadata": {
    "pycharm": {
     "name": "#%%\n"
    }
   },
   "outputs": [
    {
     "data": {
      "text/plain": "<Figure size 432x288 with 2 Axes>",
      "image/png": "[encoded data removed]"
     },
     "metadata": {
      "needs_background": "light"
     },
     "output_type": "display_data"
    }
   ],
   "source": [
    "sns.heatmap(np.abs(y_sparse_tls_cov.toarray()));"
   ]
  },
  {
   "cell_type": "code",
   "execution_count": 14,
   "outputs": [
    {
     "name": "stderr",
     "output_type": "stream",
     "text": [
      "/Users/jbrouill/PycharmProjects/eiv-grid-id/venv/lib/python3.8/site-packages/ipykernel/ipkernel.py:287: DeprecationWarning: `should_run_async` will not call `transform_cell` automatically in the future. Please pass the result to `transformed_cell` argument and any exception that happen during thetransform in `preprocessing_exc_tuple` in IPython 7.17 and above.\n",
      "  and should_run_async(code)\n"
     ]
    }
   ],
   "source": [
    "n_experiments = 10\n",
    "colinearity = np.empty(n_experiments)\n",
    "errors = np.empty(n_experiments)"
   ],
   "metadata": {
    "collapsed": false,
    "pycharm": {
     "name": "#%%\n"
    }
   }
  },
  {
   "cell_type": "code",
   "execution_count": 15,
   "outputs": [
    {
     "name": "stderr",
     "output_type": "stream",
     "text": [
      "outer loop:   0%|          | 0/10 [00:00<?, ?it/s]No time steps to calculate are specified. I'll check the datasource of the first controller for avaiable time steps\n",
      "/Users/jbrouill/PycharmProjects/eiv-grid-id/venv/lib/python3.8/site-packages/cvxpy/reductions/solvers/solving_chain.py:323: DeprecationWarning: Deprecated, use Model.addMConstr() instead\n",
      "  return self.solver.solve_via_data(data, warm_start, verbose,\n",
      "\n",
      "  0%|          | 0/50 [00:00<?, ?it/s]\u001B[A/Users/jbrouill/PycharmProjects/eiv-grid-id/venv/lib/python3.8/site-packages/cvxpy/problems/problem.py:1125: UserWarning: Solution may be inaccurate. Try another solver, adjusting the solver settings, or solve with verbose=True for more information.\n",
      "  warnings.warn(\n",
      "\n",
      "  2%|▏         | 1/50 [00:02<02:06,  2.58s/it]\u001B[A\n",
      "outer loop:   0%|          | 0/10 [08:37<?, ?it/s]\n"
     ]
    },
    {
     "ename": "SolverError",
     "evalue": "Solver 'GUROBI' failed. Try another solver, or solve with verbose=True for more information.",
     "output_type": "error",
     "traceback": [
      "\u001B[0;31m---------------------------------------------------------------------------\u001B[0m",
      "\u001B[0;31mSolverError\u001B[0m                               Traceback (most recent call last)",
      "\u001B[0;32m<ipython-input-15-d3f307cede7f>\u001B[0m in \u001B[0;36m<module>\u001B[0;34m\u001B[0m\n\u001B[1;32m     74\u001B[0m \u001B[0;34m\u001B[0m\u001B[0m\n\u001B[1;32m     75\u001B[0m         \u001B[0msparse_tls_cov\u001B[0m \u001B[0;34m=\u001B[0m \u001B[0mSparseTotalLeastSquare\u001B[0m\u001B[0;34m(\u001B[0m\u001B[0mlambda_value\u001B[0m\u001B[0;34m=\u001B[0m\u001B[0mbest_lambda\u001B[0m\u001B[0;34m,\u001B[0m \u001B[0mabs_tol\u001B[0m\u001B[0;34m=\u001B[0m\u001B[0mabs_tol\u001B[0m\u001B[0;34m,\u001B[0m \u001B[0mrel_tol\u001B[0m\u001B[0;34m=\u001B[0m\u001B[0mrel_tol\u001B[0m\u001B[0;34m,\u001B[0m \u001B[0msolver\u001B[0m\u001B[0;34m=\u001B[0m\u001B[0msolver\u001B[0m\u001B[0;34m,\u001B[0m \u001B[0mmax_iterations\u001B[0m\u001B[0;34m=\u001B[0m\u001B[0mmax_iterations\u001B[0m\u001B[0;34m)\u001B[0m\u001B[0;34m\u001B[0m\u001B[0;34m\u001B[0m\u001B[0m\n\u001B[0;32m---> 76\u001B[0;31m         \u001B[0msparse_tls_cov\u001B[0m\u001B[0;34m.\u001B[0m\u001B[0mfit_with_vectored_data\u001B[0m\u001B[0;34m(\u001B[0m\u001B[0mline_mat\u001B[0m\u001B[0;34m,\u001B[0m \u001B[0mA_mat\u001B[0m\u001B[0;34m,\u001B[0m \u001B[0mb_vector\u001B[0m\u001B[0;34m,\u001B[0m \u001B[0minv_sigma_line_mat\u001B[0m\u001B[0;34m,\u001B[0m \u001B[0minv_sigma_power\u001B[0m\u001B[0;34m,\u001B[0m\u001B[0;32mTrue\u001B[0m\u001B[0;34m)\u001B[0m\u001B[0;34m\u001B[0m\u001B[0;34m\u001B[0m\u001B[0m\n\u001B[0m\u001B[1;32m     77\u001B[0m \u001B[0;34m\u001B[0m\u001B[0m\n\u001B[1;32m     78\u001B[0m         \u001B[0my_sparse_tls_cov\u001B[0m \u001B[0;34m=\u001B[0m \u001B[0msparse_tls_cov\u001B[0m\u001B[0;34m.\u001B[0m\u001B[0mfitted_admittance_matrix\u001B[0m\u001B[0;34m.\u001B[0m\u001B[0mconj\u001B[0m\u001B[0;34m(\u001B[0m\u001B[0;34m)\u001B[0m\u001B[0;34m\u001B[0m\u001B[0;34m\u001B[0m\u001B[0m\n",
      "\u001B[0;32m~/PycharmProjects/eiv-grid-id/src/models/error_in_variable.py\u001B[0m in \u001B[0;36mfit_with_vectored_data\u001B[0;34m(self, x, x_kroned, y, x_weight, y_weight, enforce_y_cons)\u001B[0m\n\u001B[1;32m    153\u001B[0m         \u001B[0;32mfor\u001B[0m \u001B[0mit\u001B[0m \u001B[0;32min\u001B[0m \u001B[0mtqdm\u001B[0m\u001B[0;34m(\u001B[0m\u001B[0mrange\u001B[0m\u001B[0;34m(\u001B[0m\u001B[0mself\u001B[0m\u001B[0;34m.\u001B[0m\u001B[0m_max_iterations\u001B[0m\u001B[0;34m)\u001B[0m\u001B[0;34m)\u001B[0m\u001B[0;34m:\u001B[0m\u001B[0;34m\u001B[0m\u001B[0;34m\u001B[0m\u001B[0m\n\u001B[1;32m    154\u001B[0m             \u001B[0mlasso_prob\u001B[0m \u001B[0;34m=\u001B[0m \u001B[0mcp\u001B[0m\u001B[0;34m.\u001B[0m\u001B[0mProblem\u001B[0m\u001B[0;34m(\u001B[0m\u001B[0mcp\u001B[0m\u001B[0;34m.\u001B[0m\u001B[0mMinimize\u001B[0m\u001B[0;34m(\u001B[0m\u001B[0mself\u001B[0m\u001B[0;34m.\u001B[0m\u001B[0m_lasso_target\u001B[0m\u001B[0;34m(\u001B[0m\u001B[0mb\u001B[0m\u001B[0;34m,\u001B[0m \u001B[0mA\u001B[0m\u001B[0;34m,\u001B[0m \u001B[0mdA\u001B[0m\u001B[0;34m,\u001B[0m \u001B[0my_weight\u001B[0m\u001B[0;34m,\u001B[0m \u001B[0mself\u001B[0m\u001B[0;34m.\u001B[0m\u001B[0m_lambda\u001B[0m\u001B[0;34m,\u001B[0m \u001B[0mbeta\u001B[0m\u001B[0;34m)\u001B[0m\u001B[0;34m)\u001B[0m\u001B[0;34m)\u001B[0m\u001B[0;34m\u001B[0m\u001B[0;34m\u001B[0m\u001B[0m\n\u001B[0;32m--> 155\u001B[0;31m             \u001B[0m_solve_problem_with_solver\u001B[0m\u001B[0;34m(\u001B[0m\u001B[0mlasso_prob\u001B[0m\u001B[0;34m,\u001B[0m \u001B[0mverbose\u001B[0m\u001B[0;34m=\u001B[0m\u001B[0mself\u001B[0m\u001B[0;34m.\u001B[0m\u001B[0m_verbose\u001B[0m\u001B[0;34m,\u001B[0m \u001B[0msolver\u001B[0m\u001B[0;34m=\u001B[0m\u001B[0mself\u001B[0m\u001B[0;34m.\u001B[0m\u001B[0m_solver\u001B[0m\u001B[0;34m)\u001B[0m\u001B[0;34m\u001B[0m\u001B[0;34m\u001B[0m\u001B[0m\n\u001B[0m\u001B[1;32m    156\u001B[0m \u001B[0;34m\u001B[0m\u001B[0m\n\u001B[1;32m    157\u001B[0m             \u001B[0;32mif\u001B[0m \u001B[0menforce_y_cons\u001B[0m\u001B[0;34m:\u001B[0m\u001B[0;34m\u001B[0m\u001B[0;34m\u001B[0m\u001B[0m\n",
      "\u001B[0;32m~/PycharmProjects/eiv-grid-id/src/models/utils.py\u001B[0m in \u001B[0;36m_solve_problem_with_solver\u001B[0;34m(problem, solver, verbose, warm_start)\u001B[0m\n\u001B[1;32m      8\u001B[0m         \u001B[0mproblem\u001B[0m\u001B[0;34m.\u001B[0m\u001B[0msolve\u001B[0m\u001B[0;34m(\u001B[0m\u001B[0mverbose\u001B[0m\u001B[0;34m=\u001B[0m\u001B[0mverbose\u001B[0m\u001B[0;34m,\u001B[0m \u001B[0mwarm_start\u001B[0m\u001B[0;34m=\u001B[0m\u001B[0mwarm_start\u001B[0m\u001B[0;34m)\u001B[0m\u001B[0;34m\u001B[0m\u001B[0;34m\u001B[0m\u001B[0m\n\u001B[1;32m      9\u001B[0m     \u001B[0;32melse\u001B[0m\u001B[0;34m:\u001B[0m\u001B[0;34m\u001B[0m\u001B[0;34m\u001B[0m\u001B[0m\n\u001B[0;32m---> 10\u001B[0;31m         \u001B[0mproblem\u001B[0m\u001B[0;34m.\u001B[0m\u001B[0msolve\u001B[0m\u001B[0;34m(\u001B[0m\u001B[0msolver\u001B[0m\u001B[0;34m=\u001B[0m\u001B[0msolver\u001B[0m\u001B[0;34m,\u001B[0m \u001B[0mverbose\u001B[0m\u001B[0;34m=\u001B[0m\u001B[0mverbose\u001B[0m\u001B[0;34m,\u001B[0m \u001B[0mwarm_start\u001B[0m\u001B[0;34m=\u001B[0m\u001B[0mwarm_start\u001B[0m\u001B[0;34m)\u001B[0m\u001B[0;34m\u001B[0m\u001B[0;34m\u001B[0m\u001B[0m\n\u001B[0m",
      "\u001B[0;32m~/PycharmProjects/eiv-grid-id/venv/lib/python3.8/site-packages/cvxpy/problems/problem.py\u001B[0m in \u001B[0;36msolve\u001B[0;34m(self, *args, **kwargs)\u001B[0m\n\u001B[1;32m    399\u001B[0m         \u001B[0;32melse\u001B[0m\u001B[0;34m:\u001B[0m\u001B[0;34m\u001B[0m\u001B[0;34m\u001B[0m\u001B[0m\n\u001B[1;32m    400\u001B[0m             \u001B[0msolve_func\u001B[0m \u001B[0;34m=\u001B[0m \u001B[0mProblem\u001B[0m\u001B[0;34m.\u001B[0m\u001B[0m_solve\u001B[0m\u001B[0;34m\u001B[0m\u001B[0;34m\u001B[0m\u001B[0m\n\u001B[0;32m--> 401\u001B[0;31m         \u001B[0;32mreturn\u001B[0m \u001B[0msolve_func\u001B[0m\u001B[0;34m(\u001B[0m\u001B[0mself\u001B[0m\u001B[0;34m,\u001B[0m \u001B[0;34m*\u001B[0m\u001B[0margs\u001B[0m\u001B[0;34m,\u001B[0m \u001B[0;34m**\u001B[0m\u001B[0mkwargs\u001B[0m\u001B[0;34m)\u001B[0m\u001B[0;34m\u001B[0m\u001B[0;34m\u001B[0m\u001B[0m\n\u001B[0m\u001B[1;32m    402\u001B[0m \u001B[0;34m\u001B[0m\u001B[0m\n\u001B[1;32m    403\u001B[0m     \u001B[0;34m@\u001B[0m\u001B[0mclassmethod\u001B[0m\u001B[0;34m\u001B[0m\u001B[0;34m\u001B[0m\u001B[0m\n",
      "\u001B[0;32m~/PycharmProjects/eiv-grid-id/venv/lib/python3.8/site-packages/cvxpy/problems/problem.py\u001B[0m in \u001B[0;36m_solve\u001B[0;34m(self, solver, warm_start, verbose, gp, qcp, requires_grad, enforce_dpp, **kwargs)\u001B[0m\n\u001B[1;32m    817\u001B[0m         solution = solving_chain.solve_via_data(\n\u001B[1;32m    818\u001B[0m             self, data, warm_start, verbose, kwargs)\n\u001B[0;32m--> 819\u001B[0;31m         \u001B[0mself\u001B[0m\u001B[0;34m.\u001B[0m\u001B[0munpack_results\u001B[0m\u001B[0;34m(\u001B[0m\u001B[0msolution\u001B[0m\u001B[0;34m,\u001B[0m \u001B[0msolving_chain\u001B[0m\u001B[0;34m,\u001B[0m \u001B[0minverse_data\u001B[0m\u001B[0;34m)\u001B[0m\u001B[0;34m\u001B[0m\u001B[0;34m\u001B[0m\u001B[0m\n\u001B[0m\u001B[1;32m    820\u001B[0m         \u001B[0;32mreturn\u001B[0m \u001B[0mself\u001B[0m\u001B[0;34m.\u001B[0m\u001B[0mvalue\u001B[0m\u001B[0;34m\u001B[0m\u001B[0;34m\u001B[0m\u001B[0m\n\u001B[1;32m    821\u001B[0m \u001B[0;34m\u001B[0m\u001B[0m\n",
      "\u001B[0;32m~/PycharmProjects/eiv-grid-id/venv/lib/python3.8/site-packages/cvxpy/problems/problem.py\u001B[0m in \u001B[0;36munpack_results\u001B[0;34m(self, solution, chain, inverse_data)\u001B[0m\n\u001B[1;32m   1129\u001B[0m             )\n\u001B[1;32m   1130\u001B[0m         \u001B[0;32mif\u001B[0m \u001B[0msolution\u001B[0m\u001B[0;34m.\u001B[0m\u001B[0mstatus\u001B[0m \u001B[0;32min\u001B[0m \u001B[0ms\u001B[0m\u001B[0;34m.\u001B[0m\u001B[0mERROR\u001B[0m\u001B[0;34m:\u001B[0m\u001B[0;34m\u001B[0m\u001B[0;34m\u001B[0m\u001B[0m\n\u001B[0;32m-> 1131\u001B[0;31m             raise error.SolverError(\n\u001B[0m\u001B[1;32m   1132\u001B[0m                     \u001B[0;34m\"Solver '%s' failed. \"\u001B[0m \u001B[0;34m%\u001B[0m \u001B[0mchain\u001B[0m\u001B[0;34m.\u001B[0m\u001B[0msolver\u001B[0m\u001B[0;34m.\u001B[0m\u001B[0mname\u001B[0m\u001B[0;34m(\u001B[0m\u001B[0;34m)\u001B[0m \u001B[0;34m+\u001B[0m\u001B[0;34m\u001B[0m\u001B[0;34m\u001B[0m\u001B[0m\n\u001B[1;32m   1133\u001B[0m                     \u001B[0;34m\"Try another solver, or solve with verbose=True for more \"\u001B[0m\u001B[0;34m\u001B[0m\u001B[0;34m\u001B[0m\u001B[0m\n",
      "\u001B[0;31mSolverError\u001B[0m: Solver 'GUROBI' failed. Try another solver, or solve with verbose=True for more information."
     ]
    }
   ],
   "source": [
    "for k in tqdm(range(n_experiments), desc='outer loop', leave=True):\n",
    "    net = pnet.create_kerber_landnetz_freileitung_2(p_load_mw=0.008, q_load_mvar=0)\n",
    "    nodes = net.bus.shape[0]\n",
    "    steps = 400\n",
    "    load_cv = 0.5\n",
    "    current_magnitude_sd = 0.000001\n",
    "    voltage_magnitude_sd = 0.0001\n",
    "    phase_sd = 0.0001\n",
    "    volt_var = 0.0001*(k+1)\n",
    "    with mlflow.start_run(run_name=str('S-TLS with covariance, voltages added random = ' + str(volt_var) + 'kW')):\n",
    "        load_p, load_q = generate_gaussian_load(net.load.p_mw, net.load.q_mvar, load_cv, steps)\n",
    "        controlled_net = add_load_power_control(net, load_p, load_q)\n",
    "        sim_result = run_simulation(controlled_net, verbose=False)\n",
    "        y_bus = make_y_bus(controlled_net)\n",
    "        voltage, current = get_current_and_voltage(sim_result, y_bus)\n",
    "        controlled_net.bus\n",
    "\n",
    "        voltage = voltage[:, 1:]\n",
    "        voltage = voltage + np.random.normal(0.0, volt_var, voltage.shape) + 1j*np.random.normal(1, volt_var, voltage.shape)\n",
    "        y_bus = y_bus[1:, 1:]\n",
    "        current = np.array(voltage @ y_bus)\n",
    "        noisy_voltage = add_polar_noise_to_measurement(voltage, voltage_magnitude_sd, phase_sd)\n",
    "        noisy_current = add_polar_noise_to_measurement(current, current_magnitude_sd, phase_sd)\n",
    "        voltage_error, current_error = noisy_voltage - voltage, noisy_current - current\n",
    "\n",
    "        vect_voltage = np.abs(vectorize_matrix(voltage))\n",
    "        current_col = 1/np.sum((vect_voltage - np.mean(vect_voltage))**2)\n",
    "\n",
    "        real_powers = np.multiply(voltage,current.conj())\n",
    "        powers = np.multiply(noisy_voltage,noisy_current.conj())\n",
    "\n",
    "        real_line_mat = cross_multiply_measurements(voltage)\n",
    "        line_mat = cross_multiply_measurements(noisy_voltage)\n",
    "\n",
    "        real_A_mat = make_measurements_matrix(voltage)\n",
    "        A_mat = make_measurements_matrix(noisy_voltage)\n",
    "\n",
    "        power_noise = powers - real_powers\n",
    "        line_mat_noise = line_mat - real_line_mat\n",
    "\n",
    "        b_vector = powers.reshape(powers.size)\n",
    "\n",
    "        np.linalg.svd(voltage, compute_uv=False)\n",
    "\n",
    "        np.mean(np.abs(current), 0)\n",
    "\n",
    "        mlflow_params = {\n",
    "            'nodes': noisy_voltage.shape[1],\n",
    "            'steps': steps,\n",
    "            'load_cv': load_cv,\n",
    "            'current_magnitude_sd': current_magnitude_sd,\n",
    "            'voltage_magnitude_sd': voltage_magnitude_sd,\n",
    "            'phase_sd': phase_sd\n",
    "        }\n",
    "\n",
    "        lasso = ComplexLasso(y_bus, verbose=False, lambdas=np.logspace(-12, -1, 40), solver=cp.GUROBI)\n",
    "        lasso.fit(A_mat, b_vector, True)\n",
    "        best_lambda = lasso.best_trial.hyperparameters['lambda']\n",
    "\n",
    "        sigma_power = power_covariance(noisy_voltage.reshape(noisy_voltage.size), noisy_current.reshape(noisy_current.size),\n",
    "                                   voltage_magnitude_sd, phase_sd, current_magnitude_sd, phase_sd)\n",
    "        voltages1 = noisy_voltage.repeat(noisy_voltage.shape[1],1).flatten()\n",
    "        voltages2 = np.tile(noisy_voltage, (1, noisy_voltage.shape[1])).flatten()\n",
    "        sigma_line_mat = power_covariance(voltages1, voltages2, voltage_magnitude_sd, phase_sd, voltage_magnitude_sd, phase_sd)\n",
    "\n",
    "        inv_sigma_power = sparse.linalg.inv(sigma_power)\n",
    "        inv_sigma_line_mat = sparse.linalg.inv(sigma_line_mat)\n",
    "\n",
    "        max_iterations = 50\n",
    "        abs_tol = 10e-12\n",
    "        rel_tol = 10e-12\n",
    "        solver = cp.GUROBI\n",
    "        use_cov_matrix = True\n",
    "\n",
    "        sparse_tls_cov = SparseTotalLeastSquare(lambda_value=best_lambda, abs_tol=abs_tol, rel_tol=rel_tol, solver=solver, max_iterations=max_iterations)\n",
    "        sparse_tls_cov.fit_with_vectored_data(line_mat, A_mat, b_vector, inv_sigma_line_mat, inv_sigma_power,True)\n",
    "\n",
    "        y_sparse_tls_cov = sparse_tls_cov.fitted_admittance_matrix.conj()\n",
    "        sparse_tls_cov_metrics = error_metrics(y_bus, y_sparse_tls_cov)\n",
    "\n",
    "        sparse_tls_cov_errors = pd.Series([fro_error(y_bus.conj(), i.fitted_parameters) for i in sparse_tls_cov.iterations])\n",
    "        sparse_tls_cov_targets = pd.Series([i.target_function for i in sparse_tls_cov.iterations])\n",
    "\n",
    "        mlflow.log_param('lambda', best_lambda)\n",
    "        mlflow.log_param('max_iterations', max_iterations)\n",
    "        mlflow.log_param('abs_tol', abs_tol)\n",
    "        mlflow.log_param('rel_tol', rel_tol)\n",
    "        mlflow.log_param('solver', solver)\n",
    "        mlflow.log_param('use_cov_matrix', use_cov_matrix)\n",
    "        mlflow.log_params(mlflow_params)\n",
    "        mlflow.log_metrics(sparse_tls_cov_metrics.__dict__)\n",
    "\n",
    "        for i in range(len(sparse_tls_cov_errors)):\n",
    "            mlflow.log_metric('fro_error_evo', value=sparse_tls_cov_errors[i], step=i)\n",
    "            mlflow.log_metric('opt_cost_evo', value=sparse_tls_cov_targets[i], step=i)\n",
    "\n",
    "        colinearity[k] = current_col\n",
    "        errors[k] = sparse_tls_cov_metrics.fro_error\n"
   ],
   "metadata": {
    "collapsed": false,
    "pycharm": {
     "name": "#%%\n"
    }
   }
  },
  {
   "cell_type": "code",
   "execution_count": null,
   "outputs": [],
   "source": [
    "print(errors)"
   ],
   "metadata": {
    "collapsed": false,
    "pycharm": {
     "name": "#%%\n"
    }
   }
  },
  {
   "cell_type": "code",
   "execution_count": null,
   "outputs": [],
   "source": [
    "print(colinearity)"
   ],
   "metadata": {
    "collapsed": false,
    "pycharm": {
     "name": "#%%\n"
    }
   }
  },
  {
   "cell_type": "markdown",
   "source": [
    "Colinearity and error relation\n",
    "\n",
    "The following plot shows the Frobenius length of the error $\\|Y-\\tilde{Y}\\|_F$ on the y axis, for each set of voltages,\n",
    "represented by $\\|\\text{vec}(V) - \\text{mean}(\\text{vec}(V))\\|^{-2}$, which gives an idea of the coliearity."
   ],
   "metadata": {
    "collapsed": false
   }
  },
  {
   "cell_type": "code",
   "execution_count": null,
   "outputs": [],
   "source": [
    "plt.plot(colinearity, errors)"
   ],
   "metadata": {
    "collapsed": false,
    "pycharm": {
     "name": "#%%\n"
    }
   }
  },
  {
   "cell_type": "code",
   "execution_count": null,
   "outputs": [],
   "source": [
    "sns.heatmap(np.abs(y_bus - y_sparse_tls_cov));"
   ],
   "metadata": {
    "collapsed": false,
    "pycharm": {
     "name": "#%%\n"
    }
   }
  },
  {
   "cell_type": "code",
   "execution_count": null,
   "outputs": [],
   "source": [
    "sns.heatmap(np.abs(y_bus));"
   ],
   "metadata": {
    "collapsed": false,
    "pycharm": {
     "name": "#%%\n"
    }
   }
  },
  {
   "cell_type": "code",
   "execution_count": null,
   "outputs": [],
   "source": [
    "sns.heatmap(np.abs(y_sparse_tls_cov.toarray()));"
   ],
   "metadata": {
    "collapsed": false,
    "pycharm": {
     "name": "#%%\n"
    }
   }
  }
 ],
 "metadata": {
  "kernelspec": {
   "display_name": "Python 3",
   "language": "python",
   "name": "python3"
  },
  "language_info": {
   "codemirror_mode": {
    "name": "ipython",
    "version": 3
   },
   "file_extension": ".py",
   "mimetype": "text/x-python",
   "name": "python",
   "nbconvert_exporter": "python",
   "pygments_lexer": "ipython3",
   "version": "3.8.2"
  }
 },
 "nbformat": 4,
 "nbformat_minor": 1
}