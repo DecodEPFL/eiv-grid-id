{
 "cells": [
  {
   "cell_type": "markdown",
   "metadata": {},
   "source": [
    "# Setup"
   ]
  },
  {
   "cell_type": "code",
   "execution_count": 51,
   "metadata": {},
   "outputs": [
    {
     "name": "stderr",
     "output_type": "stream",
     "text": [
      "/Users/jbrouill/PycharmProjects/eiv-grid-id/venv/lib/python3.8/site-packages/ipykernel/ipkernel.py:287: DeprecationWarning: `should_run_async` will not call `transform_cell` automatically in the future. Please pass the result to `transformed_cell` argument and any exception that happen during thetransform in `preprocessing_exc_tuple` in IPython 7.17 and above.\n",
      "  and should_run_async(code)\n"
     ]
    }
   ],
   "source": [
    "import pandapower.networks as pnet\n",
    "import pandas as pd\n",
    "import numpy as np\n",
    "import scipy as sp\n",
    "import cvxpy as cp\n",
    "import seaborn as sns\n",
    "import mlflow\n",
    "\n",
    "from scipy import sparse\n",
    "import matplotlib.pyplot as plt"
   ]
  },
  {
   "cell_type": "code",
   "execution_count": 52,
   "metadata": {},
   "outputs": [
    {
     "name": "stdout",
     "output_type": "stream",
     "text": [
      "The autoreload extension is already loaded. To reload it, use:\n",
      "  %reload_ext autoreload\n"
     ]
    }
   ],
   "source": [
    "%load_ext autoreload\n",
    "%autoreload 2"
   ]
  },
  {
   "cell_type": "code",
   "execution_count": 53,
   "metadata": {},
   "outputs": [],
   "source": [
    "import sys\n",
    "sys.path.insert(1, '..')\n",
    "\n",
    "from src.models.matrix_operations import make_real_vector, vectorize_matrix\n",
    "from src.simulation.noise import add_polar_noise_to_measurement\n",
    "from src.models.regression import ComplexRegression, ComplexLasso\n",
    "from src.models.error_in_variable import TotalLeastSquares, SparseTotalLeastSquare\n",
    "from src.simulation.load_profile import generate_gaussian_load\n",
    "from src.simulation.network import add_load_power_control, make_y_bus\n",
    "from src.simulation.simulation import run_simulation, get_current_and_voltage\n",
    "from src.identification.error_metrics import error_metrics, fro_error\n",
    "from src.models.noise_transformation import average_true_noise_covariance,exact_noise_covariance"
   ]
  },
  {
   "cell_type": "markdown",
   "metadata": {},
   "source": [
    "# Network simulation"
   ]
  },
  {
   "cell_type": "code",
   "execution_count": 54,
   "metadata": {},
   "outputs": [],
   "source": [
    "mlflow.set_experiment('Full network with polar noise')"
   ]
  },
  {
   "cell_type": "code",
   "execution_count": 55,
   "metadata": {},
   "outputs": [],
   "source": [
    "net = pnet.create_kerber_landnetz_freileitung_2()\n",
    "nodes = net.bus.shape[0]\n",
    "steps = 400\n",
    "load_cv = 0.2\n",
    "current_magnitude_sd = 0.000001\n",
    "voltage_magnitude_sd = 0.0001\n",
    "phase_sd = 0.0001"
   ]
  },
  {
   "cell_type": "code",
   "execution_count": 56,
   "metadata": {},
   "outputs": [
    {
     "name": "stderr",
     "output_type": "stream",
     "text": [
      "No time steps to calculate are specified. I'll check the datasource of the first controller for avaiable time steps\n"
     ]
    },
    {
     "data": {
      "text/plain": "              name  vn_kv type  zone  in_service\n0  Trafostation_OS   10.0    b  None        True\n1      main_busbar    0.4    b  None        True\n2          bus_1_1    0.4    b  None        True\n3          bus_1_2    0.4    b  None        True\n4          bus_1_3    0.4    b  None        True\n5          bus_1_4    0.4    b  None        True\n6          bus_1_5    0.4    b  None        True\n7          bus_1_6    0.4    b  None        True\n8          bus_2_1    0.4    b  None        True\n9          bus_2_2    0.4    b  None        True",
      "text/html": "<div>\n<style scoped>\n    .dataframe tbody tr th:only-of-type {\n        vertical-align: middle;\n    }\n\n    .dataframe tbody tr th {\n        vertical-align: top;\n    }\n\n    .dataframe thead th {\n        text-align: right;\n    }\n</style>\n<table border=\"1\" class=\"dataframe\">\n  <thead>\n    <tr style=\"text-align: right;\">\n      <th></th>\n      <th>name</th>\n      <th>vn_kv</th>\n      <th>type</th>\n      <th>zone</th>\n      <th>in_service</th>\n    </tr>\n  </thead>\n  <tbody>\n    <tr>\n      <th>0</th>\n      <td>Trafostation_OS</td>\n      <td>10.0</td>\n      <td>b</td>\n      <td>None</td>\n      <td>True</td>\n    </tr>\n    <tr>\n      <th>1</th>\n      <td>main_busbar</td>\n      <td>0.4</td>\n      <td>b</td>\n      <td>None</td>\n      <td>True</td>\n    </tr>\n    <tr>\n      <th>2</th>\n      <td>bus_1_1</td>\n      <td>0.4</td>\n      <td>b</td>\n      <td>None</td>\n      <td>True</td>\n    </tr>\n    <tr>\n      <th>3</th>\n      <td>bus_1_2</td>\n      <td>0.4</td>\n      <td>b</td>\n      <td>None</td>\n      <td>True</td>\n    </tr>\n    <tr>\n      <th>4</th>\n      <td>bus_1_3</td>\n      <td>0.4</td>\n      <td>b</td>\n      <td>None</td>\n      <td>True</td>\n    </tr>\n    <tr>\n      <th>5</th>\n      <td>bus_1_4</td>\n      <td>0.4</td>\n      <td>b</td>\n      <td>None</td>\n      <td>True</td>\n    </tr>\n    <tr>\n      <th>6</th>\n      <td>bus_1_5</td>\n      <td>0.4</td>\n      <td>b</td>\n      <td>None</td>\n      <td>True</td>\n    </tr>\n    <tr>\n      <th>7</th>\n      <td>bus_1_6</td>\n      <td>0.4</td>\n      <td>b</td>\n      <td>None</td>\n      <td>True</td>\n    </tr>\n    <tr>\n      <th>8</th>\n      <td>bus_2_1</td>\n      <td>0.4</td>\n      <td>b</td>\n      <td>None</td>\n      <td>True</td>\n    </tr>\n    <tr>\n      <th>9</th>\n      <td>bus_2_2</td>\n      <td>0.4</td>\n      <td>b</td>\n      <td>None</td>\n      <td>True</td>\n    </tr>\n  </tbody>\n</table>\n</div>"
     },
     "execution_count": 56,
     "metadata": {},
     "output_type": "execute_result"
    }
   ],
   "source": [
    "np.random.seed(11)\n",
    "load_p, load_q = generate_gaussian_load(net.load.p_mw, net.load.q_mvar, load_cv, steps)\n",
    "controlled_net = add_load_power_control(net, load_p, load_q)\n",
    "sim_result = run_simulation(controlled_net, verbose=False)\n",
    "y_bus = make_y_bus(controlled_net)\n",
    "voltage, current = get_current_and_voltage(sim_result, y_bus)\n",
    "controlled_net.bus"
   ]
  },
  {
   "cell_type": "code",
   "execution_count": 57,
   "metadata": {},
   "outputs": [
    {
     "name": "stderr",
     "output_type": "stream",
     "text": [
      "/Users/jbrouill/PycharmProjects/eiv-grid-id/venv/lib/python3.8/site-packages/ipykernel/ipkernel.py:287: DeprecationWarning: `should_run_async` will not call `transform_cell` automatically in the future. Please pass the result to `transformed_cell` argument and any exception that happen during thetransform in `preprocessing_exc_tuple` in IPython 7.17 and above.\n",
      "  and should_run_async(code)\n"
     ]
    }
   ],
   "source": [
    "voltage = voltage[:, 1:]\n",
    "#print(y_bus)\n",
    "y_v = y_bus[1,0]\n",
    "y_bus = y_bus[1:, 1:]\n",
    "y_bus[0,0] = y_bus[0,0] + y_v\n",
    "current = np.array(voltage @ y_bus)\n",
    "noisy_voltage = add_polar_noise_to_measurement(voltage, voltage_magnitude_sd, phase_sd)\n",
    "noisy_current = add_polar_noise_to_measurement(current, current_magnitude_sd, phase_sd)\n",
    "voltage_error, current_error = noisy_voltage - voltage, noisy_current - current"
   ]
  },
  {
   "cell_type": "code",
   "execution_count": 58,
   "metadata": {},
   "outputs": [
    {
     "data": {
      "text/plain": "array([5.89221591e+01, 4.25232562e-02, 1.35369650e-02, 5.73441653e-03,\n       2.75443540e-03, 2.25199217e-03, 1.55263364e-03, 1.16434339e-03,\n       9.41492168e-04])"
     },
     "execution_count": 58,
     "metadata": {},
     "output_type": "execute_result"
    }
   ],
   "source": [
    "np.linalg.svd(voltage, compute_uv=False)"
   ]
  },
  {
   "cell_type": "code",
   "execution_count": 59,
   "metadata": {},
   "outputs": [
    {
     "data": {
      "text/plain": "array([0.06559741, 0.00810926, 0.00811186, 0.00817258, 0.00823941,\n       0.00830128, 0.00824192, 0.00803008, 0.0081679 ])"
     },
     "execution_count": 59,
     "metadata": {},
     "output_type": "execute_result"
    }
   ],
   "source": [
    "np.mean(np.abs(current), 0)"
   ]
  },
  {
   "cell_type": "code",
   "execution_count": 60,
   "metadata": {},
   "outputs": [],
   "source": [
    "mlflow_params = {\n",
    "    'nodes': noisy_voltage.shape[1],\n",
    "    'steps': steps, \n",
    "    'load_cv': load_cv, \n",
    "    'current_magnitude_sd': current_magnitude_sd, \n",
    "    'voltage_magnitude_sd': voltage_magnitude_sd,\n",
    "    'phase_sd': phase_sd\n",
    "}"
   ]
  },
  {
   "cell_type": "markdown",
   "metadata": {},
   "source": [
    "# OLS Identification"
   ]
  },
  {
   "cell_type": "code",
   "execution_count": 61,
   "metadata": {},
   "outputs": [
    {
     "data": {
      "text/plain": "ErrorMetrics(fro_error=46.39067258258446, max_error=15.376834960569314, rrms_error=0.8105628504223067, map_error=0.7781759858766334)"
     },
     "execution_count": 61,
     "metadata": {},
     "output_type": "execute_result"
    }
   ],
   "source": [
    "with mlflow.start_run(run_name='OLS'):\n",
    "    ols = ComplexRegression()\n",
    "    ols.fit(noisy_voltage, noisy_current)\n",
    "    y_ols = ols.fitted_admittance_matrix\n",
    "    ols_metrics = error_metrics(y_bus, y_ols)\n",
    "    mlflow.log_params(mlflow_params)\n",
    "    mlflow.log_metrics(ols_metrics.__dict__)\n",
    "ols_metrics"
   ]
  },
  {
   "cell_type": "markdown",
   "metadata": {},
   "source": [
    "# Lasso Identification"
   ]
  },
  {
   "cell_type": "code",
   "execution_count": 62,
   "metadata": {},
   "outputs": [
    {
     "name": "stderr",
     "output_type": "stream",
     "text": [
      "/Users/jbrouill/PycharmProjects/eiv-grid-id/venv/lib/python3.8/site-packages/cvxpy/reductions/solvers/solving_chain.py:323: DeprecationWarning: Deprecated, use Model.addMConstr() instead\n",
      "  return self.solver.solve_via_data(data, warm_start, verbose,\n"
     ]
    },
    {
     "data": {
      "text/plain": "ErrorMetrics(fro_error=46.390672601914886, max_error=15.376835003240718, rrms_error=0.8105628507600584, map_error=0.7781759852448075)"
     },
     "execution_count": 62,
     "metadata": {},
     "output_type": "execute_result"
    }
   ],
   "source": [
    "with mlflow.start_run(run_name='Lasso'):\n",
    "    lasso = ComplexLasso(y_bus, verbose=False, lambdas=np.logspace(-12, -1, 40), solver=cp.GUROBI)\n",
    "    lasso.fit(noisy_voltage, noisy_current)\n",
    "    y_lasso = lasso.fitted_admittance_matrix\n",
    "    lasso_metrics = error_metrics(y_bus, y_lasso)\n",
    "    mlflow.log_params(mlflow_params)\n",
    "    mlflow.log_metrics(lasso_metrics.__dict__)\n",
    "best_lambda = lasso.best_trial.hyperparameters['lambda']\n",
    "lasso_metrics"
   ]
  },
  {
   "cell_type": "code",
   "execution_count": 63,
   "metadata": {},
   "outputs": [
    {
     "data": {
      "text/plain": "1.8047217668271666e-10"
     },
     "execution_count": 63,
     "metadata": {},
     "output_type": "execute_result"
    }
   ],
   "source": [
    "best_lambda"
   ]
  },
  {
   "cell_type": "markdown",
   "metadata": {},
   "source": [
    "# TLS Identification"
   ]
  },
  {
   "cell_type": "code",
   "execution_count": 64,
   "outputs": [
    {
     "name": "stdout",
     "output_type": "stream",
     "text": [
      "[[-0.03088995+0.00221144j -0.00566458-0.04227946j -0.02447462+0.00923283j\n",
      "   0.01895968-0.00166987j  0.02561265-0.01622336j -0.09175648-0.03567287j\n",
      "  -0.06065055+0.00960882j  0.13908049-0.01697422j -0.30857205+0.12662023j]\n",
      " [-0.01123044+0.01827132j -0.02016472-0.04895954j -0.01295712-0.01650704j\n",
      "  -0.03511262-0.03311281j  0.03686505-0.02846825j -0.07600929-0.03769754j\n",
      "  -0.07499897+0.01642118j  0.04628065-0.0002546j  -0.30853835+0.12652878j]\n",
      " [ 0.03793267+0.025211j   -0.01804795-0.01119043j -0.01797233-0.04344747j\n",
      "  -0.03200676-0.02779845j  0.02440623-0.02299796j -0.03545597-0.0061382j\n",
      "  -0.07843895+0.00366525j -0.03977811+0.00440757j -0.30852257+0.12636572j]\n",
      " [ 0.02237623+0.03109122j -0.01230499+0.02759843j -0.01089585-0.02502235j\n",
      "  -0.01829649+0.00494489j  0.01746949+0.00991868j  0.00710556+0.01057642j\n",
      "  -0.05950832+0.00614294j -0.13242336+0.02012916j -0.30835805+0.12611661j]\n",
      " [ 0.00482879+0.02308155j  0.00602491+0.02279022j  0.00638018-0.00249786j\n",
      "  -0.00456704+0.00539419j -0.04634802+0.00721517j  0.0339008 +0.01065684j\n",
      "  -0.00154921+0.00561106j -0.20543158+0.03104178j -0.30830486+0.12594647j]\n",
      " [-0.00956373-0.00567331j  0.01876912+0.00840479j  0.00983874-0.01733473j\n",
      "   0.0194632 +0.01879909j -0.04093498+0.00263707j  0.04825771+0.03868249j\n",
      "   0.09099862-0.01452789j -0.24789346+0.04358949j -0.30817304+0.1258064j ]\n",
      " [ 0.01065593-0.05491889j  0.01817959+0.02459036j  0.03056717+0.00551317j\n",
      "   0.01471219+0.00813865j -0.04346494+0.00297864j  0.02316803+0.05640423j\n",
      "   0.13357955-0.04427768j -0.27576288+0.04444613j -0.30825578+0.12565745j]\n",
      " [-0.00165452-0.01836441j  0.016452  -0.04462005j  0.00768612+0.0600452j\n",
      "   0.02245718+0.03758355j  0.02758821+0.01719916j  0.0125733 -0.00616582j\n",
      "  -0.00797258-0.00028138j  0.30373001-0.05516015j -0.30871724+0.12685484j]\n",
      " [-0.02408984-0.0199245j  -0.00204633+0.06348492j  0.00946681+0.03048752j\n",
      "   0.01634878-0.0116689j  -0.00121026+0.03110657j  0.07719758-0.03187702j\n",
      "   0.06139406+0.01966154j  0.40661662-0.07532956j -0.30869979+0.12718201j]]\n"
     ]
    },
    {
     "data": {
      "text/plain": "ErrorMetrics(fro_error=14.882138901540058, max_error=4.1675933607706455, rrms_error=0.2600287570079669, map_error=0.12232858632359919)"
     },
     "execution_count": 64,
     "metadata": {},
     "output_type": "execute_result"
    }
   ],
   "source": [
    "with mlflow.start_run(run_name='TLS'):\n",
    "    tls = TotalLeastSquares()\n",
    "    tls.fit(noisy_voltage, noisy_current)\n",
    "    y_tls = tls.fitted_admittance_matrix\n",
    "    tls_metrics = error_metrics(y_bus, y_tls)\n",
    "    mlflow.log_params(mlflow_params)\n",
    "    mlflow.log_metrics(tls_metrics.__dict__)\n",
    "tls_metrics"
   ],
   "metadata": {
    "collapsed": false,
    "pycharm": {
     "name": "#%%\n"
    }
   }
  },
  {
   "cell_type": "markdown",
   "source": [
    "# L1 Regularized TLS\n",
    "\n",
    "normalizing currents"
   ],
   "metadata": {
    "collapsed": false
   }
  },
  {
   "cell_type": "code",
   "execution_count": 110,
   "metadata": {},
   "outputs": [
    {
     "name": "stderr",
     "output_type": "stream",
     "text": [
      "  0%|          | 0/6000 [00:00<?, ?it/s]/Users/jbrouill/PycharmProjects/eiv-grid-id/venv/lib/python3.8/site-packages/scipy/sparse/linalg/dsolve/linsolve.py:144: SparseEfficiencyWarning: spsolve requires A be CSC or CSR matrix format\n",
      "  warn('spsolve requires A be CSC or CSR matrix format',\n",
      " 27%|██▋       | 1641/6000 [01:16<03:23, 21.47it/s]\n"
     ]
    }
   ],
   "source": [
    "with mlflow.start_run(run_name='S-TLS with covariance'):\n",
    "    max_iterations = 6000\n",
    "    abs_tol = 10e-1\n",
    "    rel_tol = 10e-9\n",
    "    solver = cp.GUROBI\n",
    "    use_cov_matrix = True\n",
    "    pen_degree=1.0\n",
    "    tls_weights_adaptive = np.divide(1.0, np.power(np.abs(make_real_vector(vectorize_matrix(y_tls))), 1.0))\n",
    "    \n",
    "    \n",
    "    sigma_voltage = average_true_noise_covariance(noisy_voltage, voltage_magnitude_sd, phase_sd)\n",
    "    sigma_current = average_true_noise_covariance(noisy_current, current_magnitude_sd, phase_sd)\n",
    "    \n",
    "    #sigma_voltage = exact_noise_covariance(voltage, voltage_magnitude_sd, phase_sd)\n",
    "    #sigma_current = exact_noise_covariance(current, current_magnitude_sd, phase_sd)\n",
    "\n",
    "    inv_sigma_current = sparse.linalg.inv(sigma_current)\n",
    "    inv_sigma_voltage = sparse.linalg.inv(sigma_voltage)\n",
    "    \n",
    "    sparse_tls_cov = SparseTotalLeastSquare(lambda_value=0, abs_tol=abs_tol, rel_tol=rel_tol, solver=solver, max_iterations=max_iterations)\n",
    "    sparse_tls_cov.l1_multiplier_step_size = 0.5\n",
    "    sparse_tls_cov.cons_multiplier_step_size = 0.01\n",
    "    #sparse_tls_cov.set_prior(make_real_vector(vectorize_matrix(np.zeros(y_tls.shape))), SparseTotalLeastSquare.LAPLACE,\n",
    "    #                         np.diag(tls_weights_adaptive))\n",
    "\n",
    "    sparse_tls_cov.l1_target = 2*np.count_nonzero(y_bus)\n",
    "    sparse_tls_cov.l1_target = 1.0*(np.sum(np.power(np.abs(np.real(y_bus)),pen_degree))\n",
    "                                    + np.sum(np.power(np.abs(np.imag(y_bus)),pen_degree)))\n",
    "    sparse_tls_cov.l1_target = 1.0*2*np.sum(np.abs(make_real_vector(np.diag(y_tls))))\n",
    "\n",
    "    sparse_tls_cov.fit(noisy_voltage, noisy_current, inv_sigma_voltage, inv_sigma_current, y_init=y_tls)\n",
    "    \n",
    "    y_sparse_tls_cov = sparse_tls_cov.fitted_admittance_matrix\n",
    "    sparse_tls_cov_metrics = error_metrics(y_bus, y_sparse_tls_cov)\n",
    "    \n",
    "    sparse_tls_cov_errors = pd.Series([fro_error(y_bus, i.fitted_parameters) for i in sparse_tls_cov.iterations])\n",
    "    sparse_tls_cov_targets = pd.Series([i.target_function for i in sparse_tls_cov.iterations])\n",
    "    \n",
    "    mlflow.log_param('lambda', best_lambda)\n",
    "    mlflow.log_param('max_iterations', max_iterations)\n",
    "    mlflow.log_param('abs_tol', abs_tol)\n",
    "    mlflow.log_param('rel_tol', rel_tol)\n",
    "    mlflow.log_param('solver', solver)\n",
    "    mlflow.log_param('use_cov_matrix', use_cov_matrix)\n",
    "    mlflow.log_params(mlflow_params)\n",
    "    mlflow.log_metrics(sparse_tls_cov_metrics.__dict__)\n",
    "\n",
    "    for i in range(len(sparse_tls_cov_errors)):\n",
    "        mlflow.log_metric('fro_error_evo', value=sparse_tls_cov_errors[i], step=i)\n",
    "        mlflow.log_metric('opt_cost_evo', value=sparse_tls_cov_targets[i], step=i)"
   ]
  },
  {
   "cell_type": "code",
   "execution_count": 111,
   "outputs": [
    {
     "data": {
      "text/plain": "<AxesSubplot:>"
     },
     "execution_count": 111,
     "metadata": {},
     "output_type": "execute_result"
    },
    {
     "data": {
      "text/plain": "<Figure size 432x288 with 1 Axes>",
      "image/png": "[encoded data removed]"
     },
     "metadata": {
      "needs_background": "light"
     },
     "output_type": "display_data"
    }
   ],
   "source": [
    "sparse_tls_cov_errors.plot()\n",
    "#sparse_tls_cov_targets.copy().multiply(0.00004).plot()\n"
   ],
   "metadata": {
    "collapsed": false,
    "pycharm": {
     "name": "#%%\n"
    }
   }
  },
  {
   "cell_type": "code",
   "execution_count": 112,
   "outputs": [
    {
     "name": "stderr",
     "output_type": "stream",
     "text": [
      "/Users/jbrouill/PycharmProjects/eiv-grid-id/venv/lib/python3.8/site-packages/ipykernel/ipkernel.py:287: DeprecationWarning: `should_run_async` will not call `transform_cell` automatically in the future. Please pass the result to `transformed_cell` argument and any exception that happen during thetransform in `preprocessing_exc_tuple` in IPython 7.17 and above.\n",
      "  and should_run_async(code)\n"
     ]
    },
    {
     "data": {
      "text/plain": "<AxesSubplot:>"
     },
     "execution_count": 112,
     "metadata": {},
     "output_type": "execute_result"
    },
    {
     "data": {
      "text/plain": "<Figure size 432x288 with 1 Axes>",
      "image/png": "[encoded data removed]"
     },
     "metadata": {
      "needs_background": "light"
     },
     "output_type": "display_data"
    }
   ],
   "source": [
    "sparse_tls_cov_targets.plot()"
   ],
   "metadata": {
    "collapsed": false,
    "pycharm": {
     "name": "#%%\n"
    }
   }
  },
  {
   "cell_type": "code",
   "execution_count": 113,
   "outputs": [
    {
     "name": "stderr",
     "output_type": "stream",
     "text": [
      "/Users/jbrouill/PycharmProjects/eiv-grid-id/venv/lib/python3.8/site-packages/ipykernel/ipkernel.py:287: DeprecationWarning: `should_run_async` will not call `transform_cell` automatically in the future. Please pass the result to `transformed_cell` argument and any exception that happen during thetransform in `preprocessing_exc_tuple` in IPython 7.17 and above.\n",
      "  and should_run_async(code)\n"
     ]
    },
    {
     "data": {
      "text/plain": "[<matplotlib.lines.Line2D at 0x129946190>]"
     },
     "execution_count": 113,
     "metadata": {},
     "output_type": "execute_result"
    },
    {
     "data": {
      "text/plain": "<Figure size 432x288 with 1 Axes>",
      "image/png": "[encoded data removed]"
     },
     "metadata": {
      "needs_background": "light"
     },
     "output_type": "display_data"
    }
   ],
   "source": [
    "plt.plot(sparse_tls_cov.tmp)"
   ],
   "metadata": {
    "collapsed": false,
    "pycharm": {
     "name": "#%%\n"
    }
   }
  },
  {
   "cell_type": "markdown",
   "metadata": {
    "pycharm": {
     "name": "#%% md\n"
    }
   },
   "source": [
    "# Result analysis"
   ]
  },
  {
   "cell_type": "code",
   "execution_count": 114,
   "metadata": {},
   "outputs": [
    {
     "data": {
      "text/plain": "<Figure size 432x288 with 2 Axes>",
      "image/png": "[encoded data removed]"
     },
     "metadata": {
      "needs_background": "light"
     },
     "output_type": "display_data"
    }
   ],
   "source": [
    "sns.heatmap(np.abs(y_bus));"
   ]
  },
  {
   "cell_type": "code",
   "execution_count": 115,
   "metadata": {
    "pycharm": {
     "name": "#%%\n"
    }
   },
   "outputs": [
    {
     "data": {
      "text/plain": "<Figure size 432x288 with 2 Axes>",
      "image/png": "[encoded data removed]"
     },
     "metadata": {
      "needs_background": "light"
     },
     "output_type": "display_data"
    }
   ],
   "source": [
    "sns.heatmap(np.abs(y_bus - y_ols));"
   ]
  },
  {
   "cell_type": "code",
   "execution_count": 116,
   "metadata": {},
   "outputs": [
    {
     "data": {
      "text/plain": "<Figure size 432x288 with 2 Axes>",
      "image/png": "[encoded data removed]"
     },
     "metadata": {
      "needs_background": "light"
     },
     "output_type": "display_data"
    }
   ],
   "source": [
    "sns.heatmap(np.abs(y_bus - y_lasso));"
   ]
  },
  {
   "cell_type": "code",
   "execution_count": 117,
   "metadata": {},
   "outputs": [
    {
     "data": {
      "text/plain": "<Figure size 432x288 with 2 Axes>",
      "image/png": "[encoded data removed]"
     },
     "metadata": {
      "needs_background": "light"
     },
     "output_type": "display_data"
    }
   ],
   "source": [
    "sns.heatmap(np.abs(y_bus - y_tls),vmin=0,vmax=6);"
   ]
  },
  {
   "cell_type": "code",
   "execution_count": 118,
   "outputs": [
    {
     "data": {
      "text/plain": "<Figure size 432x288 with 2 Axes>",
      "image/png": "[encoded data removed]"
     },
     "metadata": {
      "needs_background": "light"
     },
     "output_type": "display_data"
    }
   ],
   "source": [
    "sns.heatmap(np.abs(y_bus - y_sparse_tls_cov),vmin=0,vmax=6);"
   ],
   "metadata": {
    "collapsed": false,
    "pycharm": {
     "name": "#%%\n"
    }
   }
  },
  {
   "cell_type": "code",
   "execution_count": 119,
   "outputs": [
    {
     "data": {
      "text/plain": "<Figure size 432x288 with 2 Axes>",
      "image/png": "[encoded data removed]"
     },
     "metadata": {
      "needs_background": "light"
     },
     "output_type": "display_data"
    }
   ],
   "source": [
    "sns.heatmap(np.abs(y_sparse_tls_cov));"
   ],
   "metadata": {
    "collapsed": false,
    "pycharm": {
     "name": "#%%\n"
    }
   }
  },
  {
   "cell_type": "code",
   "execution_count": 120,
   "outputs": [
    {
     "data": {
      "text/plain": "<matplotlib.lines.Line2D at 0x128e5da60>"
     },
     "execution_count": 120,
     "metadata": {},
     "output_type": "execute_result"
    },
    {
     "data": {
      "text/plain": "<Figure size 432x288 with 1 Axes>",
      "image/png": "[encoded data removed]"
     },
     "metadata": {
      "needs_background": "light"
     },
     "output_type": "display_data"
    }
   ],
   "source": [
    "plt.spy(sigma_voltage)"
   ],
   "metadata": {
    "collapsed": false,
    "pycharm": {
     "name": "#%%\n"
    }
   }
  },
  {
   "cell_type": "code",
   "execution_count": 121,
   "outputs": [
    {
     "name": "stdout",
     "output_type": "stream",
     "text": [
      "[0.99145913-0.02481034j 0.98626515-0.02547501j 0.98192753-0.026029j\n",
      " 0.97844661-0.02647282j 0.97582888-0.02680616j 0.97408143-0.02702847j\n",
      " 0.97321083-0.02713916j 0.98781301-0.02528201j 0.98597441-0.02551955j]\n"
     ]
    }
   ],
   "source": [
    "print(np.mean(voltage,0))"
   ],
   "metadata": {
    "collapsed": false,
    "pycharm": {
     "name": "#%%\n"
    }
   }
  },
  {
   "cell_type": "code",
   "execution_count": 122,
   "outputs": [
    {
     "name": "stdout",
     "output_type": "stream",
     "text": [
      "[ 0.06557357-0.00176372j -0.00810651+0.00021059j -0.00810898+0.00021589j\n",
      " -0.00816953+0.00022246j -0.00823625+0.00022752j -0.00829803+0.00023153j\n",
      " -0.00823866+0.0002312j  -0.00802742+0.00020636j -0.00816512+0.00021258j]\n"
     ]
    }
   ],
   "source": [
    "print(np.mean(np.array(voltage @ y_bus),0))"
   ],
   "metadata": {
    "collapsed": false,
    "pycharm": {
     "name": "#%%\n"
    }
   }
  },
  {
   "cell_type": "code",
   "execution_count": 123,
   "outputs": [
    {
     "name": "stdout",
     "output_type": "stream",
     "text": [
      "[[13.63300389-2.12338995j -9.27945454+1.44533265j  0.        +0.j\n",
      "   0.        +0.j          0.        +0.j          0.        +0.j\n",
      "   0.        +0.j         -4.35332435+0.67805729j  0.        +0.j        ]\n",
      " [-9.27945454+1.44533265j 18.55890909-2.8906653j  -9.27945454+1.44533265j\n",
      "   0.        +0.j          0.        +0.j          0.        +0.j\n",
      "   0.        +0.j          0.        +0.j          0.        +0.j        ]\n",
      " [ 0.        +0.j         -9.27945454+1.44533265j 18.55890909-2.8906653j\n",
      "  -9.27945454+1.44533265j  0.        +0.j          0.        +0.j\n",
      "   0.        +0.j          0.        +0.j          0.        +0.j        ]\n",
      " [ 0.        +0.j          0.        +0.j         -9.27945454+1.44533265j\n",
      "  18.55890909-2.8906653j  -9.27945454+1.44533265j  0.        +0.j\n",
      "   0.        +0.j          0.        +0.j          0.        +0.j        ]\n",
      " [ 0.        +0.j          0.        +0.j          0.        +0.j\n",
      "  -9.27945454+1.44533265j 18.55890909-2.8906653j  -9.27945454+1.44533265j\n",
      "   0.        +0.j          0.        +0.j          0.        +0.j        ]\n",
      " [ 0.        +0.j          0.        +0.j          0.        +0.j\n",
      "   0.        +0.j         -9.27945454+1.44533265j 18.55890909-2.8906653j\n",
      "  -9.27945454+1.44533265j  0.        +0.j          0.        +0.j        ]\n",
      " [ 0.        +0.j          0.        +0.j          0.        +0.j\n",
      "   0.        +0.j          0.        +0.j         -9.27945454+1.44533265j\n",
      "   9.27945454-1.44533265j  0.        +0.j          0.        +0.j        ]\n",
      " [-4.35332435+0.67805729j  0.        +0.j          0.        +0.j\n",
      "   0.        +0.j          0.        +0.j          0.        +0.j\n",
      "   0.        +0.j          8.70664871-1.35611458j -4.35332435+0.67805729j]\n",
      " [ 0.        +0.j          0.        +0.j          0.        +0.j\n",
      "   0.        +0.j          0.        +0.j          0.        +0.j\n",
      "   0.        +0.j         -4.35332435+0.67805729j  4.35332435-0.67805729j]]\n"
     ]
    }
   ],
   "source": [
    "print(y_bus)"
   ],
   "metadata": {
    "collapsed": false,
    "pycharm": {
     "name": "#%%\n"
    }
   }
  },
  {
   "cell_type": "code",
   "execution_count": 124,
   "outputs": [
    {
     "data": {
      "text/plain": "8.612407378852755"
     },
     "execution_count": 124,
     "metadata": {},
     "output_type": "execute_result"
    }
   ],
   "source": [
    "sparse_tls_cov_metrics.fro_error"
   ],
   "metadata": {
    "collapsed": false,
    "pycharm": {
     "name": "#%%\n"
    }
   }
  },
  {
   "cell_type": "code",
   "execution_count": 125,
   "metadata": {},
   "outputs": [
    {
     "data": {
      "text/plain": "8.612407378852755"
     },
     "execution_count": 125,
     "metadata": {},
     "output_type": "execute_result"
    }
   ],
   "source": [
    "sparse_tls_cov_metrics.fro_error"
   ]
  },
  {
   "cell_type": "code",
   "execution_count": 126,
   "metadata": {},
   "outputs": [
    {
     "data": {
      "text/plain": "<Figure size 432x288 with 2 Axes>",
      "image/png": "[encoded data removed]"
     },
     "metadata": {
      "needs_background": "light"
     },
     "output_type": "display_data"
    }
   ],
   "source": [
    "sns.heatmap(np.abs(y_bus - y_sparse_tls_cov),vmin=0,vmax=6);"
   ]
  },
  {
   "cell_type": "code",
   "execution_count": 127,
   "outputs": [
    {
     "data": {
      "text/plain": "<Figure size 432x288 with 2 Axes>",
      "image/png": "[encoded data removed]"
     },
     "metadata": {
      "needs_background": "light"
     },
     "output_type": "display_data"
    }
   ],
   "source": [
    "sns.heatmap(np.abs(y_sparse_tls_cov));"
   ],
   "metadata": {
    "collapsed": false,
    "pycharm": {
     "name": "#%%\n"
    }
   }
  },
  {
   "cell_type": "code",
   "execution_count": 128,
   "outputs": [
    {
     "data": {
      "text/plain": "<Figure size 432x288 with 2 Axes>",
      "image/png": "[encoded data removed]"
     },
     "metadata": {
      "needs_background": "light"
     },
     "output_type": "display_data"
    }
   ],
   "source": [
    "sns.heatmap(np.abs(y_tls));"
   ],
   "metadata": {
    "collapsed": false,
    "pycharm": {
     "name": "#%%\n"
    }
   }
  },
  {
   "cell_type": "code",
   "execution_count": 129,
   "outputs": [
    {
     "data": {
      "text/plain": "8.612407378852755"
     },
     "execution_count": 129,
     "metadata": {},
     "output_type": "execute_result"
    }
   ],
   "source": [
    "sparse_tls_cov_metrics.fro_error\n",
    "\n"
   ],
   "metadata": {
    "collapsed": false,
    "pycharm": {
     "name": "#%%\n"
    }
   }
  },
  {
   "cell_type": "code",
   "execution_count": 427,
   "outputs": [
    {
     "data": {
      "text/plain": "<Figure size 432x288 with 2 Axes>",
      "image/png": "[encoded data removed]"
     },
     "metadata": {
      "needs_background": "light"
     },
     "output_type": "display_data"
    }
   ],
   "source": [
    "min(sparse_tls_cov_errors)\n",
    "current_scale\n",
    "min(sparse_tls_cov_errors)"
   ],
   "metadata": {
    "collapsed": false,
    "pycharm": {
     "name": "#%%\n"
    }
   }
  },
  {
   "cell_type": "code",
   "execution_count": 428,
   "outputs": [
    {
     "data": {
      "text/plain": "nan"
     },
     "execution_count": 428,
     "metadata": {},
     "output_type": "execute_result"
    }
   ],
   "source": [
    "sparse_tls_cov_metrics.fro_error"
   ],
   "metadata": {
    "collapsed": false,
    "pycharm": {
     "name": "#%%\n"
    }
   }
  },
  {
   "cell_type": "code",
   "execution_count": 429,
   "outputs": [
    {
     "data": {
      "text/plain": "156994686753.9751"
     },
     "execution_count": 429,
     "metadata": {},
     "output_type": "execute_result"
    }
   ],
   "source": [
    "min(sparse_tls_cov_errors)\n",
    "\n"
   ],
   "metadata": {
    "collapsed": false,
    "pycharm": {
     "name": "#%%\n"
    }
   }
  },
  {
   "cell_type": "code",
   "execution_count": 430,
   "outputs": [
    {
     "ename": "NameError",
     "evalue": "name 'current_scale' is not defined",
     "output_type": "error",
     "traceback": [
      "\u001B[0;31m---------------------------------------------------------------------------\u001B[0m",
      "\u001B[0;31mNameError\u001B[0m                                 Traceback (most recent call last)",
      "\u001B[0;32m<ipython-input-430-efdf3df3c8ce>\u001B[0m in \u001B[0;36m<module>\u001B[0;34m\u001B[0m\n\u001B[1;32m      1\u001B[0m \u001B[0mmin\u001B[0m\u001B[0;34m(\u001B[0m\u001B[0msparse_tls_cov_errors\u001B[0m\u001B[0;34m)\u001B[0m\u001B[0;34m\u001B[0m\u001B[0;34m\u001B[0m\u001B[0m\n\u001B[0;32m----> 2\u001B[0;31m \u001B[0mcurrent_scale\u001B[0m\u001B[0;34m\u001B[0m\u001B[0;34m\u001B[0m\u001B[0m\n\u001B[0m\u001B[1;32m      3\u001B[0m \u001B[0mmin\u001B[0m\u001B[0;34m(\u001B[0m\u001B[0msparse_tls_cov_errors\u001B[0m\u001B[0;34m)\u001B[0m\u001B[0;34m\u001B[0m\u001B[0;34m\u001B[0m\u001B[0m\n\u001B[1;32m      4\u001B[0m \u001B[0;34m\u001B[0m\u001B[0m\n",
      "\u001B[0;31mNameError\u001B[0m: name 'current_scale' is not defined"
     ]
    }
   ],
   "source": [
    "min(sparse_tls_cov_errors)\n",
    "current_scale\n",
    "min(sparse_tls_cov_errors)"
   ],
   "metadata": {
    "collapsed": false,
    "pycharm": {
     "name": "#%%\n"
    }
   }
  },
  {
   "cell_type": "code",
   "execution_count": null,
   "outputs": [],
   "source": [
    "min(sparse_tls_cov_errors)\n",
    "current_scale\n",
    "min(sparse_tls_cov_errors)"
   ],
   "metadata": {
    "collapsed": false,
    "pycharm": {
     "name": "#%%\n"
    }
   }
  },
  {
   "cell_type": "code",
   "execution_count": null,
   "outputs": [],
   "source": [
    "min(sparse_tls_cov_errors)\n",
    "current_scale\n",
    "min(sparse_tls_cov_errors)"
   ],
   "metadata": {
    "collapsed": false,
    "pycharm": {
     "name": "#%%\n"
    }
   }
  },
  {
   "cell_type": "code",
   "execution_count": null,
   "outputs": [],
   "source": [
    "min(sparse_tls_cov_errors)\n",
    "\n"
   ],
   "metadata": {
    "collapsed": false,
    "pycharm": {
     "name": "#%%\n"
    }
   }
  },
  {
   "cell_type": "code",
   "execution_count": null,
   "outputs": [],
   "source": [
    "min(sparse_tls_cov_errors)\n",
    "current_scale\n",
    "min(sparse_tls_cov_errors)"
   ],
   "metadata": {
    "collapsed": false,
    "pycharm": {
     "name": "#%%\n"
    }
   }
  },
  {
   "cell_type": "code",
   "execution_count": null,
   "outputs": [],
   "source": [
    "min(sparse_tls_cov_errors)\n",
    "current_scale\n",
    "min(sparse_tls_cov_errors)"
   ],
   "metadata": {
    "collapsed": false,
    "pycharm": {
     "name": "#%%\n"
    }
   }
  }
 ],
 "metadata": {
  "hide_input": false,
  "kernelspec": {
   "display_name": "Python 3",
   "language": "python",
   "name": "python3"
  },
  "language_info": {
   "codemirror_mode": {
    "name": "ipython",
    "version": 3
   },
   "file_extension": ".py",
   "mimetype": "text/x-python",
   "name": "python",
   "nbconvert_exporter": "python",
   "pygments_lexer": "ipython3",
   "version": "3.7.7"
  },
  "toc": {
   "base_numbering": 1,
   "nav_menu": {},
   "number_sections": true,
   "sideBar": true,
   "skip_h1_title": false,
   "title_cell": "Table of Contents",
   "title_sidebar": "Contents",
   "toc_cell": false,
   "toc_position": {},
   "toc_section_display": true,
   "toc_window_display": false
  },
  "varInspector": {
   "cols": {
    "lenName": 16,
    "lenType": 16,
    "lenVar": 40
   },
   "kernels_config": {
    "python": {
     "delete_cmd_postfix": "",
     "delete_cmd_prefix": "del ",
     "library": "var_list.py",
     "varRefreshCmd": "print(var_dic_list())"
    },
    "r": {
     "delete_cmd_postfix": ") ",
     "delete_cmd_prefix": "rm(",
     "library": "var_list.r",
     "varRefreshCmd": "cat(var_dic_list()) "
    }
   },
   "types_to_exclude": [
    "module",
    "function",
    "builtin_function_or_method",
    "instance",
    "_Feature"
   ],
   "window_display": false
  }
 },
 "nbformat": 4,
 "nbformat_minor": 4
}