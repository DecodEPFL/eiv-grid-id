{
 "cells": [
  {
   "cell_type": "markdown",
   "metadata": {},
   "source": [
    "# Noise transformation\n",
    "The purpose of this notebook is to empirically confirm the theoretical formulae on the transformation of noise passing from polar to Cartesian coordinates.\n",
    "\n",
    "To perform the check, we proceed as follows:\n",
    "\n",
    "1. we assume to measure the voltage on two nodes on 100,000 different time instants,\n",
    "2. we then add Gaussian noise to the measurements in polar coordinates,\n",
    "3. we transform the noisy measurement into Cartesian coordinates,\n",
    "4. finally, we extract the noise in Cartesian coordinate and we normalize it using its theoretical variance. \n",
    "\n",
    "We want to see that the normalized distribution is a standard Gaussian."
   ]
  },
  {
   "cell_type": "markdown",
   "metadata": {},
   "source": [
    "# Setup"
   ]
  },
  {
   "cell_type": "code",
   "execution_count": null,
   "metadata": {},
   "outputs": [],
   "source": [
    "import sys\n",
    "import numpy as np\n",
    "import matplotlib.pyplot as plt\n",
    "import statsmodels.api as sm"
   ]
  },
  {
   "cell_type": "code",
   "execution_count": null,
   "metadata": {},
   "outputs": [],
   "source": [
    "sys.path.append('..')\n",
    "%load_ext autoreload\n",
    "%autoreload 2"
   ]
  },
  {
   "cell_type": "code",
   "execution_count": null,
   "metadata": {},
   "outputs": [],
   "source": [
    "from src.simulation.noise import add_polar_noise_to_measurement"
   ]
  },
  {
   "cell_type": "code",
   "execution_count": null,
   "metadata": {},
   "outputs": [],
   "source": [
    "samples = 100000\n",
    "nodes = 2\n",
    "v_range = np.array([0.8, 1])\n",
    "theta_range = np.array([-20, 0]) / 180 * np.pi\n",
    "v_sd = 0.02\n",
    "theta_sd = 0.05 * np.pi / 180"
   ]
  },
  {
   "cell_type": "markdown",
   "metadata": {},
   "source": [
    "# Ground truth"
   ]
  },
  {
   "cell_type": "code",
   "execution_count": null,
   "metadata": {},
   "outputs": [],
   "source": [
    "np.random.seed(11)\n",
    "\n",
    "v = np.random.uniform(low=v_range[0], high=v_range[1], size=(samples, nodes))\n",
    "theta = np.random.uniform(low=theta_range[0], high=theta_range[1], size=(samples, nodes))\n",
    "\n",
    "noise_free_values = v * np.exp(1j * theta)"
   ]
  },
  {
   "cell_type": "markdown",
   "metadata": {},
   "source": [
    "# Add noise in polar coordinates\n",
    "We add noise in polar coordinate and we transform back to Cartesian. Then, we extract the noise by exploiting the knowledge of the real, noise-free values. "
   ]
  },
  {
   "cell_type": "code",
   "execution_count": null,
   "metadata": {},
   "outputs": [],
   "source": [
    "np.random.seed(11)\n",
    "\n",
    "v_noise = np.random.normal(0, v_sd, v.shape)\n",
    "theta_noise = np.random.normal(0, theta_sd, theta.shape)\n",
    "noisy_v = v + v_noise\n",
    "noisy_theta = theta + theta_noise\n",
    "noisy_measurement = noisy_v * np.exp(1j * noisy_theta)\n",
    "\n",
    "noise = noisy_measurement - noise_free_values"
   ]
  },
  {
   "cell_type": "markdown",
   "metadata": {},
   "source": [
    "# Check noise distribution\n",
    "At first, we naively try to check the distribution of the noise in Cartesian coordinates without any further transformation."
   ]
  },
  {
   "cell_type": "code",
   "execution_count": null,
   "metadata": {},
   "outputs": [],
   "source": [
    "def plot_distribution(real_data, imag_data):\n",
    "    fig, ax = plt.subplots(2, 2, sharex=True, sharey=True)\n",
    "    fig.suptitle('QQ plots')\n",
    "    ax[0, 0].set_title('Re(V_1)')\n",
    "    sm.qqplot(real_data[:, 0], line='45', ax=ax[0, 0])\n",
    "    ax[0, 1].set_title('Re(V_2)')\n",
    "    sm.qqplot(real_data[:, 1], line='45', ax=ax[0, 1])\n",
    "    ax[1, 0].set_title('Im(V_1)')\n",
    "    sm.qqplot(imag_data[:, 0], line='45', ax=ax[1, 0])\n",
    "    ax[1, 1].set_title('Im(V_2)')\n",
    "    sm.qqplot(imag_data[:, 1], line='45', ax=ax[1, 1])\n",
    "    plt.tight_layout()\n",
    "    plt.show()\n",
    "\n",
    "    fig, ax = plt.subplots(2, 2, sharex=True, sharey=True)\n",
    "    fig.suptitle('Empirical distribution')\n",
    "    ax[0, 0].set_title('Re(V_1)')\n",
    "    ax[0, 0].hist(real_data[:, 0], bins=50)\n",
    "    ax[0, 1].set_title('Re(V_2)')\n",
    "    ax[0, 1].hist(real_data[:, 1], bins=50)\n",
    "    ax[1, 0].set_title('Im(V_1)')\n",
    "    ax[1, 0].hist(imag_data[:, 0], bins=50)\n",
    "    ax[1, 1].set_title('Im(V_2)')\n",
    "    ax[1, 1].hist(imag_data[:, 1], bins=50)\n",
    "    plt.show()"
   ]
  },
  {
   "cell_type": "code",
   "execution_count": null,
   "metadata": {},
   "outputs": [],
   "source": [
    "plot_distribution(np.real(noise), np.imag(noise))"
   ]
  },
  {
   "cell_type": "markdown",
   "metadata": {},
   "source": [
    "We should remember that the noise in Cartesian coordinates is not IID. In fact, the variance depends on the real value of each sample. \n",
    "\n",
    "Thus, in order to check for the noise distribution, we need to normalize each sample for its standard deviation and then check if the distribution of real and imaginary parts are Gaussian."
   ]
  },
  {
   "cell_type": "code",
   "execution_count": null,
   "metadata": {},
   "outputs": [],
   "source": [
    "v_var = v_sd ** 2\n",
    "theta_var = theta_sd ** 2\n",
    "\n",
    "real_var = (v ** 2) * np.exp(-theta_var) * ((np.cos(theta)**2) * (np.cosh(theta_var) - 1) + (np.sin(theta)**2) * np.sinh(theta_var)) + v_var * np.exp(-theta_var) * ((np.cos(theta)**2) * np.cosh(theta_var) + (np.sin(theta)**2) * np.sinh(theta_var))\n",
    "imag_var = (v ** 2) * np.exp(-theta_var) * ((np.sin(theta)**2) * (np.cosh(theta_var) - 1) + (np.cos(theta)**2) * np.sinh(theta_var)) + v_var * np.exp(-theta_var) * ((np.sin(theta)**2) * np.cosh(theta_var) + (np.cos(theta)**2) * np.sinh(theta_var))\n",
    "\n",
    "real_sd, imag_sd = np.sqrt(real_var), np.sqrt(imag_var)\n",
    "\n",
    "real_norm = np.real(noise) / real_sd\n",
    "imag_norm = np.imag(noise) / imag_sd"
   ]
  },
  {
   "cell_type": "code",
   "execution_count": null,
   "metadata": {},
   "outputs": [],
   "source": [
    "plot_distribution(real_norm, imag_norm)"
   ]
  }
 ],
 "metadata": {
  "kernelspec": {
   "display_name": "Python 3",
   "language": "python",
   "name": "python3"
  },
  "language_info": {
   "codemirror_mode": {
    "name": "ipython",
    "version": 3
   },
   "file_extension": ".py",
   "mimetype": "text/x-python",
   "name": "python",
   "nbconvert_exporter": "python",
   "pygments_lexer": "ipython3",
   "version": "3.7.7"
  }
 },
 "nbformat": 4,
 "nbformat_minor": 4
}
