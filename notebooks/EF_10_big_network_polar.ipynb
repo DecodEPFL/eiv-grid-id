{
 "cells": [
  {
   "cell_type": "markdown",
   "source": [
    "# Setup"
   ],
   "metadata": {
    "collapsed": false
   }
  },
  {
   "cell_type": "code",
   "execution_count": 22,
   "outputs": [
    {
     "name": "stderr",
     "output_type": "stream",
     "text": [
      "/Users/jbrouill/PycharmProjects/eiv-grid-id/venv/lib/python3.8/site-packages/ipykernel/ipkernel.py:287: DeprecationWarning: `should_run_async` will not call `transform_cell` automatically in the future. Please pass the result to `transformed_cell` argument and any exception that happen during thetransform in `preprocessing_exc_tuple` in IPython 7.17 and above.\n",
      "  and should_run_async(code)\n"
     ]
    }
   ],
   "source": [
    "import pandapower.networks as pnet\n",
    "import pandas as pd\n",
    "import numpy as np\n",
    "import scipy as sp\n",
    "import cvxpy as cp\n",
    "import seaborn as sns\n",
    "import mlflow\n",
    "\n",
    "from scipy import sparse\n",
    "import matplotlib.pyplot as plt"
   ],
   "metadata": {
    "collapsed": false,
    "pycharm": {
     "name": "#%%\n"
    }
   }
  },
  {
   "cell_type": "code",
   "execution_count": 23,
   "outputs": [
    {
     "name": "stdout",
     "output_type": "stream",
     "text": [
      "The autoreload extension is already loaded. To reload it, use:\n",
      "  %reload_ext autoreload\n"
     ]
    }
   ],
   "source": [
    "%load_ext autoreload\n",
    "%autoreload 2"
   ],
   "metadata": {
    "collapsed": false,
    "pycharm": {
     "name": "#%%\n"
    }
   }
  },
  {
   "cell_type": "code",
   "execution_count": 24,
   "outputs": [],
   "source": [
    "import sys\n",
    "sys.path.insert(1, '..')\n",
    "\n",
    "from src.models.matrix_operations import make_real_vector, vectorize_matrix\n",
    "from src.simulation.noise import add_polar_noise_to_measurement\n",
    "from src.models.regression import ComplexRegression, ComplexLasso\n",
    "from src.models.error_in_variable import TotalLeastSquares, SparseTotalLeastSquare\n",
    "from src.simulation.load_profile import generate_gaussian_load, BusData\n",
    "from src.simulation.network import add_load_power_control, make_y_bus, LineData\n",
    "from src.simulation.simulation import run_simulation, get_current_and_voltage\n",
    "from src.simulation.net_templates import NetData\n",
    "from src.identification.error_metrics import error_metrics, fro_error\n",
    "from src.models.noise_transformation import average_true_noise_covariance,exact_noise_covariance"
   ],
   "metadata": {
    "collapsed": false,
    "pycharm": {
     "name": "#%%\n"
    }
   }
  },
  {
   "cell_type": "markdown",
   "source": [
    "# Network simulation"
   ],
   "metadata": {
    "collapsed": false
   }
  },
  {
   "cell_type": "code",
   "execution_count": 25,
   "outputs": [],
   "source": [
    "mlflow.set_experiment('Big network with polar noise')"
   ],
   "metadata": {
    "collapsed": false,
    "pycharm": {
     "name": "#%%\n"
    }
   }
  },
  {
   "cell_type": "code",
   "execution_count": 26,
   "outputs": [],
   "source": [
    "bus_data = \\\n",
    "   [BusData(1, 1, 0.160, 0.080, 0.000, 0.000, 1, 1, 0, 4.16, 1, 1.2, 0.8),\n",
    "    BusData(2, 1, 0.020, 0.010, 0.000, 0.000, 1, 1, 0, 4.16, 1, 1.2, 0.8),\n",
    "    BusData(3, 1, 0.120, 0.060, 0.000, 0.000, 1, 1, 0, 4.16, 1, 1.2, 0.8),\n",
    "    BusData(4, 1, 0.100, 0.050, 0.000, 0.000, 1, 1, 0, 4.16, 1, 1.2, 0.8),\n",
    "    BusData(5, 1, 0.040, 0.020, 0.000, 0.000, 1, 1, 0, 4.16, 1, 1.2, 0.8),\n",
    "    BusData(6, 1, 0.040, 0.020, 0.000, 0.000, 1, 1, 0, 4.16, 1, 1.2, 0.8),\n",
    "    BusData(7, 1, 0.000, 0.000, 0.000, 0.000, 1, 1, 0, 4.16, 1, 1.2, 0.8),\n",
    "    BusData(8, 1, 0.020, 0.010, 0.000, 0.000, 1, 1, 0, 4.16, 1, 1.2, 0.8),\n",
    "    BusData(9, 1, 0.020, 0.010, 0.000, 0.000, 1, 1, 0, 4.16, 1, 1.2, 0.8),\n",
    "    BusData(10, 1, 0.040, 0.020, 0.000, 0.000, 1, 1, 0, 4.16, 1, 1.2, 0.8),\n",
    "    BusData(11, 1, 0.020, 0.010, 0.000, 0.000, 1, 1, 0, 4.16, 1, 1.2, 0.8),\n",
    "    BusData(12, 1, 0.040, 0.020, 0.000, 0.000, 1, 1, 0, 4.16, 1, 1.2, 0.8),\n",
    "    BusData(13, 1, 0.040, 0.020, 0.000, 0.000, 1, 1, 0, 4.16, 1, 1.2, 0.8),\n",
    "    BusData(14, 1, 0.075, 0.035, 0.000, 0.000, 1, 1, 0, 4.16, 1, 1.2, 0.8),\n",
    "    BusData(15, 1, 0.140, 0.100, 0.000, 0.000, 1, 1, 0, 4.16, 1, 1.2, 0.8),\n",
    "    BusData(16, 1, 0.075, 0.035, 0.000, 0.000, 1, 1, 0, 4.16, 1, 1.2, 0.8),\n",
    "    BusData(17, 1, 0.120, 0.060, 0.000, 0.000, 1, 1, 0, 4.16, 1, 1.2, 0.8),\n",
    "    BusData(18, 1, 0.120, 0.060, 0.000, 0.000, 1, 1, 0, 4.16, 1, 1.2, 0.8),\n",
    "    BusData(19, 1, 0.245, 0.180, 0.000, 0.000, 1, 1, 0, 4.16, 1, 1.2, 0.8),\n",
    "    BusData(20, 1, 0.040, 0.020, 0.000, 0.000, 1, 1, 0, 4.16, 1, 1.2, 0.8),\n",
    "    BusData(21, 1, 0.000, 0.000, 0.000, 0.000, 1, 1, 0, 4.16, 1, 1.2, 0.8),\n",
    "    BusData(22, 1, 0.040, 0.020, 0.000, 0.000, 1, 1, 0, 4.16, 1, 1.2, 0.8),\n",
    "    BusData(23, 1, 0.040, 0.020, 0.000, 0.000, 1, 1, 0, 4.16, 1, 1.2, 0.8),\n",
    "    BusData(24, 1, 0.060, 0.030, 0.000, 0.000, 1, 1, 0, 4.16, 1, 1.2, 0.8),\n",
    "    BusData(25, 1, 0.040, 0.020, 0.000, 0.000, 1, 1, 0, 4.16, 1, 1.2, 0.8),\n",
    "    BusData(26, 1, 0.020, 0.010, 0.000, 0.000, 1, 1, 0, 4.16, 1, 1.2, 0.8),\n",
    "    BusData(27, 1, 0.020, 0.010, 0.000, 0.000, 1, 1, 0, 4.16, 1, 1.2, 0.8),\n",
    "    BusData(28, 1, 0.080, 0.040, 0.000, 0.000, 1, 1, 0, 4.16, 1, 1.2, 0.8),\n",
    "    BusData(29, 1, 0.040, 0.020, 0.000, 0.000, 1, 1, 0, 4.16, 1, 1.2, 0.8),\n",
    "    BusData(30, 1, 0.040, 0.020, 0.000, 0.000, 1, 1, 0, 4.16, 1, 1.2, 0.8),\n",
    "    BusData(31, 1, 0.040, 0.020, 0.000, 0.000, 1, 1, 0, 4.16, 1, 1.2, 0.8),\n",
    "    BusData(32, 1, 0.040, 0.020, 0.000, 0.000, 1, 1, 0, 4.16, 1, 1.2, 0.8),\n",
    "    BusData(33, 1, 0.000, 0.000, 0.000, 0.000, 1, 1, 0, 4.16, 1, 1.2, 0.8),\n",
    "    BusData(34, 1, 0.040, 0.020, 0.000, 0.000, 1, 1, 0, 4.16, 1, 1.2, 0.8),\n",
    "    BusData(35, 1, 0.040, 0.020, 0.000, 0.000, 1, 1, 0, 4.16, 1, 1.2, 0.8),\n",
    "    BusData(36, 1, 0.040, 0.020, 0.000, 0.000, 1, 1, 0, 4.16, 1, 1.2, 0.8),\n",
    "    BusData(37, 1, 0.100, 0.050, 0.000, 0.000, 1, 1, 0, 4.16, 1, 1.2, 0.8),\n",
    "    BusData(38, 1, 0.080, 0.040, 0.000, 0.000, 1, 1, 0, 4.16, 1, 1.2, 0.8),\n",
    "    BusData(39, 1, 0.140, 0.070, 0.000, 0.000, 1, 1, 0, 4.16, 1, 1.2, 0.8),\n",
    "    BusData(40, 1, 0.080, 0.040, 0.000, 0.000, 1, 1, 0, 4.16, 1, 1.2, 0.8),\n",
    "    BusData(41, 1, 0.040, 0.020, 0.000, 0.000, 1, 1, 0, 4.16, 1, 1.2, 0.8),\n",
    "    BusData(42, 1, 0.040, 0.020, 0.000, 0.000, 1, 1, 0, 4.16, 1, 1.2, 0.8),\n",
    "    BusData(43, 1, 0.080, 0.040, 0.000, 0.000, 1, 1, 0, 4.16, 1, 1.2, 0.8),\n",
    "    BusData(44, 1, 0.040, 0.020, 0.000, 0.000, 1, 1, 0, 4.16, 1, 1.2, 0.8),\n",
    "    BusData(45, 1, 0.040, 0.020, 0.000, 0.000, 1, 1, 0, 4.16, 1, 1.2, 0.8),\n",
    "    BusData(46, 1, 0.040, 0.020, 0.000, 0.000, 1, 1, 0, 4.16, 1, 1.2, 0.8),\n",
    "    BusData(47, 1, 0.120, 0.060, 0.000, 0.000, 1, 1, 0, 4.16, 1, 1.2, 0.8),\n",
    "    BusData(48, 1, 0.020, 0.010, 0.000, 0.000, 1, 1, 0, 4.16, 1, 1.2, 0.8),\n",
    "    BusData(49, 1, 0.060, 0.030, 0.000, 0.000, 1, 1, 0, 4.16, 1, 1.2, 0.8),\n",
    "    BusData(50, 1, 0.040, 0.020, 0.000, 0.000, 1, 1, 0, 4.16, 1, 1.2, 0.8),\n",
    "    BusData(51, 1, 0.105, 0.075, 0.000, 0.000, 1, 1, 0, 4.16, 1, 1.2, 0.8),\n",
    "    BusData(52, 1, 0.210, 0.150, 0.000, 0.000, 1, 1, 0, 4.16, 1, 1.2, 0.8),\n",
    "    BusData(53, 1, 0.140, 0.095, 0.000, 0.000, 1, 1, 0, 4.16, 1, 1.2, 0.8),\n",
    "    BusData(54, 1, 0.040, 0.020, 0.000, 0.000, 1, 1, 0, 4.16, 1, 1.2, 0.8),\n",
    "    BusData(55, 1, 0.020, 0.010, 0.000, 0.000, 1, 1, 0, 4.16, 1, 1.2, 0.8),\n",
    "    BusData(56, 3, 0.000, 0.000, 0.000, 0.000, 1, 1, 0, 4.16, 1, 1.2, 0.8)]\n",
    "for b in bus_data:\n",
    "    b.id = b.id-1\n",
    "\n",
    "net_data = \\\n",
    "   [LineData(56, 1, 0.0013398623, 0.0027450827, 3.02770271595392E-008, 100, 100, 100, 0, 0, 1, -360, 360, 400),\n",
    "    LineData(1, 2, 0.0010048967, 0.0020588120, 2.27077703696544E-008, 100, 100, 100, 0, 0, 1, -360, 360, 300),\n",
    "    LineData(2, 3, 0.0006699312, 0.0013725413, 1.51385135797696E-008, 100, 100, 100, 0, 0, 1, -360, 360, 200),\n",
    "    LineData(3, 4, 0.0010048967, 0.0020588120, 2.27077703696544E-008, 100, 100, 100, 0, 0, 1, -360, 360, 300),\n",
    "    LineData(4, 5, 0.0013398623, 0.0027450827, 3.02770271595392E-008, 100, 100, 100, 0, 0, 1, -360, 360, 400),\n",
    "    LineData(5, 6, 0.0006699312, 0.0013725413, 1.51385135797696E-008, 100, 100, 100, 0, 0, 1, -360, 360, 200),\n",
    "    LineData(6, 7, 0.0004187070, 0.0008578383, 9.46157098735599E-009, 100, 100, 100, 0, 0, 1, -360, 360, 125),\n",
    "    LineData(7, 8, 0.0009211553, 0.0018872444, 2.08154561721832E-008, 100, 100, 100, 0, 0, 1, -360, 360, 275),\n",
    "    LineData(8, 9, 0.0009211553, 0.0018872444, 2.08154561721832E-008, 100, 100, 100, 0, 0, 1, -360, 360, 275),\n",
    "    LineData(7, 10, 0.0011723795, 0.0024019474, 2.64923987645968E-008, 100, 100, 100, 0, 0, 1, -360, 360, 350),\n",
    "    LineData(10, 11, 0.0025122418, 0.0051470300, 5.67694259241360E-008, 100, 100, 100, 0, 0, 1, -360, 360, 750),\n",
    "    LineData(11, 12, 0.0027749546, 0.0013221274, 1.83926822251266E-007, 100, 100, 100, 0, 0, 1, -360, 360, 250),\n",
    "    LineData(12, 13, 0.0019424682, 0.0009254892, 1.28748775575886E-007, 100, 100, 100, 0, 0, 1, -360, 360, 175),\n",
    "    LineData(13, 14, 0.0038849364, 0.0018509784, 2.57497551151773E-007, 100, 100, 100, 0, 0, 1, -360, 360, 350),\n",
    "    LineData(14, 15, 0.0047174228, 0.0022476166, 3.12675597827153E-007, 100, 100, 100, 0, 0, 1, -360, 360, 425),\n",
    "    LineData(15, 16, 0.0036074409, 0.0017187657, 2.39104868926646E-007, 100, 100, 100, 0, 0, 1, -360, 360, 325),\n",
    "    LineData(11, 17, 0.0011723795, 0.0024019474, 2.64923987645968E-008, 100, 100, 100, 0, 0, 1, -360, 360, 350),\n",
    "    LineData(17, 18, 0.0009211553, 0.0018872444, 2.08154561721832E-008, 100, 100, 100, 0, 0, 1, -360, 360, 275),\n",
    "    LineData(18, 19, 0.0006699312, 0.0013725413, 1.51385135797696E-008, 100, 100, 100, 0, 0, 1, -360, 360, 200),\n",
    "    LineData(19, 20, 0.0013398623, 0.0027450827, 3.02770271595392E-008, 100, 100, 100, 0, 0, 1, -360, 360, 400),\n",
    "    LineData(20, 21, 0.0003349656, 0.0006862707, 7.56925678988480E-009, 100, 100, 100, 0, 0, 1, -360, 360, 100),\n",
    "    LineData(21, 22, 0.0007536726, 0.0015441090, 1.70000000000000E-008, 100, 100, 100, 0, 0, 1, -360, 360, 225),\n",
    "    LineData(21, 23, 0.0015910865, 0.0032597857, 3.60000000000000E-008, 100, 100, 100, 0, 0, 1, -360, 360, 475),\n",
    "    LineData(23, 24, 0.0015910865, 0.0032597857, 3.60000000000000E-008, 100, 100, 100, 0, 0, 1, -360, 360, 475),\n",
    "    LineData(24, 25, 0.0008374139, 0.0017156767, 1.89231419747120E-008, 100, 100, 100, 0, 0, 1, -360, 360, 250),\n",
    "    LineData(25, 26, 0.0008374139, 0.0017156767, 1.89231419747120E-008, 100, 100, 100, 0, 0, 1, -360, 360, 250),\n",
    "    LineData(19, 27, 0.0023447590, 0.0048038947, 5.30000000000000E-008, 100, 100, 100, 0, 0, 1, -360, 360, 700),\n",
    "    LineData(27, 28, 0.0015073451, 0.0030882180, 3.40616555544816E-008, 100, 100, 100, 0, 0, 1, -360, 360, 450),\n",
    "    LineData(28, 29, 0.0009211553, 0.0018872444, 2.08154561721832E-008, 100, 100, 100, 0, 0, 1, -360, 360, 275),\n",
    "    LineData(29, 30, 0.0007536726, 0.0015441090, 1.70000000000000E-008, 100, 100, 100, 0, 0, 1, -360, 360, 225),\n",
    "    LineData(30, 31, 0.0007536726, 0.0015441090, 1.70000000000000E-008, 100, 100, 100, 0, 0, 1, -360, 360, 225),\n",
    "    LineData(31, 32, 0.0010048967, 0.0020588120, 2.27077703696544E-008, 100, 100, 100, 0, 0, 1, -360, 360, 300),\n",
    "    LineData(17, 33, 0.0008374139, 0.0017156767, 1.89231419747120E-008, 100, 100, 100, 0, 0, 1, -360, 360, 250),\n",
    "    LineData(33, 34, 0.0009211553, 0.0018872444, 2.08154561721832E-008, 100, 100, 100, 0, 0, 1, -360, 360, 275),\n",
    "    LineData(34, 35, 0.0018423107, 0.0037744887, 4.16309123443664E-008, 100, 100, 100, 0, 0, 1, -360, 360, 550),\n",
    "    LineData(35, 36, 0.0010048967, 0.0020588120, 2.27077703696544E-008, 100, 100, 100, 0, 0, 1, -360, 360, 300),\n",
    "    LineData(33, 37, 0.0008374139, 0.0017156767, 1.89231419747120E-008, 100, 100, 100, 0, 0, 1, -360, 360, 250),\n",
    "    LineData(37, 38, 0.0009211553, 0.0018872444, 2.08154561721832E-008, 100, 100, 100, 0, 0, 1, -360, 360, 275),\n",
    "    LineData(38, 39, 0.0010886381, 0.0022303797, 2.46000845671256E-008, 100, 100, 100, 0, 0, 1, -360, 360, 325),\n",
    "    LineData(4, 40, 0.0027634660, 0.0056617331, 6.24463685165496E-008, 100, 100, 100, 0, 0, 1, -360, 360, 825),\n",
    "    LineData(40, 41, 0.0010048967, 0.0020588120, 2.27077703696544E-008, 100, 100, 100, 0, 0, 1, -360, 360, 300),\n",
    "    LineData(41, 42, 0.0008374139, 0.0017156767, 1.89231419747120E-008, 100, 100, 100, 0, 0, 1, -360, 360, 250),\n",
    "    LineData(42, 43, 0.0009211553, 0.0018872444, 2.08154561721832E-008, 100, 100, 100, 0, 0, 1, -360, 360, 275),\n",
    "    LineData(43, 44, 0.0006699312, 0.0013725413, 1.51385135797696E-008, 100, 100, 100, 0, 0, 1, -360, 360, 200),\n",
    "    LineData(44, 45, 0.0010048967, 0.0020588120, 2.27077703696544E-008, 100, 100, 100, 0, 0, 1, -360, 360, 300),\n",
    "    LineData(45, 46, 0.0011723795, 0.0024019474, 2.64923987645968E-008, 100, 100, 100, 0, 0, 1, -360, 360, 350),\n",
    "    LineData(40, 47, 0.0012561209, 0.0025735150, 2.83847129620680E-008, 100, 100, 100, 0, 0, 1, -360, 360, 375),\n",
    "    LineData(47, 48, 0.0008374139, 0.0017156767, 1.89231419747120E-008, 100, 100, 100, 0, 0, 1, -360, 360, 250),\n",
    "    LineData(48, 49, 0.0008374139, 0.0017156767, 1.89231419747120E-008, 100, 100, 100, 0, 0, 1, -360, 360, 250),\n",
    "    LineData(49, 50, 0.0006699312, 0.0013725413, 1.51385135797696E-008, 100, 100, 100, 0, 0, 1, -360, 360, 200),\n",
    "    LineData(50, 51, 0.0008374139, 0.0017156767, 1.89231419747120E-008, 100, 100, 100, 0, 0, 1, -360, 360, 250),\n",
    "    LineData(51, 52, 0.0005024484, 0.0010294060, 1.13538851848272E-008, 100, 100, 100, 0, 0, 1, -360, 360, 150),\n",
    "    LineData(51, 53, 0.0008374139, 0.0017156767, 1.89231419747120E-008, 100, 100, 100, 0, 0, 1, -360, 360, 250),\n",
    "    LineData(53, 54, 0.0008374139, 0.0017156767, 1.89231419747120E-008, 100, 100, 100, 0, 0, 1, -360, 360, 250),\n",
    "    LineData(54, 55, 0.0008374139, 0.0017156767, 1.89231419747120E-008, 100, 100, 100, 0, 0, 1, -360, 360, 250)]\n",
    "for l in net_data:\n",
    "    l.length = l.length*0.3048/1000\n",
    "    l.start_bus = l.start_bus - 1\n",
    "    l.end_bus = l.end_bus - 1"
   ],
   "metadata": {
    "collapsed": false,
    "pycharm": {
     "name": "#%%\n"
    }
   }
  },
  {
   "cell_type": "code",
   "execution_count": 27,
   "outputs": [],
   "source": [
    "net = NetData(bus_data, net_data)\n",
    "\n",
    "nodes = len(bus_data)\n",
    "steps = 400\n",
    "load_cv = 0.5\n",
    "current_magnitude_sd = 1e-6\n",
    "voltage_magnitude_sd = 1e-6\n",
    "phase_sd = 1e-6/np.pi"
   ],
   "metadata": {
    "collapsed": false,
    "pycharm": {
     "name": "#%%\n"
    }
   }
  },
  {
   "cell_type": "code",
   "execution_count": 28,
   "outputs": [
    {
     "name": "stderr",
     "output_type": "stream",
     "text": [
      "No time steps to calculate are specified. I'll check the datasource of the first controller for avaiable time steps\n"
     ]
    },
    {
     "data": {
      "text/plain": "   name  vn_kv type  zone  in_service\n0     0   4.16    b  None        True\n1     1   4.16    b  None        True\n2     2   4.16    b  None        True\n3     3   4.16    b  None        True\n4     4   4.16    b  None        True\n5     5   4.16    b  None        True\n6     6   4.16    b  None        True\n7     7   4.16    b  None        True\n8     8   4.16    b  None        True\n9     9   4.16    b  None        True\n10   10   4.16    b  None        True\n11   11   4.16    b  None        True\n12   12   4.16    b  None        True\n13   13   4.16    b  None        True\n14   14   4.16    b  None        True\n15   15   4.16    b  None        True\n16   16   4.16    b  None        True\n17   17   4.16    b  None        True\n18   18   4.16    b  None        True\n19   19   4.16    b  None        True\n20   20   4.16    b  None        True\n21   21   4.16    b  None        True\n22   22   4.16    b  None        True\n23   23   4.16    b  None        True\n24   24   4.16    b  None        True\n25   25   4.16    b  None        True\n26   26   4.16    b  None        True\n27   27   4.16    b  None        True\n28   28   4.16    b  None        True\n29   29   4.16    b  None        True\n30   30   4.16    b  None        True\n31   31   4.16    b  None        True\n32   32   4.16    b  None        True\n33   33   4.16    b  None        True\n34   34   4.16    b  None        True\n35   35   4.16    b  None        True\n36   36   4.16    b  None        True\n37   37   4.16    b  None        True\n38   38   4.16    b  None        True\n39   39   4.16    b  None        True\n40   40   4.16    b  None        True\n41   41   4.16    b  None        True\n42   42   4.16    b  None        True\n43   43   4.16    b  None        True\n44   44   4.16    b  None        True\n45   45   4.16    b  None        True\n46   46   4.16    b  None        True\n47   47   4.16    b  None        True\n48   48   4.16    b  None        True\n49   49   4.16    b  None        True\n50   50   4.16    b  None        True\n51   51   4.16    b  None        True\n52   52   4.16    b  None        True\n53   53   4.16    b  None        True\n54   54   4.16    b  None        True\n55   55   4.16    b  None        True",
      "text/html": "<div>\n<style scoped>\n    .dataframe tbody tr th:only-of-type {\n        vertical-align: middle;\n    }\n\n    .dataframe tbody tr th {\n        vertical-align: top;\n    }\n\n    .dataframe thead th {\n        text-align: right;\n    }\n</style>\n<table border=\"1\" class=\"dataframe\">\n  <thead>\n    <tr style=\"text-align: right;\">\n      <th></th>\n      <th>name</th>\n      <th>vn_kv</th>\n      <th>type</th>\n      <th>zone</th>\n      <th>in_service</th>\n    </tr>\n  </thead>\n  <tbody>\n    <tr>\n      <th>0</th>\n      <td>0</td>\n      <td>4.16</td>\n      <td>b</td>\n      <td>None</td>\n      <td>True</td>\n    </tr>\n    <tr>\n      <th>1</th>\n      <td>1</td>\n      <td>4.16</td>\n      <td>b</td>\n      <td>None</td>\n      <td>True</td>\n    </tr>\n    <tr>\n      <th>2</th>\n      <td>2</td>\n      <td>4.16</td>\n      <td>b</td>\n      <td>None</td>\n      <td>True</td>\n    </tr>\n    <tr>\n      <th>3</th>\n      <td>3</td>\n      <td>4.16</td>\n      <td>b</td>\n      <td>None</td>\n      <td>True</td>\n    </tr>\n    <tr>\n      <th>4</th>\n      <td>4</td>\n      <td>4.16</td>\n      <td>b</td>\n      <td>None</td>\n      <td>True</td>\n    </tr>\n    <tr>\n      <th>5</th>\n      <td>5</td>\n      <td>4.16</td>\n      <td>b</td>\n      <td>None</td>\n      <td>True</td>\n    </tr>\n    <tr>\n      <th>6</th>\n      <td>6</td>\n      <td>4.16</td>\n      <td>b</td>\n      <td>None</td>\n      <td>True</td>\n    </tr>\n    <tr>\n      <th>7</th>\n      <td>7</td>\n      <td>4.16</td>\n      <td>b</td>\n      <td>None</td>\n      <td>True</td>\n    </tr>\n    <tr>\n      <th>8</th>\n      <td>8</td>\n      <td>4.16</td>\n      <td>b</td>\n      <td>None</td>\n      <td>True</td>\n    </tr>\n    <tr>\n      <th>9</th>\n      <td>9</td>\n      <td>4.16</td>\n      <td>b</td>\n      <td>None</td>\n      <td>True</td>\n    </tr>\n    <tr>\n      <th>10</th>\n      <td>10</td>\n      <td>4.16</td>\n      <td>b</td>\n      <td>None</td>\n      <td>True</td>\n    </tr>\n    <tr>\n      <th>11</th>\n      <td>11</td>\n      <td>4.16</td>\n      <td>b</td>\n      <td>None</td>\n      <td>True</td>\n    </tr>\n    <tr>\n      <th>12</th>\n      <td>12</td>\n      <td>4.16</td>\n      <td>b</td>\n      <td>None</td>\n      <td>True</td>\n    </tr>\n    <tr>\n      <th>13</th>\n      <td>13</td>\n      <td>4.16</td>\n      <td>b</td>\n      <td>None</td>\n      <td>True</td>\n    </tr>\n    <tr>\n      <th>14</th>\n      <td>14</td>\n      <td>4.16</td>\n      <td>b</td>\n      <td>None</td>\n      <td>True</td>\n    </tr>\n    <tr>\n      <th>15</th>\n      <td>15</td>\n      <td>4.16</td>\n      <td>b</td>\n      <td>None</td>\n      <td>True</td>\n    </tr>\n    <tr>\n      <th>16</th>\n      <td>16</td>\n      <td>4.16</td>\n      <td>b</td>\n      <td>None</td>\n      <td>True</td>\n    </tr>\n    <tr>\n      <th>17</th>\n      <td>17</td>\n      <td>4.16</td>\n      <td>b</td>\n      <td>None</td>\n      <td>True</td>\n    </tr>\n    <tr>\n      <th>18</th>\n      <td>18</td>\n      <td>4.16</td>\n      <td>b</td>\n      <td>None</td>\n      <td>True</td>\n    </tr>\n    <tr>\n      <th>19</th>\n      <td>19</td>\n      <td>4.16</td>\n      <td>b</td>\n      <td>None</td>\n      <td>True</td>\n    </tr>\n    <tr>\n      <th>20</th>\n      <td>20</td>\n      <td>4.16</td>\n      <td>b</td>\n      <td>None</td>\n      <td>True</td>\n    </tr>\n    <tr>\n      <th>21</th>\n      <td>21</td>\n      <td>4.16</td>\n      <td>b</td>\n      <td>None</td>\n      <td>True</td>\n    </tr>\n    <tr>\n      <th>22</th>\n      <td>22</td>\n      <td>4.16</td>\n      <td>b</td>\n      <td>None</td>\n      <td>True</td>\n    </tr>\n    <tr>\n      <th>23</th>\n      <td>23</td>\n      <td>4.16</td>\n      <td>b</td>\n      <td>None</td>\n      <td>True</td>\n    </tr>\n    <tr>\n      <th>24</th>\n      <td>24</td>\n      <td>4.16</td>\n      <td>b</td>\n      <td>None</td>\n      <td>True</td>\n    </tr>\n    <tr>\n      <th>25</th>\n      <td>25</td>\n      <td>4.16</td>\n      <td>b</td>\n      <td>None</td>\n      <td>True</td>\n    </tr>\n    <tr>\n      <th>26</th>\n      <td>26</td>\n      <td>4.16</td>\n      <td>b</td>\n      <td>None</td>\n      <td>True</td>\n    </tr>\n    <tr>\n      <th>27</th>\n      <td>27</td>\n      <td>4.16</td>\n      <td>b</td>\n      <td>None</td>\n      <td>True</td>\n    </tr>\n    <tr>\n      <th>28</th>\n      <td>28</td>\n      <td>4.16</td>\n      <td>b</td>\n      <td>None</td>\n      <td>True</td>\n    </tr>\n    <tr>\n      <th>29</th>\n      <td>29</td>\n      <td>4.16</td>\n      <td>b</td>\n      <td>None</td>\n      <td>True</td>\n    </tr>\n    <tr>\n      <th>30</th>\n      <td>30</td>\n      <td>4.16</td>\n      <td>b</td>\n      <td>None</td>\n      <td>True</td>\n    </tr>\n    <tr>\n      <th>31</th>\n      <td>31</td>\n      <td>4.16</td>\n      <td>b</td>\n      <td>None</td>\n      <td>True</td>\n    </tr>\n    <tr>\n      <th>32</th>\n      <td>32</td>\n      <td>4.16</td>\n      <td>b</td>\n      <td>None</td>\n      <td>True</td>\n    </tr>\n    <tr>\n      <th>33</th>\n      <td>33</td>\n      <td>4.16</td>\n      <td>b</td>\n      <td>None</td>\n      <td>True</td>\n    </tr>\n    <tr>\n      <th>34</th>\n      <td>34</td>\n      <td>4.16</td>\n      <td>b</td>\n      <td>None</td>\n      <td>True</td>\n    </tr>\n    <tr>\n      <th>35</th>\n      <td>35</td>\n      <td>4.16</td>\n      <td>b</td>\n      <td>None</td>\n      <td>True</td>\n    </tr>\n    <tr>\n      <th>36</th>\n      <td>36</td>\n      <td>4.16</td>\n      <td>b</td>\n      <td>None</td>\n      <td>True</td>\n    </tr>\n    <tr>\n      <th>37</th>\n      <td>37</td>\n      <td>4.16</td>\n      <td>b</td>\n      <td>None</td>\n      <td>True</td>\n    </tr>\n    <tr>\n      <th>38</th>\n      <td>38</td>\n      <td>4.16</td>\n      <td>b</td>\n      <td>None</td>\n      <td>True</td>\n    </tr>\n    <tr>\n      <th>39</th>\n      <td>39</td>\n      <td>4.16</td>\n      <td>b</td>\n      <td>None</td>\n      <td>True</td>\n    </tr>\n    <tr>\n      <th>40</th>\n      <td>40</td>\n      <td>4.16</td>\n      <td>b</td>\n      <td>None</td>\n      <td>True</td>\n    </tr>\n    <tr>\n      <th>41</th>\n      <td>41</td>\n      <td>4.16</td>\n      <td>b</td>\n      <td>None</td>\n      <td>True</td>\n    </tr>\n    <tr>\n      <th>42</th>\n      <td>42</td>\n      <td>4.16</td>\n      <td>b</td>\n      <td>None</td>\n      <td>True</td>\n    </tr>\n    <tr>\n      <th>43</th>\n      <td>43</td>\n      <td>4.16</td>\n      <td>b</td>\n      <td>None</td>\n      <td>True</td>\n    </tr>\n    <tr>\n      <th>44</th>\n      <td>44</td>\n      <td>4.16</td>\n      <td>b</td>\n      <td>None</td>\n      <td>True</td>\n    </tr>\n    <tr>\n      <th>45</th>\n      <td>45</td>\n      <td>4.16</td>\n      <td>b</td>\n      <td>None</td>\n      <td>True</td>\n    </tr>\n    <tr>\n      <th>46</th>\n      <td>46</td>\n      <td>4.16</td>\n      <td>b</td>\n      <td>None</td>\n      <td>True</td>\n    </tr>\n    <tr>\n      <th>47</th>\n      <td>47</td>\n      <td>4.16</td>\n      <td>b</td>\n      <td>None</td>\n      <td>True</td>\n    </tr>\n    <tr>\n      <th>48</th>\n      <td>48</td>\n      <td>4.16</td>\n      <td>b</td>\n      <td>None</td>\n      <td>True</td>\n    </tr>\n    <tr>\n      <th>49</th>\n      <td>49</td>\n      <td>4.16</td>\n      <td>b</td>\n      <td>None</td>\n      <td>True</td>\n    </tr>\n    <tr>\n      <th>50</th>\n      <td>50</td>\n      <td>4.16</td>\n      <td>b</td>\n      <td>None</td>\n      <td>True</td>\n    </tr>\n    <tr>\n      <th>51</th>\n      <td>51</td>\n      <td>4.16</td>\n      <td>b</td>\n      <td>None</td>\n      <td>True</td>\n    </tr>\n    <tr>\n      <th>52</th>\n      <td>52</td>\n      <td>4.16</td>\n      <td>b</td>\n      <td>None</td>\n      <td>True</td>\n    </tr>\n    <tr>\n      <th>53</th>\n      <td>53</td>\n      <td>4.16</td>\n      <td>b</td>\n      <td>None</td>\n      <td>True</td>\n    </tr>\n    <tr>\n      <th>54</th>\n      <td>54</td>\n      <td>4.16</td>\n      <td>b</td>\n      <td>None</td>\n      <td>True</td>\n    </tr>\n    <tr>\n      <th>55</th>\n      <td>55</td>\n      <td>4.16</td>\n      <td>b</td>\n      <td>None</td>\n      <td>True</td>\n    </tr>\n  </tbody>\n</table>\n</div>"
     },
     "execution_count": 28,
     "metadata": {},
     "output_type": "execute_result"
    }
   ],
   "source": [
    "np.random.seed(11)\n",
    "load_p, load_q = generate_gaussian_load(net.load.p_mw, net.load.q_mvar, load_cv, steps)\n",
    "controlled_net = add_load_power_control(net, load_p, load_q)\n",
    "sim_result = run_simulation(controlled_net, verbose=False)\n",
    "y_bus = make_y_bus(controlled_net)\n",
    "voltage, current = get_current_and_voltage(sim_result, y_bus)\n",
    "controlled_net.bus"
   ],
   "metadata": {
    "collapsed": false,
    "pycharm": {
     "name": "#%%\n"
    }
   }
  },
  {
   "cell_type": "code",
   "execution_count": 29,
   "outputs": [
    {
     "name": "stderr",
     "output_type": "stream",
     "text": [
      "/Users/jbrouill/PycharmProjects/eiv-grid-id/venv/lib/python3.8/site-packages/ipykernel/ipkernel.py:287: DeprecationWarning: `should_run_async` will not call `transform_cell` automatically in the future. Please pass the result to `transformed_cell` argument and any exception that happen during thetransform in `preprocessing_exc_tuple` in IPython 7.17 and above.\n",
      "  and should_run_async(code)\n",
      "../src/simulation/noise.py:31: ComplexWarning: Casting complex values to real discards the imaginary part\n",
      "  magnitude_noise = np.random.normal(0, magnitude_sd, magnitude.shape)\n"
     ]
    }
   ],
   "source": [
    "current = np.array(voltage @ y_bus)\n",
    "current_magnitude_sd = current_magnitude_sd*np.mean(current)\n",
    "noisy_voltage = add_polar_noise_to_measurement(voltage, voltage_magnitude_sd, phase_sd)\n",
    "noisy_current = add_polar_noise_to_measurement(current, current_magnitude_sd, phase_sd)\n",
    "voltage_error, current_error = noisy_voltage - voltage, noisy_current - current"
   ],
   "metadata": {
    "collapsed": false,
    "pycharm": {
     "name": "#%%\n"
    }
   }
  },
  {
   "cell_type": "code",
   "execution_count": 30,
   "outputs": [
    {
     "data": {
      "text/plain": "array([1.49256498e+02, 1.94444158e-02, 8.68750956e-03, 3.44619855e-03,\n       1.95278216e-03, 1.82030321e-03, 1.44454624e-03, 7.12418787e-04,\n       5.48323511e-04, 4.20540974e-04, 3.84864621e-04, 3.06093344e-04,\n       2.46803242e-04, 2.35992089e-04, 1.64978209e-04, 1.60363654e-04,\n       1.45679770e-04, 1.27545394e-04, 1.22014379e-04, 1.06347121e-04,\n       9.51407227e-05, 8.75582341e-05, 6.88603123e-05, 6.49503661e-05,\n       6.09056403e-05, 5.61986128e-05, 5.23023717e-05, 5.03225844e-05,\n       4.74015351e-05, 4.34651236e-05, 4.11910599e-05, 3.97655813e-05,\n       3.69147831e-05, 3.51522025e-05, 3.10209270e-05, 2.92471868e-05,\n       2.62544401e-05, 2.42523061e-05, 2.30451327e-05, 2.25614690e-05,\n       2.07285964e-05, 1.82513767e-05, 1.64709637e-05, 1.54546100e-05,\n       1.50557269e-05, 1.45387522e-05, 1.30787547e-05, 1.20304573e-05,\n       1.16607562e-05, 1.10941230e-05, 9.89773797e-06, 9.21152247e-06,\n       8.87560232e-06, 1.30426990e-14, 2.99307328e-15, 2.79419283e-15])"
     },
     "execution_count": 30,
     "metadata": {},
     "output_type": "execute_result"
    }
   ],
   "source": [
    "np.linalg.svd(voltage, compute_uv=False)"
   ],
   "metadata": {
    "collapsed": false,
    "pycharm": {
     "name": "#%%\n"
    }
   }
  },
  {
   "cell_type": "code",
   "execution_count": 31,
   "outputs": [
    {
     "data": {
      "text/plain": "array([1.82910948e-01, 2.35614632e-02, 1.40955627e-01, 1.16997996e-01,\n       4.77363033e-02, 4.87942865e-02, 4.86600145e-12, 2.42800190e-02,\n       2.28487369e-02, 4.66237428e-02, 2.38199967e-02, 4.79148543e-02,\n       4.75501864e-02, 8.64407529e-02, 1.79931690e-01, 8.59976931e-02,\n       1.48145537e-01, 1.35248328e-01, 3.19699014e-01, 4.72801889e-02,\n       6.27038436e-12, 4.72765609e-02, 4.76925546e-02, 6.93994275e-02,\n       4.78467846e-02, 2.42353916e-02, 2.39832649e-02, 9.63031987e-02,\n       4.87499341e-02, 4.62304412e-02, 4.65096544e-02, 4.67414196e-02,\n       4.14719210e-12, 4.65438130e-02, 4.67763296e-02, 4.84251223e-02,\n       1.19080322e-01, 9.45695323e-02, 1.64913029e-01, 9.58045161e-02,\n       4.77680746e-02, 4.66648751e-02, 9.52384086e-02, 4.74638654e-02,\n       4.65836521e-02, 4.74824936e-02, 1.46996710e-01, 2.36420481e-02,\n       6.81471115e-02, 4.68495626e-02, 1.38178956e-01, 2.76184397e-01,\n       1.79113264e-01, 4.77416196e-02, 2.34192931e-02, 4.00687797e+00])"
     },
     "execution_count": 31,
     "metadata": {},
     "output_type": "execute_result"
    }
   ],
   "source": [
    "np.mean(np.abs(current), 0)"
   ],
   "metadata": {
    "collapsed": false,
    "pycharm": {
     "name": "#%%\n"
    }
   }
  },
  {
   "cell_type": "code",
   "execution_count": 32,
   "outputs": [],
   "source": [
    "mlflow_params = {\n",
    "    'nodes': noisy_voltage.shape[1],\n",
    "    'steps': steps, \n",
    "    'load_cv': load_cv, \n",
    "    'current_magnitude_sd': current_magnitude_sd, \n",
    "    'voltage_magnitude_sd': voltage_magnitude_sd,\n",
    "    'phase_sd': phase_sd\n",
    "}"
   ],
   "metadata": {
    "collapsed": false,
    "pycharm": {
     "name": "#%%\n"
    }
   }
  },
  {
   "cell_type": "markdown",
   "source": [
    "# TLS Identification"
   ],
   "metadata": {
    "collapsed": false
   }
  },
  {
   "cell_type": "code",
   "execution_count": 33,
   "outputs": [
    {
     "name": "stdout",
     "output_type": "stream",
     "text": [
      "[[-1.75182018e-03+2.58239417e-04j -3.10466793e-06+1.51462646e-04j\n",
      "  -1.63955271e-03+4.77007250e-04j ...  7.72588805e-08-2.39169944e-07j\n",
      "  -9.13182889e-08+5.14060243e-08j -2.99153071e-08+6.78275864e-08j]\n",
      " [-1.74216093e-03+2.47705019e-04j -2.19647817e-05+1.36499213e-04j\n",
      "  -1.65391144e-03+4.88198105e-04j ...  7.72687537e-08-2.39199047e-07j\n",
      "  -9.13488541e-08+5.13952368e-08j -2.99452088e-08+6.77970724e-08j]\n",
      " [-1.73649189e-03+2.54747427e-04j -1.30519333e-05+1.33796059e-04j\n",
      "  -1.66379539e-03+4.87394216e-04j ...  7.72730486e-08-2.39274126e-07j\n",
      "  -9.13620979e-08+5.14186932e-08j -2.99646296e-08+6.77630922e-08j]\n",
      " ...\n",
      " [-2.06190632e-03+4.20994218e-04j -8.46680848e-05+9.87892777e-05j\n",
      "  -1.65136833e-03+3.42620275e-04j ...  7.65011552e-08-2.40404053e-07j\n",
      "  -9.09764021e-08+5.26816126e-08j -3.02104490e-08+6.67591809e-08j]\n",
      " [-2.07860742e-03+4.33872139e-04j -1.14166707e-04+7.93783202e-05j\n",
      "  -1.65958796e-03+3.43329314e-04j ...  7.63981446e-08-2.40468626e-07j\n",
      "  -9.10014035e-08+5.27504245e-08j -3.02612919e-08+6.67604588e-08j]\n",
      " [-1.76389387e-03+2.63971193e-04j  6.29640315e-07+1.49246718e-04j\n",
      "  -1.62464068e-03+4.55005253e-04j ...  7.72354166e-08-2.39124431e-07j\n",
      "  -9.12994053e-08+5.13621542e-08j -2.98865977e-08+6.78429032e-08j]]\n"
     ]
    },
    {
     "data": {
      "text/plain": "ErrorMetrics(fro_error=139599.9051392997, max_error=37504.17526077836, rrms_error=0.8702352220693096, map_error=0.26597941069015846)"
     },
     "execution_count": 33,
     "metadata": {},
     "output_type": "execute_result"
    }
   ],
   "source": [
    "with mlflow.start_run(run_name='TLS'):\n",
    "    tls = TotalLeastSquares()\n",
    "    tls.fit(noisy_voltage, noisy_current)\n",
    "    y_tls = tls.fitted_admittance_matrix\n",
    "    tls_metrics = error_metrics(y_bus, y_tls)\n",
    "    mlflow.log_params(mlflow_params)\n",
    "    mlflow.log_metrics(tls_metrics.__dict__)\n",
    "tls_metrics"
   ],
   "metadata": {
    "collapsed": false,
    "pycharm": {
     "name": "#%%\n"
    }
   }
  },
  {
   "cell_type": "markdown",
   "source": [
    "# L1 Regularized TLS\n",
    "\n",
    "normalizing currents"
   ],
   "metadata": {
    "collapsed": false
   }
  },
  {
   "cell_type": "code",
   "execution_count": 43,
   "outputs": [
    {
     "name": "stderr",
     "output_type": "stream",
     "text": [
      "/Users/jbrouill/PycharmProjects/eiv-grid-id/venv/lib/python3.8/site-packages/ipykernel/ipkernel.py:287: DeprecationWarning: `should_run_async` will not call `transform_cell` automatically in the future. Please pass the result to `transformed_cell` argument and any exception that happen during thetransform in `preprocessing_exc_tuple` in IPython 7.17 and above.\n",
      "  and should_run_async(code)\n",
      "  0%|          | 0/150 [00:00<?, ?it/s]/Users/jbrouill/PycharmProjects/eiv-grid-id/venv/lib/python3.8/site-packages/scipy/sparse/linalg/dsolve/linsolve.py:144: SparseEfficiencyWarning: spsolve requires A be CSC or CSR matrix format\n",
      "  warn('spsolve requires A be CSC or CSR matrix format',\n",
      "100%|██████████| 150/150 [4:28:36<00:00, 107.45s/it]  \n"
     ]
    }
   ],
   "source": [
    "with mlflow.start_run(run_name='S-TLS with covariance'):\n",
    "    max_iterations = 150\n",
    "    abs_tol = 0.1\n",
    "    rel_tol = 10e-9\n",
    "    solver = cp.GUROBI\n",
    "    use_cov_matrix = True\n",
    "    pen_degree=1.0\n",
    "    tls_weights_adaptive = np.divide(1.0, np.power(np.abs(make_real_vector(vectorize_matrix(y_tls))), 1.0))\n",
    "    \n",
    "    \n",
    "    sigma_voltage = average_true_noise_covariance(noisy_voltage, voltage_magnitude_sd, phase_sd)\n",
    "    sigma_current = average_true_noise_covariance(noisy_current, current_magnitude_sd, phase_sd)\n",
    "    \n",
    "    #sigma_voltage = exact_noise_covariance(voltage, voltage_magnitude_sd, phase_sd)\n",
    "    #sigma_current = exact_noise_covariance(current, current_magnitude_sd, phase_sd)\n",
    "\n",
    "    if max_iterations > 0:\n",
    "        inv_sigma_current = sparse.linalg.inv(sigma_current)\n",
    "        inv_sigma_voltage = sparse.linalg.inv(sigma_voltage)\n",
    "    else:\n",
    "        inv_sigma_current = sigma_current\n",
    "        inv_sigma_voltage = sigma_voltage\n",
    "    \n",
    "    sparse_tls_cov = SparseTotalLeastSquare(lambda_value=0.1, abs_tol=abs_tol, rel_tol=rel_tol, solver=solver, max_iterations=max_iterations)\n",
    "    sparse_tls_cov.l1_multiplier_step_size = 0*0.0000000001\n",
    "    sparse_tls_cov.cons_multiplier_step_size = 0.001\n",
    "    #sparse_tls_cov.set_prior(make_real_vector(vectorize_matrix(np.zeros(y_tls.shape))), SparseTotalLeastSquare.LAPLACE,\n",
    "    #                         np.diag(tls_weights_adaptive))\n",
    "\n",
    "    sparse_tls_cov.l1_target = 2*np.count_nonzero(y_bus)\n",
    "    sparse_tls_cov.l1_target = 1.0*(np.sum(np.power(np.abs(np.real(y_bus)),pen_degree))\n",
    "                                    + np.sum(np.power(np.abs(np.imag(y_bus)),pen_degree)))\n",
    "    sparse_tls_cov.l1_target = 1.0*2*np.sum(np.abs(make_real_vector(np.diag(y_tls))))\n",
    "\n",
    "    sparse_tls_cov.fit(noisy_voltage, noisy_current, inv_sigma_voltage, inv_sigma_current, y_init=y_tls)\n",
    "    \n",
    "    y_sparse_tls_cov = sparse_tls_cov.fitted_admittance_matrix\n",
    "    sparse_tls_cov_metrics = error_metrics(y_bus, y_sparse_tls_cov)\n",
    "    \n",
    "    sparse_tls_cov_errors = pd.Series([fro_error(y_bus, i.fitted_parameters) for i in sparse_tls_cov.iterations])\n",
    "    sparse_tls_cov_targets = pd.Series([i.target_function for i in sparse_tls_cov.iterations])\n",
    "\n",
    "    mlflow.log_param('max_iterations', max_iterations)\n",
    "    mlflow.log_param('abs_tol', abs_tol)\n",
    "    mlflow.log_param('rel_tol', rel_tol)\n",
    "    mlflow.log_param('solver', solver)\n",
    "    mlflow.log_param('use_cov_matrix', use_cov_matrix)\n",
    "    mlflow.log_params(mlflow_params)\n",
    "    mlflow.log_metrics(sparse_tls_cov_metrics.__dict__)\n",
    "\n",
    "    for i in range(len(sparse_tls_cov_errors)):\n",
    "        mlflow.log_metric('fro_error_evo', value=sparse_tls_cov_errors[i], step=i)\n",
    "        mlflow.log_metric('opt_cost_evo', value=sparse_tls_cov_targets[i], step=i)"
   ],
   "metadata": {
    "collapsed": false,
    "pycharm": {
     "name": "#%%\n"
    }
   }
  },
  {
   "cell_type": "code",
   "execution_count": 44,
   "outputs": [
    {
     "data": {
      "text/plain": "<AxesSubplot:>"
     },
     "execution_count": 44,
     "metadata": {},
     "output_type": "execute_result"
    },
    {
     "data": {
      "text/plain": "<Figure size 432x288 with 1 Axes>",
      "image/png": "[encoded data removed]"
     },
     "metadata": {
      "needs_background": "light"
     },
     "output_type": "display_data"
    }
   ],
   "source": [
    "#sparse_tls_cov_errors.plot()\n",
    "#sparse_tls_cov_targets.copy().multiply(0.00004).plot()\n"
   ],
   "metadata": {
    "collapsed": false,
    "pycharm": {
     "name": "#%%\n"
    }
   }
  },
  {
   "cell_type": "code",
   "execution_count": 45,
   "outputs": [
    {
     "name": "stderr",
     "output_type": "stream",
     "text": [
      "/Users/jbrouill/PycharmProjects/eiv-grid-id/venv/lib/python3.8/site-packages/ipykernel/ipkernel.py:287: DeprecationWarning: `should_run_async` will not call `transform_cell` automatically in the future. Please pass the result to `transformed_cell` argument and any exception that happen during thetransform in `preprocessing_exc_tuple` in IPython 7.17 and above.\n",
      "  and should_run_async(code)\n",
      "/Users/jbrouill/PycharmProjects/eiv-grid-id/venv/lib/python3.8/site-packages/numpy/core/_asarray.py:83: ComplexWarning: Casting complex values to real discards the imaginary part\n",
      "  return array(a, dtype, copy=False, order=order)\n"
     ]
    },
    {
     "data": {
      "text/plain": "<AxesSubplot:>"
     },
     "execution_count": 45,
     "metadata": {},
     "output_type": "execute_result"
    },
    {
     "data": {
      "text/plain": "<Figure size 432x288 with 1 Axes>",
      "image/png": "[encoded data removed]"
     },
     "metadata": {
      "needs_background": "light"
     },
     "output_type": "display_data"
    }
   ],
   "source": [
    "#sparse_tls_cov_targets.plot()"
   ],
   "metadata": {
    "collapsed": false,
    "pycharm": {
     "name": "#%%\n"
    }
   }
  },
  {
   "cell_type": "code",
   "execution_count": 46,
   "outputs": [
    {
     "name": "stderr",
     "output_type": "stream",
     "text": [
      "/Users/jbrouill/PycharmProjects/eiv-grid-id/venv/lib/python3.8/site-packages/ipykernel/ipkernel.py:287: DeprecationWarning: `should_run_async` will not call `transform_cell` automatically in the future. Please pass the result to `transformed_cell` argument and any exception that happen during thetransform in `preprocessing_exc_tuple` in IPython 7.17 and above.\n",
      "  and should_run_async(code)\n"
     ]
    },
    {
     "data": {
      "text/plain": "[<matplotlib.lines.Line2D at 0x12618c9a0>]"
     },
     "execution_count": 46,
     "metadata": {},
     "output_type": "execute_result"
    },
    {
     "data": {
      "text/plain": "<Figure size 432x288 with 1 Axes>",
      "image/png": "[encoded data removed]"
     },
     "metadata": {
      "needs_background": "light"
     },
     "output_type": "display_data"
    }
   ],
   "source": [
    "#plt.plot(sparse_tls_cov.tmp)"
   ],
   "metadata": {
    "collapsed": false,
    "pycharm": {
     "name": "#%%\n"
    }
   }
  },
  {
   "cell_type": "markdown",
   "source": [
    "# Result analysis"
   ],
   "metadata": {
    "collapsed": false,
    "pycharm": {
     "name": "#%% md\n"
    }
   }
  },
  {
   "cell_type": "code",
   "execution_count": 47,
   "outputs": [
    {
     "data": {
      "text/plain": "<Figure size 432x288 with 2 Axes>",
      "image/png": "[encoded data removed]"
     },
     "metadata": {
      "needs_background": "light"
     },
     "output_type": "display_data"
    }
   ],
   "source": [
    "#sns.heatmap(np.abs(y_bus));"
   ],
   "metadata": {
    "collapsed": false,
    "pycharm": {
     "name": "#%%\n"
    }
   }
  },
  {
   "cell_type": "code",
   "execution_count": 48,
   "outputs": [
    {
     "data": {
      "text/plain": "<Figure size 432x288 with 2 Axes>",
      "image/png": "[encoded data removed]"
     },
     "metadata": {
      "needs_background": "light"
     },
     "output_type": "display_data"
    }
   ],
   "source": [
    "#sns.heatmap(np.abs(y_tls));"
   ],
   "metadata": {
    "collapsed": false,
    "pycharm": {
     "name": "#%%\n"
    }
   }
  },
  {
   "cell_type": "code",
   "execution_count": 49,
   "outputs": [
    {
     "data": {
      "text/plain": "<Figure size 432x288 with 2 Axes>",
      "image/png": "[encoded data removed]"
     },
     "metadata": {
      "needs_background": "light"
     },
     "output_type": "display_data"
    }
   ],
   "source": [
    "#sns.heatmap(np.abs(y_bus - y_tls),vmin=0,vmax=6);"
   ],
   "metadata": {
    "collapsed": false,
    "pycharm": {
     "name": "#%%\n"
    }
   }
  },
  {
   "cell_type": "code",
   "execution_count": 50,
   "outputs": [
    {
     "data": {
      "text/plain": "<Figure size 432x288 with 2 Axes>",
      "image/png": "[encoded data removed]"
     },
     "metadata": {
      "needs_background": "light"
     },
     "output_type": "display_data"
    }
   ],
   "source": [
    "#sns.heatmap(np.abs(y_bus - y_sparse_tls_cov),vmin=0,vmax=6);"
   ],
   "metadata": {
    "collapsed": false,
    "pycharm": {
     "name": "#%%\n"
    }
   }
  },
  {
   "cell_type": "code",
   "execution_count": 51,
   "outputs": [
    {
     "data": {
      "text/plain": "<Figure size 432x288 with 2 Axes>",
      "image/png": "[encoded data removed]"
     },
     "metadata": {
      "needs_background": "light"
     },
     "output_type": "display_data"
    }
   ],
   "source": [
    "#sns.heatmap(np.abs(y_sparse_tls_cov));"
   ],
   "metadata": {
    "collapsed": false,
    "pycharm": {
     "name": "#%%\n"
    }
   }
  },
  {
   "cell_type": "code",
   "execution_count": null,
   "outputs": [],
   "source": [
    "print(y_sparse_tls_cov)"
   ],
   "metadata": {
    "collapsed": false,
    "pycharm": {
     "name": "#%%\n"
    }
   }
  }
 ],
 "metadata": {
  "hide_input": false,
  "kernelspec": {
   "display_name": "Python 3",
   "language": "python",
   "name": "python3"
  },
  "language_info": {
   "codemirror_mode": {
    "name": "ipython",
    "version": 3
   },
   "file_extension": ".py",
   "mimetype": "text/x-python",
   "name": "python",
   "nbconvert_exporter": "python",
   "pygments_lexer": "ipython3",
   "version": "3.7.7"
  },
  "toc": {
   "base_numbering": 1,
   "nav_menu": {},
   "number_sections": true,
   "sideBar": true,
   "skip_h1_title": false,
   "title_cell": "Table of Contents",
   "title_sidebar": "Contents",
   "toc_cell": false,
   "toc_position": {},
   "toc_section_display": true,
   "toc_window_display": false
  },
  "varInspector": {
   "cols": {
    "lenName": 16,
    "lenType": 16,
    "lenVar": 40
   },
   "kernels_config": {
    "python": {
     "delete_cmd_postfix": "",
     "delete_cmd_prefix": "del ",
     "library": "var_list.py",
     "varRefreshCmd": "print(var_dic_list())"
    },
    "r": {
     "delete_cmd_postfix": ") ",
     "delete_cmd_prefix": "rm(",
     "library": "var_list.r",
     "varRefreshCmd": "cat(var_dic_list()) "
    }
   },
   "types_to_exclude": [
    "module",
    "function",
    "builtin_function_or_method",
    "instance",
    "_Feature"
   ],
   "window_display": false
  }
 },
 "nbformat": 4,
 "nbformat_minor": 4
}