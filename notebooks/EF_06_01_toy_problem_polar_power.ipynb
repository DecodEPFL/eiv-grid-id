{
 "cells": [
  {
   "cell_type": "markdown",
   "source": [
    "# Toy problem for TLS solution\n",
    "We want to solve here the identification problem with TLS in a very simple case: a network with 5 nodes, without any structural contraint.\n",
    "However, we introduce noise in polar coordinates and we try and use the power flow equations written with powers and our covariance matrix estimators in order to weight the noise."
   ],
   "metadata": {
    "collapsed": false
   }
  },
  {
   "cell_type": "code",
   "execution_count": 132,
   "outputs": [],
   "source": [
    "import mlflow\n",
    "import pandas as pd\n",
    "import numpy as np\n",
    "import cvxpy as cp\n",
    "import matplotlib.pyplot as plt\n",
    "from scipy import sparse\n",
    "import seaborn as sns"
   ],
   "metadata": {
    "collapsed": false,
    "pycharm": {
     "name": "#%%\n"
    }
   }
  },
  {
   "cell_type": "code",
   "execution_count": 133,
   "outputs": [
    {
     "name": "stdout",
     "output_type": "stream",
     "text": [
      "The autoreload extension is already loaded. To reload it, use:\n",
      "  %reload_ext autoreload\n"
     ]
    }
   ],
   "source": [
    "%load_ext autoreload\n",
    "%autoreload 2"
   ],
   "metadata": {
    "collapsed": false,
    "pycharm": {
     "name": "#%%\n"
    }
   }
  },
  {
   "cell_type": "code",
   "execution_count": 140,
   "outputs": [
    {
     "name": "stderr",
     "output_type": "stream",
     "text": [
      "/Users/jbrouill/PycharmProjects/eiv-grid-id/venv/lib/python3.8/site-packages/ipykernel/ipkernel.py:287: DeprecationWarning: `should_run_async` will not call `transform_cell` automatically in the future. Please pass the result to `transformed_cell` argument and any exception that happen during thetransform in `preprocessing_exc_tuple` in IPython 7.17 and above.\n",
      "  and should_run_async(code)\n"
     ]
    }
   ],
   "source": [
    "import time\n",
    "import sys\n",
    "sys.path.insert(1, '..')\n",
    "\n",
    "from src.simulation.noise import add_polar_noise_to_measurement\n",
    "from src.models.matrix_operations import cross_multiply_measurements, make_measurements_matrix\n",
    "from src.models.noise_transformation import power_covariance\n",
    "from src.models.error_in_variable import TotalLeastSquares, SparseTotalLeastSquare\n",
    "from src.models.regression import ComplexLasso\n",
    "from src.identification.error_metrics import fro_error, error_metrics"
   ],
   "metadata": {
    "collapsed": false,
    "pycharm": {
     "name": "#%%\n"
    }
   }
  },
  {
   "cell_type": "code",
   "execution_count": 135,
   "outputs": [],
   "source": [
    "mlflow.set_experiment('Toy problem with polar noise')"
   ],
   "metadata": {
    "collapsed": false,
    "pycharm": {
     "name": "#%%\n"
    }
   }
  },
  {
   "cell_type": "code",
   "execution_count": 136,
   "outputs": [],
   "source": [
    "samples = 300\n",
    "magnitude_sd = 0.01\n",
    "phase_sd = 0.01\n",
    "mlflow_params = {'samples': samples, 'magnitude_sd': magnitude_sd, 'phase_sd': phase_sd}"
   ],
   "metadata": {
    "collapsed": false,
    "pycharm": {
     "name": "#%%\n"
    }
   }
  },
  {
   "cell_type": "code",
   "execution_count": 139,
   "outputs": [],
   "source": [
    "np.random.seed(11)\n",
    "\n",
    "y_bus = np.array([\n",
    "    [1+1j, 0, 0, 0, 0],\n",
    "    [0, 2+1j, 0, 0, 0],\n",
    "    [2+1j, 0, 1+1j, 0, 0],\n",
    "    [0, 0, 0, 2+1j, 0],\n",
    "    [0, 0, 0, 0, -1-1j],\n",
    "])\n",
    "nodes = y_bus.shape[0]\n",
    "\n",
    "real_voltages = np.random.normal(1, 0.008, (samples, nodes)) + 1j*np.random.normal(0, 0.008, (samples, nodes))\n",
    "real_currents = real_voltages @ y_bus\n",
    "\n",
    "noisy_voltage = add_polar_noise_to_measurement(real_voltages, magnitude_sd, phase_sd)\n",
    "noisy_current = add_polar_noise_to_measurement(real_currents, magnitude_sd, phase_sd)\n",
    "\n",
    "real_powers = np.multiply(real_voltages,real_currents.conj())\n",
    "powers = np.multiply(noisy_voltage,noisy_current.conj())\n",
    "\n",
    "real_line_mat = cross_multiply_measurements(real_voltages)\n",
    "line_mat = cross_multiply_measurements(noisy_voltage)\n",
    "\n",
    "real_A_mat = make_measurements_matrix(real_voltages)\n",
    "A_mat = make_measurements_matrix(noisy_voltage)\n",
    "\n",
    "power_noise = powers - real_powers\n",
    "line_mat_noise = line_mat - real_line_mat\n",
    "\n",
    "b_vector = powers.reshape(powers.size)"
   ],
   "metadata": {
    "collapsed": false,
    "pycharm": {
     "name": "#%%\n"
    }
   }
  },
  {
   "cell_type": "markdown",
   "source": [
    "# Standard TLS"
   ],
   "metadata": {
    "collapsed": false
   }
  },
  {
   "cell_type": "code",
   "execution_count": 138,
   "outputs": [
    {
     "ename": "Exception",
     "evalue": "Run with UUID d56d91f7d4344b68ba7212a71d10117a is already active. To start a new run, first end the current run with mlflow.end_run(). To start a nested run, call start_run with nested=True",
     "output_type": "error",
     "traceback": [
      "\u001B[0;31m---------------------------------------------------------------------------\u001B[0m",
      "\u001B[0;31mException\u001B[0m                                 Traceback (most recent call last)",
      "\u001B[0;32m<ipython-input-138-a0025be0b153>\u001B[0m in \u001B[0;36m<module>\u001B[0;34m\u001B[0m\n\u001B[0;32m----> 1\u001B[0;31m \u001B[0mmlflow\u001B[0m\u001B[0;34m.\u001B[0m\u001B[0mstart_run\u001B[0m\u001B[0;34m(\u001B[0m\u001B[0mrun_name\u001B[0m\u001B[0;34m=\u001B[0m\u001B[0;34m'TLS'\u001B[0m\u001B[0;34m)\u001B[0m\u001B[0;34m\u001B[0m\u001B[0;34m\u001B[0m\u001B[0m\n\u001B[0m\u001B[1;32m      2\u001B[0m \u001B[0meiv\u001B[0m \u001B[0;34m=\u001B[0m \u001B[0mTotalLeastSquares\u001B[0m\u001B[0;34m(\u001B[0m\u001B[0;34m)\u001B[0m\u001B[0;34m\u001B[0m\u001B[0;34m\u001B[0m\u001B[0m\n\u001B[1;32m      3\u001B[0m \u001B[0meiv\u001B[0m\u001B[0;34m.\u001B[0m\u001B[0mfit\u001B[0m\u001B[0;34m(\u001B[0m\u001B[0mA_mat\u001B[0m\u001B[0;34m,\u001B[0m \u001B[0mb_vector\u001B[0m\u001B[0;34m)\u001B[0m\u001B[0;34m\u001B[0m\u001B[0;34m\u001B[0m\u001B[0m\n\u001B[1;32m      4\u001B[0m \u001B[0my_eiv\u001B[0m \u001B[0;34m=\u001B[0m \u001B[0meiv\u001B[0m\u001B[0;34m.\u001B[0m\u001B[0mfitted_admittance_matrix\u001B[0m\u001B[0;34m.\u001B[0m\u001B[0mconj\u001B[0m\u001B[0;34m(\u001B[0m\u001B[0;34m)\u001B[0m\u001B[0;34m.\u001B[0m\u001B[0mreshape\u001B[0m\u001B[0;34m(\u001B[0m\u001B[0;36m5\u001B[0m\u001B[0;34m,\u001B[0m\u001B[0;36m5\u001B[0m\u001B[0;34m)\u001B[0m\u001B[0;34m\u001B[0m\u001B[0;34m\u001B[0m\u001B[0m\n\u001B[1;32m      5\u001B[0m \u001B[0;34m\u001B[0m\u001B[0m\n",
      "\u001B[0;32m~/PycharmProjects/eiv-grid-id/venv/lib/python3.8/site-packages/mlflow/tracking/fluent.py\u001B[0m in \u001B[0;36mstart_run\u001B[0;34m(run_id, experiment_id, run_name, nested)\u001B[0m\n\u001B[1;32m    164\u001B[0m     \u001B[0mexperiment_id\u001B[0m \u001B[0;34m=\u001B[0m \u001B[0mstr\u001B[0m\u001B[0;34m(\u001B[0m\u001B[0mexperiment_id\u001B[0m\u001B[0;34m)\u001B[0m \u001B[0;32mif\u001B[0m \u001B[0misinstance\u001B[0m\u001B[0;34m(\u001B[0m\u001B[0mexperiment_id\u001B[0m\u001B[0;34m,\u001B[0m \u001B[0mint\u001B[0m\u001B[0;34m)\u001B[0m \u001B[0;32melse\u001B[0m \u001B[0mexperiment_id\u001B[0m\u001B[0;34m\u001B[0m\u001B[0;34m\u001B[0m\u001B[0m\n\u001B[1;32m    165\u001B[0m     \u001B[0;32mif\u001B[0m \u001B[0mlen\u001B[0m\u001B[0;34m(\u001B[0m\u001B[0m_active_run_stack\u001B[0m\u001B[0;34m)\u001B[0m \u001B[0;34m>\u001B[0m \u001B[0;36m0\u001B[0m \u001B[0;32mand\u001B[0m \u001B[0;32mnot\u001B[0m \u001B[0mnested\u001B[0m\u001B[0;34m:\u001B[0m\u001B[0;34m\u001B[0m\u001B[0;34m\u001B[0m\u001B[0m\n\u001B[0;32m--> 166\u001B[0;31m         raise Exception(\n\u001B[0m\u001B[1;32m    167\u001B[0m             (\n\u001B[1;32m    168\u001B[0m                 \u001B[0;34m\"Run with UUID {} is already active. To start a new run, first end the \"\u001B[0m\u001B[0;34m\u001B[0m\u001B[0;34m\u001B[0m\u001B[0m\n",
      "\u001B[0;31mException\u001B[0m: Run with UUID d56d91f7d4344b68ba7212a71d10117a is already active. To start a new run, first end the current run with mlflow.end_run(). To start a nested run, call start_run with nested=True"
     ]
    }
   ],
   "source": [
    "mlflow.start_run(run_name='TLS')\n",
    "eiv = TotalLeastSquares()\n",
    "eiv.fit(A_mat, b_vector)\n",
    "y_eiv = eiv.fitted_admittance_matrix.conj().reshape(5,5)"
   ],
   "metadata": {
    "collapsed": false,
    "pycharm": {
     "name": "#%%\n"
    }
   }
  },
  {
   "cell_type": "code",
   "execution_count": null,
   "outputs": [],
   "source": [
    "tls_metrics = error_metrics(y_bus, y_eiv)\n",
    "mlflow.log_params(mlflow_params)\n",
    "mlflow.log_metrics(tls_metrics.__dict__)\n",
    "mlflow.end_run()\n",
    "tls_metrics"
   ],
   "metadata": {
    "collapsed": false,
    "pycharm": {
     "name": "#%%\n"
    }
   }
  },
  {
   "cell_type": "markdown",
   "source": [
    "# Standard LASSO"
   ],
   "metadata": {
    "collapsed": false
   }
  },
  {
   "cell_type": "code",
   "execution_count": null,
   "outputs": [],
   "source": [
    "mlflow.start_run(run_name='Lasso')\n",
    "lasso = ComplexLasso(y_bus, verbose=False, lambdas=np.logspace(-5, 0, 50))\n",
    "lasso.fit(A_mat, b_vector, True)\n",
    "y_lasso = lasso.fitted_admittance_matrix.conj().T"
   ],
   "metadata": {
    "collapsed": false,
    "pycharm": {
     "name": "#%%\n"
    }
   }
  },
  {
   "cell_type": "code",
   "execution_count": null,
   "outputs": [],
   "source": [
    "lasso_metrics = error_metrics(y_bus, y_lasso)\n",
    "mlflow.log_param('lambda', lasso.best_trial.hyperparameters['lambda'])\n",
    "mlflow.log_params(mlflow_params)\n",
    "mlflow.log_metrics(lasso_metrics.__dict__)\n",
    "mlflow.end_run()\n",
    "lasso_metrics"
   ],
   "metadata": {
    "collapsed": false,
    "pycharm": {
     "name": "#%%\n"
    }
   }
  },
  {
   "cell_type": "code",
   "execution_count": null,
   "outputs": [],
   "source": [
    "lasso.best_trial.hyperparameters"
   ],
   "metadata": {
    "collapsed": false,
    "pycharm": {
     "name": "#%%\n"
    }
   }
  },
  {
   "cell_type": "markdown",
   "source": [
    "# L1-regularized TLS"
   ],
   "metadata": {
    "collapsed": false
   }
  },
  {
   "cell_type": "code",
   "execution_count": null,
   "outputs": [],
   "source": [
    "mlflow.start_run(run_name='S-TLS no cov')\n",
    "tls_lambda = lasso.best_trial.hyperparameters['lambda']\n",
    "max_iterations = 50\n",
    "abs_tol = 10e-12\n",
    "rel_tol = 10e-12\n",
    "solver = cp.GUROBI\n",
    "use_l1_penalty = True\n",
    "use_cov_matrix = False\n",
    "sparse_eiv = SparseTotalLeastSquare(lambda_value=tls_lambda, abs_tol=abs_tol, rel_tol=rel_tol, solver=solver, max_iterations=max_iterations)\n",
    "sparse_eiv.fit_with_vectored_data(line_mat, A_mat, b_vector)\n",
    "y_sparse_eiv = sparse_eiv.fitted_admittance_matrix.conj()"
   ],
   "metadata": {
    "collapsed": false,
    "pycharm": {
     "name": "#%%\n"
    }
   }
  },
  {
   "cell_type": "code",
   "execution_count": null,
   "outputs": [],
   "source": [
    "stls_metrics = error_metrics(y_bus, y_sparse_eiv)\n",
    "mlflow.log_param('lambda', tls_lambda)\n",
    "mlflow.log_param('max_iterations', max_iterations)\n",
    "mlflow.log_param('abs_tol', abs_tol)\n",
    "mlflow.log_param('rel_tol', rel_tol)\n",
    "mlflow.log_param('solver', solver)\n",
    "mlflow.log_param('use_l1_penalty', use_l1_penalty)\n",
    "mlflow.log_param('use_cov_matrix', use_cov_matrix)\n",
    "mlflow.log_params(mlflow_params)\n",
    "mlflow.log_metrics(stls_metrics.__dict__)\n",
    "y_errors = pd.Series([fro_error(y_bus.conj(), i.fitted_parameters) for i in sparse_eiv.iterations])\n",
    "targets = pd.Series([i.target_function for i in sparse_eiv.iterations])\n",
    "for i in range(len(y_errors)):\n",
    "    mlflow.log_metric('fro_error_evo', value=y_errors[i], step=i)\n",
    "    mlflow.log_metric('opt_cost_evo', value=targets[i], step=i)\n",
    "mlflow.end_run()\n",
    "stls_metrics"
   ],
   "metadata": {
    "collapsed": false,
    "pycharm": {
     "name": "#%%\n"
    }
   }
  },
  {
   "cell_type": "code",
   "execution_count": null,
   "outputs": [],
   "source": [
    "y_errors.plot(title='Fro error on Y');"
   ],
   "metadata": {
    "collapsed": false,
    "pycharm": {
     "name": "#%%\n"
    }
   }
  },
  {
   "cell_type": "code",
   "execution_count": null,
   "outputs": [],
   "source": [
    "targets.plot(title='Target function');"
   ],
   "metadata": {
    "collapsed": false,
    "pycharm": {
     "name": "#%%\n"
    }
   }
  },
  {
   "cell_type": "markdown",
   "source": [
    "# L1-regularized TLS with estimated covariance matrix"
   ],
   "metadata": {
    "collapsed": false
   }
  },
  {
   "cell_type": "code",
   "execution_count": null,
   "outputs": [],
   "source": [
    "sigma_power = power_covariance(noisy_voltage.reshape(noisy_voltage.size), noisy_current.reshape(noisy_current.size),\n",
    "                               magnitude_sd, phase_sd, magnitude_sd, phase_sd)\n",
    "voltages1 = noisy_voltage.repeat(noisy_voltage.shape[1],1).flatten()\n",
    "voltages2 = np.tile(noisy_voltage, (1, noisy_voltage.shape[1])).flatten()\n",
    "sigma_line_mat = power_covariance(voltages1, voltages2, magnitude_sd, phase_sd, magnitude_sd, phase_sd)\n",
    "\n",
    "inv_sigma_power = sparse.linalg.inv(sigma_power)\n",
    "inv_sigma_line_mat = sparse.linalg.inv(sigma_line_mat)"
   ],
   "metadata": {
    "collapsed": false,
    "pycharm": {
     "name": "#%%\n"
    }
   }
  },
  {
   "cell_type": "code",
   "execution_count": null,
   "outputs": [],
   "source": [
    "mlflow.start_run(run_name='S-TLS')\n",
    "use_cov_matrix = True\n",
    "sparse_eiv_cov = SparseTotalLeastSquare(lambda_value=tls_lambda, abs_tol=abs_tol, rel_tol=rel_tol, solver=solver, max_iterations=max_iterations)\n",
    "sparse_eiv_cov.fit_with_vectored_data(line_mat, A_mat, b_vector, inv_sigma_line_mat, inv_sigma_power)\n",
    "y_sparse_eiv_cov = sparse_eiv_cov.fitted_admittance_matrix.conj()"
   ],
   "metadata": {
    "collapsed": false,
    "pycharm": {
     "name": "#%%\n"
    }
   }
  },
  {
   "cell_type": "code",
   "execution_count": null,
   "outputs": [],
   "source": [
    "stls_cov_metrics = error_metrics(y_bus, y_sparse_eiv_cov)\n",
    "mlflow.log_param('lambda', tls_lambda)\n",
    "mlflow.log_param('max_iterations', max_iterations)\n",
    "mlflow.log_param('abs_tol', abs_tol)\n",
    "mlflow.log_param('rel_tol', rel_tol)\n",
    "mlflow.log_param('solver', solver)\n",
    "mlflow.log_param('use_l1_penalty', use_l1_penalty)\n",
    "mlflow.log_param('use_cov_matrix', use_cov_matrix)\n",
    "mlflow.log_params(mlflow_params)\n",
    "mlflow.log_metrics(stls_cov_metrics.__dict__)\n",
    "y_errors = pd.Series([fro_error(y_bus.conj(), i.fitted_parameters) for i in sparse_eiv_cov.iterations])\n",
    "targets = pd.Series([i.target_function for i in sparse_eiv_cov.iterations])\n",
    "for i in range(len(y_errors)):\n",
    "    mlflow.log_metric('fro_error_evo', value=y_errors[i], step=i)\n",
    "    mlflow.log_metric('opt_cost_evo', value=targets[i], step=i)\n",
    "mlflow.end_run()\n",
    "stls_cov_metrics"
   ],
   "metadata": {
    "collapsed": false,
    "pycharm": {
     "name": "#%%\n"
    }
   }
  },
  {
   "cell_type": "code",
   "execution_count": null,
   "outputs": [],
   "source": [
    "y_errors.plot(title='Fro error on Y');"
   ],
   "metadata": {
    "collapsed": false,
    "pycharm": {
     "name": "#%%\n"
    }
   }
  },
  {
   "cell_type": "code",
   "execution_count": null,
   "outputs": [],
   "source": [
    "targets.plot(title='Target function');"
   ],
   "metadata": {
    "collapsed": false,
    "pycharm": {
     "name": "#%%\n"
    }
   }
  },
  {
   "cell_type": "markdown",
   "source": [
    "# L1-regularized TLS with covariance matrix based on actual measurements"
   ],
   "metadata": {
    "collapsed": false
   }
  },
  {
   "cell_type": "code",
   "execution_count": null,
   "outputs": [],
   "source": [
    "sigma_power = power_covariance(real_voltages.reshape(real_voltages.size), real_currents.reshape(real_currents.size),\n",
    "                               magnitude_sd, phase_sd, magnitude_sd, phase_sd)\n",
    "voltages1 = real_voltages.repeat(real_voltages.shape[1],1).flatten()\n",
    "voltages2 = np.tile(real_voltages, (1, real_voltages.shape[1])).flatten()\n",
    "sigma_line_mat = power_covariance(voltages1, voltages2, magnitude_sd, phase_sd, magnitude_sd, phase_sd)\n",
    "\n",
    "inv_sigma_power = sparse.linalg.inv(sigma_power)\n",
    "inv_sigma_line_mat = sparse.linalg.inv(sigma_line_mat)"
   ],
   "metadata": {
    "collapsed": false,
    "pycharm": {
     "name": "#%%\n"
    }
   }
  },
  {
   "cell_type": "code",
   "execution_count": null,
   "outputs": [],
   "source": [
    "mlflow.start_run(run_name='S-TLS')\n",
    "use_cov_matrix = True\n",
    "sparse_eiv_cov = SparseTotalLeastSquare(lambda_value=tls_lambda, abs_tol=abs_tol, rel_tol=rel_tol, solver=solver, max_iterations=max_iterations)\n",
    "sparse_eiv_cov.fit_with_vectored_data(line_mat, A_mat, b_vector, inv_sigma_line_mat, inv_sigma_power)\n",
    "y_sparse_eiv_cov = sparse_eiv_cov.fitted_admittance_matrix.conj()"
   ],
   "metadata": {
    "collapsed": false,
    "pycharm": {
     "name": "#%%\n"
    }
   }
  },
  {
   "cell_type": "code",
   "execution_count": null,
   "outputs": [],
   "source": [
    "stls_cov_metrics = error_metrics(y_bus, y_sparse_eiv_cov)\n",
    "mlflow.log_param('lambda', tls_lambda)\n",
    "mlflow.log_param('max_iterations', max_iterations)\n",
    "mlflow.log_param('abs_tol', abs_tol)\n",
    "mlflow.log_param('rel_tol', rel_tol)\n",
    "mlflow.log_param('solver', solver)\n",
    "mlflow.log_param('use_l1_penalty', use_l1_penalty)\n",
    "mlflow.log_param('use_cov_matrix', use_cov_matrix)\n",
    "mlflow.log_params(mlflow_params)\n",
    "mlflow.log_metrics(stls_cov_metrics.__dict__)\n",
    "y_errors = pd.Series([fro_error(y_bus.conj(), i.fitted_parameters) for i in sparse_eiv_cov.iterations])\n",
    "targets = pd.Series([i.target_function for i in sparse_eiv_cov.iterations])\n",
    "for i in range(len(y_errors)):\n",
    "    mlflow.log_metric('fro_error_evo', value=y_errors[i], step=i)\n",
    "    mlflow.log_metric('opt_cost_evo', value=targets[i], step=i)\n",
    "mlflow.end_run()\n",
    "stls_cov_metrics"
   ],
   "metadata": {
    "collapsed": false,
    "pycharm": {
     "name": "#%%\n"
    }
   }
  },
  {
   "cell_type": "code",
   "execution_count": null,
   "outputs": [],
   "source": [
    "y_errors.plot(title='Fro error on Y');"
   ],
   "metadata": {
    "collapsed": false,
    "pycharm": {
     "name": "#%%\n"
    }
   }
  },
  {
   "cell_type": "code",
   "execution_count": null,
   "outputs": [],
   "source": [
    "targets.plot(title='Target function');"
   ],
   "metadata": {
    "collapsed": false,
    "pycharm": {
     "name": "#%%\n"
    }
   }
  },
  {
   "cell_type": "code",
   "execution_count": null,
   "outputs": [],
   "source": [
    "sns.heatmap(np.abs(y_bus));"
   ],
   "metadata": {
    "collapsed": false,
    "pycharm": {
     "name": "#%%\n"
    }
   }
  },
  {
   "cell_type": "code",
   "execution_count": null,
   "outputs": [],
   "source": [
    "sns.heatmap(np.abs(y_sparse_eiv_cov.toarray()));"
   ],
   "metadata": {
    "collapsed": false,
    "pycharm": {
     "name": "#%%\n"
    }
   }
  }
 ],
 "metadata": {
  "kernelspec": {
   "display_name": "Python 3",
   "language": "python",
   "name": "python3"
  },
  "language_info": {
   "codemirror_mode": {
    "name": "ipython",
    "version": 2
   },
   "file_extension": ".py",
   "mimetype": "text/x-python",
   "name": "python",
   "nbconvert_exporter": "python",
   "pygments_lexer": "ipython2",
   "version": "2.7.6"
  }
 },
 "nbformat": 4,
 "nbformat_minor": 0
}