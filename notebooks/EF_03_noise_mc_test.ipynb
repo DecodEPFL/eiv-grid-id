{
 "cells": [
  {
   "cell_type": "markdown",
   "metadata": {},
   "source": [
    "# MC check on estimated covariance matrix\n",
    "\n",
    "We perform a Monte Carlo test on the correctness of the estimated covariance matrix.\n",
    "\n",
    "- we simulate 100,000 samples from independent Gaussian noise in polar coordinates\n",
    "- we add them to a constant, representing the actual measurement, thus obtaining noisy measurements in polar coordinates\n",
    "- we transform the noisy measurements and the actual measurements in Cartesian coordinates\n",
    "- we subract the actual measurements from the noisy measurements in Cartesian coordinates, thus obtaining the noise\n",
    "- we compute the sample mean and covariance of the noise\n",
    "- we expect the sample covariance to be in agreement with out formulae."
   ]
  },
  {
   "cell_type": "markdown",
   "metadata": {},
   "source": [
    "## Setup"
   ]
  },
  {
   "cell_type": "code",
   "execution_count": null,
   "metadata": {},
   "outputs": [],
   "source": [
    "import sys\n",
    "import numpy as np\n",
    "import matplotlib.pyplot as plt"
   ]
  },
  {
   "cell_type": "code",
   "execution_count": null,
   "metadata": {},
   "outputs": [],
   "source": [
    "sys.path.append('..')\n",
    "%load_ext autoreload\n",
    "%autoreload 2"
   ]
  },
  {
   "cell_type": "code",
   "execution_count": null,
   "metadata": {},
   "outputs": [],
   "source": [
    "samples = 100000"
   ]
  },
  {
   "cell_type": "markdown",
   "metadata": {},
   "source": [
    "## MC Samples\n",
    "Try also with `theta=-1` and `theta_sd=1` and with `theta=-1` and `theta_sd=0.01`."
   ]
  },
  {
   "cell_type": "code",
   "execution_count": null,
   "metadata": {},
   "outputs": [],
   "source": [
    "np.random.seed(11)\n",
    "\n",
    "v = 1\n",
    "theta = -10 * np.pi / 180\n",
    "\n",
    "v_sd = 0.01 \n",
    "theta_sd = 1 * np.pi / 180\n",
    "\n",
    "v_var, theta_var = v_sd ** 2, theta_sd ** 2\n",
    "\n",
    "v_noise = np.random.normal(0, v_sd, size=samples)\n",
    "theta_noise = np.random.normal(0, theta_sd, size=samples)\n",
    "\n",
    "noisy_measurements = (v + v_noise) * np.exp(1j * (theta + theta_noise))\n",
    "actual_measurements = v * np.exp(1j * theta)\n",
    "cartesian_noise = noisy_measurements - actual_measurements\n",
    "\n",
    "actual_mean = (np.mean(np.real(cartesian_noise)), np.mean(np.imag(cartesian_noise)))\n",
    "actual_covariance = np.cov(np.real(cartesian_noise), np.imag(cartesian_noise))"
   ]
  },
  {
   "cell_type": "code",
   "execution_count": null,
   "metadata": {},
   "outputs": [],
   "source": [
    "actual_mean"
   ]
  },
  {
   "cell_type": "code",
   "execution_count": null,
   "metadata": {},
   "outputs": [],
   "source": [
    "actual_covariance"
   ]
  },
  {
   "cell_type": "markdown",
   "metadata": {},
   "source": [
    "## Covariance of the first-order approximation with real measurements"
   ]
  },
  {
   "cell_type": "code",
   "execution_count": null,
   "metadata": {},
   "outputs": [],
   "source": [
    "covariance_first_order = np.array([\n",
    "    [np.cos(theta)**2 * v_var + v**2 * np.sin(theta)**2 * theta_var, np.cos(theta) * np.sin(theta) * (v_var - v**2 * theta_var)], \n",
    "    [np.cos(theta) * np.sin(theta) * (v_var - v**2 * theta_var), np.sin(theta)**2 * v_var + v**2 * np.cos(theta)**2 * theta_var]\n",
    "])\n",
    "covariance_first_order"
   ]
  },
  {
   "cell_type": "markdown",
   "metadata": {},
   "source": [
    "It looks like the estimation of the variances is quite accurate, while the one of the covariances is not. Not even the sign is correct.\n",
    "\n",
    "**TODO**: double check the derivation of the covariance."
   ]
  },
  {
   "cell_type": "markdown",
   "metadata": {},
   "source": [
    "## Covariance with actual measurements\n",
    "Implementing equation 6 in the notes."
   ]
  },
  {
   "cell_type": "code",
   "execution_count": null,
   "metadata": {},
   "outputs": [],
   "source": [
    "cov_with_actual_11 = v **2 * np.exp(-theta_var) * (np.cos(theta)**2 * (np.cosh(theta_var) - 1) + np.sin(theta)**2 * np.sinh(theta_var)) + v_var * np.exp(-theta_var) * (np.cos(theta)**2 * np.cosh(theta_var) + np.sin(theta)**2 * np.sinh(theta_var))\n",
    "cov_with_actual_22 = v **2 * np.exp(-theta_var) * (np.sin(theta)**2 * (np.cosh(theta_var) - 1) + np.cos(theta)**2 * np.sinh(theta_var)) + v_var * np.exp(-theta_var) * (np.sin(theta)**2 * np.cosh(theta_var) + np.cos(theta)**2 * np.sinh(theta_var))\n",
    "cov_with_actual_12 = np.sin(theta) * np.cos(theta) * np.exp(-2 * theta_var) * (v_var + v**2 * (1 - np.exp(theta_var)))\n",
    "covariance_with_actual = np.array([\n",
    "    [cov_with_actual_11, cov_with_actual_12],\n",
    "    [cov_with_actual_12, cov_with_actual_22]\n",
    "])\n",
    "covariance_with_actual"
   ]
  },
  {
   "cell_type": "markdown",
   "metadata": {},
   "source": [
    "## Average true covariance\n",
    "Implementing equation 8 in the notes.  \n",
    "In first approximation, we use it with the actual measurements."
   ]
  },
  {
   "cell_type": "code",
   "execution_count": null,
   "metadata": {},
   "outputs": [],
   "source": [
    "cov_avg_true_11 = v**2 * np.exp(-2*theta_var) * (np.cos(theta)**2 * (np.cosh(2*theta_var) - np.cosh(theta_var)) + np.sin(theta)**2 * (np.sinh(2*theta_var) - np.sinh(theta_var))) + v_var * np.exp(-2*theta_var) * (np.cos(theta)**2 * (2*np.cosh(2*theta_var) - np.cosh(theta_var)) + np.sin(theta)**2 * (2*np.sinh(2*theta_var) - np.sinh(theta_var)))\n",
    "cov_avg_true_22 = v**2 * np.exp(-2*theta_var) * (np.sin(theta)**2 * (np.cosh(2*theta_var) - np.cosh(theta_var)) + np.cos(theta)**2 * (np.sinh(2*theta_var) - np.sinh(theta_var))) + v_var * np.exp(-2*theta_var) * (np.sin(theta)**2 * (2*np.cosh(2*theta_var) - np.cosh(theta_var)) + np.cos(theta)**2 * (2*np.sinh(2*theta_var) - np.sinh(theta_var)))\n",
    "cov_avg_true_12 = np.sin(theta) * np.cos(theta) * np.exp(-4*theta_var) * (v_var + (v**2 + v_var)*(1 - np.exp(theta_var)))\n",
    "covariance_average_true = np.array([\n",
    "    [cov_avg_true_11, cov_avg_true_12],\n",
    "    [cov_avg_true_12, cov_avg_true_22]\n",
    "])\n",
    "covariance_average_true"
   ]
  },
  {
   "cell_type": "markdown",
   "metadata": {},
   "source": [
    "Then, we use the noisy measurements, as in the realistic case."
   ]
  },
  {
   "cell_type": "code",
   "execution_count": null,
   "metadata": {},
   "outputs": [],
   "source": [
    "def cov_avg_true_real(measurements, magnitude_var, phase_var):\n",
    "    v, theta = np.abs(measurements), np.angle(measurements)\n",
    "    v_var = magnitude_var\n",
    "    theta_var = phase_var\n",
    "    return v**2 * np.exp(-2*theta_var) * (np.cos(theta)**2 * (np.cosh(2*theta_var) - np.cosh(theta_var)) + np.sin(theta)**2 * (np.sinh(2*theta_var) - np.sinh(theta_var))) + v_var * np.exp(-2*theta_var) * (np.cos(theta)**2 * (2*np.cosh(2*theta_var) - np.cosh(theta_var)) + np.sin(theta)**2 * (2*np.sinh(2*theta_var) - np.sinh(theta_var)))\n",
    "\n",
    "def cov_avg_true_imag(measurements, magnitude_var, phase_var):\n",
    "    v, theta = np.abs(measurements), np.angle(measurements)\n",
    "    v_var = magnitude_var\n",
    "    theta_var = phase_var\n",
    "    return v**2 * np.exp(-2*theta_var) * (np.sin(theta)**2 * (np.cosh(2*theta_var) - np.cosh(theta_var)) + np.cos(theta)**2 * (np.sinh(2*theta_var) - np.sinh(theta_var))) + v_var * np.exp(-2*theta_var) * (np.sin(theta)**2 * (2*np.cosh(2*theta_var) - np.cosh(theta_var)) + np.cos(theta)**2 * (2*np.sinh(2*theta_var) - np.sinh(theta_var)))\n",
    "\n",
    "def cov_avg_true_real_imag(measurements, magnitude_var, phase_var):\n",
    "    v, theta = np.abs(measurements), np.angle(measurements)\n",
    "    v_var = magnitude_var\n",
    "    theta_var = phase_var\n",
    "    return np.sin(theta) * np.cos(theta) * np.exp(-4*theta_var) * (v_var + (v**2 + v_var)*(1 - np.exp(theta_var)))\n",
    "\n",
    "\n",
    "cov_avg_true_11 = cov_avg_true_real(noisy_measurements, v_var, theta_var)\n",
    "cov_avg_true_22 = cov_avg_true_imag(noisy_measurements, v_var, theta_var)\n",
    "cov_avg_true_12 = cov_avg_true_real_imag(noisy_measurements, v_var, theta_var)\n",
    "cov_avg_true_11"
   ]
  },
  {
   "cell_type": "code",
   "execution_count": null,
   "metadata": {},
   "outputs": [],
   "source": [
    "plt.hist(cov_avg_true_11, bins = 100)\n",
    "plt.title('Empirical distribution for element (1, 1)')\n",
    "plt.axvline(actual_covariance[0, 0], color='red');"
   ]
  },
  {
   "cell_type": "code",
   "execution_count": null,
   "metadata": {},
   "outputs": [],
   "source": [
    "plt.hist(cov_avg_true_22, bins = 100)\n",
    "plt.title('Empirical distribution for element (1, 2)')\n",
    "plt.axvline(actual_covariance[1, 1], color='red');"
   ]
  },
  {
   "cell_type": "code",
   "execution_count": null,
   "metadata": {},
   "outputs": [],
   "source": [
    "plt.hist(cov_avg_true_12, bins = 100)\n",
    "plt.title('Empirical distribution for element (2, 2)')\n",
    "plt.axvline(actual_covariance[0, 1], color='red');"
   ]
  }
 ],
 "metadata": {
  "kernelspec": {
   "display_name": "Python 3",
   "language": "python",
   "name": "python3"
  },
  "language_info": {
   "codemirror_mode": {
    "name": "ipython",
    "version": 3
   },
   "file_extension": ".py",
   "mimetype": "text/x-python",
   "name": "python",
   "nbconvert_exporter": "python",
   "pygments_lexer": "ipython3",
   "version": "3.7.7"
  }
 },
 "nbformat": 4,
 "nbformat_minor": 4
}
