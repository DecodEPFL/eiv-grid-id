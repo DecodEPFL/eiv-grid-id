{
 "cells": [
  {
   "cell_type": "markdown",
   "metadata": {},
   "source": [
    "# Toy problem for TLS solution\n",
    "We want to solve here the identification problem with TLS in a very simple case: a network with 2 nodes, without any structural contraint."
   ]
  },
  {
   "cell_type": "code",
   "execution_count": null,
   "metadata": {},
   "outputs": [],
   "source": [
    "import pandas as pd\n",
    "import numpy as np\n",
    "import cvxpy as cp\n",
    "import mlflow"
   ]
  },
  {
   "cell_type": "code",
   "execution_count": null,
   "metadata": {},
   "outputs": [],
   "source": [
    "import sys\n",
    "sys.path.insert(1, '..')\n",
    "\n",
    "from src.models.error_in_variable import TotalLeastSquares, SparseTotalLeastSquare\n",
    "from src.models.regression import ComplexLasso\n",
    "from src.identification.error_metrics import fro_error, error_metrics"
   ]
  },
  {
   "cell_type": "code",
   "execution_count": null,
   "metadata": {},
   "outputs": [],
   "source": [
    "np.set_printoptions(precision=2)\n",
    "mlflow.set_experiment('Toy problem with Cartesian noise (4 nodes)')"
   ]
  },
  {
   "cell_type": "code",
   "execution_count": null,
   "metadata": {},
   "outputs": [],
   "source": [
    "samples = 300\n",
    "v_noise_sd = 0.01\n",
    "i_noise_sd = 0.01\n",
    "mlflow_params = {'samples': samples, 'v_noise_sd': v_noise_sd, 'i_noise_sd': i_noise_sd}"
   ]
  },
  {
   "cell_type": "code",
   "execution_count": null,
   "metadata": {},
   "outputs": [],
   "source": [
    "np.random.seed(11)\n",
    "y_bus = np.array([\n",
    "    [1+1j, 0, 0, 0],\n",
    "    [0, 2+1j, 0, 0],\n",
    "    [2+1j, 0, 1+1j, 0],\n",
    "    [0, 0, 0, 2+1j],\n",
    "])\n",
    "nodes = y_bus.shape[0]\n",
    "real_voltages = np.random.normal(1, 0.1, (samples, nodes)) + 1j*np.random.normal(1, 0.1, (samples, nodes))\n",
    "real_currents = real_voltages @ y_bus\n",
    "\n",
    "voltages = real_voltages.copy() + np.random.normal(0, v_noise_sd, (samples, nodes)) + 1j*np.random.normal(0, v_noise_sd, (samples, nodes))\n",
    "currents = real_currents.copy() + np.random.normal(0, i_noise_sd, (samples, nodes)) + 1j*np.random.normal(0, i_noise_sd, (samples, nodes))\n",
    "\n",
    "voltage_error = voltages - real_voltages\n",
    "current_error = currents - real_currents"
   ]
  },
  {
   "cell_type": "markdown",
   "metadata": {},
   "source": [
    "# Standard TLS"
   ]
  },
  {
   "cell_type": "code",
   "execution_count": null,
   "metadata": {},
   "outputs": [],
   "source": [
    "mlflow.start_run(run_name='TLS')\n",
    "eiv = TotalLeastSquares()\n",
    "eiv.fit(voltages, currents)\n",
    "y_eiv = eiv.fitted_admittance_matrix\n",
    "y_eiv"
   ]
  },
  {
   "cell_type": "code",
   "execution_count": null,
   "metadata": {},
   "outputs": [],
   "source": [
    "tls_metrics = error_metrics(y_bus, y_eiv)\n",
    "mlflow.log_params(mlflow_params)\n",
    "mlflow.log_metrics(tls_metrics.__dict__)\n",
    "mlflow.end_run()"
   ]
  },
  {
   "cell_type": "markdown",
   "metadata": {},
   "source": [
    "# Standard LASSO"
   ]
  },
  {
   "cell_type": "code",
   "execution_count": null,
   "metadata": {},
   "outputs": [],
   "source": [
    "mlflow.start_run(run_name='Lasso')\n",
    "lasso = ComplexLasso(y_bus, verbose=False, lambdas=np.logspace(-4, 0, 20))\n",
    "lasso.fit(voltages, currents)\n",
    "y_lasso = lasso.fitted_admittance_matrix\n",
    "y_lasso"
   ]
  },
  {
   "cell_type": "code",
   "execution_count": null,
   "metadata": {},
   "outputs": [],
   "source": [
    "lasso_metrics = error_metrics(y_bus, y_lasso)\n",
    "mlflow.log_param('lambda', lasso.best_trial.hyperparameters['lambda'])\n",
    "mlflow.log_params(mlflow_params)\n",
    "mlflow.log_metrics(lasso_metrics.__dict__)\n",
    "mlflow.end_run()"
   ]
  },
  {
   "cell_type": "code",
   "execution_count": null,
   "metadata": {},
   "outputs": [],
   "source": [
    "lasso.best_trial"
   ]
  },
  {
   "cell_type": "markdown",
   "metadata": {},
   "source": [
    "# L1-regularized TLS"
   ]
  },
  {
   "cell_type": "code",
   "execution_count": null,
   "metadata": {},
   "outputs": [],
   "source": [
    "mlflow.start_run(run_name='S-TLS')\n",
    "tls_lambda = lasso.best_trial.hyperparameters['lambda']\n",
    "max_iterations = 50\n",
    "abs_tol = 10e-12\n",
    "rel_tol = 10e-12\n",
    "solver = cp.GUROBI\n",
    "use_l1_penalty = False\n",
    "sparse_eiv = SparseTotalLeastSquare(lambda_value=tls_lambda, abs_tol=abs_tol, rel_tol=rel_tol, solver=solver, max_iterations=max_iterations, use_l1_penalty=use_l1_penalty)\n",
    "sparse_eiv.fit(voltages, currents)\n",
    "y_sparse_eiv = sparse_eiv.fitted_admittance_matrix"
   ]
  },
  {
   "cell_type": "code",
   "execution_count": null,
   "metadata": {},
   "outputs": [],
   "source": [
    "y_sparse_eiv"
   ]
  },
  {
   "cell_type": "code",
   "execution_count": null,
   "metadata": {},
   "outputs": [],
   "source": [
    "stls_metrics = error_metrics(y_bus, y_sparse_eiv)\n",
    "stls_metrics"
   ]
  },
  {
   "cell_type": "code",
   "execution_count": null,
   "metadata": {},
   "outputs": [],
   "source": [
    "y_errors = pd.Series([fro_error(y_bus, i.fitted_parameters) for i in sparse_eiv.iterations])\n",
    "y_errors.plot(title='Fro error on Y');"
   ]
  },
  {
   "cell_type": "code",
   "execution_count": null,
   "metadata": {},
   "outputs": [],
   "source": [
    "targets = pd.Series([i.target_function for i in sparse_eiv.iterations])\n",
    "targets.plot(title='Target function');"
   ]
  },
  {
   "cell_type": "code",
   "execution_count": null,
   "metadata": {},
   "outputs": [],
   "source": [
    "mlflow.log_param('lambda', tls_lambda)\n",
    "mlflow.log_param('max_iterations', max_iterations)\n",
    "mlflow.log_param('abs_tol', abs_tol)\n",
    "mlflow.log_param('rel_tol', rel_tol)\n",
    "mlflow.log_param('solver', solver)\n",
    "mlflow.log_param('use_l1_penalty', use_l1_penalty)\n",
    "mlflow.log_params(mlflow_params)\n",
    "mlflow.log_metrics(stls_metrics.__dict__)\n",
    "for i in range(len(y_errors)):\n",
    "    mlflow.log_metric('fro_error_evo', value=y_errors[i], step=i)\n",
    "    mlflow.log_metric('opt_cost_evo', value=targets[i], step=i)\n",
    "mlflow.end_run()"
   ]
  },
  {
   "cell_type": "code",
   "execution_count": null,
   "metadata": {},
   "outputs": [],
   "source": [
    "np.abs(y_bus - y_sparse_eiv)"
   ]
  },
  {
   "cell_type": "code",
   "execution_count": null,
   "metadata": {},
   "outputs": [],
   "source": [
    "np.abs(y_bus - y_eiv)"
   ]
  },
  {
   "cell_type": "code",
   "execution_count": null,
   "metadata": {},
   "outputs": [],
   "source": [
    "np.abs(y_bus - y_sparse_eiv) > np.abs(y_bus - y_eiv)"
   ]
  }
 ],
 "metadata": {
  "kernelspec": {
   "display_name": "Python 3",
   "language": "python",
   "name": "python3"
  },
  "language_info": {
   "codemirror_mode": {
    "name": "ipython",
    "version": 3
   },
   "file_extension": ".py",
   "mimetype": "text/x-python",
   "name": "python",
   "nbconvert_exporter": "python",
   "pygments_lexer": "ipython3",
   "version": "3.7.7"
  }
 },
 "nbformat": 4,
 "nbformat_minor": 4
}
