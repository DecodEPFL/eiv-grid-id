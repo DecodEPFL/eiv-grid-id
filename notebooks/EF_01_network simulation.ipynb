{
 "cells": [
  {
   "cell_type": "markdown",
   "metadata": {},
   "source": [
    "# Setup"
   ]
  },
  {
   "cell_type": "code",
   "execution_count": null,
   "metadata": {},
   "outputs": [],
   "source": [
    "from dataclasses import dataclass\n",
    "\n",
    "import pandapower.networks as pnet\n",
    "\n",
    "import numpy as np\n",
    "import cvxpy as cp\n",
    "from numpy.linalg import inv"
   ]
  },
  {
   "cell_type": "code",
   "execution_count": null,
   "metadata": {},
   "outputs": [],
   "source": [
    "import sys\n",
    "sys.path.insert(1, '..')\n",
    "\n",
    "from src.simulation.load_profile import generate_gaussian_load\n",
    "from src.simulation.network import add_load_power_control, make_y_bus\n",
    "from src.simulation.simulation import run_simulation, get_current_and_voltage\n",
    "from src.identification.error_metrics import error_metrics, fro_error"
   ]
  },
  {
   "cell_type": "markdown",
   "metadata": {},
   "source": [
    "# Network simulation\n",
    "To start, we simulate Gaussian and independent fluctuations for power demands of loads, close to their referece values."
   ]
  },
  {
   "cell_type": "code",
   "execution_count": null,
   "metadata": {},
   "outputs": [],
   "source": [
    "net = pnet.case6ww()\n",
    "nodes = net.bus.shape[0]\n",
    "samples = 50\n",
    "load_cv = 0.02"
   ]
  },
  {
   "cell_type": "code",
   "execution_count": null,
   "metadata": {},
   "outputs": [],
   "source": [
    "load_p, load_q = generate_gaussian_load(net.load.p_mw, net.load.q_mvar, load_cv, samples)\n",
    "controlled_net = add_load_power_control(net, load_p, load_q)\n",
    "sim_result = run_simulation(controlled_net, verbose=False)\n",
    "y_bus = make_y_bus(controlled_net)\n",
    "voltage, current = get_current_and_voltage(sim_result, y_bus)"
   ]
  },
  {
   "cell_type": "markdown",
   "metadata": {},
   "source": [
    "# OLS Identification"
   ]
  },
  {
   "cell_type": "code",
   "execution_count": null,
   "metadata": {},
   "outputs": [],
   "source": [
    "y_ols = inv(voltage.conj().T @ voltage) @ voltage.conj().T @ current\n",
    "error_metrics(y_bus, y_ols)"
   ]
  },
  {
   "cell_type": "markdown",
   "metadata": {},
   "source": [
    "# Lasso Identification"
   ]
  },
  {
   "cell_type": "markdown",
   "metadata": {},
   "source": [
    "TODO: explain notation.\n",
    "\n",
    "In order to apply the complex LASSO algirithm, we first need to perform a vectorization of our model, as in (Ardakanian, 2019): \n",
    "\\begin{equation}\n",
    "\\text{vect}(I) = \\text{vect}(VY) = \\left( \\mathbb{I}_n \\otimes V \\right) \\text{vect} (Y).\n",
    "\\end{equation}\n",
    "\n",
    "Thus, the optimization problem we need to solve is:\n",
    "\\begin{equation}\n",
    "\\hat x = \\arg \\min_x \\left \\Vert b - Ax \\right \\Vert^2_2 + \\lambda \\left \\Vert x \\right \\Vert_1.\n",
    "\\end{equation}\n",
    "\n",
    "where:\n",
    "\\begin{align}\n",
    "A&= \\text{vect}{(\\underline{V}^T)} \\otimes \\mathbb{I}_n, \\\\\n",
    "b &= \\text{vect} (\\underline{I}), \\\\\n",
    "x &= \\text{vect} (Y),\n",
    "\\end{align}\n",
    "\n",
    "In the following, inputs and outputs of the model will be called y and x, respectively."
   ]
  },
  {
   "cell_type": "code",
   "execution_count": null,
   "metadata": {},
   "outputs": [],
   "source": [
    "b = np.ravel(current, 'F')\n",
    "a = np.kron(np.eye(nodes), voltage)"
   ]
  },
  {
   "cell_type": "markdown",
   "metadata": {},
   "source": [
    "Then, we can apply the r-LASSO, defined in (Maleki, 2013), following what done by (Ardakanian, 2019) - see https://github.com/sustainable-computing/Distribution-Grid-Identification/blob/master/standardLasso.m."
   ]
  },
  {
   "cell_type": "code",
   "execution_count": null,
   "metadata": {},
   "outputs": [],
   "source": [
    "b_tilde = np.hstack([np.real(b), np.imag(b)])\n",
    "a_tilde = np.block([[np.real(a), -np.imag(a)], [np.imag(a), np.real(a)]])"
   ]
  },
  {
   "cell_type": "markdown",
   "metadata": {},
   "source": [
    "In order to solve the problem, we frame it as an uncontrained convex optimization problem, using the Python cvxpy library: https://github.com/cvxgrp/cvxpy."
   ]
  },
  {
   "cell_type": "code",
   "execution_count": null,
   "metadata": {},
   "outputs": [],
   "source": [
    "def objective_fn(a: np.array, b: np.array, x: np.array, l: float) -> float:\n",
    "    return cp.norm2(a @ x - b)**2 + l * cp.norm1(x)\n",
    "\n",
    "@dataclass\n",
    "class LassoResult():\n",
    "    l: float\n",
    "    fro_error: float\n",
    "    y_hat: np.array\n",
    "\n",
    "y_lasso_opt = cp.Variable(2 * nodes * nodes)\n",
    "l_param = cp.Parameter(nonneg=True)\n",
    "problem = cp.Problem(cp.Minimize(objective_fn(a_tilde, b_tilde, y_lasso_opt, l_param)))\n",
    "\n",
    "l_values = np.logspace(-6, 2, 100)\n",
    "res = []\n",
    "for l in l_values:\n",
    "    l_param.value = l\n",
    "    problem.solve()\n",
    "    y_lasso_vect_real = y_lasso_opt.value[:nodes**2]\n",
    "    y_lasso_vect_img = y_lasso_opt.value[nodes**2:]\n",
    "    y_lasso_vect = y_lasso_vect_real + 1j * y_lasso_vect_img\n",
    "    y_lasso = y_lasso_vect.reshape(nodes, nodes)\n",
    "    fro_error_for_l = fro_error(y_bus, y_lasso)\n",
    "    res.append(LassoResult(l, fro_error_for_l, y_lasso))\n",
    "y_lasso_best = min(res, key=lambda x: x.fro_error)"
   ]
  },
  {
   "cell_type": "code",
   "execution_count": null,
   "metadata": {},
   "outputs": [],
   "source": [
    "y_lasso_best"
   ]
  },
  {
   "cell_type": "code",
   "execution_count": null,
   "metadata": {},
   "outputs": [],
   "source": [
    "error_metrics(y_bus, y_lasso_best.y_hat)"
   ]
  }
 ],
 "metadata": {
  "kernelspec": {
   "display_name": "Python 3",
   "language": "python",
   "name": "python3"
  },
  "language_info": {
   "codemirror_mode": {
    "name": "ipython",
    "version": 3
   },
   "file_extension": ".py",
   "mimetype": "text/x-python",
   "name": "python",
   "nbconvert_exporter": "python",
   "pygments_lexer": "ipython3",
   "version": "3.7.7"
  }
 },
 "nbformat": 4,
 "nbformat_minor": 4
}
