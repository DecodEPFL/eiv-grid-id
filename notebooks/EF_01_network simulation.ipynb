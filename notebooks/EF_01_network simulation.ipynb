{
 "cells": [
  {
   "cell_type": "markdown",
   "metadata": {},
   "source": [
    "# Setup"
   ]
  },
  {
   "cell_type": "code",
   "execution_count": null,
   "metadata": {},
   "outputs": [],
   "source": [
    "from dataclasses import dataclass\n",
    "\n",
    "import pandapower.networks as pnet\n",
    "\n",
    "import numpy as np\n",
    "import cvxpy as cp\n",
    "from numpy.linalg import inv"
   ]
  },
  {
   "cell_type": "code",
   "execution_count": null,
   "metadata": {},
   "outputs": [],
   "source": [
    "import sys\n",
    "sys.path.insert(1, '..')\n",
    "\n",
    "from src.models.regression import ComplexRegression, ComplexLasso\n",
    "from src.simulation.load_profile import generate_gaussian_load\n",
    "from src.simulation.network import add_load_power_control, make_y_bus\n",
    "from src.simulation.simulation import run_simulation, get_current_and_voltage\n",
    "from src.identification.error_metrics import error_metrics, fro_error"
   ]
  },
  {
   "cell_type": "markdown",
   "metadata": {},
   "source": [
    "# Network simulation\n",
    "To start, we simulate Gaussian and independent fluctuations for power demands of loads, close to their referece values."
   ]
  },
  {
   "cell_type": "code",
   "execution_count": null,
   "metadata": {},
   "outputs": [],
   "source": [
    "net = pnet.case6ww()\n",
    "nodes = net.bus.shape[0]\n",
    "samples = 200\n",
    "load_cv = 0.02"
   ]
  },
  {
   "cell_type": "code",
   "execution_count": null,
   "metadata": {},
   "outputs": [],
   "source": [
    "load_p, load_q = generate_gaussian_load(net.load.p_mw, net.load.q_mvar, load_cv, samples)\n",
    "controlled_net = add_load_power_control(net, load_p, load_q)\n",
    "sim_result = run_simulation(controlled_net, verbose=False)\n",
    "y_bus = make_y_bus(controlled_net)\n",
    "voltage, current = get_current_and_voltage(sim_result, y_bus)"
   ]
  },
  {
   "cell_type": "markdown",
   "metadata": {},
   "source": [
    "# OLS Identification"
   ]
  },
  {
   "cell_type": "code",
   "execution_count": null,
   "metadata": {},
   "outputs": [],
   "source": [
    "y_ols = ComplexRegression().fit(voltage, current).fitted_beta\n",
    "error_metrics(y_bus, y_ols)"
   ]
  },
  {
   "cell_type": "markdown",
   "metadata": {},
   "source": [
    "# Lasso Identification"
   ]
  },
  {
   "cell_type": "markdown",
   "metadata": {},
   "source": [
    "TODO: explain notation.\n",
    "\n",
    "In order to apply the complex LASSO algirithm, we first need to perform a vectorization of our model, as in (Ardakanian, 2019): \n",
    "\\begin{equation}\n",
    "\\text{vect}(I) = \\text{vect}(VY) = \\left( \\mathbb{I}_n \\otimes V \\right) \\text{vect} (Y).\n",
    "\\end{equation}\n",
    "\n",
    "Thus, the optimization problem we need to solve is:\n",
    "\\begin{equation}\n",
    "\\hat x = \\arg \\min_x \\left \\Vert b - Ax \\right \\Vert^2_2 + \\lambda \\left \\Vert x \\right \\Vert_1.\n",
    "\\end{equation}\n",
    "\n",
    "where:\n",
    "\\begin{align}\n",
    "A&= \\text{vect}{(\\underline{V}^T)} \\otimes \\mathbb{I}_n, \\\\\n",
    "b &= \\text{vect} (\\underline{I}), \\\\\n",
    "x &= \\text{vect} (Y),\n",
    "\\end{align}\n",
    "\n",
    "In the following, inputs and outputs of the model will be called y and x, respectively."
   ]
  },
  {
   "cell_type": "code",
   "execution_count": null,
   "metadata": {},
   "outputs": [],
   "source": [
    "b = np.ravel(current, 'F')\n",
    "a = np.kron(np.eye(nodes), voltage)"
   ]
  },
  {
   "cell_type": "markdown",
   "metadata": {},
   "source": [
    "Then, we can apply the r-LASSO, defined in (Maleki, 2013), following what done by (Ardakanian, 2019) - see https://github.com/sustainable-computing/Distribution-Grid-Identification/blob/master/standardLasso.m."
   ]
  },
  {
   "cell_type": "markdown",
   "metadata": {},
   "source": [
    "In order to solve the problem, we frame it as an uncontrained convex optimization problem, using the Python cvxpy library: https://github.com/cvxgrp/cvxpy."
   ]
  },
  {
   "cell_type": "code",
   "execution_count": null,
   "metadata": {},
   "outputs": [],
   "source": [
    "lasso_res = ComplexLasso(verbose=False, lambdas=np.logspace(-10, 1, 100)).fit(a, b)\n",
    "best_lasso_res = lasso_res.get_best_by(lambda y: fro_error(y.reshape(nodes, nodes), y_bus))"
   ]
  },
  {
   "cell_type": "code",
   "execution_count": null,
   "metadata": {},
   "outputs": [],
   "source": [
    "best_lasso_res.lambda_value"
   ]
  },
  {
   "cell_type": "code",
   "execution_count": null,
   "metadata": {},
   "outputs": [],
   "source": [
    "best_lasso_res.metric_value"
   ]
  }
 ],
 "metadata": {
  "kernelspec": {
   "display_name": "Python 3",
   "language": "python",
   "name": "python3"
  },
  "language_info": {
   "codemirror_mode": {
    "name": "ipython",
    "version": 3
   },
   "file_extension": ".py",
   "mimetype": "text/x-python",
   "name": "python",
   "nbconvert_exporter": "python",
   "pygments_lexer": "ipython3",
   "version": "3.7.7"
  }
 },
 "nbformat": 4,
 "nbformat_minor": 4
}
