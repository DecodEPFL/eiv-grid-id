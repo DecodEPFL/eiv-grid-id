{
 "cells": [
  {
   "cell_type": "markdown",
   "metadata": {},
   "source": [
    "# Setup"
   ]
  },
  {
   "cell_type": "code",
   "execution_count": null,
   "metadata": {},
   "outputs": [],
   "source": [
    "import pandas as pd\n",
    "import numpy as np\n",
    "\n",
    "import pandapower as pp\n",
    "import pandapower.networks as pnet\n",
    "import pandapower.plotting as pplot\n",
    "import pandapower.timeseries as pts\n",
    "import pandapower.control as pcon\n",
    "\n",
    "from pandapower.plotting.plotly import pf_res_plotly\n",
    "from pandapower.timeseries.output_writer import OutputWriter"
   ]
  },
  {
   "cell_type": "markdown",
   "metadata": {},
   "source": [
    "# Network simulation\n",
    "To start, we simulate Gaussian and independent fluctuations for power demands of loads, close to their referece values."
   ]
  },
  {
   "cell_type": "code",
   "execution_count": null,
   "metadata": {},
   "outputs": [],
   "source": [
    "net = pnet.case6ww()\n",
    "samples = 100\n",
    "load_sd_frac = 0.02"
   ]
  },
  {
   "cell_type": "code",
   "execution_count": null,
   "metadata": {},
   "outputs": [],
   "source": [
    "n_load = net.load.shape[0]"
   ]
  },
  {
   "cell_type": "code",
   "execution_count": null,
   "metadata": {},
   "outputs": [],
   "source": [
    "np.random.seed(11)\n",
    "load_p = np.random.normal(net.load.p_mw, net.load.p_mw * load_sd_frac, (samples, n_load))\n",
    "load_q = np.random.normal(net.load.q_mvar, net.load.q_mvar * load_sd_frac, (samples, n_load))\n",
    "\n",
    "load_p_df = pts.DFData(pd.DataFrame(load_p))\n",
    "const_load_p = pcon.ConstControl(net, element='load', element_index=net.load.index,\n",
    "                                    variable='p_mw',  data_source=load_p_df, profile_name=net.load.index)\n",
    "load_q_df = pts.DFData(pd.DataFrame(load_q))\n",
    "const_load_q = pcon.ConstControl(net, element='load', element_index=net.load.index,\n",
    "                                    variable='q_mvar',  data_source=load_q_df, profile_name=net.load.index)"
   ]
  },
  {
   "cell_type": "code",
   "execution_count": null,
   "metadata": {},
   "outputs": [],
   "source": [
    "ow = OutputWriter(net, output_path='.', output_file_type=\".csv\", log_variables=[('res_bus', 'vm_pb')])\n",
    "pts.run_timeseries(net, numba=False)"
   ]
  },
  {
   "cell_type": "code",
   "execution_count": null,
   "metadata": {},
   "outputs": [],
   "source": [
    "net['_ppc']['internal']['Ybus'].todense()"
   ]
  }
 ],
 "metadata": {
  "kernelspec": {
   "display_name": "Python 3",
   "language": "python",
   "name": "python3"
  },
  "language_info": {
   "codemirror_mode": {
    "name": "ipython",
    "version": 3
   },
   "file_extension": ".py",
   "mimetype": "text/x-python",
   "name": "python",
   "nbconvert_exporter": "python",
   "pygments_lexer": "ipython3",
   "version": "3.7.7"
  }
 },
 "nbformat": 4,
 "nbformat_minor": 4
}
