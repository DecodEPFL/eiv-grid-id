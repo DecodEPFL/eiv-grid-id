{
 "cells": [
  {
   "cell_type": "markdown",
   "metadata": {},
   "source": [
    "# Setup"
   ]
  },
  {
   "cell_type": "code",
   "execution_count": null,
   "metadata": {},
   "outputs": [],
   "source": [
    "import pandapower.networks as pnet\n",
    "import numpy as np"
   ]
  },
  {
   "cell_type": "code",
   "execution_count": null,
   "metadata": {},
   "outputs": [],
   "source": [
    "import sys\n",
    "sys.path.insert(1, '..')\n",
    "\n",
    "from src.simulation.noise import add_noise_in_cartesian_coordinates\n",
    "from src.models.regression import ComplexRegression, ComplexLasso\n",
    "from src.simulation.load_profile import generate_gaussian_load\n",
    "from src.simulation.network import add_load_power_control, make_y_bus\n",
    "from src.simulation.simulation import run_simulation, get_current_and_voltage\n",
    "from src.identification.error_metrics import error_metrics, fro_error"
   ]
  },
  {
   "cell_type": "markdown",
   "metadata": {},
   "source": [
    "# Network simulation\n",
    "To start, we simulate Gaussian and independent fluctuations for power demands of loads, close to their referece values.\n",
    "We collect current $I_i$ and voltage $V_i$ at each node for $n$ time steps, $i = 1...n$.\n",
    "By first principles, we know that $I_i = YV_i$, where Y is the bus admittance matrix."
   ]
  },
  {
   "cell_type": "code",
   "execution_count": null,
   "metadata": {},
   "outputs": [],
   "source": [
    "net = pnet.case33bw()\n",
    "nodes = net.bus.shape[0]\n",
    "steps = 30000\n",
    "load_cv = 0.02\n",
    "current_accuracy = 0.0001\n",
    "voltage_accuracy = 0.0001"
   ]
  },
  {
   "cell_type": "code",
   "execution_count": null,
   "metadata": {},
   "outputs": [],
   "source": [
    "load_p, load_q = generate_gaussian_load(net.load.p_mw, net.load.q_mvar, load_cv, steps)\n",
    "controlled_net = add_load_power_control(net, load_p, load_q)\n",
    "sim_result = run_simulation(controlled_net, verbose=False)\n",
    "y_bus = make_y_bus(controlled_net)\n",
    "voltage, current = get_current_and_voltage(sim_result, y_bus)\n",
    "noisy_voltage, noisy_current = add_noise_in_cartesian_coordinates(current, voltage, current_accuracy, voltage_accuracy)"
   ]
  },
  {
   "cell_type": "markdown",
   "metadata": {},
   "source": [
    "# OLS Identification\n",
    "We start with a classical OLS regression. We define:\n",
    "\\begin{align}\n",
    "I &= [I_1^T, ..., I_n^T]^T \\\\\n",
    "V &= [V_1^T, ..., V_n^T]^T\n",
    "\\end{align}\n",
    "Then, we have:\n",
    "\\begin{equation}\n",
    "Y_{ols} = (V^HV)^{-1}V^HI\n",
    "\\end{equation}"
   ]
  },
  {
   "cell_type": "code",
   "execution_count": null,
   "metadata": {},
   "outputs": [],
   "source": [
    "y_ols = ComplexRegression().fit(noisy_voltage, noisy_current).fitted_beta\n",
    "error_metrics(y_bus, y_ols)"
   ]
  },
  {
   "cell_type": "markdown",
   "metadata": {},
   "source": [
    "# Lasso Identification"
   ]
  },
  {
   "cell_type": "markdown",
   "metadata": {},
   "source": [
    "In order to apply the complex LASSO algirithm, we first need to perform a vectorization of our model, as in (Ardakanian, 2019). Let $\\mathbb{I}_n$ represent the n-by-n identity matrix. We have: \n",
    "\\begin{equation}\n",
    "\\text{vect}(I) = \\text{vect}(VY) = \\left( \\mathbb{I}_n \\otimes V \\right) \\text{vect} (Y).\n",
    "\\end{equation}\n",
    "\n",
    "Thus, the optimization problem we need to solve is:\n",
    "\\begin{equation}\n",
    "\\hat x = \\arg \\min_x \\left \\Vert b - Ax \\right \\Vert^2_2 + \\lambda \\left \\Vert x \\right \\Vert_1.\n",
    "\\end{equation}\n",
    "\n",
    "where:\n",
    "\\begin{align}\n",
    "A&= \\text{vect}{(V^T)} \\otimes \\mathbb{I}_n, \\\\\n",
    "b &= \\text{vect} (I), \\\\\n",
    "x &= \\text{vect} (Y),\n",
    "\\end{align}"
   ]
  },
  {
   "cell_type": "code",
   "execution_count": null,
   "metadata": {},
   "outputs": [],
   "source": [
    "b = np.ravel(noisy_current, 'F')\n",
    "a = np.kron(np.eye(nodes), noisy_voltage)"
   ]
  },
  {
   "cell_type": "markdown",
   "metadata": {},
   "source": [
    "Then, we can apply the r-LASSO, defined in (Maleki, 2013), following what done by (Ardakanian, 2019) - see https://github.com/sustainable-computing/Distribution-Grid-Identification/blob/master/standardLasso.m."
   ]
  },
  {
   "cell_type": "markdown",
   "metadata": {},
   "source": [
    "In order to solve the problem, we frame it as an uncontrained convex optimization problem, using the Python cvxpy library: https://github.com/cvxgrp/cvxpy."
   ]
  },
  {
   "cell_type": "code",
   "execution_count": null,
   "metadata": {},
   "outputs": [],
   "source": [
    "#lasso_res = ComplexLasso(verbose=False, lambdas=np.logspace(-10, 1, 20)).fit(a, b)\n",
    "#best_lasso_res = lasso_res.get_best_by(lambda y: fro_error(y.reshape(nodes, nodes), y_bus))"
   ]
  },
  {
   "cell_type": "code",
   "execution_count": null,
   "metadata": {},
   "outputs": [],
   "source": [
    "# best_lasso_res.lambda_value"
   ]
  },
  {
   "cell_type": "code",
   "execution_count": null,
   "metadata": {},
   "outputs": [],
   "source": [
    "# error_metrics(y_bus, best_lasso_res.fitted_beta.reshape(nodes, nodes))"
   ]
  },
  {
   "cell_type": "markdown",
   "metadata": {},
   "source": [
    "# TLS Identification"
   ]
  },
  {
   "cell_type": "code",
   "execution_count": null,
   "metadata": {},
   "outputs": [],
   "source": [
    "%%time\n",
    "u, s, vh = np.linalg.svd(np.block([noisy_voltage, noisy_current]))\n",
    "v = vh.conj().T\n",
    "v_xy = v[:nodes, nodes:]\n",
    "v_yy = v[nodes:, nodes:]\n",
    "y_tls = - v_xy @ np.linalg.inv(v_yy)"
   ]
  },
  {
   "cell_type": "code",
   "execution_count": null,
   "metadata": {},
   "outputs": [],
   "source": [
    "error_metrics(y_bus, y_tls)"
   ]
  }
 ],
 "metadata": {
  "kernelspec": {
   "display_name": "Python 3",
   "language": "python",
   "name": "python3"
  },
  "language_info": {
   "codemirror_mode": {
    "name": "ipython",
    "version": 3
   },
   "file_extension": ".py",
   "mimetype": "text/x-python",
   "name": "python",
   "nbconvert_exporter": "python",
   "pygments_lexer": "ipython3",
   "version": "3.7.7"
  }
 },
 "nbformat": 4,
 "nbformat_minor": 4
}
