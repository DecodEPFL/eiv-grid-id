{
 "cells": [
  {
   "cell_type": "markdown",
   "metadata": {},
   "source": [
    "# Setup"
   ]
  },
  {
   "cell_type": "code",
   "execution_count": null,
   "metadata": {
    "execution": {
     "iopub.status.idle": "2020-07-24T11:21:23.514353Z",
     "shell.execute_reply": "2020-07-24T11:21:23.511354Z",
     "shell.execute_reply.started": "2020-07-24T11:21:19.276867Z"
    }
   },
   "outputs": [],
   "source": [
    "import pandapower.networks as pnet\n",
    "import pandas as pd\n",
    "import numpy as np\n",
    "import scipy as sp\n",
    "import cvxpy as cp\n",
    "import seaborn as sns\n",
    "\n",
    "from scipy import sparse"
   ]
  },
  {
   "cell_type": "code",
   "execution_count": null,
   "metadata": {
    "execution": {
     "iopub.execute_input": "2020-07-24T11:21:23.517352Z",
     "iopub.status.busy": "2020-07-24T11:21:23.516354Z",
     "iopub.status.idle": "2020-07-24T11:21:23.718425Z",
     "shell.execute_reply": "2020-07-24T11:21:23.716442Z",
     "shell.execute_reply.started": "2020-07-24T11:21:23.517352Z"
    }
   },
   "outputs": [],
   "source": [
    "%load_ext autoreload\n",
    "%autoreload 2"
   ]
  },
  {
   "cell_type": "code",
   "execution_count": null,
   "metadata": {
    "execution": {
     "iopub.execute_input": "2020-07-24T11:21:23.722388Z",
     "iopub.status.busy": "2020-07-24T11:21:23.721892Z",
     "iopub.status.idle": "2020-07-24T11:21:24.005390Z",
     "shell.execute_reply": "2020-07-24T11:21:24.001396Z",
     "shell.execute_reply.started": "2020-07-24T11:21:23.722388Z"
    }
   },
   "outputs": [],
   "source": [
    "import sys\n",
    "sys.path.insert(1, '..')\n",
    "\n",
    "from src.models.matrix_operations import make_real_vector, vectorize_matrix\n",
    "from src.simulation.noise import add_polar_noise_to_measurement\n",
    "from src.models.noise_transformation import cartesian_noise_covariance\n",
    "from src.models.regression import ComplexRegression, ComplexLasso\n",
    "from src.models.error_in_variable import TotalLeastSquares, SparseTotalLeastSquare\n",
    "from src.simulation.load_profile import generate_gaussian_load\n",
    "from src.simulation.network import add_load_power_control, make_y_bus\n",
    "from src.simulation.simulation import run_simulation, get_current_and_voltage\n",
    "from src.identification.error_metrics import error_metrics, fro_error"
   ]
  },
  {
   "cell_type": "markdown",
   "metadata": {},
   "source": [
    "# Network simulation"
   ]
  },
  {
   "cell_type": "code",
   "execution_count": null,
   "metadata": {
    "execution": {
     "iopub.execute_input": "2020-07-24T11:21:24.011395Z",
     "iopub.status.busy": "2020-07-24T11:21:24.010392Z",
     "iopub.status.idle": "2020-07-24T11:21:24.782429Z",
     "shell.execute_reply": "2020-07-24T11:21:24.777472Z",
     "shell.execute_reply.started": "2020-07-24T11:21:24.011395Z"
    }
   },
   "outputs": [],
   "source": [
    "net = pnet.create_kerber_landnetz_freileitung_2()\n",
    "nodes = net.bus.shape[0]\n",
    "steps = 400\n",
    "load_cv = 0.2\n",
    "current_magnitude_accuracy_pu = 0.00003\n",
    "voltage_magnitude_accuracy_pu = 0.003\n",
    "phase_accuracy_deg = 0.05"
   ]
  },
  {
   "cell_type": "code",
   "execution_count": null,
   "metadata": {
    "execution": {
     "iopub.execute_input": "2020-07-24T11:21:24.786476Z",
     "iopub.status.busy": "2020-07-24T11:21:24.785484Z",
     "iopub.status.idle": "2020-07-24T11:21:33.813478Z",
     "shell.execute_reply": "2020-07-24T11:21:33.811514Z",
     "shell.execute_reply.started": "2020-07-24T11:21:24.786476Z"
    }
   },
   "outputs": [],
   "source": [
    "np.random.seed(11)\n",
    "load_p, load_q = generate_gaussian_load(net.load.p_mw, net.load.q_mvar, load_cv, steps)\n",
    "controlled_net = add_load_power_control(net, load_p, load_q)\n",
    "sim_result = run_simulation(controlled_net, verbose=False)\n",
    "y_bus = make_y_bus(controlled_net)\n",
    "voltage, current = get_current_and_voltage(sim_result, y_bus)\n",
    "controlled_net.bus"
   ]
  },
  {
   "cell_type": "code",
   "execution_count": null,
   "metadata": {
    "execution": {
     "iopub.execute_input": "2020-07-24T11:21:33.816337Z",
     "iopub.status.busy": "2020-07-24T11:21:33.815355Z",
     "iopub.status.idle": "2020-07-24T11:21:33.962060Z",
     "shell.execute_reply": "2020-07-24T11:21:33.960059Z",
     "shell.execute_reply.started": "2020-07-24T11:21:33.816337Z"
    }
   },
   "outputs": [],
   "source": [
    "voltage = voltage[:, 1:]\n",
    "y_bus = y_bus[1:, 1:]\n",
    "current = np.array(voltage @ y_bus)\n",
    "noisy_voltage, voltage_mag_sd, voltage_phase_sd = add_polar_noise_to_measurement(voltage, voltage_magnitude_accuracy_pu, phase_accuracy_deg)\n",
    "noisy_current, current_mag_sd, current_phase_sd = add_polar_noise_to_measurement(current, current_magnitude_accuracy_pu, phase_accuracy_deg)\n",
    "voltage_error, current_error = noisy_voltage - voltage, noisy_current - current"
   ]
  },
  {
   "cell_type": "code",
   "execution_count": null,
   "metadata": {
    "execution": {
     "iopub.execute_input": "2020-07-24T11:21:33.964061Z",
     "iopub.status.busy": "2020-07-24T11:21:33.963060Z",
     "iopub.status.idle": "2020-07-24T11:21:34.130313Z",
     "shell.execute_reply": "2020-07-24T11:21:34.125839Z",
     "shell.execute_reply.started": "2020-07-24T11:21:33.964061Z"
    }
   },
   "outputs": [],
   "source": [
    "np.linalg.svd(voltage, compute_uv=False)"
   ]
  },
  {
   "cell_type": "code",
   "execution_count": null,
   "metadata": {
    "execution": {
     "iopub.execute_input": "2020-07-24T11:21:34.132467Z",
     "iopub.status.busy": "2020-07-24T11:21:34.131421Z",
     "iopub.status.idle": "2020-07-24T11:21:34.290467Z",
     "shell.execute_reply": "2020-07-24T11:21:34.288191Z",
     "shell.execute_reply.started": "2020-07-24T11:21:34.132467Z"
    }
   },
   "outputs": [],
   "source": [
    "sigma_a = cartesian_noise_covariance(noisy_voltage, voltage_mag_sd, voltage_phase_sd)\n",
    "sigma_b = cartesian_noise_covariance(noisy_current, current_mag_sd, current_phase_sd)"
   ]
  },
  {
   "cell_type": "code",
   "execution_count": null,
   "metadata": {
    "execution": {
     "iopub.execute_input": "2020-07-24T11:21:34.295983Z",
     "iopub.status.busy": "2020-07-24T11:21:34.294988Z",
     "iopub.status.idle": "2020-07-24T11:24:55.242107Z",
     "shell.execute_reply": "2020-07-24T11:24:55.240105Z",
     "shell.execute_reply.started": "2020-07-24T11:21:34.295983Z"
    }
   },
   "outputs": [],
   "source": [
    "print(f'All sigma a eig positive: {np.all(np.linalg.eigvals(sigma_a.todense()) > 0)}')\n",
    "print(f'All sigma b eig positive: {np.all(np.linalg.eigvals(sigma_b.todense()) > 0)}')"
   ]
  },
  {
   "cell_type": "code",
   "execution_count": null,
   "metadata": {
    "execution": {
     "iopub.execute_input": "2020-07-24T11:24:55.245105Z",
     "iopub.status.busy": "2020-07-24T11:24:55.244106Z",
     "iopub.status.idle": "2020-07-24T11:24:55.382103Z",
     "shell.execute_reply": "2020-07-24T11:24:55.381141Z",
     "shell.execute_reply.started": "2020-07-24T11:24:55.245105Z"
    }
   },
   "outputs": [],
   "source": [
    "np.mean(np.abs(current), 0)"
   ]
  },
  {
   "cell_type": "code",
   "execution_count": null,
   "metadata": {
    "execution": {
     "iopub.execute_input": "2020-07-24T11:24:55.383105Z",
     "iopub.status.busy": "2020-07-24T11:24:55.383105Z",
     "iopub.status.idle": "2020-07-24T11:25:12.507104Z",
     "shell.execute_reply": "2020-07-24T11:25:12.506105Z",
     "shell.execute_reply.started": "2020-07-24T11:24:55.383105Z"
    }
   },
   "outputs": [],
   "source": [
    "inv_sigma_current = sparse.linalg.inv(sigma_b)\n",
    "inv_sigma_voltage = sparse.linalg.inv(sigma_a)\n",
    "real_voltage_error = make_real_vector(vectorize_matrix(voltage_error))\n",
    "real_current_error = make_real_vector(vectorize_matrix(current_error))\n",
    "\n",
    "print(f'Norm of weighted voltage error: {np.linalg.norm(real_voltage_error.T @ inv_sigma_voltage @ real_voltage_error)**2}')\n",
    "print(f'Norm of weighted current error: {np.linalg.norm(real_current_error.T @ inv_sigma_current @ real_current_error)**2}')\n",
    "print(f'Norm of admittance matrix: {np.sum(np.abs(np.real(y_bus))) + np.sum(np.abs(np.imag(y_bus)))}')"
   ]
  },
  {
   "cell_type": "markdown",
   "metadata": {},
   "source": [
    "# OLS Identification"
   ]
  },
  {
   "cell_type": "code",
   "execution_count": null,
   "metadata": {
    "execution": {
     "iopub.execute_input": "2020-07-24T11:25:12.508103Z",
     "iopub.status.busy": "2020-07-24T11:25:12.508103Z",
     "iopub.status.idle": "2020-07-24T11:25:12.617108Z",
     "shell.execute_reply": "2020-07-24T11:25:12.615109Z",
     "shell.execute_reply.started": "2020-07-24T11:25:12.508103Z"
    }
   },
   "outputs": [],
   "source": [
    "ols = ComplexRegression()\n",
    "ols.fit(noisy_voltage, noisy_current)\n",
    "y_ols = ols.fitted_admittance_matrix\n",
    "error_metrics(y_bus, y_ols)"
   ]
  },
  {
   "cell_type": "markdown",
   "metadata": {},
   "source": [
    "# Lasso Identification"
   ]
  },
  {
   "cell_type": "code",
   "execution_count": null,
   "metadata": {
    "execution": {
     "iopub.execute_input": "2020-07-24T11:25:12.618108Z",
     "iopub.status.busy": "2020-07-24T11:25:12.618108Z",
     "iopub.status.idle": "2020-07-24T11:25:31.667154Z",
     "shell.execute_reply": "2020-07-24T11:25:31.665292Z",
     "shell.execute_reply.started": "2020-07-24T11:25:12.618108Z"
    }
   },
   "outputs": [],
   "source": [
    "lasso = ComplexLasso(y_bus, verbose=False, lambdas=np.logspace(-12, -1, 40), solver=cp.GUROBI)\n",
    "lasso.fit(noisy_voltage, noisy_current)\n",
    "y_lasso = lasso.fitted_admittance_matrix"
   ]
  },
  {
   "cell_type": "code",
   "execution_count": null,
   "metadata": {
    "execution": {
     "iopub.execute_input": "2020-07-24T11:25:31.668141Z",
     "iopub.status.busy": "2020-07-24T11:25:31.668141Z",
     "iopub.status.idle": "2020-07-24T11:25:31.756104Z",
     "shell.execute_reply": "2020-07-24T11:25:31.755103Z",
     "shell.execute_reply.started": "2020-07-24T11:25:31.668141Z"
    }
   },
   "outputs": [],
   "source": [
    "lasso.best_trial"
   ]
  },
  {
   "cell_type": "code",
   "execution_count": null,
   "metadata": {
    "execution": {
     "iopub.execute_input": "2020-07-24T11:25:31.757105Z",
     "iopub.status.busy": "2020-07-24T11:25:31.757105Z",
     "iopub.status.idle": "2020-07-24T11:25:31.841104Z",
     "shell.execute_reply": "2020-07-24T11:25:31.840105Z",
     "shell.execute_reply.started": "2020-07-24T11:25:31.757105Z"
    }
   },
   "outputs": [],
   "source": [
    "error_metrics(y_bus, y_lasso)"
   ]
  },
  {
   "cell_type": "markdown",
   "metadata": {},
   "source": [
    "# TLS Identification"
   ]
  },
  {
   "cell_type": "code",
   "execution_count": null,
   "metadata": {
    "execution": {
     "iopub.execute_input": "2020-07-24T11:25:31.842105Z",
     "iopub.status.busy": "2020-07-24T11:25:31.842105Z",
     "iopub.status.idle": "2020-07-24T11:25:31.938107Z",
     "shell.execute_reply": "2020-07-24T11:25:31.937105Z",
     "shell.execute_reply.started": "2020-07-24T11:25:31.842105Z"
    }
   },
   "outputs": [],
   "source": [
    "%%time\n",
    "eiv = TotalLeastSquares()\n",
    "eiv.fit(noisy_voltage, noisy_current)\n",
    "y_tls = eiv.fitted_admittance_matrix"
   ]
  },
  {
   "cell_type": "code",
   "execution_count": null,
   "metadata": {
    "execution": {
     "iopub.execute_input": "2020-07-24T11:25:31.940106Z",
     "iopub.status.busy": "2020-07-24T11:25:31.940106Z",
     "iopub.status.idle": "2020-07-24T11:25:32.043104Z",
     "shell.execute_reply": "2020-07-24T11:25:32.042104Z",
     "shell.execute_reply.started": "2020-07-24T11:25:31.940106Z"
    }
   },
   "outputs": [],
   "source": [
    "error_metrics(y_bus, y_tls)"
   ]
  },
  {
   "cell_type": "markdown",
   "metadata": {},
   "source": [
    "# L1 Regularized TLS"
   ]
  },
  {
   "cell_type": "code",
   "execution_count": null,
   "metadata": {
    "execution": {
     "iopub.execute_input": "2020-07-24T11:36:34.057776Z",
     "iopub.status.busy": "2020-07-24T11:36:34.057776Z",
     "iopub.status.idle": "2020-07-24T11:36:37.759750Z",
     "shell.execute_reply": "2020-07-24T11:36:37.758784Z",
     "shell.execute_reply.started": "2020-07-24T11:36:34.057776Z"
    }
   },
   "outputs": [],
   "source": [
    "tls_lambda = 100 # lasso.best_hyperparams['lambda']\n",
    "sparse_eiv = SparseTotalLeastSquare(lambda_value=tls_lambda, abs_tol=10e-12, rel_tol=10e-12, max_iterations=200, verbose=True, solver=cp.GUROBI)\n",
    "sparse_eiv.fit(noisy_voltage, noisy_current, inv_sigma_voltage, inv_sigma_current)\n",
    "y_sparse_eiv = sparse_eiv.fitted_admittance_matrix"
   ]
  },
  {
   "cell_type": "code",
   "execution_count": null,
   "metadata": {
    "execution": {
     "iopub.status.busy": "2020-07-24T11:25:36.031104Z",
     "iopub.status.idle": "2020-07-24T11:25:36.032109Z"
    }
   },
   "outputs": [],
   "source": [
    "error_metrics(y_bus, y_sparse_eiv)"
   ]
  },
  {
   "cell_type": "code",
   "execution_count": null,
   "metadata": {
    "execution": {
     "iopub.status.busy": "2020-07-24T11:25:36.033104Z",
     "iopub.status.idle": "2020-07-24T11:25:36.033104Z"
    }
   },
   "outputs": [],
   "source": [
    "y_errors = pd.Series([fro_error(y_bus, i.fitted_parameters) for i in sparse_eiv.iterations])\n",
    "pd.Series(y_errors).plot(title='Fro error on Y')"
   ]
  },
  {
   "cell_type": "code",
   "execution_count": null,
   "metadata": {
    "execution": {
     "iopub.status.busy": "2020-07-24T11:25:36.034135Z",
     "iopub.status.idle": "2020-07-24T11:25:36.035106Z"
    }
   },
   "outputs": [],
   "source": [
    "targets = pd.Series([i.target_function for i in sparse_eiv.iterations])\n",
    "pd.Series(targets).plot(title='Target function')"
   ]
  },
  {
   "cell_type": "markdown",
   "metadata": {},
   "source": [
    "# Result analysis"
   ]
  },
  {
   "cell_type": "code",
   "execution_count": null,
   "metadata": {
    "execution": {
     "iopub.status.busy": "2020-07-24T11:25:36.036106Z",
     "iopub.status.idle": "2020-07-24T11:25:36.036106Z"
    }
   },
   "outputs": [],
   "source": [
    "sns.heatmap(np.abs(y_bus));"
   ]
  },
  {
   "cell_type": "code",
   "execution_count": null,
   "metadata": {
    "execution": {
     "iopub.status.busy": "2020-07-24T11:25:36.037104Z",
     "iopub.status.idle": "2020-07-24T11:25:36.038104Z"
    }
   },
   "outputs": [],
   "source": [
    "sns.heatmap(np.abs(y_bus - y_ols));"
   ]
  },
  {
   "cell_type": "code",
   "execution_count": null,
   "metadata": {
    "execution": {
     "iopub.status.busy": "2020-07-24T11:25:36.038104Z",
     "iopub.status.idle": "2020-07-24T11:25:36.038104Z"
    }
   },
   "outputs": [],
   "source": [
    "sns.heatmap(np.abs(y_bus - y_lasso));"
   ]
  },
  {
   "cell_type": "code",
   "execution_count": null,
   "metadata": {
    "execution": {
     "iopub.status.busy": "2020-07-24T11:25:36.039104Z",
     "iopub.status.idle": "2020-07-24T11:25:36.040112Z"
    }
   },
   "outputs": [],
   "source": [
    "sns.heatmap(np.abs(y_bus - y_tls));"
   ]
  },
  {
   "cell_type": "code",
   "execution_count": null,
   "metadata": {
    "execution": {
     "iopub.status.busy": "2020-07-24T11:25:36.041106Z",
     "iopub.status.idle": "2020-07-24T11:25:36.041106Z"
    }
   },
   "outputs": [],
   "source": [
    "sns.heatmap(np.abs(y_bus - y_sparse_eiv));"
   ]
  },
  {
   "cell_type": "code",
   "execution_count": null,
   "metadata": {
    "execution": {
     "iopub.status.busy": "2020-07-24T11:25:36.042104Z",
     "iopub.status.idle": "2020-07-24T11:25:36.042104Z"
    }
   },
   "outputs": [],
   "source": [
    "y_bus"
   ]
  }
 ],
 "metadata": {
  "kernelspec": {
   "display_name": "Python 3",
   "language": "python",
   "name": "python3"
  },
  "language_info": {
   "codemirror_mode": {
    "name": "ipython",
    "version": 3
   },
   "file_extension": ".py",
   "mimetype": "text/x-python",
   "name": "python",
   "nbconvert_exporter": "python",
   "pygments_lexer": "ipython3",
   "version": "3.7.7"
  }
 },
 "nbformat": 4,
 "nbformat_minor": 4
}
