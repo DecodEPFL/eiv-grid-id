{
 "cells": [
  {
   "cell_type": "markdown",
   "metadata": {},
   "source": [
    "# Setup"
   ]
  },
  {
   "cell_type": "code",
   "execution_count": null,
   "metadata": {
    "execution": {
     "iopub.execute_input": "2020-08-04T15:16:17.751687Z",
     "iopub.status.busy": "2020-08-04T15:16:17.751687Z",
     "iopub.status.idle": "2020-08-04T15:16:22.054429Z",
     "shell.execute_reply": "2020-08-04T15:16:22.050426Z",
     "shell.execute_reply.started": "2020-08-04T15:16:17.751687Z"
    }
   },
   "outputs": [],
   "source": [
    "import pandapower.networks as pnet\n",
    "import pandas as pd\n",
    "import numpy as np\n",
    "import scipy as sp\n",
    "import cvxpy as cp\n",
    "import seaborn as sns\n",
    "\n",
    "from scipy import sparse"
   ]
  },
  {
   "cell_type": "code",
   "execution_count": null,
   "metadata": {
    "execution": {
     "iopub.execute_input": "2020-08-04T15:16:22.060379Z",
     "iopub.status.busy": "2020-08-04T15:16:22.058814Z",
     "iopub.status.idle": "2020-08-04T15:16:22.283578Z",
     "shell.execute_reply": "2020-08-04T15:16:22.279588Z",
     "shell.execute_reply.started": "2020-08-04T15:16:22.060379Z"
    }
   },
   "outputs": [],
   "source": [
    "%load_ext autoreload\n",
    "%autoreload 2"
   ]
  },
  {
   "cell_type": "code",
   "execution_count": null,
   "metadata": {
    "execution": {
     "iopub.execute_input": "2020-08-04T15:16:22.290960Z",
     "iopub.status.busy": "2020-08-04T15:16:22.289381Z",
     "iopub.status.idle": "2020-08-04T15:16:22.609941Z",
     "shell.execute_reply": "2020-08-04T15:16:22.606937Z",
     "shell.execute_reply.started": "2020-08-04T15:16:22.290377Z"
    }
   },
   "outputs": [],
   "source": [
    "import sys\n",
    "sys.path.insert(1, '..')\n",
    "\n",
    "from src.models.matrix_operations import make_real_vector, vectorize_matrix\n",
    "from src.simulation.noise import add_polar_noise_to_measurement\n",
    "from src.models.regression import ComplexRegression, ComplexLasso\n",
    "from src.models.error_in_variable import TotalLeastSquares, SparseTotalLeastSquare\n",
    "from src.simulation.load_profile import generate_gaussian_load\n",
    "from src.simulation.network import add_load_power_control, make_y_bus\n",
    "from src.simulation.simulation import run_simulation, get_current_and_voltage\n",
    "from src.identification.error_metrics import error_metrics, fro_error"
   ]
  },
  {
   "cell_type": "markdown",
   "metadata": {},
   "source": [
    "# Network simulation"
   ]
  },
  {
   "cell_type": "code",
   "execution_count": null,
   "metadata": {
    "execution": {
     "iopub.execute_input": "2020-08-04T15:16:22.614366Z",
     "iopub.status.busy": "2020-08-04T15:16:22.612968Z",
     "iopub.status.idle": "2020-08-04T15:16:23.296538Z",
     "shell.execute_reply": "2020-08-04T15:16:23.292610Z",
     "shell.execute_reply.started": "2020-08-04T15:16:22.614366Z"
    }
   },
   "outputs": [],
   "source": [
    "net = pnet.create_kerber_landnetz_freileitung_2()\n",
    "nodes = net.bus.shape[0]\n",
    "steps = 400\n",
    "load_cv = 0.2\n",
    "current_magnitude_sd = 0.000001\n",
    "voltage_magnitude_sd = 0.0001\n",
    "phase_sd = 0.0001"
   ]
  },
  {
   "cell_type": "code",
   "execution_count": null,
   "metadata": {
    "execution": {
     "iopub.execute_input": "2020-08-04T15:16:23.300588Z",
     "iopub.status.busy": "2020-08-04T15:16:23.300588Z",
     "iopub.status.idle": "2020-08-04T15:16:38.084037Z",
     "shell.execute_reply": "2020-08-04T15:16:38.081039Z",
     "shell.execute_reply.started": "2020-08-04T15:16:23.300588Z"
    }
   },
   "outputs": [],
   "source": [
    "np.random.seed(11)\n",
    "load_p, load_q = generate_gaussian_load(net.load.p_mw, net.load.q_mvar, load_cv, steps)\n",
    "controlled_net = add_load_power_control(net, load_p, load_q)\n",
    "sim_result = run_simulation(controlled_net, verbose=False)\n",
    "y_bus = make_y_bus(controlled_net)\n",
    "voltage, current = get_current_and_voltage(sim_result, y_bus)\n",
    "controlled_net.bus"
   ]
  },
  {
   "cell_type": "code",
   "execution_count": null,
   "metadata": {
    "execution": {
     "iopub.execute_input": "2020-08-04T15:16:38.088034Z",
     "iopub.status.busy": "2020-08-04T15:16:38.087035Z",
     "iopub.status.idle": "2020-08-04T15:16:38.352496Z",
     "shell.execute_reply": "2020-08-04T15:16:38.347498Z",
     "shell.execute_reply.started": "2020-08-04T15:16:38.088034Z"
    }
   },
   "outputs": [],
   "source": [
    "voltage = voltage[:, 1:]\n",
    "y_bus = y_bus[1:, 1:]\n",
    "current = np.array(voltage @ y_bus)\n",
    "noisy_voltage = add_polar_noise_to_measurement(voltage, voltage_magnitude_sd, phase_sd)\n",
    "noisy_current = add_polar_noise_to_measurement(current, current_magnitude_sd, phase_sd)\n",
    "voltage_error, current_error = noisy_voltage - voltage, noisy_current - current"
   ]
  },
  {
   "cell_type": "code",
   "execution_count": null,
   "metadata": {
    "execution": {
     "iopub.execute_input": "2020-08-04T15:16:38.356765Z",
     "iopub.status.busy": "2020-08-04T15:16:38.355494Z",
     "iopub.status.idle": "2020-08-04T15:16:38.645806Z",
     "shell.execute_reply": "2020-08-04T15:16:38.638797Z",
     "shell.execute_reply.started": "2020-08-04T15:16:38.356765Z"
    }
   },
   "outputs": [],
   "source": [
    "np.linalg.svd(voltage, compute_uv=False)"
   ]
  },
  {
   "cell_type": "code",
   "execution_count": null,
   "metadata": {
    "execution": {
     "iopub.execute_input": "2020-08-04T15:16:38.649806Z",
     "iopub.status.busy": "2020-08-04T15:16:38.648807Z",
     "iopub.status.idle": "2020-08-04T15:16:38.967370Z",
     "shell.execute_reply": "2020-08-04T15:16:38.963213Z",
     "shell.execute_reply.started": "2020-08-04T15:16:38.649806Z"
    }
   },
   "outputs": [],
   "source": [
    "np.mean(np.abs(current), 0)"
   ]
  },
  {
   "cell_type": "markdown",
   "metadata": {},
   "source": [
    "# OLS Identification"
   ]
  },
  {
   "cell_type": "code",
   "execution_count": null,
   "metadata": {
    "execution": {
     "iopub.execute_input": "2020-08-04T15:16:38.975210Z",
     "iopub.status.busy": "2020-08-04T15:16:38.973732Z",
     "iopub.status.idle": "2020-08-04T15:16:39.220639Z",
     "shell.execute_reply": "2020-08-04T15:16:39.215690Z",
     "shell.execute_reply.started": "2020-08-04T15:16:38.975210Z"
    }
   },
   "outputs": [],
   "source": [
    "ols = ComplexRegression()\n",
    "ols.fit(noisy_voltage, noisy_current)\n",
    "y_ols = ols.fitted_admittance_matrix\n",
    "error_metrics(y_bus, y_ols)"
   ]
  },
  {
   "cell_type": "markdown",
   "metadata": {},
   "source": [
    "# Lasso Identification"
   ]
  },
  {
   "cell_type": "code",
   "execution_count": null,
   "metadata": {
    "execution": {
     "iopub.execute_input": "2020-08-04T15:16:39.225879Z",
     "iopub.status.busy": "2020-08-04T15:16:39.224636Z",
     "iopub.status.idle": "2020-08-04T15:17:27.379552Z",
     "shell.execute_reply": "2020-08-04T15:17:27.374859Z",
     "shell.execute_reply.started": "2020-08-04T15:16:39.225879Z"
    }
   },
   "outputs": [],
   "source": [
    "lasso = ComplexLasso(y_bus, verbose=False, lambdas=np.logspace(-12, -1, 40), solver=cp.GUROBI)\n",
    "lasso.fit(noisy_voltage, noisy_current)\n",
    "y_lasso = lasso.fitted_admittance_matrix"
   ]
  },
  {
   "cell_type": "code",
   "execution_count": null,
   "metadata": {
    "execution": {
     "iopub.execute_input": "2020-08-04T15:17:27.382594Z",
     "iopub.status.busy": "2020-08-04T15:17:27.381598Z",
     "iopub.status.idle": "2020-08-04T15:17:27.550870Z",
     "shell.execute_reply": "2020-08-04T15:17:27.546557Z",
     "shell.execute_reply.started": "2020-08-04T15:17:27.382594Z"
    }
   },
   "outputs": [],
   "source": [
    "lasso.best_trial.hyperparameters['lambda']"
   ]
  },
  {
   "cell_type": "code",
   "execution_count": null,
   "metadata": {
    "execution": {
     "iopub.execute_input": "2020-08-04T15:17:27.553557Z",
     "iopub.status.busy": "2020-08-04T15:17:27.552554Z",
     "iopub.status.idle": "2020-08-04T15:17:27.690553Z",
     "shell.execute_reply": "2020-08-04T15:17:27.687667Z",
     "shell.execute_reply.started": "2020-08-04T15:17:27.553557Z"
    }
   },
   "outputs": [],
   "source": [
    "error_metrics(y_bus, y_lasso)"
   ]
  },
  {
   "cell_type": "markdown",
   "metadata": {},
   "source": [
    "# TLS Identification"
   ]
  },
  {
   "cell_type": "code",
   "execution_count": null,
   "metadata": {
    "execution": {
     "iopub.execute_input": "2020-08-04T15:17:27.693019Z",
     "iopub.status.busy": "2020-08-04T15:17:27.692552Z",
     "iopub.status.idle": "2020-08-04T15:17:27.856676Z",
     "shell.execute_reply": "2020-08-04T15:17:27.853553Z",
     "shell.execute_reply.started": "2020-08-04T15:17:27.693019Z"
    }
   },
   "outputs": [],
   "source": [
    "%%time\n",
    "eiv = TotalLeastSquares()\n",
    "eiv.fit(noisy_voltage, noisy_current)\n",
    "y_tls = eiv.fitted_admittance_matrix"
   ]
  },
  {
   "cell_type": "code",
   "execution_count": null,
   "metadata": {
    "execution": {
     "iopub.execute_input": "2020-08-04T15:17:27.858553Z",
     "iopub.status.busy": "2020-08-04T15:17:27.858553Z",
     "iopub.status.idle": "2020-08-04T15:17:28.031763Z",
     "shell.execute_reply": "2020-08-04T15:17:28.028097Z",
     "shell.execute_reply.started": "2020-08-04T15:17:27.858553Z"
    }
   },
   "outputs": [],
   "source": [
    "error_metrics(y_bus, y_tls)"
   ]
  },
  {
   "cell_type": "markdown",
   "metadata": {},
   "source": [
    "# L1 Regularized TLS"
   ]
  },
  {
   "cell_type": "code",
   "execution_count": null,
   "metadata": {
    "execution": {
     "iopub.execute_input": "2020-08-04T15:17:28.034098Z",
     "iopub.status.busy": "2020-08-04T15:17:28.033096Z",
     "iopub.status.idle": "2020-08-04T15:23:15.326726Z",
     "shell.execute_reply": "2020-08-04T15:23:15.320735Z",
     "shell.execute_reply.started": "2020-08-04T15:17:28.034098Z"
    }
   },
   "outputs": [],
   "source": [
    "tls_lambda = lasso.best_trial.hyperparameters['lambda']\n",
    "sparse_eiv = SparseTotalLeastSquare(lambda_value=tls_lambda, abs_tol=10e-12, rel_tol=10e-12, max_iterations=1000, solver=cp.GUROBI)\n",
    "sparse_eiv.fit(noisy_voltage, noisy_current)\n",
    "y_sparse_eiv = sparse_eiv.fitted_admittance_matrix"
   ]
  },
  {
   "cell_type": "code",
   "execution_count": null,
   "metadata": {
    "execution": {
     "iopub.execute_input": "2020-08-04T15:23:15.330726Z",
     "iopub.status.busy": "2020-08-04T15:23:15.329729Z",
     "iopub.status.idle": "2020-08-04T15:23:15.635412Z",
     "shell.execute_reply": "2020-08-04T15:23:15.630508Z",
     "shell.execute_reply.started": "2020-08-04T15:23:15.330726Z"
    }
   },
   "outputs": [],
   "source": [
    "error_metrics(y_bus, y_sparse_eiv)"
   ]
  },
  {
   "cell_type": "code",
   "execution_count": null,
   "metadata": {
    "execution": {
     "iopub.execute_input": "2020-08-04T15:23:15.639402Z",
     "iopub.status.busy": "2020-08-04T15:23:15.638401Z",
     "iopub.status.idle": "2020-08-04T15:23:16.319598Z",
     "shell.execute_reply": "2020-08-04T15:23:16.314604Z",
     "shell.execute_reply.started": "2020-08-04T15:23:15.639402Z"
    }
   },
   "outputs": [],
   "source": [
    "y_errors = pd.Series([fro_error(y_bus, i.fitted_parameters) for i in sparse_eiv.iterations])\n",
    "pd.Series(y_errors).plot(title='Fro error on Y')"
   ]
  },
  {
   "cell_type": "code",
   "execution_count": null,
   "metadata": {
    "execution": {
     "iopub.execute_input": "2020-08-04T15:23:16.325761Z",
     "iopub.status.busy": "2020-08-04T15:23:16.323601Z",
     "iopub.status.idle": "2020-08-04T15:23:16.994835Z",
     "shell.execute_reply": "2020-08-04T15:23:16.989889Z",
     "shell.execute_reply.started": "2020-08-04T15:23:16.325761Z"
    }
   },
   "outputs": [],
   "source": [
    "targets = pd.Series([i.target_function for i in sparse_eiv.iterations])\n",
    "pd.Series(targets).plot(title='Target function')"
   ]
  },
  {
   "cell_type": "markdown",
   "metadata": {},
   "source": [
    "# Result analysis"
   ]
  },
  {
   "cell_type": "code",
   "execution_count": null,
   "metadata": {
    "execution": {
     "iopub.execute_input": "2020-08-04T15:23:17.000185Z",
     "iopub.status.busy": "2020-08-04T15:23:16.999841Z",
     "iopub.status.idle": "2020-08-04T15:23:17.813808Z",
     "shell.execute_reply": "2020-08-04T15:23:17.808855Z",
     "shell.execute_reply.started": "2020-08-04T15:23:17.000185Z"
    }
   },
   "outputs": [],
   "source": [
    "sns.heatmap(np.abs(y_bus));"
   ]
  },
  {
   "cell_type": "code",
   "execution_count": null,
   "metadata": {
    "execution": {
     "iopub.execute_input": "2020-08-04T15:23:17.820844Z",
     "iopub.status.busy": "2020-08-04T15:23:17.819162Z",
     "iopub.status.idle": "2020-08-04T15:23:18.563440Z",
     "shell.execute_reply": "2020-08-04T15:23:18.559253Z",
     "shell.execute_reply.started": "2020-08-04T15:23:17.820844Z"
    }
   },
   "outputs": [],
   "source": [
    "sns.heatmap(np.abs(y_bus - y_ols));"
   ]
  },
  {
   "cell_type": "code",
   "execution_count": null,
   "metadata": {
    "execution": {
     "iopub.execute_input": "2020-08-04T15:23:18.568291Z",
     "iopub.status.busy": "2020-08-04T15:23:18.567293Z",
     "iopub.status.idle": "2020-08-04T15:23:19.377317Z",
     "shell.execute_reply": "2020-08-04T15:23:19.372369Z",
     "shell.execute_reply.started": "2020-08-04T15:23:18.568291Z"
    }
   },
   "outputs": [],
   "source": [
    "sns.heatmap(np.abs(y_bus - y_lasso));"
   ]
  },
  {
   "cell_type": "code",
   "execution_count": null,
   "metadata": {
    "execution": {
     "iopub.execute_input": "2020-08-04T15:23:19.381310Z",
     "iopub.status.busy": "2020-08-04T15:23:19.380310Z",
     "iopub.status.idle": "2020-08-04T15:23:20.316802Z",
     "shell.execute_reply": "2020-08-04T15:23:20.311798Z",
     "shell.execute_reply.started": "2020-08-04T15:23:19.381310Z"
    }
   },
   "outputs": [],
   "source": [
    "sns.heatmap(np.abs(y_bus - y_tls));"
   ]
  },
  {
   "cell_type": "code",
   "execution_count": null,
   "metadata": {
    "execution": {
     "iopub.execute_input": "2020-08-04T15:23:20.320799Z",
     "iopub.status.busy": "2020-08-04T15:23:20.319801Z",
     "iopub.status.idle": "2020-08-04T15:23:21.169046Z",
     "shell.execute_reply": "2020-08-04T15:23:21.164103Z",
     "shell.execute_reply.started": "2020-08-04T15:23:20.320799Z"
    }
   },
   "outputs": [],
   "source": [
    "sns.heatmap(np.abs(y_bus - y_sparse_eiv));"
   ]
  },
  {
   "cell_type": "code",
   "execution_count": null,
   "metadata": {
    "execution": {
     "iopub.execute_input": "2020-08-04T15:23:21.173045Z",
     "iopub.status.busy": "2020-08-04T15:23:21.172043Z",
     "iopub.status.idle": "2020-08-04T15:23:21.502090Z",
     "shell.execute_reply": "2020-08-04T15:23:21.497103Z",
     "shell.execute_reply.started": "2020-08-04T15:23:21.173045Z"
    }
   },
   "outputs": [],
   "source": [
    "y_bus"
   ]
  }
 ],
 "metadata": {
  "kernelspec": {
   "display_name": "Python 3",
   "language": "python",
   "name": "python3"
  },
  "language_info": {
   "codemirror_mode": {
    "name": "ipython",
    "version": 3
   },
   "file_extension": ".py",
   "mimetype": "text/x-python",
   "name": "python",
   "nbconvert_exporter": "python",
   "pygments_lexer": "ipython3",
   "version": "3.7.7"
  }
 },
 "nbformat": 4,
 "nbformat_minor": 4
}
