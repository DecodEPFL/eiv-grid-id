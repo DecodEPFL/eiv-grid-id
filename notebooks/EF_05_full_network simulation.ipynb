{
 "cells": [
  {
   "cell_type": "markdown",
   "metadata": {},
   "source": [
    "# Setup"
   ]
  },
  {
   "cell_type": "code",
   "execution_count": null,
   "metadata": {
    "execution": {
     "iopub.execute_input": "2020-08-04T18:41:29.309641Z",
     "iopub.status.busy": "2020-08-04T18:41:29.308639Z",
     "iopub.status.idle": "2020-08-04T18:41:32.035776Z",
     "shell.execute_reply": "2020-08-04T18:41:32.034791Z",
     "shell.execute_reply.started": "2020-08-04T18:41:29.309641Z"
    }
   },
   "outputs": [],
   "source": [
    "import pandapower.networks as pnet\n",
    "import pandas as pd\n",
    "import numpy as np\n",
    "import scipy as sp\n",
    "import cvxpy as cp\n",
    "import seaborn as sns\n",
    "\n",
    "from scipy import sparse"
   ]
  },
  {
   "cell_type": "code",
   "execution_count": null,
   "metadata": {
    "execution": {
     "iopub.execute_input": "2020-08-04T18:41:32.036776Z",
     "iopub.status.busy": "2020-08-04T18:41:32.036776Z",
     "iopub.status.idle": "2020-08-04T18:41:32.127776Z",
     "shell.execute_reply": "2020-08-04T18:41:32.125967Z",
     "shell.execute_reply.started": "2020-08-04T18:41:32.036776Z"
    }
   },
   "outputs": [],
   "source": [
    "%load_ext autoreload\n",
    "%autoreload 2"
   ]
  },
  {
   "cell_type": "code",
   "execution_count": null,
   "metadata": {
    "execution": {
     "iopub.execute_input": "2020-08-04T18:41:32.129776Z",
     "iopub.status.busy": "2020-08-04T18:41:32.128776Z",
     "iopub.status.idle": "2020-08-04T18:41:32.269925Z",
     "shell.execute_reply": "2020-08-04T18:41:32.268928Z",
     "shell.execute_reply.started": "2020-08-04T18:41:32.129776Z"
    }
   },
   "outputs": [],
   "source": [
    "import sys\n",
    "sys.path.insert(1, '..')\n",
    "\n",
    "from src.models.matrix_operations import make_real_vector, vectorize_matrix\n",
    "from src.simulation.noise import add_polar_noise_to_measurement\n",
    "from src.models.regression import ComplexRegression, ComplexLasso\n",
    "from src.models.error_in_variable import TotalLeastSquares, SparseTotalLeastSquare\n",
    "from src.simulation.load_profile import generate_gaussian_load\n",
    "from src.simulation.network import add_load_power_control, make_y_bus\n",
    "from src.simulation.simulation import run_simulation, get_current_and_voltage\n",
    "from src.identification.error_metrics import error_metrics, fro_error"
   ]
  },
  {
   "cell_type": "markdown",
   "metadata": {},
   "source": [
    "# Network simulation"
   ]
  },
  {
   "cell_type": "code",
   "execution_count": null,
   "metadata": {
    "execution": {
     "iopub.execute_input": "2020-08-04T18:41:32.272885Z",
     "iopub.status.busy": "2020-08-04T18:41:32.271885Z",
     "iopub.status.idle": "2020-08-04T18:41:32.513921Z",
     "shell.execute_reply": "2020-08-04T18:41:32.512078Z",
     "shell.execute_reply.started": "2020-08-04T18:41:32.272885Z"
    }
   },
   "outputs": [],
   "source": [
    "net = pnet.create_kerber_landnetz_freileitung_2()\n",
    "nodes = net.bus.shape[0]\n",
    "steps = 400\n",
    "load_cv = 0.2\n",
    "current_magnitude_sd = 0.000001\n",
    "voltage_magnitude_sd = 0.0001\n",
    "phase_sd = 0.0001"
   ]
  },
  {
   "cell_type": "code",
   "execution_count": null,
   "metadata": {
    "execution": {
     "iopub.execute_input": "2020-08-04T18:41:32.514886Z",
     "iopub.status.busy": "2020-08-04T18:41:32.514886Z",
     "iopub.status.idle": "2020-08-04T18:41:37.834073Z",
     "shell.execute_reply": "2020-08-04T18:41:37.832071Z",
     "shell.execute_reply.started": "2020-08-04T18:41:32.514886Z"
    }
   },
   "outputs": [],
   "source": [
    "np.random.seed(11)\n",
    "load_p, load_q = generate_gaussian_load(net.load.p_mw, net.load.q_mvar, load_cv, steps)\n",
    "controlled_net = add_load_power_control(net, load_p, load_q)\n",
    "sim_result = run_simulation(controlled_net, verbose=False)\n",
    "y_bus = make_y_bus(controlled_net)\n",
    "voltage, current = get_current_and_voltage(sim_result, y_bus)\n",
    "controlled_net.bus"
   ]
  },
  {
   "cell_type": "code",
   "execution_count": null,
   "metadata": {
    "execution": {
     "iopub.execute_input": "2020-08-04T18:41:37.835073Z",
     "iopub.status.busy": "2020-08-04T18:41:37.835073Z",
     "iopub.status.idle": "2020-08-04T18:41:37.967075Z",
     "shell.execute_reply": "2020-08-04T18:41:37.963077Z",
     "shell.execute_reply.started": "2020-08-04T18:41:37.835073Z"
    }
   },
   "outputs": [],
   "source": [
    "voltage = voltage[:, 1:]\n",
    "y_bus = y_bus[1:, 1:]\n",
    "current = np.array(voltage @ y_bus)\n",
    "noisy_voltage = add_polar_noise_to_measurement(voltage, voltage_magnitude_sd, phase_sd)\n",
    "noisy_current = add_polar_noise_to_measurement(current, current_magnitude_sd, phase_sd)\n",
    "voltage_error, current_error = noisy_voltage - voltage, noisy_current - current"
   ]
  },
  {
   "cell_type": "code",
   "execution_count": null,
   "metadata": {
    "execution": {
     "iopub.execute_input": "2020-08-04T18:41:37.969076Z",
     "iopub.status.busy": "2020-08-04T18:41:37.969076Z",
     "iopub.status.idle": "2020-08-04T18:41:38.118078Z",
     "shell.execute_reply": "2020-08-04T18:41:38.116073Z",
     "shell.execute_reply.started": "2020-08-04T18:41:37.969076Z"
    }
   },
   "outputs": [],
   "source": [
    "np.linalg.svd(voltage, compute_uv=False)"
   ]
  },
  {
   "cell_type": "code",
   "execution_count": null,
   "metadata": {
    "execution": {
     "iopub.execute_input": "2020-08-04T18:41:38.119077Z",
     "iopub.status.busy": "2020-08-04T18:41:38.119077Z",
     "iopub.status.idle": "2020-08-04T18:41:38.232077Z",
     "shell.execute_reply": "2020-08-04T18:41:38.229077Z",
     "shell.execute_reply.started": "2020-08-04T18:41:38.119077Z"
    }
   },
   "outputs": [],
   "source": [
    "np.mean(np.abs(current), 0)"
   ]
  },
  {
   "cell_type": "markdown",
   "metadata": {},
   "source": [
    "# OLS Identification"
   ]
  },
  {
   "cell_type": "code",
   "execution_count": null,
   "metadata": {
    "execution": {
     "iopub.execute_input": "2020-08-04T18:41:38.236079Z",
     "iopub.status.busy": "2020-08-04T18:41:38.235079Z",
     "iopub.status.idle": "2020-08-04T18:41:38.340075Z",
     "shell.execute_reply": "2020-08-04T18:41:38.338077Z",
     "shell.execute_reply.started": "2020-08-04T18:41:38.236079Z"
    }
   },
   "outputs": [],
   "source": [
    "ols = ComplexRegression()\n",
    "ols.fit(noisy_voltage, noisy_current)\n",
    "y_ols = ols.fitted_admittance_matrix\n",
    "error_metrics(y_bus, y_ols)"
   ]
  },
  {
   "cell_type": "markdown",
   "metadata": {},
   "source": [
    "# Lasso Identification"
   ]
  },
  {
   "cell_type": "code",
   "execution_count": null,
   "metadata": {
    "execution": {
     "iopub.execute_input": "2020-08-04T18:41:38.341077Z",
     "iopub.status.busy": "2020-08-04T18:41:38.341077Z",
     "iopub.status.idle": "2020-08-04T18:41:57.691125Z",
     "shell.execute_reply": "2020-08-04T18:41:57.689277Z",
     "shell.execute_reply.started": "2020-08-04T18:41:38.341077Z"
    }
   },
   "outputs": [],
   "source": [
    "lasso = ComplexLasso(y_bus, verbose=False, lambdas=np.logspace(-12, -1, 40), solver=cp.GUROBI)\n",
    "lasso.fit(noisy_voltage, noisy_current)\n",
    "y_lasso = lasso.fitted_admittance_matrix"
   ]
  },
  {
   "cell_type": "code",
   "execution_count": null,
   "metadata": {
    "execution": {
     "iopub.execute_input": "2020-08-04T18:41:57.692076Z",
     "iopub.status.busy": "2020-08-04T18:41:57.692076Z",
     "iopub.status.idle": "2020-08-04T18:41:57.781076Z",
     "shell.execute_reply": "2020-08-04T18:41:57.780109Z",
     "shell.execute_reply.started": "2020-08-04T18:41:57.692076Z"
    }
   },
   "outputs": [],
   "source": [
    "lasso.best_trial.hyperparameters['lambda']"
   ]
  },
  {
   "cell_type": "code",
   "execution_count": null,
   "metadata": {
    "execution": {
     "iopub.execute_input": "2020-08-04T18:41:57.783078Z",
     "iopub.status.busy": "2020-08-04T18:41:57.782111Z",
     "iopub.status.idle": "2020-08-04T18:41:57.874077Z",
     "shell.execute_reply": "2020-08-04T18:41:57.873110Z",
     "shell.execute_reply.started": "2020-08-04T18:41:57.782111Z"
    }
   },
   "outputs": [],
   "source": [
    "error_metrics(y_bus, y_lasso)"
   ]
  },
  {
   "cell_type": "markdown",
   "metadata": {},
   "source": [
    "# TLS Identification"
   ]
  },
  {
   "cell_type": "code",
   "execution_count": null,
   "metadata": {
    "execution": {
     "iopub.execute_input": "2020-08-04T18:41:57.876077Z",
     "iopub.status.busy": "2020-08-04T18:41:57.876077Z",
     "iopub.status.idle": "2020-08-04T18:41:57.980071Z",
     "shell.execute_reply": "2020-08-04T18:41:57.979072Z",
     "shell.execute_reply.started": "2020-08-04T18:41:57.876077Z"
    }
   },
   "outputs": [],
   "source": [
    "%%time\n",
    "eiv = TotalLeastSquares()\n",
    "eiv.fit(noisy_voltage, noisy_current)\n",
    "y_tls = eiv.fitted_admittance_matrix"
   ]
  },
  {
   "cell_type": "code",
   "execution_count": null,
   "metadata": {
    "execution": {
     "iopub.execute_input": "2020-08-04T18:41:57.982073Z",
     "iopub.status.busy": "2020-08-04T18:41:57.981074Z",
     "iopub.status.idle": "2020-08-04T18:41:58.093075Z",
     "shell.execute_reply": "2020-08-04T18:41:58.091076Z",
     "shell.execute_reply.started": "2020-08-04T18:41:57.982073Z"
    }
   },
   "outputs": [],
   "source": [
    "error_metrics(y_bus, y_tls)"
   ]
  },
  {
   "cell_type": "markdown",
   "metadata": {},
   "source": [
    "# L1 Regularized TLS"
   ]
  },
  {
   "cell_type": "code",
   "execution_count": null,
   "metadata": {
    "execution": {
     "iopub.execute_input": "2020-08-04T18:41:58.095074Z",
     "iopub.status.busy": "2020-08-04T18:41:58.094077Z",
     "iopub.status.idle": "2020-08-04T20:13:00.603071Z",
     "shell.execute_reply": "2020-08-04T20:13:00.601072Z",
     "shell.execute_reply.started": "2020-08-04T18:41:58.094077Z"
    }
   },
   "outputs": [],
   "source": [
    "tls_lambda = lasso.best_trial.hyperparameters['lambda']\n",
    "sparse_eiv = SparseTotalLeastSquare(lambda_value=tls_lambda, abs_tol=10e-12, rel_tol=10e-12, max_iterations=2000, solver=cp.GUROBI)\n",
    "sparse_eiv.fit(noisy_voltage, noisy_current)\n",
    "y_sparse_eiv = sparse_eiv.fitted_admittance_matrix"
   ]
  },
  {
   "cell_type": "code",
   "execution_count": null,
   "metadata": {
    "execution": {
     "iopub.execute_input": "2020-08-04T20:13:00.604070Z",
     "iopub.status.busy": "2020-08-04T20:13:00.604070Z",
     "iopub.status.idle": "2020-08-04T20:13:00.796076Z",
     "shell.execute_reply": "2020-08-04T20:13:00.795108Z",
     "shell.execute_reply.started": "2020-08-04T20:13:00.604070Z"
    }
   },
   "outputs": [],
   "source": [
    "error_metrics(y_bus, y_sparse_eiv)"
   ]
  },
  {
   "cell_type": "code",
   "execution_count": null,
   "metadata": {
    "execution": {
     "iopub.execute_input": "2020-08-04T20:13:00.798079Z",
     "iopub.status.busy": "2020-08-04T20:13:00.798079Z",
     "iopub.status.idle": "2020-08-04T20:13:01.101080Z",
     "shell.execute_reply": "2020-08-04T20:13:01.100078Z",
     "shell.execute_reply.started": "2020-08-04T20:13:00.798079Z"
    }
   },
   "outputs": [],
   "source": [
    "y_errors = pd.Series([fro_error(y_bus, i.fitted_parameters) for i in sparse_eiv.iterations])\n",
    "pd.Series(y_errors).plot(title='Fro error on Y')"
   ]
  },
  {
   "cell_type": "code",
   "execution_count": null,
   "metadata": {
    "execution": {
     "iopub.execute_input": "2020-08-04T20:13:01.103083Z",
     "iopub.status.busy": "2020-08-04T20:13:01.102078Z",
     "iopub.status.idle": "2020-08-04T20:13:01.338078Z",
     "shell.execute_reply": "2020-08-04T20:13:01.337079Z",
     "shell.execute_reply.started": "2020-08-04T20:13:01.103083Z"
    }
   },
   "outputs": [],
   "source": [
    "targets = pd.Series([i.target_function for i in sparse_eiv.iterations])\n",
    "pd.Series(targets).plot(title='Target function')"
   ]
  },
  {
   "cell_type": "markdown",
   "metadata": {},
   "source": [
    "# Result analysis"
   ]
  },
  {
   "cell_type": "code",
   "execution_count": null,
   "metadata": {
    "execution": {
     "iopub.execute_input": "2020-08-04T20:13:01.340082Z",
     "iopub.status.busy": "2020-08-04T20:13:01.339085Z",
     "iopub.status.idle": "2020-08-04T20:13:01.607081Z",
     "shell.execute_reply": "2020-08-04T20:13:01.606083Z",
     "shell.execute_reply.started": "2020-08-04T20:13:01.340082Z"
    }
   },
   "outputs": [],
   "source": [
    "sns.heatmap(np.abs(y_bus));"
   ]
  },
  {
   "cell_type": "code",
   "execution_count": null,
   "metadata": {
    "execution": {
     "iopub.execute_input": "2020-08-04T20:13:01.609078Z",
     "iopub.status.busy": "2020-08-04T20:13:01.609078Z",
     "iopub.status.idle": "2020-08-04T20:13:01.859076Z",
     "shell.execute_reply": "2020-08-04T20:13:01.858096Z",
     "shell.execute_reply.started": "2020-08-04T20:13:01.609078Z"
    }
   },
   "outputs": [],
   "source": [
    "sns.heatmap(np.abs(y_bus - y_ols));"
   ]
  },
  {
   "cell_type": "code",
   "execution_count": null,
   "metadata": {
    "execution": {
     "iopub.execute_input": "2020-08-04T20:13:01.861080Z",
     "iopub.status.busy": "2020-08-04T20:13:01.860085Z",
     "iopub.status.idle": "2020-08-04T20:13:02.106074Z",
     "shell.execute_reply": "2020-08-04T20:13:02.105074Z",
     "shell.execute_reply.started": "2020-08-04T20:13:01.861080Z"
    }
   },
   "outputs": [],
   "source": [
    "sns.heatmap(np.abs(y_bus - y_lasso));"
   ]
  },
  {
   "cell_type": "code",
   "execution_count": null,
   "metadata": {
    "execution": {
     "iopub.execute_input": "2020-08-04T20:13:02.108081Z",
     "iopub.status.busy": "2020-08-04T20:13:02.107074Z",
     "iopub.status.idle": "2020-08-04T20:13:02.348077Z",
     "shell.execute_reply": "2020-08-04T20:13:02.347079Z",
     "shell.execute_reply.started": "2020-08-04T20:13:02.108081Z"
    }
   },
   "outputs": [],
   "source": [
    "sns.heatmap(np.abs(y_bus - y_tls));"
   ]
  },
  {
   "cell_type": "code",
   "execution_count": null,
   "metadata": {
    "execution": {
     "iopub.execute_input": "2020-08-04T20:13:02.349080Z",
     "iopub.status.busy": "2020-08-04T20:13:02.349080Z",
     "iopub.status.idle": "2020-08-04T20:13:02.623082Z",
     "shell.execute_reply": "2020-08-04T20:13:02.622081Z",
     "shell.execute_reply.started": "2020-08-04T20:13:02.349080Z"
    }
   },
   "outputs": [],
   "source": [
    "sns.heatmap(np.abs(y_bus - y_sparse_eiv));"
   ]
  },
  {
   "cell_type": "code",
   "execution_count": null,
   "metadata": {
    "execution": {
     "iopub.execute_input": "2020-08-04T20:13:02.624084Z",
     "iopub.status.busy": "2020-08-04T20:13:02.624084Z",
     "iopub.status.idle": "2020-08-04T20:13:02.716080Z",
     "shell.execute_reply": "2020-08-04T20:13:02.715082Z",
     "shell.execute_reply.started": "2020-08-04T20:13:02.624084Z"
    }
   },
   "outputs": [],
   "source": [
    "y_bus"
   ]
  }
 ],
 "metadata": {
  "kernelspec": {
   "display_name": "Python 3",
   "language": "python",
   "name": "python3"
  },
  "language_info": {
   "codemirror_mode": {
    "name": "ipython",
    "version": 3
   },
   "file_extension": ".py",
   "mimetype": "text/x-python",
   "name": "python",
   "nbconvert_exporter": "python",
   "pygments_lexer": "ipython3",
   "version": "3.7.7"
  }
 },
 "nbformat": 4,
 "nbformat_minor": 4
}
