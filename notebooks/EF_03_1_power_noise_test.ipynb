{
 "cells": [
  {
   "cell_type": "markdown",
   "source": [
    "# Noise transformation\n",
    "The purpose of this notebook is to empirically confirm the theoretical linearization of noise from polar voltages and currents to power in Cartesian coordinates. Without loss of generality, multiplication of two noisy polar measurments can be seen as two voltages with a conductance, both voltage and current or two currents with an impedance.\n",
    "\n",
    "To perform the check, we proceed as follows:\n",
    "\n",
    "1. we assume to acquire 100,000 different measurements. Thus, we generate 100,000 different values for magnitude and phase for a specific measurements of both current and voltage.\n",
    "2. we then add Gaussian noise to the measurements in polar coordinates,\n",
    "3. we multiply the noisy quantities into power and transform it into Cartesian coordinates,\n",
    "4. finally, we extract the noise in Cartesian coordinate and we normalize it using its theoretical variance.\n",
    "\n",
    "We want to see that the normalized distribution is Gaussian and that our standardization makes the noise normally distributed with unit standard deviation.\n",
    "\n",
    "Interestingly, and coherently with what assessed in previous works, we can appreciate how more accurate phase measurements lead to minor discrepancy from a Gaussian distribution. This can be seen by setting `theta_sd` to 0.0001 and 0.01."
   ],
   "metadata": {
    "collapsed": false
   }
  },
  {
   "cell_type": "markdown",
   "metadata": {
    "collapsed": true,
    "pycharm": {
     "name": "#%% md\n"
    }
   },
   "source": [
    "## Setup"
   ]
  },
  {
   "cell_type": "code",
   "execution_count": 666,
   "outputs": [],
   "source": [
    "import time\n",
    "import sys\n",
    "import numpy as np\n",
    "import matplotlib.pyplot as plt"
   ],
   "metadata": {
    "collapsed": false,
    "pycharm": {
     "name": "#%%\n"
    }
   }
  },
  {
   "cell_type": "code",
   "execution_count": 667,
   "outputs": [
    {
     "name": "stdout",
     "output_type": "stream",
     "text": [
      "The autoreload extension is already loaded. To reload it, use:\n",
      "  %reload_ext autoreload\n"
     ]
    }
   ],
   "source": [
    "sys.path.append('..')\n",
    "%load_ext autoreload\n",
    "%autoreload 2"
   ],
   "metadata": {
    "collapsed": false,
    "pycharm": {
     "name": "#%%\n"
    }
   }
  },
  {
   "cell_type": "code",
   "execution_count": 668,
   "outputs": [],
   "source": [
    "samples = 100000"
   ],
   "metadata": {
    "collapsed": false,
    "pycharm": {
     "name": "#%%\n"
    }
   }
  },
  {
   "cell_type": "markdown",
   "source": [
    "## MC Samples\n",
    "Two sets of measurments $x_i = (m_i + \\Delta m_i)e^{j(\\theta_i + \\Delta \\theta_i)}$ and $y_i$ similarly are generated. The final measurments set is $S_i = x_i y_i^\\star$. Try also with `theta=-1` and `theta_sd=1` and with `theta=-1` and `theta_sd=0.01` and different combinations for both sets."
   ],
   "metadata": {
    "collapsed": false
   }
  },
  {
   "cell_type": "code",
   "execution_count": 669,
   "outputs": [],
   "source": [
    "np.random.seed(11)\n",
    "\n",
    "m1 = 1\n",
    "m2 = 1\n",
    "theta1 = -1*0#-10 * np.pi / 180\n",
    "theta2 = -1*0#-10 * np.pi / 180\n",
    "\n",
    "m1_sd = 0.01\n",
    "m2_sd = 0.01\n",
    "theta1_sd = 0.01#1 * np.pi / 180\n",
    "theta2_sd = 0.01#1 * np.pi / 180\n",
    "\n",
    "m1_var, theta1_var = m1_sd ** 2, theta1_sd ** 2\n",
    "m2_var, theta2_var = m2_sd ** 2, theta2_sd ** 2\n",
    "\n",
    "m1_noise = np.random.normal(0, m1_sd, size=samples)\n",
    "m2_noise = np.random.normal(0, m2_sd, size=samples)\n",
    "theta1_noise = np.random.normal(0, theta1_sd, size=samples)\n",
    "theta2_noise = np.random.normal(0, theta2_sd, size=samples)\n",
    "\n",
    "noisy_x = (m1 + m1_noise) * np.exp(1j * (theta1 + theta1_noise))\n",
    "noisy_y = (m2 + m2_noise) * np.exp(1j * (theta2 + theta2_noise))\n",
    "actual_x = m1 * np.exp(1j * theta1)\n",
    "actual_y = m2 * np.exp(1j * theta2)\n",
    "noisy_measurements = (m1 + m1_noise) * np.exp(1j * (theta1 + theta1_noise)) * (m2 + m2_noise) * np.exp(- 1j * (theta2 + theta2_noise))\n",
    "actual_measurements = m1 * np.exp(1j * theta1) * m2 * np.exp(- 1j * theta2)\n",
    "cartesian_noise = noisy_measurements - actual_measurements\n",
    "\n",
    "actual_mean = (np.mean(np.real(cartesian_noise)), np.mean(np.imag(cartesian_noise)))\n",
    "actual_covariance = np.cov(np.real(cartesian_noise), np.imag(cartesian_noise))"
   ],
   "metadata": {
    "collapsed": false,
    "pycharm": {
     "name": "#%%\n"
    }
   }
  },
  {
   "cell_type": "code",
   "execution_count": 670,
   "outputs": [
    {
     "data": {
      "text/plain": "(4.6263032849521e-06, -6.67987860589697e-07)"
     },
     "execution_count": 670,
     "metadata": {},
     "output_type": "execute_result"
    }
   ],
   "source": [
    "actual_mean"
   ],
   "metadata": {
    "collapsed": false,
    "pycharm": {
     "name": "#%%\n"
    }
   }
  },
  {
   "cell_type": "code",
   "execution_count": 671,
   "outputs": [
    {
     "data": {
      "text/plain": "array([[2.01420081e-04, 3.85093991e-07],\n       [3.85093991e-07, 2.00352795e-04]])"
     },
     "execution_count": 671,
     "metadata": {},
     "output_type": "execute_result"
    }
   ],
   "source": [
    "actual_covariance"
   ],
   "metadata": {
    "collapsed": false,
    "pycharm": {
     "name": "#%%\n"
    }
   }
  },
  {
   "cell_type": "markdown",
   "source": [
    "## Covariance of the first-order approximation with actual states\n",
    "From the notes, the noise can be linearized as follows:\n",
    "${\\Delta S} = \\varepsilon_{\\text{polar}}^\\top \\left({\\begin{array}{*{20}{c}} {\\left| {{I_{it}}} \\right|}\\\\{j\\left| {{V_{it}}} \\right|\\left| {{I_{it}}} \\right|}\\\\{\\left| {{V_{it}}} \\right|}\\\\{ - j\\left| {{V_{it}}} \\right|\\left| {{I_{it}}} \\right|}\\end{array}} \\right){e^{j\\left( {{\\theta_{it}} - {{\\phi}_{it}}} \\right)}} = \\varepsilon_{\\text{polar}}^\\top (H_r + jH_i)$\n",
    "\n",
    "The covariance matrix can therefore be computed as $\\Sigma_S = [H_r, H_i]^\\top \\Sigma_{\\text{polar}} [H_r, H_i]$."
   ],
   "metadata": {
    "collapsed": false
   }
  },
  {
   "cell_type": "code",
   "execution_count": 672,
   "outputs": [],
   "source": [
    "def cov_avg_true_real(x, y, varmx, varax, varmy, varay):\n",
    "    mx, ax = np.abs(x), np.angle(x)\n",
    "    my, ay = np.abs(y), np.angle(y)\n",
    "    return (my*np.cos(ax-ay))**2*varmx + (mx*my*np.sin(ax-ay))**2*varax + (mx*np.cos(ax-ay))**2*varmy + (mx*my*np.sin(ax-ay))**2*varay\n",
    "\n",
    "def cov_avg_true_imag(x, y, varmx, varax, varmy, varay):\n",
    "    mx, ax = np.abs(x), np.angle(x)\n",
    "    my, ay = np.abs(y), np.angle(y)\n",
    "    return (my*np.sin(ax-ay))**2*varmx + (mx*my*np.cos(ax-ay))**2*varax + (mx*np.sin(ax-ay))**2*varmy + (mx*my*np.cos(ax-ay))**2*varay\n",
    "\n",
    "def cov_avg_true_real_imag(x, y, varmx, varax, varmy, varay):\n",
    "    mx, ax = np.abs(x), np.angle(x)\n",
    "    my, ay = np.abs(y), np.angle(y)\n",
    "    return np.sin(ax-ay)*np.cos(ax-ay)*(my**2*varmx + mx**2*varmy - mx**2*my**2*(varax + varay))"
   ],
   "metadata": {
    "collapsed": false,
    "pycharm": {
     "name": "#%%\n"
    }
   }
  },
  {
   "cell_type": "markdown",
   "source": [
    "## Covariance with actual measurements\n",
    "In theory, the variables x and y can directly be used to compute $H_i$ and $H_r$."
   ],
   "metadata": {
    "collapsed": false
   }
  },
  {
   "cell_type": "code",
   "execution_count": 673,
   "outputs": [
    {
     "data": {
      "text/plain": "array([[0.0002, 0.    ],\n       [0.    , 0.0002]])"
     },
     "execution_count": 673,
     "metadata": {},
     "output_type": "execute_result"
    }
   ],
   "source": [
    "cov_actual_11 = cov_avg_true_real(actual_x, actual_y, m1_var, theta1_var, m2_var, theta2_var)\n",
    "cov_actual_22 = cov_avg_true_imag(actual_x, actual_y, m1_var, theta1_var, m2_var, theta2_var)\n",
    "cov_actual_12 = cov_avg_true_real_imag(actual_x, actual_y, m1_var, theta1_var, m2_var, theta2_var)\n",
    "cov_actual = np.array([[cov_actual_11, cov_actual_12], [cov_actual_12, cov_actual_22]])\n",
    "\n",
    "cov_actual"
   ],
   "metadata": {
    "collapsed": false,
    "pycharm": {
     "name": "#%%\n"
    }
   }
  },
  {
   "cell_type": "markdown",
   "source": [
    "## Covariance with real measurements\n",
    "The variables in $H_i$ and $H_r$ are unknown and practically have to be replaced by noisy measurements."
   ],
   "metadata": {
    "collapsed": false
   }
  },
  {
   "cell_type": "code",
   "execution_count": 674,
   "outputs": [],
   "source": [
    "cov_avg_true_11 = cov_avg_true_real(noisy_x, noisy_y, m1_var, theta1_var, m2_var, theta2_var)\n",
    "cov_avg_true_22 = cov_avg_true_imag(noisy_x, noisy_y, m1_var, theta1_var, m2_var, theta2_var)\n",
    "cov_avg_true_12 = cov_avg_true_real_imag(noisy_x, noisy_y, m1_var, theta1_var, m2_var, theta2_var)\n"
   ],
   "metadata": {
    "collapsed": false,
    "pycharm": {
     "name": "#%%\n"
    }
   }
  },
  {
   "cell_type": "code",
   "execution_count": 675,
   "outputs": [
    {
     "data": {
      "text/plain": "<Figure size 432x288 with 1 Axes>",
      "image/png": "[encoded data removed]"
     },
     "metadata": {
      "needs_background": "light"
     },
     "output_type": "display_data"
    }
   ],
   "source": [
    "plt.hist(cov_avg_true_11, bins = 100)\n",
    "plt.title('Empirical distribution for element (1, 1)')\n",
    "plt.axvline(actual_covariance[0, 0], color='green');\n",
    "plt.axvline(cov_actual[0, 0], color='red');"
   ],
   "metadata": {
    "collapsed": false,
    "pycharm": {
     "name": "#%%\n"
    }
   }
  },
  {
   "cell_type": "code",
   "execution_count": 676,
   "outputs": [
    {
     "data": {
      "text/plain": "<Figure size 432x288 with 1 Axes>",
      "image/png": "[encoded data removed]"
     },
     "metadata": {
      "needs_background": "light"
     },
     "output_type": "display_data"
    }
   ],
   "source": [
    "plt.hist(cov_avg_true_22, bins = 100)\n",
    "plt.title('Empirical distribution for element (1, 2)')\n",
    "plt.axvline(actual_covariance[1, 1], color='green');\n",
    "plt.axvline(cov_actual[1, 1], color='red');"
   ],
   "metadata": {
    "collapsed": false,
    "pycharm": {
     "name": "#%%\n"
    }
   }
  },
  {
   "cell_type": "code",
   "execution_count": 677,
   "outputs": [
    {
     "data": {
      "text/plain": "<Figure size 432x288 with 1 Axes>",
      "image/png": "[encoded data removed]"
     },
     "metadata": {
      "needs_background": "light"
     },
     "output_type": "display_data"
    }
   ],
   "source": [
    "plt.hist(cov_avg_true_12, bins = 100)\n",
    "plt.title('Empirical distribution for element (2, 2)')\n",
    "plt.axvline(actual_covariance[0, 1], color='green');\n",
    "plt.axvline(cov_actual[0, 1], color='red');"
   ],
   "metadata": {
    "collapsed": false,
    "pycharm": {
     "name": "#%%\n"
    }
   }
  }
 ],
 "metadata": {
  "kernelspec": {
   "display_name": "Python 3",
   "language": "python",
   "name": "python3"
  },
  "language_info": {
   "codemirror_mode": {
    "name": "ipython",
    "version": 2
   },
   "file_extension": ".py",
   "mimetype": "text/x-python",
   "name": "python",
   "nbconvert_exporter": "python",
   "pygments_lexer": "ipython2",
   "version": "2.7.6"
  }
 },
 "nbformat": 4,
 "nbformat_minor": 0
}