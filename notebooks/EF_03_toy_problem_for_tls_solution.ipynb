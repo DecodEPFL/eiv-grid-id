{
 "cells": [
  {
   "cell_type": "markdown",
   "metadata": {},
   "source": [
    "# Toy problem for TLS solution\n",
    "We want to solve here the identification problem with TLS in a very simple case (a network with 2 nodes, without any structural contraint."
   ]
  },
  {
   "cell_type": "code",
   "execution_count": null,
   "metadata": {},
   "outputs": [],
   "source": [
    "import pandas as pd\n",
    "import numpy as np\n",
    "import cvxpy as cp"
   ]
  },
  {
   "cell_type": "code",
   "execution_count": null,
   "metadata": {},
   "outputs": [],
   "source": [
    "import sys\n",
    "sys.path.insert(1, '..')\n",
    "\n",
    "from src.models.error_in_variable import TotalLeastSquares, SparseTotalLeastSquare\n",
    "from src.models.regression import ComplexLasso\n",
    "from src.identification.error_metrics import fro_error, error_metrics"
   ]
  },
  {
   "cell_type": "code",
   "execution_count": null,
   "metadata": {},
   "outputs": [],
   "source": [
    "np.set_printoptions(precision=2)"
   ]
  },
  {
   "cell_type": "code",
   "execution_count": null,
   "metadata": {},
   "outputs": [],
   "source": [
    "samples = 300\n",
    "v_noise_sd = 0.01\n",
    "i_noise_sd = 0.01"
   ]
  },
  {
   "cell_type": "code",
   "execution_count": null,
   "metadata": {},
   "outputs": [],
   "source": [
    "np.random.seed(11)\n",
    "y_bus = np.array([\n",
    "    [1+1j, 0, 0, 0],\n",
    "    [0, 2+1j, 0, 0],\n",
    "    [2+1j, 0, 1+1j, 0],\n",
    "    [0, 0, 0, 2+1j],\n",
    "])\n",
    "nodes = y_bus.shape[0]\n",
    "real_voltages = np.random.normal(1, 0.1, (samples, nodes)) + 1j*np.random.normal(1, 0.1, (samples, nodes))\n",
    "real_currents = real_voltages @ y_bus\n",
    "\n",
    "voltages = real_voltages.copy() + np.random.normal(0, v_noise_sd, (samples, nodes)) + 1j*np.random.normal(0, v_noise_sd, (samples, nodes))\n",
    "currents = real_currents.copy() + np.random.normal(0, i_noise_sd, (samples, nodes)) + 1j*np.random.normal(0, i_noise_sd, (samples, nodes))\n",
    "\n",
    "voltage_error = voltages - real_voltages\n",
    "current_error = currents - real_currents"
   ]
  },
  {
   "cell_type": "markdown",
   "metadata": {},
   "source": [
    "# Standard TLS"
   ]
  },
  {
   "cell_type": "code",
   "execution_count": null,
   "metadata": {},
   "outputs": [],
   "source": [
    "eiv = TotalLeastSquares()\n",
    "eiv.fit(voltages, currents)\n",
    "y_eiv = eiv.fitted_admittance_matrix\n",
    "y_eiv"
   ]
  },
  {
   "cell_type": "code",
   "execution_count": null,
   "metadata": {},
   "outputs": [],
   "source": [
    "error_metrics(y_bus, y_eiv)"
   ]
  },
  {
   "cell_type": "markdown",
   "metadata": {},
   "source": [
    "# Standard LASSO"
   ]
  },
  {
   "cell_type": "code",
   "execution_count": null,
   "metadata": {},
   "outputs": [],
   "source": [
    "lasso = ComplexLasso(y_bus, verbose=False, lambdas=np.logspace(-4, 0, 20))\n",
    "lasso.fit(voltages, currents)\n",
    "y_lasso = lasso.fitted_admittance_matrix\n",
    "y_lasso"
   ]
  },
  {
   "cell_type": "code",
   "execution_count": null,
   "metadata": {},
   "outputs": [],
   "source": [
    "error_metrics(y_bus, y_lasso)"
   ]
  },
  {
   "cell_type": "code",
   "execution_count": null,
   "metadata": {},
   "outputs": [],
   "source": [
    "lasso.best_trial"
   ]
  },
  {
   "cell_type": "markdown",
   "metadata": {},
   "source": [
    "# L1-regularized TLS"
   ]
  },
  {
   "cell_type": "code",
   "execution_count": null,
   "metadata": {},
   "outputs": [],
   "source": [
    "tls_lambda = lasso.best_trial.hyperparameters['lambda']\n",
    "sparse_eiv = SparseTotalLeastSquare(lambda_value=tls_lambda, abs_tol=10e-12, rel_tol=10e-12, solver=cp.GUROBI, max_iterations=50)\n",
    "sparse_eiv.fit(voltages, currents)\n",
    "y_sparse_eiv = sparse_eiv.fitted_admittance_matrix\n",
    "y_sparse_eiv"
   ]
  },
  {
   "cell_type": "code",
   "execution_count": null,
   "metadata": {},
   "outputs": [],
   "source": [
    "error_metrics(y_bus, y_sparse_eiv)"
   ]
  },
  {
   "cell_type": "code",
   "execution_count": null,
   "metadata": {},
   "outputs": [],
   "source": [
    "y_errors = pd.Series([fro_error(y_bus, i.fitted_parameters) for i in sparse_eiv.iterations])\n",
    "pd.Series(y_errors).plot(title='Fro error on Y')"
   ]
  },
  {
   "cell_type": "code",
   "execution_count": null,
   "metadata": {},
   "outputs": [],
   "source": [
    "targets = pd.Series([i.target_function for i in sparse_eiv.iterations])\n",
    "pd.Series(targets).plot(title='Target function')"
   ]
  },
  {
   "cell_type": "code",
   "execution_count": null,
   "metadata": {},
   "outputs": [],
   "source": [
    "np.abs(y_bus - y_sparse_eiv)"
   ]
  },
  {
   "cell_type": "code",
   "execution_count": null,
   "metadata": {},
   "outputs": [],
   "source": [
    "np.abs(y_bus - y_eiv)"
   ]
  },
  {
   "cell_type": "code",
   "execution_count": null,
   "metadata": {},
   "outputs": [],
   "source": [
    "np.abs(y_bus - y_sparse_eiv) > np.abs(y_bus - y_eiv)"
   ]
  }
 ],
 "metadata": {
  "kernelspec": {
   "display_name": "Python 3",
   "language": "python",
   "name": "python3"
  },
  "language_info": {
   "codemirror_mode": {
    "name": "ipython",
    "version": 3
   },
   "file_extension": ".py",
   "mimetype": "text/x-python",
   "name": "python",
   "nbconvert_exporter": "python",
   "pygments_lexer": "ipython3",
   "version": "3.7.7"
  }
 },
 "nbformat": 4,
 "nbformat_minor": 4
}
