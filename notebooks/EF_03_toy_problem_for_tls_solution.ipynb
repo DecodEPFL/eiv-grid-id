{
 "cells": [
  {
   "cell_type": "markdown",
   "metadata": {},
   "source": [
    "# Toy problem for TLS solution\n",
    "We want to solve here the identification problem with TLS in a very simple case (a network with 2 nodes, without any structural contraint."
   ]
  },
  {
   "cell_type": "code",
   "execution_count": null,
   "metadata": {},
   "outputs": [],
   "source": [
    "import pandas as pd\n",
    "import numpy as np\n",
    "import cvxpy as cp\n",
    "from tqdm.autonotebook import tqdm"
   ]
  },
  {
   "cell_type": "code",
   "execution_count": null,
   "metadata": {},
   "outputs": [],
   "source": [
    "import sys\n",
    "sys.path.insert(1, '..')\n",
    "\n",
    "from src.identification.error_metrics import fro_error, error_metrics"
   ]
  },
  {
   "cell_type": "code",
   "execution_count": null,
   "metadata": {},
   "outputs": [],
   "source": [
    "np.set_printoptions(precision=2)"
   ]
  },
  {
   "cell_type": "code",
   "execution_count": null,
   "metadata": {},
   "outputs": [],
   "source": [
    "nodes = 4\n",
    "samples = 50\n",
    "v_noise_sd = 0.02\n",
    "i_noise_sd = 0.02\n",
    "lambda_value = 0.1\n",
    "ABS_TOL = 1e-6\n",
    "REL_TOL = 1e-6\n",
    "MAX_ITERATIONS = 50"
   ]
  },
  {
   "cell_type": "code",
   "execution_count": null,
   "metadata": {},
   "outputs": [],
   "source": [
    "np.random.seed(11)\n",
    "y_bus = np.array([\n",
    "    [1+1j, 0, 0, 0],\n",
    "    [0, 2+3j, 0, 0],\n",
    "    [2+1j, 0, 1+1j, 0],\n",
    "    [0, 0, 0, 2+1j],\n",
    "])\n",
    "real_voltages = np.random.normal(1, 0.1, (samples, nodes)) + 1j*np.random.normal(1, 0.1, (samples, nodes))\n",
    "real_currents = real_voltages @ y_bus\n",
    "\n",
    "voltages = real_voltages.copy() + np.random.normal(0, v_noise_sd, (samples, nodes)) + 1j*np.random.normal(0, v_noise_sd, (samples, nodes))\n",
    "currents = real_currents.copy() + np.random.normal(0, i_noise_sd, (samples, nodes)) + 1j*np.random.normal(0, i_noise_sd, (samples, nodes))\n",
    "\n",
    "voltage_error = voltages - real_voltages\n",
    "current_error = currents - real_currents"
   ]
  },
  {
   "cell_type": "markdown",
   "metadata": {},
   "source": [
    "# Standard TLS"
   ]
  },
  {
   "cell_type": "code",
   "execution_count": null,
   "metadata": {},
   "outputs": [],
   "source": [
    "def solve_tls_with_svd(A, B):\n",
    "    n = A.shape[1]\n",
    "    u, s, vh = np.linalg.svd(np.block([B, A]))\n",
    "    v = vh.conj().T\n",
    "    v_xy = v[:n, n:]\n",
    "    v_yy = v[n:, n:]\n",
    "    y_tls = - v_xy @ np.linalg.inv(v_yy)\n",
    "    return y_tls"
   ]
  },
  {
   "cell_type": "code",
   "execution_count": null,
   "metadata": {},
   "outputs": [],
   "source": [
    "y_tls = solve_tls_with_svd(currents, voltages)\n",
    "y_tls"
   ]
  },
  {
   "cell_type": "markdown",
   "metadata": {},
   "source": [
    "# L1-regularized TLS"
   ]
  },
  {
   "cell_type": "code",
   "execution_count": null,
   "metadata": {},
   "outputs": [],
   "source": [
    "def vectorize_matrix(m):\n",
    "    return m.flatten('F')\n",
    "\n",
    "def unvectorize_matrix(v, shape):\n",
    "    return np.reshape(v, shape, 'F')\n",
    "\n",
    "def vectorize_and_make_real(m):\n",
    "    m_vect = vectorize_matrix(m)\n",
    "    return np.hstack([np.real(m_vect), np.imag(m_vect)])\n",
    "\n",
    "def unvectorize_and_make_complex(v, shape):\n",
    "    real_elements = shape[0] * shape[1]\n",
    "    v_real = v[:real_elements]\n",
    "    v_imag = v[real_elements:]\n",
    "    v_complex = v_real + 1j * v_imag\n",
    "    m = unvectorize_matrix(v_complex, shape)\n",
    "    return m\n",
    "\n",
    "def build_real_matrix(m):\n",
    "    return np.block([\n",
    "        [np.real(m), -np.imag(m)],\n",
    "        [np.imag(m), np.real(m)]\n",
    "    ])"
   ]
  },
  {
   "cell_type": "code",
   "execution_count": null,
   "metadata": {},
   "outputs": [],
   "source": [
    "A = build_real_matrix(np.kron(np.eye(nodes), voltages))\n",
    "dA = build_real_matrix(np.kron(np.eye(nodes), np.zeros(voltages.shape)))\n",
    "a = vectorize_and_make_real(voltages)\n",
    "b = vectorize_and_make_real(currents)\n",
    "sigma_b = np.eye(b.size)\n",
    "sigma_a = np.eye(a.size)"
   ]
  },
  {
   "cell_type": "code",
   "execution_count": null,
   "metadata": {},
   "outputs": [],
   "source": [
    "y = cp.Variable(y_bus.size * 2)\n",
    "da = cp.Variable(a.size)"
   ]
  },
  {
   "cell_type": "code",
   "execution_count": null,
   "metadata": {},
   "outputs": [],
   "source": [
    "def lasso_target(b, A, dA, sigma_b, lambda_value, y):\n",
    "    error = b - (A - dA) @ y\n",
    "    loss = cp.matrix_frac(error, sigma_b) + lambda_value * cp.norm1(y) \n",
    "    return loss\n",
    "\n",
    "def qp_target(b, a, da, sigma_b, sigma_a, undeline_y):\n",
    "    error = b - undeline_y @ (a - da)\n",
    "    loss = cp.matrix_frac(error, sigma_b) + cp.matrix_frac(da, sigma_a) \n",
    "    return loss\n",
    "\n",
    "def full_target(b, a, da, sigma_b, sigma_a, lambda_value, undeline_y, y):\n",
    "    return qp_target(b, a, da, sigma_b, sigma_a, underline_y) + lambda_value * cp.norm1(y)\n",
    "\n",
    "def is_stationary_point(f_current, f_previous, abs_tol=ABS_TOL, rel_tol=REL_TOL):\n",
    "    return np.abs(f_current - f_previous) < abs_tol or np.abs(f_current - f_previous) / np.abs(f_previous) < rel_tol"
   ]
  },
  {
   "cell_type": "code",
   "execution_count": null,
   "metadata": {},
   "outputs": [],
   "source": [
    "y_lasso_res = []\n",
    "e_qp_res = []\n",
    "y_errors = []\n",
    "e_errors = []\n",
    "targets = []\n",
    "for it in tqdm(range(MAX_ITERATIONS)):\n",
    "    lasso_prob = cp.Problem(cp.Minimize(lasso_target(b, A, dA, sigma_b, lambda_value, y)))\n",
    "    lasso_prob.solve()\n",
    "    \n",
    "    y_lasso = unvectorize_and_make_complex(y.value, y_bus.shape)\n",
    "    underline_y = build_real_matrix(np.kron(y_lasso.T, np.eye(samples)))\n",
    "    \n",
    "    qp_prob = cp.Problem(cp.Minimize(qp_target(b, a, da, sigma_b, sigma_a, underline_y)))\n",
    "    qp_prob.solve()\n",
    "    \n",
    "    e_qp = unvectorize_and_make_complex(da.value, voltages.shape)\n",
    "    dA = build_real_matrix(np.kron(np.eye(nodes), e_qp))\n",
    "    \n",
    "    y_lasso_res.append(y_lasso)\n",
    "    e_qp_res.append(e_qp)\n",
    "    \n",
    "    y_errors.append(fro_error(y_lasso, y_bus))\n",
    "    e_errors.append(fro_error(e_qp, voltage_error))\n",
    "    \n",
    "    targets.append(full_target(b, a, da.value, sigma_b, sigma_a, lambda_value, underline_y, y.value).value)\n",
    "    \n",
    "    target_current = targets[it]\n",
    "    target_previous = targets[it-1] if it > 0 else np.inf\n",
    "    if is_stationary_point(target_current, target_previous):\n",
    "        break"
   ]
  },
  {
   "cell_type": "code",
   "execution_count": null,
   "metadata": {},
   "outputs": [],
   "source": [
    "pd.Series(y_errors).plot(title='Fro error on Y')"
   ]
  },
  {
   "cell_type": "code",
   "execution_count": null,
   "metadata": {},
   "outputs": [],
   "source": [
    "pd.Series(e_errors).plot(title='Fro error on E')"
   ]
  },
  {
   "cell_type": "code",
   "execution_count": null,
   "metadata": {},
   "outputs": [],
   "source": [
    "pd.Series(targets).plot(title='Target function')"
   ]
  },
  {
   "cell_type": "code",
   "execution_count": null,
   "metadata": {},
   "outputs": [],
   "source": [
    "error_metrics(y_tls, y_bus)"
   ]
  },
  {
   "cell_type": "code",
   "execution_count": null,
   "metadata": {},
   "outputs": [],
   "source": [
    "error_metrics(y_lasso, y_bus)"
   ]
  },
  {
   "cell_type": "code",
   "execution_count": null,
   "metadata": {},
   "outputs": [],
   "source": [
    "y_tls"
   ]
  },
  {
   "cell_type": "code",
   "execution_count": null,
   "metadata": {},
   "outputs": [],
   "source": [
    "y_lasso"
   ]
  }
 ],
 "metadata": {
  "kernelspec": {
   "display_name": "Python 3",
   "language": "python",
   "name": "python3"
  },
  "language_info": {
   "codemirror_mode": {
    "name": "ipython",
    "version": 3
   },
   "file_extension": ".py",
   "mimetype": "text/x-python",
   "name": "python",
   "nbconvert_exporter": "python",
   "pygments_lexer": "ipython3",
   "version": "3.7.7"
  }
 },
 "nbformat": 4,
 "nbformat_minor": 4
}
