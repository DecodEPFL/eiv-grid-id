{
 "cells": [
  {
   "cell_type": "markdown",
   "metadata": {},
   "source": [
    "# Setup"
   ]
  },
  {
   "cell_type": "code",
   "execution_count": null,
   "metadata": {
    "execution": {
     "iopub.execute_input": "2020-07-23T11:57:36.452249Z",
     "iopub.status.busy": "2020-07-23T11:57:36.451246Z",
     "iopub.status.idle": "2020-07-23T11:57:40.794872Z",
     "shell.execute_reply": "2020-07-23T11:57:40.788875Z",
     "shell.execute_reply.started": "2020-07-23T11:57:36.452249Z"
    }
   },
   "outputs": [],
   "source": [
    "import pandapower.networks as pnet\n",
    "import pandas as pd\n",
    "import numpy as np\n",
    "import scipy as sp\n",
    "import cvxpy as cp\n",
    "import seaborn as sns\n",
    "\n",
    "from scipy import sparse"
   ]
  },
  {
   "cell_type": "code",
   "execution_count": null,
   "metadata": {
    "execution": {
     "iopub.execute_input": "2020-07-23T11:57:40.799979Z",
     "iopub.status.busy": "2020-07-23T11:57:40.798874Z",
     "iopub.status.idle": "2020-07-23T11:57:41.106642Z",
     "shell.execute_reply": "2020-07-23T11:57:41.101681Z",
     "shell.execute_reply.started": "2020-07-23T11:57:40.799979Z"
    }
   },
   "outputs": [],
   "source": [
    "%load_ext autoreload\n",
    "%autoreload 2"
   ]
  },
  {
   "cell_type": "code",
   "execution_count": null,
   "metadata": {
    "execution": {
     "iopub.execute_input": "2020-07-23T11:57:41.113585Z",
     "iopub.status.busy": "2020-07-23T11:57:41.112588Z",
     "iopub.status.idle": "2020-07-23T11:57:41.488033Z",
     "shell.execute_reply": "2020-07-23T11:57:41.480147Z",
     "shell.execute_reply.started": "2020-07-23T11:57:41.113585Z"
    }
   },
   "outputs": [],
   "source": [
    "import sys\n",
    "sys.path.insert(1, '..')\n",
    "\n",
    "from src.simulation.noise import add_noise_in_cartesian_coordinates\n",
    "from src.models.regression import ComplexRegression, ComplexLasso\n",
    "from src.models.error_in_variable import TotalLeastSquares, SparseTotalLeastSquare\n",
    "from src.simulation.load_profile import generate_gaussian_load\n",
    "from src.simulation.network import add_load_power_control, make_y_bus\n",
    "from src.simulation.simulation import run_simulation, get_current_and_voltage\n",
    "from src.identification.error_metrics import error_metrics, fro_error"
   ]
  },
  {
   "cell_type": "markdown",
   "metadata": {},
   "source": [
    "# Network simulation"
   ]
  },
  {
   "cell_type": "code",
   "execution_count": null,
   "metadata": {
    "execution": {
     "iopub.execute_input": "2020-07-23T11:57:41.494482Z",
     "iopub.status.busy": "2020-07-23T11:57:41.492986Z",
     "iopub.status.idle": "2020-07-23T11:57:42.331146Z",
     "shell.execute_reply": "2020-07-23T11:57:42.326160Z",
     "shell.execute_reply.started": "2020-07-23T11:57:41.494482Z"
    }
   },
   "outputs": [],
   "source": [
    "net = pnet.create_kerber_landnetz_freileitung_2()\n",
    "nodes = net.bus.shape[0]\n",
    "steps = 400\n",
    "load_cv = 0.2\n",
    "current_accuracy = 0.0001\n",
    "voltage_accuracy = 0.0001"
   ]
  },
  {
   "cell_type": "code",
   "execution_count": null,
   "metadata": {
    "execution": {
     "iopub.execute_input": "2020-07-23T11:57:42.334110Z",
     "iopub.status.busy": "2020-07-23T11:57:42.334110Z",
     "iopub.status.idle": "2020-07-23T11:57:49.286816Z",
     "shell.execute_reply": "2020-07-23T11:57:49.284815Z",
     "shell.execute_reply.started": "2020-07-23T11:57:42.334110Z"
    }
   },
   "outputs": [],
   "source": [
    "np.random.seed(11)\n",
    "load_p, load_q = generate_gaussian_load(net.load.p_mw, net.load.q_mvar, load_cv, steps)\n",
    "controlled_net = add_load_power_control(net, load_p, load_q)\n",
    "sim_result = run_simulation(controlled_net, verbose=False)\n",
    "y_bus = make_y_bus(controlled_net)\n",
    "voltage, current = get_current_and_voltage(sim_result, y_bus)\n",
    "controlled_net.bus"
   ]
  },
  {
   "cell_type": "code",
   "execution_count": null,
   "metadata": {
    "execution": {
     "iopub.execute_input": "2020-07-23T11:57:49.288816Z",
     "iopub.status.busy": "2020-07-23T11:57:49.287890Z",
     "iopub.status.idle": "2020-07-23T11:57:49.428819Z",
     "shell.execute_reply": "2020-07-23T11:57:49.425814Z",
     "shell.execute_reply.started": "2020-07-23T11:57:49.287890Z"
    }
   },
   "outputs": [],
   "source": [
    "voltage = voltage[:, 1:]\n",
    "y_bus = y_bus[1:, 1:]\n",
    "current = np.array(voltage @ y_bus)\n",
    "noisy_voltage, noisy_current = add_noise_in_cartesian_coordinates(current, voltage, current_accuracy, voltage_accuracy)\n",
    "voltage_error, current_error = noisy_voltage - voltage, noisy_current - current"
   ]
  },
  {
   "cell_type": "code",
   "execution_count": null,
   "metadata": {
    "execution": {
     "iopub.execute_input": "2020-07-23T11:57:49.431951Z",
     "iopub.status.busy": "2020-07-23T11:57:49.431951Z",
     "iopub.status.idle": "2020-07-23T11:57:49.566414Z",
     "shell.execute_reply": "2020-07-23T11:57:49.564417Z",
     "shell.execute_reply.started": "2020-07-23T11:57:49.431951Z"
    }
   },
   "outputs": [],
   "source": [
    "np.linalg.svd(voltage, compute_uv=False)"
   ]
  },
  {
   "cell_type": "markdown",
   "metadata": {},
   "source": [
    "# OLS Identification"
   ]
  },
  {
   "cell_type": "code",
   "execution_count": null,
   "metadata": {
    "execution": {
     "iopub.execute_input": "2020-07-23T11:57:49.569416Z",
     "iopub.status.busy": "2020-07-23T11:57:49.568417Z",
     "iopub.status.idle": "2020-07-23T11:57:49.728416Z",
     "shell.execute_reply": "2020-07-23T11:57:49.726417Z",
     "shell.execute_reply.started": "2020-07-23T11:57:49.569416Z"
    }
   },
   "outputs": [],
   "source": [
    "ols = ComplexRegression()\n",
    "ols.fit(noisy_voltage, noisy_current)\n",
    "y_ols = ols.fitted_admittance_matrix\n",
    "error_metrics(y_bus, y_ols)"
   ]
  },
  {
   "cell_type": "markdown",
   "metadata": {},
   "source": [
    "# Lasso Identification"
   ]
  },
  {
   "cell_type": "code",
   "execution_count": null,
   "metadata": {
    "execution": {
     "iopub.execute_input": "2020-07-23T11:57:49.732414Z",
     "iopub.status.busy": "2020-07-23T11:57:49.731416Z",
     "iopub.status.idle": "2020-07-23T11:58:01.754060Z",
     "shell.execute_reply": "2020-07-23T11:58:01.750109Z",
     "shell.execute_reply.started": "2020-07-23T11:57:49.732414Z"
    }
   },
   "outputs": [],
   "source": [
    "lasso = ComplexLasso(y_bus, verbose=False, lambdas=np.logspace(-12, -8, 20), solver=cp.GUROBI)\n",
    "lasso.fit(noisy_voltage, noisy_current)\n",
    "y_lasso = lasso.fitted_admittance_matrix"
   ]
  },
  {
   "cell_type": "code",
   "execution_count": null,
   "metadata": {
    "execution": {
     "iopub.execute_input": "2020-07-23T11:58:01.758061Z",
     "iopub.status.busy": "2020-07-23T11:58:01.758061Z",
     "iopub.status.idle": "2020-07-23T11:58:01.866053Z",
     "shell.execute_reply": "2020-07-23T11:58:01.864055Z",
     "shell.execute_reply.started": "2020-07-23T11:58:01.758061Z"
    }
   },
   "outputs": [],
   "source": [
    "lasso.best_trial"
   ]
  },
  {
   "cell_type": "code",
   "execution_count": null,
   "metadata": {
    "execution": {
     "iopub.execute_input": "2020-07-23T11:58:01.867788Z",
     "iopub.status.busy": "2020-07-23T11:58:01.867051Z",
     "iopub.status.idle": "2020-07-23T11:58:01.972145Z",
     "shell.execute_reply": "2020-07-23T11:58:01.971143Z",
     "shell.execute_reply.started": "2020-07-23T11:58:01.867051Z"
    }
   },
   "outputs": [],
   "source": [
    "error_metrics(y_bus, y_lasso)"
   ]
  },
  {
   "cell_type": "markdown",
   "metadata": {},
   "source": [
    "# TLS Identification"
   ]
  },
  {
   "cell_type": "code",
   "execution_count": null,
   "metadata": {
    "execution": {
     "iopub.execute_input": "2020-07-23T11:58:01.974179Z",
     "iopub.status.busy": "2020-07-23T11:58:01.974179Z",
     "iopub.status.idle": "2020-07-23T11:58:02.091780Z",
     "shell.execute_reply": "2020-07-23T11:58:02.090763Z",
     "shell.execute_reply.started": "2020-07-23T11:58:01.974179Z"
    }
   },
   "outputs": [],
   "source": [
    "eiv = TotalLeastSquares()\n",
    "eiv.fit(noisy_voltage, noisy_current)\n",
    "y_tls = eiv.fitted_admittance_matrix"
   ]
  },
  {
   "cell_type": "code",
   "execution_count": null,
   "metadata": {
    "execution": {
     "iopub.execute_input": "2020-07-23T11:58:02.093911Z",
     "iopub.status.busy": "2020-07-23T11:58:02.093766Z",
     "iopub.status.idle": "2020-07-23T11:58:02.223357Z",
     "shell.execute_reply": "2020-07-23T11:58:02.221294Z",
     "shell.execute_reply.started": "2020-07-23T11:58:02.093911Z"
    }
   },
   "outputs": [],
   "source": [
    "error_metrics(y_bus, y_tls)"
   ]
  },
  {
   "cell_type": "markdown",
   "metadata": {},
   "source": [
    "# L1 Regularized TLS"
   ]
  },
  {
   "cell_type": "code",
   "execution_count": null,
   "metadata": {
    "execution": {
     "iopub.execute_input": "2020-07-23T11:58:02.224295Z",
     "iopub.status.busy": "2020-07-23T11:58:02.224295Z",
     "iopub.status.idle": "2020-07-23T11:58:34.340171Z",
     "shell.execute_reply": "2020-07-23T11:58:34.334170Z",
     "shell.execute_reply.started": "2020-07-23T11:58:02.224295Z"
    }
   },
   "outputs": [],
   "source": [
    "tls_lambda = 5e-10 # lasso.best_hyperparams['lambda']\n",
    "sparse_eiv = SparseTotalLeastSquare(lambda_value=tls_lambda, abs_tol=10e-12, rel_tol=10e-12, max_iterations=20, verbose=False, solver=cp.GUROBI)\n",
    "sparse_eiv.fit(noisy_voltage, noisy_current, sparse.eye(2*noisy_voltage.size), sparse.eye(2*noisy_voltage.size))\n",
    "y_sparse_eiv = sparse_eiv.fitted_admittance_matrix"
   ]
  },
  {
   "cell_type": "code",
   "execution_count": null,
   "metadata": {
    "execution": {
     "iopub.execute_input": "2020-07-23T11:58:34.344170Z",
     "iopub.status.busy": "2020-07-23T11:58:34.343171Z",
     "iopub.status.idle": "2020-07-23T11:58:34.645851Z",
     "shell.execute_reply": "2020-07-23T11:58:34.640887Z",
     "shell.execute_reply.started": "2020-07-23T11:58:34.344170Z"
    }
   },
   "outputs": [],
   "source": [
    "error_metrics(y_bus, y_sparse_eiv)"
   ]
  },
  {
   "cell_type": "code",
   "execution_count": null,
   "metadata": {
    "execution": {
     "iopub.execute_input": "2020-07-23T11:58:34.650842Z",
     "iopub.status.busy": "2020-07-23T11:58:34.649840Z",
     "iopub.status.idle": "2020-07-23T11:58:35.450731Z",
     "shell.execute_reply": "2020-07-23T11:58:35.444443Z",
     "shell.execute_reply.started": "2020-07-23T11:58:34.650842Z"
    }
   },
   "outputs": [],
   "source": [
    "y_errors = pd.Series([fro_error(y_bus, i.fitted_parameters) for i in sparse_eiv.iterations])\n",
    "pd.Series(y_errors).plot(title='Fro error on Y')"
   ]
  },
  {
   "cell_type": "code",
   "execution_count": null,
   "metadata": {
    "execution": {
     "iopub.execute_input": "2020-07-23T11:58:35.455731Z",
     "iopub.status.busy": "2020-07-23T11:58:35.454732Z",
     "iopub.status.idle": "2020-07-23T11:58:36.086206Z",
     "shell.execute_reply": "2020-07-23T11:58:36.079450Z",
     "shell.execute_reply.started": "2020-07-23T11:58:35.455731Z"
    }
   },
   "outputs": [],
   "source": [
    "targets = pd.Series([i.target_function for i in sparse_eiv.iterations])\n",
    "pd.Series(targets).plot(title='Target function')"
   ]
  },
  {
   "cell_type": "markdown",
   "metadata": {},
   "source": [
    "# Result analysis"
   ]
  },
  {
   "cell_type": "code",
   "execution_count": null,
   "metadata": {
    "execution": {
     "iopub.execute_input": "2020-07-23T11:58:36.090396Z",
     "iopub.status.busy": "2020-07-23T11:58:36.089394Z",
     "iopub.status.idle": "2020-07-23T11:58:36.901458Z",
     "shell.execute_reply": "2020-07-23T11:58:36.895447Z",
     "shell.execute_reply.started": "2020-07-23T11:58:36.090396Z"
    }
   },
   "outputs": [],
   "source": [
    "sns.heatmap(np.abs(y_bus));"
   ]
  },
  {
   "cell_type": "code",
   "execution_count": null,
   "metadata": {
    "execution": {
     "iopub.execute_input": "2020-07-23T11:58:36.906450Z",
     "iopub.status.busy": "2020-07-23T11:58:36.905460Z",
     "iopub.status.idle": "2020-07-23T11:58:37.730323Z",
     "shell.execute_reply": "2020-07-23T11:58:37.724333Z",
     "shell.execute_reply.started": "2020-07-23T11:58:36.906450Z"
    }
   },
   "outputs": [],
   "source": [
    "sns.heatmap(np.abs(y_bus - y_ols));"
   ]
  },
  {
   "cell_type": "code",
   "execution_count": null,
   "metadata": {
    "execution": {
     "iopub.execute_input": "2020-07-23T11:58:37.734285Z",
     "iopub.status.busy": "2020-07-23T11:58:37.733280Z",
     "iopub.status.idle": "2020-07-23T11:58:38.544676Z",
     "shell.execute_reply": "2020-07-23T11:58:38.541444Z",
     "shell.execute_reply.started": "2020-07-23T11:58:37.734285Z"
    }
   },
   "outputs": [],
   "source": [
    "sns.heatmap(np.abs(y_bus - y_lasso));"
   ]
  },
  {
   "cell_type": "code",
   "execution_count": null,
   "metadata": {
    "execution": {
     "iopub.execute_input": "2020-07-23T11:58:38.548495Z",
     "iopub.status.busy": "2020-07-23T11:58:38.547498Z",
     "iopub.status.idle": "2020-07-23T11:58:39.347685Z",
     "shell.execute_reply": "2020-07-23T11:58:39.341688Z",
     "shell.execute_reply.started": "2020-07-23T11:58:38.548495Z"
    }
   },
   "outputs": [],
   "source": [
    "sns.heatmap(np.abs(y_bus - y_tls));"
   ]
  },
  {
   "cell_type": "code",
   "execution_count": null,
   "metadata": {
    "execution": {
     "iopub.execute_input": "2020-07-23T11:58:39.351661Z",
     "iopub.status.busy": "2020-07-23T11:58:39.350651Z",
     "iopub.status.idle": "2020-07-23T11:58:40.283566Z",
     "shell.execute_reply": "2020-07-23T11:58:40.277565Z",
     "shell.execute_reply.started": "2020-07-23T11:58:39.351661Z"
    }
   },
   "outputs": [],
   "source": [
    "sns.heatmap(np.abs(y_bus - y_sparse_eiv));"
   ]
  },
  {
   "cell_type": "code",
   "execution_count": null,
   "metadata": {
    "execution": {
     "iopub.execute_input": "2020-07-23T11:58:40.287564Z",
     "iopub.status.busy": "2020-07-23T11:58:40.286565Z",
     "iopub.status.idle": "2020-07-23T11:58:40.610543Z",
     "shell.execute_reply": "2020-07-23T11:58:40.603291Z",
     "shell.execute_reply.started": "2020-07-23T11:58:40.287564Z"
    }
   },
   "outputs": [],
   "source": [
    "y_bus"
   ]
  },
  {
   "cell_type": "code",
   "execution_count": null,
   "metadata": {
    "execution": {
     "iopub.execute_input": "2020-07-23T11:58:40.616291Z",
     "iopub.status.busy": "2020-07-23T11:58:40.614291Z",
     "iopub.status.idle": "2020-07-23T11:58:40.939383Z",
     "shell.execute_reply": "2020-07-23T11:58:40.933391Z",
     "shell.execute_reply.started": "2020-07-23T11:58:40.616291Z"
    }
   },
   "outputs": [],
   "source": [
    "print(f'Mean current: {np.mean(np.abs(current), axis=0)}')\n",
    "print(f'Mean voltage: {np.mean(np.abs(voltage), axis=0)}')\n",
    "print(f'Fro norm of current error: {np.linalg.norm(current_error, \"fro\")}')\n",
    "print(f'Fro norm of voltage error: {np.linalg.norm(voltage_error, \"fro\")}')\n",
    "print(f'L1 norm of admittance matrix: {np.sum(np.abs(np.real(y_bus))) + np.sum(np.abs(np.imag(y_bus)))}')"
   ]
  }
 ],
 "metadata": {
  "kernelspec": {
   "display_name": "Python 3",
   "language": "python",
   "name": "python3"
  },
  "language_info": {
   "codemirror_mode": {
    "name": "ipython",
    "version": 3
   },
   "file_extension": ".py",
   "mimetype": "text/x-python",
   "name": "python",
   "nbconvert_exporter": "python",
   "pygments_lexer": "ipython3",
   "version": "3.7.7"
  }
 },
 "nbformat": 4,
 "nbformat_minor": 4
}
