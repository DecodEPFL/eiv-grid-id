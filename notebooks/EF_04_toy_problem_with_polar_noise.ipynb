{
 "cells": [
  {
   "cell_type": "markdown",
   "metadata": {},
   "source": [
    "# Toy problem for TLS solution\n",
    "We want to solve here the identification problem with TLS in a very simple case: a network with 2 nodes, without any structural contraint.\n",
    "However, we introduce noise in polar coordinates and we try and use our covariance matrix estimators in order to weight the noise."
   ]
  },
  {
   "cell_type": "code",
   "execution_count": null,
   "metadata": {},
   "outputs": [],
   "source": [
    "import pandas as pd\n",
    "import numpy as np\n",
    "import cvxpy as cp\n",
    "import matplotlib.pyplot as plt\n",
    "from scipy import sparse"
   ]
  },
  {
   "cell_type": "code",
   "execution_count": null,
   "metadata": {},
   "outputs": [],
   "source": [
    "%load_ext autoreload\n",
    "%autoreload 2"
   ]
  },
  {
   "cell_type": "code",
   "execution_count": null,
   "metadata": {},
   "outputs": [],
   "source": [
    "import sys\n",
    "sys.path.insert(1, '..')\n",
    "\n",
    "from src.simulation.noise import add_noise_in_polar_coordinates\n",
    "from src.models.noise_transformation import naive_noise_covariance\n",
    "from src.models.error_in_variable import TotalLeastSquares, SparseTotalLeastSquare\n",
    "from src.models.regression import ComplexLasso\n",
    "from src.identification.error_metrics import fro_error, error_metrics"
   ]
  },
  {
   "cell_type": "code",
   "execution_count": null,
   "metadata": {},
   "outputs": [],
   "source": [
    "np.set_printoptions(precision=8)"
   ]
  },
  {
   "cell_type": "code",
   "execution_count": null,
   "metadata": {},
   "outputs": [],
   "source": [
    "samples = 300\n",
    "magnitude_sd = 0.01\n",
    "phase_sd = 0.01"
   ]
  },
  {
   "cell_type": "code",
   "execution_count": null,
   "metadata": {},
   "outputs": [],
   "source": [
    "np.random.seed(11)\n",
    "\n",
    "y_bus = np.array([\n",
    "    [1+1j, 0, 0, 0],\n",
    "    [0, 2+1j, 0, 0],\n",
    "    [2+1j, 0, 1+1j, 0],\n",
    "    [0, 0, 0, 2+1j],\n",
    "])\n",
    "nodes = y_bus.shape[0]\n",
    "\n",
    "real_voltages = np.random.normal(1, 0.1, (samples, nodes)) + 1j*np.random.normal(1, 0.1, (samples, nodes))\n",
    "real_currents = real_voltages @ y_bus\n",
    "\n",
    "voltages, currents = add_noise_in_polar_coordinates(real_currents, real_voltages, magnitude_sd, phase_sd)\n",
    "\n",
    "voltage_noise = voltages - real_voltages\n",
    "current_noise = currents - real_currents"
   ]
  },
  {
   "cell_type": "markdown",
   "metadata": {},
   "source": [
    "# Standard TLS"
   ]
  },
  {
   "cell_type": "code",
   "execution_count": null,
   "metadata": {},
   "outputs": [],
   "source": [
    "eiv = TotalLeastSquares()\n",
    "eiv.fit(voltages, currents)\n",
    "y_eiv = eiv.fitted_admittance_matrix\n",
    "y_eiv"
   ]
  },
  {
   "cell_type": "code",
   "execution_count": null,
   "metadata": {},
   "outputs": [],
   "source": [
    "error_metrics(y_bus, y_eiv)"
   ]
  },
  {
   "cell_type": "markdown",
   "metadata": {},
   "source": [
    "# Standard LASSO"
   ]
  },
  {
   "cell_type": "code",
   "execution_count": null,
   "metadata": {},
   "outputs": [],
   "source": [
    "lasso = ComplexLasso(y_bus, verbose=False, lambdas=np.logspace(-4, 0, 20))\n",
    "lasso.fit(voltages, currents)\n",
    "y_lasso = lasso.fitted_admittance_matrix\n",
    "y_lasso"
   ]
  },
  {
   "cell_type": "code",
   "execution_count": null,
   "metadata": {},
   "outputs": [],
   "source": [
    "error_metrics(y_bus, y_lasso)"
   ]
  },
  {
   "cell_type": "code",
   "execution_count": null,
   "metadata": {},
   "outputs": [],
   "source": [
    "lasso.best_trial"
   ]
  },
  {
   "cell_type": "markdown",
   "metadata": {},
   "source": [
    "# L1-regularized TLS"
   ]
  },
  {
   "cell_type": "code",
   "execution_count": null,
   "metadata": {},
   "outputs": [],
   "source": [
    "tls_lambda = lasso.best_trial.hyperparameters['lambda']\n",
    "sparse_eiv = SparseTotalLeastSquare(lambda_value=tls_lambda, abs_tol=10e-12, rel_tol=10e-12, solver=cp.GUROBI, max_iterations=50)\n",
    "sparse_eiv.fit(voltages, currents)\n",
    "y_sparse_eiv = sparse_eiv.fitted_admittance_matrix"
   ]
  },
  {
   "cell_type": "code",
   "execution_count": null,
   "metadata": {},
   "outputs": [],
   "source": [
    "error_metrics(y_bus, y_sparse_eiv)"
   ]
  },
  {
   "cell_type": "code",
   "execution_count": null,
   "metadata": {},
   "outputs": [],
   "source": [
    "def plot_eiv_optimization(eiv_model, y_bus):\n",
    "    y_errors = pd.Series([fro_error(y_bus, i.fitted_parameters) for i in eiv_model.iterations])\n",
    "    pd.Series(y_errors).plot(title='Fro error on Y')\n",
    "    plt.show()\n",
    "    targets = pd.Series([i.target_function for i in eiv_model.iterations])\n",
    "    pd.Series(targets).plot(title='Target function')\n",
    "    plt.show()"
   ]
  },
  {
   "cell_type": "code",
   "execution_count": null,
   "metadata": {},
   "outputs": [],
   "source": [
    "plot_eiv_optimization(sparse_eiv, y_bus)"
   ]
  },
  {
   "cell_type": "markdown",
   "metadata": {},
   "source": [
    "# L1-regularized TLS with estimated covariance matrix"
   ]
  },
  {
   "cell_type": "code",
   "execution_count": null,
   "metadata": {},
   "outputs": [],
   "source": [
    "sigma_voltage = naive_noise_covariance(voltages, magnitude_sd, phase_sd)\n",
    "sigma_current = naive_noise_covariance(currents, magnitude_sd, phase_sd)\n",
    "\n",
    "inv_sigma_current = sparse.linalg.inv(sigma_current)\n",
    "inv_sigma_voltage = sparse.linalg.inv(sigma_voltage)"
   ]
  },
  {
   "cell_type": "code",
   "execution_count": null,
   "metadata": {},
   "outputs": [],
   "source": [
    "sparse_eiv_cov = SparseTotalLeastSquare(lambda_value=1000, abs_tol=10e-12, rel_tol=10e-12, solver=cp.GUROBI, max_iterations=50)\n",
    "sparse_eiv_cov.fit(voltages, currents, inv_sigma_voltage, inv_sigma_current)\n",
    "y_sparse_eiv_cov = sparse_eiv_cov.fitted_admittance_matrix"
   ]
  },
  {
   "cell_type": "code",
   "execution_count": null,
   "metadata": {},
   "outputs": [],
   "source": [
    "error_metrics(y_bus, y_sparse_eiv_cov)"
   ]
  },
  {
   "cell_type": "code",
   "execution_count": null,
   "metadata": {},
   "outputs": [],
   "source": [
    "plot_eiv_optimization(sparse_eiv_cov, y_bus)"
   ]
  }
 ],
 "metadata": {
  "kernelspec": {
   "display_name": "Python 3",
   "language": "python",
   "name": "python3"
  },
  "language_info": {
   "codemirror_mode": {
    "name": "ipython",
    "version": 3
   },
   "file_extension": ".py",
   "mimetype": "text/x-python",
   "name": "python",
   "nbconvert_exporter": "python",
   "pygments_lexer": "ipython3",
   "version": "3.7.7"
  }
 },
 "nbformat": 4,
 "nbformat_minor": 4
}
