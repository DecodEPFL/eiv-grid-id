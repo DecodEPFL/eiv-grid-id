{
 "cells": [
  {
   "cell_type": "markdown",
   "metadata": {},
   "source": [
    "# Toy problem for TLS solution\n",
    "We want to solve here the identification problem with TLS in a very simple case: a network with 2 nodes, without any structural contraint.\n",
    "However, we introduce noise in polar coordinates and we try and use our covariance matrix estimators in order to weight the noise."
   ]
  },
  {
   "cell_type": "code",
   "execution_count": null,
   "metadata": {
    "execution": {
     "iopub.execute_input": "2020-08-04T15:04:11.920250Z",
     "iopub.status.busy": "2020-08-04T15:04:11.918956Z",
     "iopub.status.idle": "2020-08-04T15:04:14.368417Z",
     "shell.execute_reply": "2020-08-04T15:04:14.363458Z",
     "shell.execute_reply.started": "2020-08-04T15:04:11.920250Z"
    }
   },
   "outputs": [],
   "source": [
    "import pandas as pd\n",
    "import numpy as np\n",
    "import cvxpy as cp\n",
    "import matplotlib.pyplot as plt\n",
    "from scipy import sparse"
   ]
  },
  {
   "cell_type": "code",
   "execution_count": null,
   "metadata": {
    "execution": {
     "iopub.execute_input": "2020-08-04T15:04:14.374373Z",
     "iopub.status.busy": "2020-08-04T15:04:14.372362Z",
     "iopub.status.idle": "2020-08-04T15:04:14.557234Z",
     "shell.execute_reply": "2020-08-04T15:04:14.553213Z",
     "shell.execute_reply.started": "2020-08-04T15:04:14.374373Z"
    }
   },
   "outputs": [],
   "source": [
    "%load_ext autoreload\n",
    "%autoreload 2"
   ]
  },
  {
   "cell_type": "code",
   "execution_count": null,
   "metadata": {
    "execution": {
     "iopub.execute_input": "2020-08-04T15:04:14.564282Z",
     "iopub.status.busy": "2020-08-04T15:04:14.563332Z",
     "iopub.status.idle": "2020-08-04T15:04:14.769744Z",
     "shell.execute_reply": "2020-08-04T15:04:14.764832Z",
     "shell.execute_reply.started": "2020-08-04T15:04:14.564282Z"
    }
   },
   "outputs": [],
   "source": [
    "import sys\n",
    "sys.path.insert(1, '..')\n",
    "\n",
    "from src.simulation.noise import add_noise_in_polar_coordinates\n",
    "from src.models.noise_transformation import naive_noise_covariance, average_true_noise_covariance\n",
    "from src.models.error_in_variable import TotalLeastSquares, SparseTotalLeastSquare\n",
    "from src.models.regression import ComplexLasso\n",
    "from src.identification.error_metrics import fro_error, error_metrics"
   ]
  },
  {
   "cell_type": "code",
   "execution_count": null,
   "metadata": {
    "execution": {
     "iopub.execute_input": "2020-08-04T15:04:14.774739Z",
     "iopub.status.busy": "2020-08-04T15:04:14.772738Z",
     "iopub.status.idle": "2020-08-04T15:04:14.945622Z",
     "shell.execute_reply": "2020-08-04T15:04:14.939663Z",
     "shell.execute_reply.started": "2020-08-04T15:04:14.774739Z"
    }
   },
   "outputs": [],
   "source": [
    "np.set_printoptions(precision=8)"
   ]
  },
  {
   "cell_type": "code",
   "execution_count": null,
   "metadata": {
    "execution": {
     "iopub.execute_input": "2020-08-04T15:04:14.949625Z",
     "iopub.status.busy": "2020-08-04T15:04:14.948624Z",
     "iopub.status.idle": "2020-08-04T15:04:15.129197Z",
     "shell.execute_reply": "2020-08-04T15:04:15.126734Z",
     "shell.execute_reply.started": "2020-08-04T15:04:14.949625Z"
    }
   },
   "outputs": [],
   "source": [
    "samples = 300\n",
    "magnitude_sd = 0.01\n",
    "phase_sd = 0.01"
   ]
  },
  {
   "cell_type": "code",
   "execution_count": null,
   "metadata": {
    "execution": {
     "iopub.execute_input": "2020-08-04T15:04:15.131633Z",
     "iopub.status.busy": "2020-08-04T15:04:15.130620Z",
     "iopub.status.idle": "2020-08-04T15:04:15.301680Z",
     "shell.execute_reply": "2020-08-04T15:04:15.296724Z",
     "shell.execute_reply.started": "2020-08-04T15:04:15.131633Z"
    }
   },
   "outputs": [],
   "source": [
    "np.random.seed(11)\n",
    "\n",
    "y_bus = np.array([\n",
    "    [1+1j, 0, 0, 0, 0],\n",
    "    [0, 2+1j, 0, 0, 0],\n",
    "    [2+1j, 0, 1+1j, 0, 0],\n",
    "    [0, 0, 0, 2+1j, 0],\n",
    "    [0, 0, 0, 0, -1-1j],\n",
    "])\n",
    "nodes = y_bus.shape[0]\n",
    "\n",
    "real_voltages = np.random.normal(1, 0.1, (samples, nodes)) + 1j*np.random.normal(1, 0.1, (samples, nodes))\n",
    "real_currents = real_voltages @ y_bus\n",
    "\n",
    "voltages, currents = add_noise_in_polar_coordinates(real_currents, real_voltages, magnitude_sd, phase_sd)\n",
    "\n",
    "voltage_noise = voltages - real_voltages\n",
    "current_noise = currents - real_currents"
   ]
  },
  {
   "cell_type": "markdown",
   "metadata": {},
   "source": [
    "# Standard TLS"
   ]
  },
  {
   "cell_type": "code",
   "execution_count": null,
   "metadata": {
    "execution": {
     "iopub.execute_input": "2020-08-04T15:04:15.305632Z",
     "iopub.status.busy": "2020-08-04T15:04:15.304713Z",
     "iopub.status.idle": "2020-08-04T15:04:15.492486Z",
     "shell.execute_reply": "2020-08-04T15:04:15.486491Z",
     "shell.execute_reply.started": "2020-08-04T15:04:15.305632Z"
    }
   },
   "outputs": [],
   "source": [
    "eiv = TotalLeastSquares()\n",
    "eiv.fit(voltages, currents)\n",
    "y_eiv = eiv.fitted_admittance_matrix\n",
    "y_eiv"
   ]
  },
  {
   "cell_type": "code",
   "execution_count": null,
   "metadata": {
    "execution": {
     "iopub.execute_input": "2020-08-04T15:04:15.497542Z",
     "iopub.status.busy": "2020-08-04T15:04:15.495486Z",
     "iopub.status.idle": "2020-08-04T15:04:15.688827Z",
     "shell.execute_reply": "2020-08-04T15:04:15.685825Z",
     "shell.execute_reply.started": "2020-08-04T15:04:15.497542Z"
    }
   },
   "outputs": [],
   "source": [
    "error_metrics(y_bus, y_eiv)"
   ]
  },
  {
   "cell_type": "markdown",
   "metadata": {},
   "source": [
    "# Standard LASSO"
   ]
  },
  {
   "cell_type": "code",
   "execution_count": null,
   "metadata": {
    "execution": {
     "iopub.execute_input": "2020-08-04T15:04:15.697816Z",
     "iopub.status.busy": "2020-08-04T15:04:15.696817Z",
     "iopub.status.idle": "2020-08-04T15:04:22.559118Z",
     "shell.execute_reply": "2020-08-04T15:04:22.554811Z",
     "shell.execute_reply.started": "2020-08-04T15:04:15.697816Z"
    }
   },
   "outputs": [],
   "source": [
    "lasso = ComplexLasso(y_bus, verbose=False, lambdas=np.logspace(-5, 0, 50))\n",
    "lasso.fit(voltages, currents)\n",
    "y_lasso = lasso.fitted_admittance_matrix\n",
    "y_lasso"
   ]
  },
  {
   "cell_type": "code",
   "execution_count": null,
   "metadata": {
    "execution": {
     "iopub.execute_input": "2020-08-04T15:04:22.566757Z",
     "iopub.status.busy": "2020-08-04T15:04:22.564758Z",
     "iopub.status.idle": "2020-08-04T15:04:22.788994Z",
     "shell.execute_reply": "2020-08-04T15:04:22.783947Z",
     "shell.execute_reply.started": "2020-08-04T15:04:22.566757Z"
    }
   },
   "outputs": [],
   "source": [
    "error_metrics(y_bus, y_lasso)"
   ]
  },
  {
   "cell_type": "code",
   "execution_count": null,
   "metadata": {
    "execution": {
     "iopub.execute_input": "2020-08-04T15:04:22.793995Z",
     "iopub.status.busy": "2020-08-04T15:04:22.793316Z",
     "iopub.status.idle": "2020-08-04T15:04:23.008155Z",
     "shell.execute_reply": "2020-08-04T15:04:23.002165Z",
     "shell.execute_reply.started": "2020-08-04T15:04:22.793995Z"
    }
   },
   "outputs": [],
   "source": [
    "lasso.best_trial"
   ]
  },
  {
   "cell_type": "markdown",
   "metadata": {},
   "source": [
    "# L1-regularized TLS"
   ]
  },
  {
   "cell_type": "code",
   "execution_count": null,
   "metadata": {
    "execution": {
     "iopub.execute_input": "2020-08-04T15:04:23.013153Z",
     "iopub.status.busy": "2020-08-04T15:04:23.012153Z",
     "iopub.status.idle": "2020-08-04T15:05:37.269742Z",
     "shell.execute_reply": "2020-08-04T15:05:37.265741Z",
     "shell.execute_reply.started": "2020-08-04T15:04:23.013153Z"
    }
   },
   "outputs": [],
   "source": [
    "tls_lambda = lasso.best_trial.hyperparameters['lambda']\n",
    "sparse_eiv = SparseTotalLeastSquare(lambda_value=tls_lambda, abs_tol=10e-12, rel_tol=10e-12, solver=cp.GUROBI, max_iterations=50)\n",
    "sparse_eiv.fit(voltages, currents)\n",
    "y_sparse_eiv = sparse_eiv.fitted_admittance_matrix"
   ]
  },
  {
   "cell_type": "code",
   "execution_count": null,
   "metadata": {
    "execution": {
     "iopub.execute_input": "2020-08-04T15:05:37.274747Z",
     "iopub.status.busy": "2020-08-04T15:05:37.273747Z",
     "iopub.status.idle": "2020-08-04T15:05:37.504582Z",
     "shell.execute_reply": "2020-08-04T15:05:37.499473Z",
     "shell.execute_reply.started": "2020-08-04T15:05:37.274747Z"
    }
   },
   "outputs": [],
   "source": [
    "error_metrics(y_bus, y_sparse_eiv)"
   ]
  },
  {
   "cell_type": "code",
   "execution_count": null,
   "metadata": {
    "execution": {
     "iopub.execute_input": "2020-08-04T15:05:37.508585Z",
     "iopub.status.busy": "2020-08-04T15:05:37.507581Z",
     "iopub.status.idle": "2020-08-04T15:05:37.708675Z",
     "shell.execute_reply": "2020-08-04T15:05:37.706082Z",
     "shell.execute_reply.started": "2020-08-04T15:05:37.508585Z"
    }
   },
   "outputs": [],
   "source": [
    "def plot_eiv_optimization(eiv_model, y_bus):\n",
    "    y_errors = pd.Series([fro_error(y_bus, i.fitted_parameters) for i in eiv_model.iterations])\n",
    "    pd.Series(y_errors).plot(title='Fro error on Y')\n",
    "    plt.show()\n",
    "    targets = pd.Series([i.target_function for i in eiv_model.iterations])\n",
    "    pd.Series(targets).plot(title='Target function')\n",
    "    plt.show()"
   ]
  },
  {
   "cell_type": "code",
   "execution_count": null,
   "metadata": {
    "execution": {
     "iopub.execute_input": "2020-08-04T15:05:37.711680Z",
     "iopub.status.busy": "2020-08-04T15:05:37.710681Z",
     "iopub.status.idle": "2020-08-04T15:05:38.585868Z",
     "shell.execute_reply": "2020-08-04T15:05:38.580878Z",
     "shell.execute_reply.started": "2020-08-04T15:05:37.711680Z"
    }
   },
   "outputs": [],
   "source": [
    "plot_eiv_optimization(sparse_eiv, y_bus)"
   ]
  },
  {
   "cell_type": "markdown",
   "metadata": {},
   "source": [
    "# L1-regularized TLS with estimated covariance matrix"
   ]
  },
  {
   "cell_type": "code",
   "execution_count": null,
   "metadata": {
    "execution": {
     "iopub.execute_input": "2020-08-04T15:05:38.591870Z",
     "iopub.status.busy": "2020-08-04T15:05:38.589871Z",
     "iopub.status.idle": "2020-08-04T15:05:49.182563Z",
     "shell.execute_reply": "2020-08-04T15:05:49.177598Z",
     "shell.execute_reply.started": "2020-08-04T15:05:38.591870Z"
    }
   },
   "outputs": [],
   "source": [
    "sigma_voltage = naive_noise_covariance(voltages, magnitude_sd, phase_sd)\n",
    "sigma_current = naive_noise_covariance(currents, magnitude_sd, phase_sd)\n",
    "\n",
    "inv_sigma_current = sparse.linalg.inv(sigma_current)\n",
    "inv_sigma_voltage = sparse.linalg.inv(sigma_voltage)"
   ]
  },
  {
   "cell_type": "code",
   "execution_count": null,
   "metadata": {
    "execution": {
     "iopub.execute_input": "2020-08-04T15:05:49.187554Z",
     "iopub.status.busy": "2020-08-04T15:05:49.185548Z",
     "iopub.status.idle": "2020-08-04T15:07:59.994256Z",
     "shell.execute_reply": "2020-08-04T15:07:59.989256Z",
     "shell.execute_reply.started": "2020-08-04T15:05:49.187554Z"
    }
   },
   "outputs": [],
   "source": [
    "sparse_eiv_cov = SparseTotalLeastSquare(lambda_value=1, abs_tol=10e-12, rel_tol=10e-12, solver=cp.GUROBI, max_iterations=50)\n",
    "sparse_eiv_cov.fit(voltages, currents, inv_sigma_voltage, inv_sigma_current)\n",
    "y_sparse_eiv_cov = sparse_eiv_cov.fitted_admittance_matrix"
   ]
  },
  {
   "cell_type": "code",
   "execution_count": null,
   "metadata": {
    "execution": {
     "iopub.execute_input": "2020-08-04T15:07:59.998259Z",
     "iopub.status.busy": "2020-08-04T15:07:59.997258Z",
     "iopub.status.idle": "2020-08-04T15:08:00.217378Z",
     "shell.execute_reply": "2020-08-04T15:08:00.212425Z",
     "shell.execute_reply.started": "2020-08-04T15:07:59.998259Z"
    }
   },
   "outputs": [],
   "source": [
    "error_metrics(y_bus, y_sparse_eiv_cov)"
   ]
  },
  {
   "cell_type": "code",
   "execution_count": null,
   "metadata": {
    "execution": {
     "iopub.execute_input": "2020-08-04T15:08:00.221379Z",
     "iopub.status.busy": "2020-08-04T15:08:00.220593Z",
     "iopub.status.idle": "2020-08-04T15:08:01.076373Z",
     "shell.execute_reply": "2020-08-04T15:08:01.070383Z",
     "shell.execute_reply.started": "2020-08-04T15:08:00.221379Z"
    }
   },
   "outputs": [],
   "source": [
    "plot_eiv_optimization(sparse_eiv_cov, y_bus)"
   ]
  },
  {
   "cell_type": "markdown",
   "metadata": {},
   "source": [
    "# Estimation comparison"
   ]
  },
  {
   "cell_type": "code",
   "execution_count": null,
   "metadata": {
    "execution": {
     "iopub.execute_input": "2020-08-04T15:08:01.080370Z",
     "iopub.status.busy": "2020-08-04T15:08:01.079365Z",
     "iopub.status.idle": "2020-08-04T15:08:01.291495Z",
     "shell.execute_reply": "2020-08-04T15:08:01.286251Z",
     "shell.execute_reply.started": "2020-08-04T15:08:01.080370Z"
    }
   },
   "outputs": [],
   "source": [
    "y_eiv"
   ]
  },
  {
   "cell_type": "code",
   "execution_count": null,
   "metadata": {
    "execution": {
     "iopub.execute_input": "2020-08-04T15:08:01.296253Z",
     "iopub.status.busy": "2020-08-04T15:08:01.295748Z",
     "iopub.status.idle": "2020-08-04T15:08:01.513290Z",
     "shell.execute_reply": "2020-08-04T15:08:01.507242Z",
     "shell.execute_reply.started": "2020-08-04T15:08:01.295748Z"
    }
   },
   "outputs": [],
   "source": [
    "y_lasso"
   ]
  },
  {
   "cell_type": "code",
   "execution_count": null,
   "metadata": {
    "execution": {
     "iopub.execute_input": "2020-08-04T15:08:01.517250Z",
     "iopub.status.busy": "2020-08-04T15:08:01.516290Z",
     "iopub.status.idle": "2020-08-04T15:08:01.726573Z",
     "shell.execute_reply": "2020-08-04T15:08:01.720571Z",
     "shell.execute_reply.started": "2020-08-04T15:08:01.517250Z"
    }
   },
   "outputs": [],
   "source": [
    "y_sparse_eiv"
   ]
  },
  {
   "cell_type": "code",
   "execution_count": null,
   "metadata": {
    "execution": {
     "iopub.execute_input": "2020-08-04T15:08:01.733569Z",
     "iopub.status.busy": "2020-08-04T15:08:01.731569Z",
     "iopub.status.idle": "2020-08-04T15:08:01.941737Z",
     "shell.execute_reply": "2020-08-04T15:08:01.936647Z",
     "shell.execute_reply.started": "2020-08-04T15:08:01.733569Z"
    }
   },
   "outputs": [],
   "source": [
    "y_sparse_eiv_cov"
   ]
  },
  {
   "cell_type": "code",
   "execution_count": null,
   "metadata": {},
   "outputs": [],
   "source": []
  }
 ],
 "metadata": {
  "kernelspec": {
   "display_name": "Python 3",
   "language": "python",
   "name": "python3"
  },
  "language_info": {
   "codemirror_mode": {
    "name": "ipython",
    "version": 3
   },
   "file_extension": ".py",
   "mimetype": "text/x-python",
   "name": "python",
   "nbconvert_exporter": "python",
   "pygments_lexer": "ipython3",
   "version": "3.7.7"
  }
 },
 "nbformat": 4,
 "nbformat_minor": 4
}
